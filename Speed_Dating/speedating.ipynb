{
 "cells": [
  {
   "cell_type": "markdown",
   "metadata": {},
   "source": [
    "## Project 🚧\n",
    "\n",
    "The marketing team needs help on a new project. They are experiencing a decrease in the number of matches, and they are trying to find a way to understand :\n",
    "\n",
    "**what makes people interested into each other**. \n",
    "\n",
    "They decided to run a speed dating experiment with people who had to give Tinder lots of informations about themselves that could ultimately reflect on ther dating profile on the app.\n",
    "\n",
    "Tinder then gathered the data from this experiment. Each row in the dataset represents one speed date between two people, and indicates wether each of them secretly agreed to go on a second date with the other person."
   ]
  },
  {
   "cell_type": "markdown",
   "metadata": {},
   "source": [
    "## Goals 🎯\n",
    "\n",
    "Use the dataset to understand what makes people interested into each other to go on a second date together:\n",
    "* You may use descriptive statistics\n",
    "* You may use visualisations"
   ]
  },
  {
   "cell_type": "markdown",
   "metadata": {},
   "source": [
    "## Scope of this project 🖼️\n",
    "\n",
    "Data was gathered from participants in experimental speed dating events from 2002-2004. During the events, the attendees would have a four minute \"first date\" with every other participant of the opposite sex. At the end of their four minutes, participants were asked if they would like to see their date again. They were also asked to rate their date on six attributes: Attractiveness, Sincerity, Intelligence, Fun, Ambition, and Shared Interests.\n",
    "\n",
    "The dataset also includes questionnaire data gathered from participants at different points in the process. These fields include: demographics, dating habits, self-perception across key attributes, beliefs on what others find valuable in a mate, and lifestyle information. See the Speed Dating Data Key document below for details.\n",
    "\n",
    "[Dataset](https://full-stack-assets.s3.eu-west-3.amazonaws.com/M03-EDA/Speed+Dating+Data.csv)\n",
    "\n",
    "[Dataset Description](https://full-stack-assets.s3.eu-west-3.amazonaws.com/M03-EDA/Speed+Dating+Data+Key.doc)"
   ]
  },
  {
   "cell_type": "markdown",
   "metadata": {},
   "source": [
    "## Helpers 🦮\n",
    "\n",
    "To help you achieve this project, here are a few tips that should help youbest destinations on a map\n",
    "\n",
    "Data Exploration Ideas :\n",
    "* What are the least desirable attributes in a male partner? Does this differ for female partners?\n",
    "* How important do people think attractiveness is in potential mate selection vs. its real impact?\n",
    "* Are shared interests more important than a shared racial background?\n",
    "* Can people accurately predict their own perceived value in the dating market?\n",
    "* In terms of getting a second date, is it better to be someone's first speed date of the night or their last?"
   ]
  },
  {
   "cell_type": "markdown",
   "metadata": {},
   "source": [
    "## Deliverable 📬\n",
    "\n",
    "To complete this project, your team should deliver:\n",
    "\n",
    "A notebook with:\n",
    "* descriptive statistics\n",
    "* visualisations\n",
    "* captions and interpretations on how the stats and visualisations are relevant to why people agree to a second date"
   ]
  },
  {
   "cell_type": "markdown",
   "metadata": {},
   "source": [
    "\n",
    "-----------------------------------------------------------------------------------------------------------------------------------------------------\n",
    "\n"
   ]
  },
  {
   "cell_type": "markdown",
   "metadata": {},
   "source": [
    "## COMPREHENSION DE LA DEMANDE / QUESTIONS / PROBLEMATIQUES\n",
    "\n",
    "Afin de faire face à un déclin du nombre de \"match\", l'équipe Marketing de Tinder souhaite comprendre ce qui fait que les gens s'intéressent les uns aux autres.\n",
    "\n",
    "Pour ce faire :\n",
    "\n",
    "- ils ont organisé 20 vagues de rencontres\n",
    "\n",
    "- ils ont demandé à chacun de répondre à 5 questions en donnant des notes :\n",
    "    * avant le date (x-1), \n",
    "        * 1-1 Savoir ce que vous recherchez chez le sexe opposé.\n",
    "        * 2-1 Ce que recherche le sexe opposé lors d’un rendez-vous ?\n",
    "        * 3-1 Comment pensez-vous vous situer (concernant les critères) ?\n",
    "        * 4-1 Selon vous, ce que la PLUPART de vos semblables recherchent chez le sexe opposé.\n",
    "        * 5-1 Comment pensez-vous que les autres vous perçoivent ?\n",
    "    * pendant(x-S), \n",
    "        * 1-S Veuillez évaluer l'importance des attributs dans une date potentielle\n",
    "        * 3-S Veuillez évaluer votre opinion sur vos propres attributs\n",
    "    * le lendemain(x-2),\n",
    "        * 1-2 Nous voulons savoir ce que vous recherchez chez le sexe opposé. Donnez plus de points aux attributs qui sont les plus importants dans un date potentiel\n",
    "        * 2-2 À votre avis, que recherche le sexe opposé lors d'un rendez-vous ?\n",
    "        * 3-2 Comment pensez-vous vous situer ?\n",
    "        * 4-2 Nous voulons maintenant savoir ce que, selon vous, la plupart de vos semblables recherchent chez le sexe opposé.\n",
    "        * 5-2 Comment pensez-vous que les autres vous perçoivent ?\n",
    "        * 7-2 Repensez à vos décisions oui/non lors de l'événement Speed ​​Dating. Donnez plus de points aux attributs qui étaient les plus importants dans vos décisions. Moins aux autres---\n",
    "    * 3/4 semaines après le rdv (x-3)\n",
    "        * 1-3 Veuillez évaluer l'importance des attributs suivants dans un date potentiel--\n",
    "        * 2_3 À votre avis, que recherche le sexe opposé lors d'un rendez-vous ---\n",
    "        * 3_3 Veuillez évaluer votre opinion sur vos propres attributs--\n",
    "        * 4_3 Selon vous, la plupart de vos semblables recherchent chez le sexe opposé.---\n",
    "        * 5_3 Et enfin, comment pensez-vous que les autres vous perçoivent---\n",
    "        * 7-3 Repensez à vos décisions oui/non pendant la nuit de l'événement Speed ​​Dating.  Essayez de distribuer les 100 points---\n"
   ]
  },
  {
   "cell_type": "markdown",
   "metadata": {},
   "source": [
    "## QUESTIONS / PROBLEMATIQUES\n",
    "\n",
    "Après avoir discuté avec l'équipe commerciale afin d'affiner leurs demandes...et consulté le dataset pour le comprendre (8378 lignes, 195 colonnes), nous décidons de nous concentrer sur quelques questions :\n",
    " \n",
    "- Y-a-t-il une différence hommes/Femmes dans les critères recherchés ?\n",
    "- Lors d'un match, que recherche le plus une femme ? Un homme ?\n",
    "- Lors d'un speedating qui match le physique est-il vraiment important ? Et l'intelligence ?\n",
    "- Et concernant le statut social ?\n",
    "- La diffarence d'âge impact-elle un match ?\n",
    "- Les critères de date, sont-ils identiques avant et après le speedating ? Est-ce que cela diffère beaucoup ?\n",
    "\n",
    "Ce qui nous amène à exclures certains éléments de l'enquête, qui nous paraissent peu ou moins pertinents, ainsi que ceux difficilements exploitables.\n",
    "Ainsi :\n",
    "- Certaines vagues n'ont pas répondu à certaines questions. Et certaines vagues avaient une notation différentes. Nous gardons les vagues 1 à 5 et 10 à 21.\n",
    "- Tinder oblige, l'aspect géographique n'aura pas d'impact dans les matchs de notre application. Nous excluons les données\n",
    "- En France, nous excluons également les données concernant les races !\n",
    "- Les personnes n'ont que très peu répondu aux questions après 3/4 semaines (voir tableau ci-dessous avec les \"vides\"). Nous privilégirons les réponses avant et à j+1 après l'enquête\n",
    "- Les questions sur \"comment je me percois\" ou \"comment les gens me percoivent\" nous semblent également peu opportunes. Nous gardons les questions 1-1 / 2-1 et 4-1 et 1-2 / 2-2 et 3-2\n"
   ]
  },
  {
   "cell_type": "markdown",
   "metadata": {},
   "source": [
    "## CLEANING / CHECKING\n",
    "\n",
    "* Colonnes à garder :\n",
    "iid\tid\tgender wave\n"
   ]
  },
  {
   "cell_type": "markdown",
   "metadata": {},
   "source": [
    "## ANALYSE\n",
    "\n",
    "* \n"
   ]
  },
  {
   "cell_type": "code",
   "execution_count": 2,
   "metadata": {},
   "outputs": [],
   "source": [
    "## Importing libraries\n",
    "\n",
    "import pandas as pd\n",
    "import numpy as np # Not always necessary\n",
    "import plotly.express as px\n",
    "import plotly.graph_objects as go\n",
    "import plotly.io as pio\n",
    "\n",
    "#import matplotlib.pyplot as plt  - A voir\n",
    "#import seaborn as sns  - A voir"
   ]
  },
  {
   "cell_type": "code",
   "execution_count": 3,
   "metadata": {},
   "outputs": [
    {
     "data": {
      "text/html": [
       "<div>\n",
       "<style scoped>\n",
       "    .dataframe tbody tr th:only-of-type {\n",
       "        vertical-align: middle;\n",
       "    }\n",
       "\n",
       "    .dataframe tbody tr th {\n",
       "        vertical-align: top;\n",
       "    }\n",
       "\n",
       "    .dataframe thead th {\n",
       "        text-align: right;\n",
       "    }\n",
       "</style>\n",
       "<table border=\"1\" class=\"dataframe\">\n",
       "  <thead>\n",
       "    <tr style=\"text-align: right;\">\n",
       "      <th></th>\n",
       "      <th>iid</th>\n",
       "      <th>id</th>\n",
       "      <th>gender</th>\n",
       "      <th>idg</th>\n",
       "      <th>condtn</th>\n",
       "      <th>wave</th>\n",
       "      <th>round</th>\n",
       "      <th>position</th>\n",
       "      <th>positin1</th>\n",
       "      <th>order</th>\n",
       "      <th>...</th>\n",
       "      <th>attr3_3</th>\n",
       "      <th>sinc3_3</th>\n",
       "      <th>intel3_3</th>\n",
       "      <th>fun3_3</th>\n",
       "      <th>amb3_3</th>\n",
       "      <th>attr5_3</th>\n",
       "      <th>sinc5_3</th>\n",
       "      <th>intel5_3</th>\n",
       "      <th>fun5_3</th>\n",
       "      <th>amb5_3</th>\n",
       "    </tr>\n",
       "  </thead>\n",
       "  <tbody>\n",
       "    <tr>\n",
       "      <th>0</th>\n",
       "      <td>1</td>\n",
       "      <td>1.0</td>\n",
       "      <td>0</td>\n",
       "      <td>1</td>\n",
       "      <td>1</td>\n",
       "      <td>1</td>\n",
       "      <td>10</td>\n",
       "      <td>7</td>\n",
       "      <td>NaN</td>\n",
       "      <td>4</td>\n",
       "      <td>...</td>\n",
       "      <td>5.0</td>\n",
       "      <td>7.0</td>\n",
       "      <td>7.0</td>\n",
       "      <td>7.0</td>\n",
       "      <td>7.0</td>\n",
       "      <td>NaN</td>\n",
       "      <td>NaN</td>\n",
       "      <td>NaN</td>\n",
       "      <td>NaN</td>\n",
       "      <td>NaN</td>\n",
       "    </tr>\n",
       "    <tr>\n",
       "      <th>1</th>\n",
       "      <td>1</td>\n",
       "      <td>1.0</td>\n",
       "      <td>0</td>\n",
       "      <td>1</td>\n",
       "      <td>1</td>\n",
       "      <td>1</td>\n",
       "      <td>10</td>\n",
       "      <td>7</td>\n",
       "      <td>NaN</td>\n",
       "      <td>3</td>\n",
       "      <td>...</td>\n",
       "      <td>5.0</td>\n",
       "      <td>7.0</td>\n",
       "      <td>7.0</td>\n",
       "      <td>7.0</td>\n",
       "      <td>7.0</td>\n",
       "      <td>NaN</td>\n",
       "      <td>NaN</td>\n",
       "      <td>NaN</td>\n",
       "      <td>NaN</td>\n",
       "      <td>NaN</td>\n",
       "    </tr>\n",
       "    <tr>\n",
       "      <th>2</th>\n",
       "      <td>1</td>\n",
       "      <td>1.0</td>\n",
       "      <td>0</td>\n",
       "      <td>1</td>\n",
       "      <td>1</td>\n",
       "      <td>1</td>\n",
       "      <td>10</td>\n",
       "      <td>7</td>\n",
       "      <td>NaN</td>\n",
       "      <td>10</td>\n",
       "      <td>...</td>\n",
       "      <td>5.0</td>\n",
       "      <td>7.0</td>\n",
       "      <td>7.0</td>\n",
       "      <td>7.0</td>\n",
       "      <td>7.0</td>\n",
       "      <td>NaN</td>\n",
       "      <td>NaN</td>\n",
       "      <td>NaN</td>\n",
       "      <td>NaN</td>\n",
       "      <td>NaN</td>\n",
       "    </tr>\n",
       "    <tr>\n",
       "      <th>3</th>\n",
       "      <td>1</td>\n",
       "      <td>1.0</td>\n",
       "      <td>0</td>\n",
       "      <td>1</td>\n",
       "      <td>1</td>\n",
       "      <td>1</td>\n",
       "      <td>10</td>\n",
       "      <td>7</td>\n",
       "      <td>NaN</td>\n",
       "      <td>5</td>\n",
       "      <td>...</td>\n",
       "      <td>5.0</td>\n",
       "      <td>7.0</td>\n",
       "      <td>7.0</td>\n",
       "      <td>7.0</td>\n",
       "      <td>7.0</td>\n",
       "      <td>NaN</td>\n",
       "      <td>NaN</td>\n",
       "      <td>NaN</td>\n",
       "      <td>NaN</td>\n",
       "      <td>NaN</td>\n",
       "    </tr>\n",
       "    <tr>\n",
       "      <th>4</th>\n",
       "      <td>1</td>\n",
       "      <td>1.0</td>\n",
       "      <td>0</td>\n",
       "      <td>1</td>\n",
       "      <td>1</td>\n",
       "      <td>1</td>\n",
       "      <td>10</td>\n",
       "      <td>7</td>\n",
       "      <td>NaN</td>\n",
       "      <td>7</td>\n",
       "      <td>...</td>\n",
       "      <td>5.0</td>\n",
       "      <td>7.0</td>\n",
       "      <td>7.0</td>\n",
       "      <td>7.0</td>\n",
       "      <td>7.0</td>\n",
       "      <td>NaN</td>\n",
       "      <td>NaN</td>\n",
       "      <td>NaN</td>\n",
       "      <td>NaN</td>\n",
       "      <td>NaN</td>\n",
       "    </tr>\n",
       "  </tbody>\n",
       "</table>\n",
       "<p>5 rows × 195 columns</p>\n",
       "</div>"
      ],
      "text/plain": [
       "   iid   id  gender  idg  condtn  wave  round  position  positin1  order  ...  \\\n",
       "0    1  1.0       0    1       1     1     10         7       NaN      4  ...   \n",
       "1    1  1.0       0    1       1     1     10         7       NaN      3  ...   \n",
       "2    1  1.0       0    1       1     1     10         7       NaN     10  ...   \n",
       "3    1  1.0       0    1       1     1     10         7       NaN      5  ...   \n",
       "4    1  1.0       0    1       1     1     10         7       NaN      7  ...   \n",
       "\n",
       "   attr3_3  sinc3_3  intel3_3  fun3_3  amb3_3  attr5_3  sinc5_3  intel5_3  \\\n",
       "0      5.0      7.0       7.0     7.0     7.0      NaN      NaN       NaN   \n",
       "1      5.0      7.0       7.0     7.0     7.0      NaN      NaN       NaN   \n",
       "2      5.0      7.0       7.0     7.0     7.0      NaN      NaN       NaN   \n",
       "3      5.0      7.0       7.0     7.0     7.0      NaN      NaN       NaN   \n",
       "4      5.0      7.0       7.0     7.0     7.0      NaN      NaN       NaN   \n",
       "\n",
       "   fun5_3  amb5_3  \n",
       "0     NaN     NaN  \n",
       "1     NaN     NaN  \n",
       "2     NaN     NaN  \n",
       "3     NaN     NaN  \n",
       "4     NaN     NaN  \n",
       "\n",
       "[5 rows x 195 columns]"
      ]
     },
     "execution_count": 3,
     "metadata": {},
     "output_type": "execute_result"
    }
   ],
   "source": [
    "## Importing data\n",
    "\n",
    "# Import & visualize dataset\n",
    "df = pd.read_csv(\"speed_dating_data.csv\",encoding=\"ISO-8859-1\") # car pb de format du csv...\n",
    "df.head()\n"
   ]
  },
  {
   "cell_type": "code",
   "execution_count": 4,
   "metadata": {},
   "outputs": [
    {
     "data": {
      "text/plain": [
       "(8378, 195)"
      ]
     },
     "execution_count": 4,
     "metadata": {},
     "output_type": "execute_result"
    }
   ],
   "source": [
    "# Check the shape of the dataset (rows, columns)\n",
    "df.shape"
   ]
  },
  {
   "cell_type": "code",
   "execution_count": 5,
   "metadata": {},
   "outputs": [
    {
     "name": "stdout",
     "output_type": "stream",
     "text": [
      "<class 'pandas.core.frame.DataFrame'>\n",
      "RangeIndex: 8378 entries, 0 to 8377\n",
      "Columns: 195 entries, iid to amb5_3\n",
      "dtypes: float64(174), int64(13), object(8)\n",
      "memory usage: 12.5+ MB\n"
     ]
    }
   ],
   "source": [
    "# Check global (data types,...)\n",
    "df.info()"
   ]
  },
  {
   "cell_type": "code",
   "execution_count": 6,
   "metadata": {},
   "outputs": [
    {
     "name": "stdout",
     "output_type": "stream",
     "text": [
      "iid            0\n",
      "id             1\n",
      "gender         0\n",
      "idg            0\n",
      "condtn         0\n",
      "wave           0\n",
      "round          0\n",
      "position       0\n",
      "positin1    1846\n",
      "order          0\n",
      "partner        0\n",
      "pid           10\n",
      "match          0\n",
      "int_corr     158\n",
      "samerace       0\n",
      "age_o        104\n",
      "race_o        73\n",
      "pf_o_att      89\n",
      "pf_o_sin      89\n",
      "pf_o_int      89\n",
      "pf_o_fun      98\n",
      "pf_o_amb     107\n",
      "pf_o_sha     129\n",
      "dec_o          0\n",
      "attr_o       212\n",
      "sinc_o       287\n",
      "intel_o      306\n",
      "fun_o        360\n",
      "amb_o        722\n",
      "shar_o      1076\n",
      "like_o       250\n",
      "prob_o       318\n",
      "met_o        385\n",
      "age           95\n",
      "field         63\n",
      "field_cd      82\n",
      "undergra    3464\n",
      "mn_sat      5245\n",
      "tuition     4795\n",
      "race          63\n",
      "imprace       79\n",
      "imprelig      79\n",
      "from          79\n",
      "zipcode     1064\n",
      "income      4099\n",
      "goal          79\n",
      "date          97\n",
      "go_out        79\n",
      "career        89\n",
      "career_c     138\n",
      "sports        79\n",
      "tvsports      79\n",
      "exercise      79\n",
      "dining        79\n",
      "museums       79\n",
      "art           79\n",
      "hiking        79\n",
      "gaming        79\n",
      "clubbing      79\n",
      "reading       79\n",
      "tv            79\n",
      "theater       79\n",
      "movies        79\n",
      "concerts      79\n",
      "music         79\n",
      "shopping      79\n",
      "yoga          79\n",
      "exphappy     101\n",
      "expnum      6578\n",
      "attr1_1       79\n",
      "sinc1_1       79\n",
      "intel1_1      79\n",
      "fun1_1        89\n",
      "amb1_1        99\n",
      "shar1_1      121\n",
      "attr4_1     1889\n",
      "sinc4_1     1889\n",
      "intel4_1    1889\n",
      "fun4_1      1889\n",
      "amb4_1      1889\n",
      "shar4_1     1911\n",
      "attr2_1       79\n",
      "sinc2_1       79\n",
      "intel2_1      79\n",
      "fun2_1        79\n",
      "amb2_1        89\n",
      "shar2_1       89\n",
      "attr3_1      105\n",
      "sinc3_1      105\n",
      "fun3_1       105\n",
      "intel3_1     105\n",
      "amb3_1       105\n",
      "attr5_1     3472\n",
      "sinc5_1     3472\n",
      "intel5_1    3472\n",
      "fun5_1      3472\n",
      "amb5_1      3472\n",
      "dec            0\n",
      "attr         202\n",
      "sinc         277\n",
      "intel        296\n",
      "fun          350\n",
      "amb          712\n",
      "shar        1067\n",
      "like         240\n",
      "prob         309\n",
      "met          375\n",
      "match_es    1173\n",
      "attr1_s     4282\n",
      "sinc1_s     4282\n",
      "intel1_s    4282\n",
      "fun1_s      4282\n",
      "amb1_s      4282\n",
      "shar1_s     4282\n",
      "attr3_s     4378\n",
      "sinc3_s     4378\n",
      "intel3_s    4378\n",
      "fun3_s      4378\n",
      "amb3_s      4378\n",
      "satis_2      915\n",
      "length       915\n",
      "numdat_2     945\n",
      "attr7_2     6394\n",
      "sinc7_2     6423\n",
      "intel7_2    6394\n",
      "fun7_2      6394\n",
      "amb7_2      6423\n",
      "shar7_2     6404\n",
      "attr1_2      933\n",
      "sinc1_2      915\n",
      "intel1_2     915\n",
      "fun1_2       915\n",
      "amb1_2       915\n",
      "shar1_2      915\n",
      "attr4_2     2603\n",
      "sinc4_2     2603\n",
      "intel4_2    2603\n",
      "fun4_2      2603\n",
      "amb4_2      2603\n",
      "shar4_2     2603\n",
      "attr2_2     2603\n",
      "sinc2_2     2603\n",
      "intel2_2    2603\n",
      "fun2_2      2603\n",
      "amb2_2      2603\n",
      "shar2_2     2603\n",
      "attr3_2      915\n",
      "sinc3_2      915\n",
      "intel3_2     915\n",
      "fun3_2       915\n",
      "amb3_2       915\n",
      "attr5_2     4001\n",
      "sinc5_2     4001\n",
      "intel5_2    4001\n",
      "fun5_2      4001\n",
      "amb5_2      4001\n",
      "you_call    4404\n",
      "them_cal    4404\n",
      "date_3      4404\n",
      "numdat_3    6882\n",
      "num_in_3    7710\n",
      "attr1_3     4404\n",
      "sinc1_3     4404\n",
      "intel1_3    4404\n",
      "fun1_3      4404\n",
      "amb1_3      4404\n",
      "shar1_3     4404\n",
      "attr7_3     6362\n",
      "sinc7_3     6362\n",
      "intel7_3    6362\n",
      "fun7_3      6362\n",
      "amb7_3      6362\n",
      "shar7_3     6362\n",
      "attr4_3     5419\n",
      "sinc4_3     5419\n",
      "intel4_3    5419\n",
      "fun4_3      5419\n",
      "amb4_3      5419\n",
      "shar4_3     5419\n",
      "attr2_3     5419\n",
      "sinc2_3     5419\n",
      "intel2_3    5419\n",
      "fun2_3      5419\n",
      "amb2_3      5419\n",
      "shar2_3     6362\n",
      "attr3_3     4404\n",
      "sinc3_3     4404\n",
      "intel3_3    4404\n",
      "fun3_3      4404\n",
      "amb3_3      4404\n",
      "attr5_3     6362\n",
      "sinc5_3     6362\n",
      "intel5_3    6362\n",
      "fun5_3      6362\n",
      "amb5_3      6362\n"
     ]
    }
   ],
   "source": [
    "# Check missing values\n",
    "print(df.isnull().sum().to_string()) # permet de voir l'ensemnble des colonnes"
   ]
  },
  {
   "cell_type": "code",
   "execution_count": 7,
   "metadata": {},
   "outputs": [
    {
     "data": {
      "application/vnd.plotly.v1+json": {
       "config": {
        "plotlyServerURL": "https://plot.ly"
       },
       "data": [
        {
         "alignmentgroup": "True",
         "hovertemplate": "Column=%{x}<br>Missing Values=%{text}<extra></extra>",
         "legendgroup": "",
         "marker": {
          "color": "#636efa",
          "pattern": {
           "shape": ""
          }
         },
         "name": "",
         "offsetgroup": "",
         "orientation": "v",
         "showlegend": false,
         "text": [
          0,
          1,
          0,
          0,
          0,
          0,
          0,
          0,
          1846,
          0,
          0,
          10,
          0,
          158,
          0,
          104,
          73,
          89,
          89,
          89,
          98,
          107,
          129,
          0,
          212,
          287,
          306,
          360,
          722,
          1076,
          250,
          318,
          385,
          95,
          63,
          82,
          3464,
          5245,
          4795,
          63,
          79,
          79,
          79,
          1064,
          4099,
          79,
          97,
          79,
          89,
          138,
          79,
          79,
          79,
          79,
          79,
          79,
          79,
          79,
          79,
          79,
          79,
          79,
          79,
          79,
          79,
          79,
          79,
          101,
          6578,
          79,
          79,
          79,
          89,
          99,
          121,
          1889,
          1889,
          1889,
          1889,
          1889,
          1911,
          79,
          79,
          79,
          79,
          89,
          89,
          105,
          105,
          105,
          105,
          105,
          3472,
          3472,
          3472,
          3472,
          3472,
          0,
          202,
          277,
          296,
          350,
          712,
          1067,
          240,
          309,
          375,
          1173,
          4282,
          4282,
          4282,
          4282,
          4282,
          4282,
          4378,
          4378,
          4378,
          4378,
          4378,
          915,
          915,
          945,
          6394,
          6423,
          6394,
          6394,
          6423,
          6404,
          933,
          915,
          915,
          915,
          915,
          915,
          2603,
          2603,
          2603,
          2603,
          2603,
          2603,
          2603,
          2603,
          2603,
          2603,
          2603,
          2603,
          915,
          915,
          915,
          915,
          915,
          4001,
          4001,
          4001,
          4001,
          4001,
          4404,
          4404,
          4404,
          6882,
          7710,
          4404,
          4404,
          4404,
          4404,
          4404,
          4404,
          6362,
          6362,
          6362,
          6362,
          6362,
          6362,
          5419,
          5419,
          5419,
          5419,
          5419,
          5419,
          5419,
          5419,
          5419,
          5419,
          5419,
          6362,
          4404,
          4404,
          4404,
          4404,
          4404,
          6362,
          6362,
          6362,
          6362,
          6362
         ],
         "textposition": "outside",
         "texttemplate": "%{text}",
         "type": "bar",
         "x": [
          "iid",
          "id",
          "gender",
          "idg",
          "condtn",
          "wave",
          "round",
          "position",
          "positin1",
          "order",
          "partner",
          "pid",
          "match",
          "int_corr",
          "samerace",
          "age_o",
          "race_o",
          "pf_o_att",
          "pf_o_sin",
          "pf_o_int",
          "pf_o_fun",
          "pf_o_amb",
          "pf_o_sha",
          "dec_o",
          "attr_o",
          "sinc_o",
          "intel_o",
          "fun_o",
          "amb_o",
          "shar_o",
          "like_o",
          "prob_o",
          "met_o",
          "age",
          "field",
          "field_cd",
          "undergra",
          "mn_sat",
          "tuition",
          "race",
          "imprace",
          "imprelig",
          "from",
          "zipcode",
          "income",
          "goal",
          "date",
          "go_out",
          "career",
          "career_c",
          "sports",
          "tvsports",
          "exercise",
          "dining",
          "museums",
          "art",
          "hiking",
          "gaming",
          "clubbing",
          "reading",
          "tv",
          "theater",
          "movies",
          "concerts",
          "music",
          "shopping",
          "yoga",
          "exphappy",
          "expnum",
          "attr1_1",
          "sinc1_1",
          "intel1_1",
          "fun1_1",
          "amb1_1",
          "shar1_1",
          "attr4_1",
          "sinc4_1",
          "intel4_1",
          "fun4_1",
          "amb4_1",
          "shar4_1",
          "attr2_1",
          "sinc2_1",
          "intel2_1",
          "fun2_1",
          "amb2_1",
          "shar2_1",
          "attr3_1",
          "sinc3_1",
          "fun3_1",
          "intel3_1",
          "amb3_1",
          "attr5_1",
          "sinc5_1",
          "intel5_1",
          "fun5_1",
          "amb5_1",
          "dec",
          "attr",
          "sinc",
          "intel",
          "fun",
          "amb",
          "shar",
          "like",
          "prob",
          "met",
          "match_es",
          "attr1_s",
          "sinc1_s",
          "intel1_s",
          "fun1_s",
          "amb1_s",
          "shar1_s",
          "attr3_s",
          "sinc3_s",
          "intel3_s",
          "fun3_s",
          "amb3_s",
          "satis_2",
          "length",
          "numdat_2",
          "attr7_2",
          "sinc7_2",
          "intel7_2",
          "fun7_2",
          "amb7_2",
          "shar7_2",
          "attr1_2",
          "sinc1_2",
          "intel1_2",
          "fun1_2",
          "amb1_2",
          "shar1_2",
          "attr4_2",
          "sinc4_2",
          "intel4_2",
          "fun4_2",
          "amb4_2",
          "shar4_2",
          "attr2_2",
          "sinc2_2",
          "intel2_2",
          "fun2_2",
          "amb2_2",
          "shar2_2",
          "attr3_2",
          "sinc3_2",
          "intel3_2",
          "fun3_2",
          "amb3_2",
          "attr5_2",
          "sinc5_2",
          "intel5_2",
          "fun5_2",
          "amb5_2",
          "you_call",
          "them_cal",
          "date_3",
          "numdat_3",
          "num_in_3",
          "attr1_3",
          "sinc1_3",
          "intel1_3",
          "fun1_3",
          "amb1_3",
          "shar1_3",
          "attr7_3",
          "sinc7_3",
          "intel7_3",
          "fun7_3",
          "amb7_3",
          "shar7_3",
          "attr4_3",
          "sinc4_3",
          "intel4_3",
          "fun4_3",
          "amb4_3",
          "shar4_3",
          "attr2_3",
          "sinc2_3",
          "intel2_3",
          "fun2_3",
          "amb2_3",
          "shar2_3",
          "attr3_3",
          "sinc3_3",
          "intel3_3",
          "fun3_3",
          "amb3_3",
          "attr5_3",
          "sinc5_3",
          "intel5_3",
          "fun5_3",
          "amb5_3"
         ],
         "xaxis": "x",
         "y": [
          0,
          1,
          0,
          0,
          0,
          0,
          0,
          0,
          1846,
          0,
          0,
          10,
          0,
          158,
          0,
          104,
          73,
          89,
          89,
          89,
          98,
          107,
          129,
          0,
          212,
          287,
          306,
          360,
          722,
          1076,
          250,
          318,
          385,
          95,
          63,
          82,
          3464,
          5245,
          4795,
          63,
          79,
          79,
          79,
          1064,
          4099,
          79,
          97,
          79,
          89,
          138,
          79,
          79,
          79,
          79,
          79,
          79,
          79,
          79,
          79,
          79,
          79,
          79,
          79,
          79,
          79,
          79,
          79,
          101,
          6578,
          79,
          79,
          79,
          89,
          99,
          121,
          1889,
          1889,
          1889,
          1889,
          1889,
          1911,
          79,
          79,
          79,
          79,
          89,
          89,
          105,
          105,
          105,
          105,
          105,
          3472,
          3472,
          3472,
          3472,
          3472,
          0,
          202,
          277,
          296,
          350,
          712,
          1067,
          240,
          309,
          375,
          1173,
          4282,
          4282,
          4282,
          4282,
          4282,
          4282,
          4378,
          4378,
          4378,
          4378,
          4378,
          915,
          915,
          945,
          6394,
          6423,
          6394,
          6394,
          6423,
          6404,
          933,
          915,
          915,
          915,
          915,
          915,
          2603,
          2603,
          2603,
          2603,
          2603,
          2603,
          2603,
          2603,
          2603,
          2603,
          2603,
          2603,
          915,
          915,
          915,
          915,
          915,
          4001,
          4001,
          4001,
          4001,
          4001,
          4404,
          4404,
          4404,
          6882,
          7710,
          4404,
          4404,
          4404,
          4404,
          4404,
          4404,
          6362,
          6362,
          6362,
          6362,
          6362,
          6362,
          5419,
          5419,
          5419,
          5419,
          5419,
          5419,
          5419,
          5419,
          5419,
          5419,
          5419,
          6362,
          4404,
          4404,
          4404,
          4404,
          4404,
          6362,
          6362,
          6362,
          6362,
          6362
         ],
         "yaxis": "y"
        }
       ],
       "layout": {
        "barmode": "relative",
        "font": {
         "size": 12
        },
        "height": 600,
        "legend": {
         "tracegroupgap": 0
        },
        "plot_bgcolor": "white",
        "template": {
         "data": {
          "bar": [
           {
            "error_x": {
             "color": "#2a3f5f"
            },
            "error_y": {
             "color": "#2a3f5f"
            },
            "marker": {
             "line": {
              "color": "#E5ECF6",
              "width": 0.5
             },
             "pattern": {
              "fillmode": "overlay",
              "size": 10,
              "solidity": 0.2
             }
            },
            "type": "bar"
           }
          ],
          "barpolar": [
           {
            "marker": {
             "line": {
              "color": "#E5ECF6",
              "width": 0.5
             },
             "pattern": {
              "fillmode": "overlay",
              "size": 10,
              "solidity": 0.2
             }
            },
            "type": "barpolar"
           }
          ],
          "carpet": [
           {
            "aaxis": {
             "endlinecolor": "#2a3f5f",
             "gridcolor": "white",
             "linecolor": "white",
             "minorgridcolor": "white",
             "startlinecolor": "#2a3f5f"
            },
            "baxis": {
             "endlinecolor": "#2a3f5f",
             "gridcolor": "white",
             "linecolor": "white",
             "minorgridcolor": "white",
             "startlinecolor": "#2a3f5f"
            },
            "type": "carpet"
           }
          ],
          "choropleth": [
           {
            "colorbar": {
             "outlinewidth": 0,
             "ticks": ""
            },
            "type": "choropleth"
           }
          ],
          "contour": [
           {
            "colorbar": {
             "outlinewidth": 0,
             "ticks": ""
            },
            "colorscale": [
             [
              0,
              "#0d0887"
             ],
             [
              0.1111111111111111,
              "#46039f"
             ],
             [
              0.2222222222222222,
              "#7201a8"
             ],
             [
              0.3333333333333333,
              "#9c179e"
             ],
             [
              0.4444444444444444,
              "#bd3786"
             ],
             [
              0.5555555555555556,
              "#d8576b"
             ],
             [
              0.6666666666666666,
              "#ed7953"
             ],
             [
              0.7777777777777778,
              "#fb9f3a"
             ],
             [
              0.8888888888888888,
              "#fdca26"
             ],
             [
              1,
              "#f0f921"
             ]
            ],
            "type": "contour"
           }
          ],
          "contourcarpet": [
           {
            "colorbar": {
             "outlinewidth": 0,
             "ticks": ""
            },
            "type": "contourcarpet"
           }
          ],
          "heatmap": [
           {
            "colorbar": {
             "outlinewidth": 0,
             "ticks": ""
            },
            "colorscale": [
             [
              0,
              "#0d0887"
             ],
             [
              0.1111111111111111,
              "#46039f"
             ],
             [
              0.2222222222222222,
              "#7201a8"
             ],
             [
              0.3333333333333333,
              "#9c179e"
             ],
             [
              0.4444444444444444,
              "#bd3786"
             ],
             [
              0.5555555555555556,
              "#d8576b"
             ],
             [
              0.6666666666666666,
              "#ed7953"
             ],
             [
              0.7777777777777778,
              "#fb9f3a"
             ],
             [
              0.8888888888888888,
              "#fdca26"
             ],
             [
              1,
              "#f0f921"
             ]
            ],
            "type": "heatmap"
           }
          ],
          "heatmapgl": [
           {
            "colorbar": {
             "outlinewidth": 0,
             "ticks": ""
            },
            "colorscale": [
             [
              0,
              "#0d0887"
             ],
             [
              0.1111111111111111,
              "#46039f"
             ],
             [
              0.2222222222222222,
              "#7201a8"
             ],
             [
              0.3333333333333333,
              "#9c179e"
             ],
             [
              0.4444444444444444,
              "#bd3786"
             ],
             [
              0.5555555555555556,
              "#d8576b"
             ],
             [
              0.6666666666666666,
              "#ed7953"
             ],
             [
              0.7777777777777778,
              "#fb9f3a"
             ],
             [
              0.8888888888888888,
              "#fdca26"
             ],
             [
              1,
              "#f0f921"
             ]
            ],
            "type": "heatmapgl"
           }
          ],
          "histogram": [
           {
            "marker": {
             "pattern": {
              "fillmode": "overlay",
              "size": 10,
              "solidity": 0.2
             }
            },
            "type": "histogram"
           }
          ],
          "histogram2d": [
           {
            "colorbar": {
             "outlinewidth": 0,
             "ticks": ""
            },
            "colorscale": [
             [
              0,
              "#0d0887"
             ],
             [
              0.1111111111111111,
              "#46039f"
             ],
             [
              0.2222222222222222,
              "#7201a8"
             ],
             [
              0.3333333333333333,
              "#9c179e"
             ],
             [
              0.4444444444444444,
              "#bd3786"
             ],
             [
              0.5555555555555556,
              "#d8576b"
             ],
             [
              0.6666666666666666,
              "#ed7953"
             ],
             [
              0.7777777777777778,
              "#fb9f3a"
             ],
             [
              0.8888888888888888,
              "#fdca26"
             ],
             [
              1,
              "#f0f921"
             ]
            ],
            "type": "histogram2d"
           }
          ],
          "histogram2dcontour": [
           {
            "colorbar": {
             "outlinewidth": 0,
             "ticks": ""
            },
            "colorscale": [
             [
              0,
              "#0d0887"
             ],
             [
              0.1111111111111111,
              "#46039f"
             ],
             [
              0.2222222222222222,
              "#7201a8"
             ],
             [
              0.3333333333333333,
              "#9c179e"
             ],
             [
              0.4444444444444444,
              "#bd3786"
             ],
             [
              0.5555555555555556,
              "#d8576b"
             ],
             [
              0.6666666666666666,
              "#ed7953"
             ],
             [
              0.7777777777777778,
              "#fb9f3a"
             ],
             [
              0.8888888888888888,
              "#fdca26"
             ],
             [
              1,
              "#f0f921"
             ]
            ],
            "type": "histogram2dcontour"
           }
          ],
          "mesh3d": [
           {
            "colorbar": {
             "outlinewidth": 0,
             "ticks": ""
            },
            "type": "mesh3d"
           }
          ],
          "parcoords": [
           {
            "line": {
             "colorbar": {
              "outlinewidth": 0,
              "ticks": ""
             }
            },
            "type": "parcoords"
           }
          ],
          "pie": [
           {
            "automargin": true,
            "type": "pie"
           }
          ],
          "scatter": [
           {
            "fillpattern": {
             "fillmode": "overlay",
             "size": 10,
             "solidity": 0.2
            },
            "type": "scatter"
           }
          ],
          "scatter3d": [
           {
            "line": {
             "colorbar": {
              "outlinewidth": 0,
              "ticks": ""
             }
            },
            "marker": {
             "colorbar": {
              "outlinewidth": 0,
              "ticks": ""
             }
            },
            "type": "scatter3d"
           }
          ],
          "scattercarpet": [
           {
            "marker": {
             "colorbar": {
              "outlinewidth": 0,
              "ticks": ""
             }
            },
            "type": "scattercarpet"
           }
          ],
          "scattergeo": [
           {
            "marker": {
             "colorbar": {
              "outlinewidth": 0,
              "ticks": ""
             }
            },
            "type": "scattergeo"
           }
          ],
          "scattergl": [
           {
            "marker": {
             "colorbar": {
              "outlinewidth": 0,
              "ticks": ""
             }
            },
            "type": "scattergl"
           }
          ],
          "scattermapbox": [
           {
            "marker": {
             "colorbar": {
              "outlinewidth": 0,
              "ticks": ""
             }
            },
            "type": "scattermapbox"
           }
          ],
          "scatterpolar": [
           {
            "marker": {
             "colorbar": {
              "outlinewidth": 0,
              "ticks": ""
             }
            },
            "type": "scatterpolar"
           }
          ],
          "scatterpolargl": [
           {
            "marker": {
             "colorbar": {
              "outlinewidth": 0,
              "ticks": ""
             }
            },
            "type": "scatterpolargl"
           }
          ],
          "scatterternary": [
           {
            "marker": {
             "colorbar": {
              "outlinewidth": 0,
              "ticks": ""
             }
            },
            "type": "scatterternary"
           }
          ],
          "surface": [
           {
            "colorbar": {
             "outlinewidth": 0,
             "ticks": ""
            },
            "colorscale": [
             [
              0,
              "#0d0887"
             ],
             [
              0.1111111111111111,
              "#46039f"
             ],
             [
              0.2222222222222222,
              "#7201a8"
             ],
             [
              0.3333333333333333,
              "#9c179e"
             ],
             [
              0.4444444444444444,
              "#bd3786"
             ],
             [
              0.5555555555555556,
              "#d8576b"
             ],
             [
              0.6666666666666666,
              "#ed7953"
             ],
             [
              0.7777777777777778,
              "#fb9f3a"
             ],
             [
              0.8888888888888888,
              "#fdca26"
             ],
             [
              1,
              "#f0f921"
             ]
            ],
            "type": "surface"
           }
          ],
          "table": [
           {
            "cells": {
             "fill": {
              "color": "#EBF0F8"
             },
             "line": {
              "color": "white"
             }
            },
            "header": {
             "fill": {
              "color": "#C8D4E3"
             },
             "line": {
              "color": "white"
             }
            },
            "type": "table"
           }
          ]
         },
         "layout": {
          "annotationdefaults": {
           "arrowcolor": "#2a3f5f",
           "arrowhead": 0,
           "arrowwidth": 1
          },
          "autotypenumbers": "strict",
          "coloraxis": {
           "colorbar": {
            "outlinewidth": 0,
            "ticks": ""
           }
          },
          "colorscale": {
           "diverging": [
            [
             0,
             "#8e0152"
            ],
            [
             0.1,
             "#c51b7d"
            ],
            [
             0.2,
             "#de77ae"
            ],
            [
             0.3,
             "#f1b6da"
            ],
            [
             0.4,
             "#fde0ef"
            ],
            [
             0.5,
             "#f7f7f7"
            ],
            [
             0.6,
             "#e6f5d0"
            ],
            [
             0.7,
             "#b8e186"
            ],
            [
             0.8,
             "#7fbc41"
            ],
            [
             0.9,
             "#4d9221"
            ],
            [
             1,
             "#276419"
            ]
           ],
           "sequential": [
            [
             0,
             "#0d0887"
            ],
            [
             0.1111111111111111,
             "#46039f"
            ],
            [
             0.2222222222222222,
             "#7201a8"
            ],
            [
             0.3333333333333333,
             "#9c179e"
            ],
            [
             0.4444444444444444,
             "#bd3786"
            ],
            [
             0.5555555555555556,
             "#d8576b"
            ],
            [
             0.6666666666666666,
             "#ed7953"
            ],
            [
             0.7777777777777778,
             "#fb9f3a"
            ],
            [
             0.8888888888888888,
             "#fdca26"
            ],
            [
             1,
             "#f0f921"
            ]
           ],
           "sequentialminus": [
            [
             0,
             "#0d0887"
            ],
            [
             0.1111111111111111,
             "#46039f"
            ],
            [
             0.2222222222222222,
             "#7201a8"
            ],
            [
             0.3333333333333333,
             "#9c179e"
            ],
            [
             0.4444444444444444,
             "#bd3786"
            ],
            [
             0.5555555555555556,
             "#d8576b"
            ],
            [
             0.6666666666666666,
             "#ed7953"
            ],
            [
             0.7777777777777778,
             "#fb9f3a"
            ],
            [
             0.8888888888888888,
             "#fdca26"
            ],
            [
             1,
             "#f0f921"
            ]
           ]
          },
          "colorway": [
           "#636efa",
           "#EF553B",
           "#00cc96",
           "#ab63fa",
           "#FFA15A",
           "#19d3f3",
           "#FF6692",
           "#B6E880",
           "#FF97FF",
           "#FECB52"
          ],
          "font": {
           "color": "#2a3f5f"
          },
          "geo": {
           "bgcolor": "white",
           "lakecolor": "white",
           "landcolor": "#E5ECF6",
           "showlakes": true,
           "showland": true,
           "subunitcolor": "white"
          },
          "hoverlabel": {
           "align": "left"
          },
          "hovermode": "closest",
          "mapbox": {
           "style": "light"
          },
          "paper_bgcolor": "white",
          "plot_bgcolor": "#E5ECF6",
          "polar": {
           "angularaxis": {
            "gridcolor": "white",
            "linecolor": "white",
            "ticks": ""
           },
           "bgcolor": "#E5ECF6",
           "radialaxis": {
            "gridcolor": "white",
            "linecolor": "white",
            "ticks": ""
           }
          },
          "scene": {
           "xaxis": {
            "backgroundcolor": "#E5ECF6",
            "gridcolor": "white",
            "gridwidth": 2,
            "linecolor": "white",
            "showbackground": true,
            "ticks": "",
            "zerolinecolor": "white"
           },
           "yaxis": {
            "backgroundcolor": "#E5ECF6",
            "gridcolor": "white",
            "gridwidth": 2,
            "linecolor": "white",
            "showbackground": true,
            "ticks": "",
            "zerolinecolor": "white"
           },
           "zaxis": {
            "backgroundcolor": "#E5ECF6",
            "gridcolor": "white",
            "gridwidth": 2,
            "linecolor": "white",
            "showbackground": true,
            "ticks": "",
            "zerolinecolor": "white"
           }
          },
          "shapedefaults": {
           "line": {
            "color": "#2a3f5f"
           }
          },
          "ternary": {
           "aaxis": {
            "gridcolor": "white",
            "linecolor": "white",
            "ticks": ""
           },
           "baxis": {
            "gridcolor": "white",
            "linecolor": "white",
            "ticks": ""
           },
           "bgcolor": "#E5ECF6",
           "caxis": {
            "gridcolor": "white",
            "linecolor": "white",
            "ticks": ""
           }
          },
          "title": {
           "x": 0.05
          },
          "xaxis": {
           "automargin": true,
           "gridcolor": "white",
           "linecolor": "white",
           "ticks": "",
           "title": {
            "standoff": 15
           },
           "zerolinecolor": "white",
           "zerolinewidth": 2
          },
          "yaxis": {
           "automargin": true,
           "gridcolor": "white",
           "linecolor": "white",
           "ticks": "",
           "title": {
            "standoff": 15
           },
           "zerolinecolor": "white",
           "zerolinewidth": 2
          }
         }
        },
        "title": {
         "text": "Nombre de valeurs manquantes par colonne"
        },
        "width": 3000,
        "xaxis": {
         "anchor": "y",
         "categoryorder": "total descending",
         "domain": [
          0,
          1
         ],
         "tickangle": 45,
         "tickfont": {
          "size": 12
         },
         "title": {
          "text": "Colonnes"
         }
        },
        "yaxis": {
         "anchor": "x",
         "domain": [
          0,
          1
         ],
         "title": {
          "text": "Nombre de valeurs manquantes"
         }
        }
       }
      }
     },
     "metadata": {},
     "output_type": "display_data"
    }
   ],
   "source": [
    "# Graph pour cvoir les valeurs manquantes par colonnes (permet d'avoir les noms des colonnes pour suppression)\n",
    "\n",
    "# Calculer le nombre de valeurs manquantes par colonne\n",
    "missing_values = df.isnull().sum()\n",
    "\n",
    "# Convertir les valeurs manquantes en DataFrame pour Plotly\n",
    "missing_df = missing_values.reset_index()\n",
    "missing_df.columns = ['Column', 'Missing Values']\n",
    "\n",
    "# Créer un graphique à barres avec Plotly\n",
    "fig = px.bar(missing_df, x='Column', y='Missing Values', text='Missing Values',\n",
    "             title='Nombre de valeurs manquantes par colonne')\n",
    "\n",
    "# Ajuster l'apparence\n",
    "fig.update_layout(xaxis_title='Colonnes',\n",
    "                  yaxis_title='Nombre de valeurs manquantes',\n",
    "                  xaxis={'categoryorder':'total descending'},\n",
    "                  plot_bgcolor='white',\n",
    "                  font=dict(size=12),\n",
    "                  width=3000,  # Largeur en pixels\n",
    "                  height=600)  # Hauteur en pixels\n",
    "\n",
    "# Ajuster les étiquettes pour qu'elles soient toujours lisibles\n",
    "fig.update_traces(texttemplate='%{text}', textposition='outside')\n",
    "fig.update_xaxes(tickangle=45, tickfont=dict(size=12))\n",
    "\n",
    "# Afficher le graphique\n",
    "fig.show()"
   ]
  },
  {
   "cell_type": "code",
   "execution_count": 14,
   "metadata": {},
   "outputs": [
    {
     "data": {
      "text/html": [
       "<div>\n",
       "<style scoped>\n",
       "    .dataframe tbody tr th:only-of-type {\n",
       "        vertical-align: middle;\n",
       "    }\n",
       "\n",
       "    .dataframe tbody tr th {\n",
       "        vertical-align: top;\n",
       "    }\n",
       "\n",
       "    .dataframe thead th {\n",
       "        text-align: right;\n",
       "    }\n",
       "</style>\n",
       "<table border=\"1\" class=\"dataframe\">\n",
       "  <thead>\n",
       "    <tr style=\"text-align: right;\">\n",
       "      <th></th>\n",
       "      <th>iid</th>\n",
       "      <th>id</th>\n",
       "      <th>gender</th>\n",
       "      <th>idg</th>\n",
       "      <th>condtn</th>\n",
       "      <th>wave</th>\n",
       "      <th>round</th>\n",
       "      <th>position</th>\n",
       "      <th>positin1</th>\n",
       "      <th>order</th>\n",
       "      <th>...</th>\n",
       "      <th>attr3_3</th>\n",
       "      <th>sinc3_3</th>\n",
       "      <th>intel3_3</th>\n",
       "      <th>fun3_3</th>\n",
       "      <th>amb3_3</th>\n",
       "      <th>attr5_3</th>\n",
       "      <th>sinc5_3</th>\n",
       "      <th>intel5_3</th>\n",
       "      <th>fun5_3</th>\n",
       "      <th>amb5_3</th>\n",
       "    </tr>\n",
       "  </thead>\n",
       "  <tbody>\n",
       "    <tr>\n",
       "      <th>0</th>\n",
       "      <td>1</td>\n",
       "      <td>1.0</td>\n",
       "      <td>0</td>\n",
       "      <td>1</td>\n",
       "      <td>1</td>\n",
       "      <td>1</td>\n",
       "      <td>10</td>\n",
       "      <td>7</td>\n",
       "      <td>NaN</td>\n",
       "      <td>4</td>\n",
       "      <td>...</td>\n",
       "      <td>5.0</td>\n",
       "      <td>7.0</td>\n",
       "      <td>7.0</td>\n",
       "      <td>7.0</td>\n",
       "      <td>7.0</td>\n",
       "      <td>NaN</td>\n",
       "      <td>NaN</td>\n",
       "      <td>NaN</td>\n",
       "      <td>NaN</td>\n",
       "      <td>NaN</td>\n",
       "    </tr>\n",
       "    <tr>\n",
       "      <th>10</th>\n",
       "      <td>2</td>\n",
       "      <td>2.0</td>\n",
       "      <td>0</td>\n",
       "      <td>3</td>\n",
       "      <td>1</td>\n",
       "      <td>1</td>\n",
       "      <td>10</td>\n",
       "      <td>3</td>\n",
       "      <td>NaN</td>\n",
       "      <td>10</td>\n",
       "      <td>...</td>\n",
       "      <td>7.0</td>\n",
       "      <td>6.0</td>\n",
       "      <td>9.0</td>\n",
       "      <td>9.0</td>\n",
       "      <td>4.0</td>\n",
       "      <td>NaN</td>\n",
       "      <td>NaN</td>\n",
       "      <td>NaN</td>\n",
       "      <td>NaN</td>\n",
       "      <td>NaN</td>\n",
       "    </tr>\n",
       "    <tr>\n",
       "      <th>20</th>\n",
       "      <td>3</td>\n",
       "      <td>3.0</td>\n",
       "      <td>0</td>\n",
       "      <td>5</td>\n",
       "      <td>1</td>\n",
       "      <td>1</td>\n",
       "      <td>10</td>\n",
       "      <td>9</td>\n",
       "      <td>NaN</td>\n",
       "      <td>6</td>\n",
       "      <td>...</td>\n",
       "      <td>NaN</td>\n",
       "      <td>NaN</td>\n",
       "      <td>NaN</td>\n",
       "      <td>NaN</td>\n",
       "      <td>NaN</td>\n",
       "      <td>NaN</td>\n",
       "      <td>NaN</td>\n",
       "      <td>NaN</td>\n",
       "      <td>NaN</td>\n",
       "      <td>NaN</td>\n",
       "    </tr>\n",
       "    <tr>\n",
       "      <th>30</th>\n",
       "      <td>4</td>\n",
       "      <td>4.0</td>\n",
       "      <td>0</td>\n",
       "      <td>7</td>\n",
       "      <td>1</td>\n",
       "      <td>1</td>\n",
       "      <td>10</td>\n",
       "      <td>6</td>\n",
       "      <td>NaN</td>\n",
       "      <td>3</td>\n",
       "      <td>...</td>\n",
       "      <td>6.0</td>\n",
       "      <td>5.0</td>\n",
       "      <td>6.0</td>\n",
       "      <td>8.0</td>\n",
       "      <td>5.0</td>\n",
       "      <td>NaN</td>\n",
       "      <td>NaN</td>\n",
       "      <td>NaN</td>\n",
       "      <td>NaN</td>\n",
       "      <td>NaN</td>\n",
       "    </tr>\n",
       "    <tr>\n",
       "      <th>40</th>\n",
       "      <td>5</td>\n",
       "      <td>5.0</td>\n",
       "      <td>0</td>\n",
       "      <td>9</td>\n",
       "      <td>1</td>\n",
       "      <td>1</td>\n",
       "      <td>10</td>\n",
       "      <td>4</td>\n",
       "      <td>NaN</td>\n",
       "      <td>1</td>\n",
       "      <td>...</td>\n",
       "      <td>4.0</td>\n",
       "      <td>5.0</td>\n",
       "      <td>10.0</td>\n",
       "      <td>6.0</td>\n",
       "      <td>10.0</td>\n",
       "      <td>NaN</td>\n",
       "      <td>NaN</td>\n",
       "      <td>NaN</td>\n",
       "      <td>NaN</td>\n",
       "      <td>NaN</td>\n",
       "    </tr>\n",
       "  </tbody>\n",
       "</table>\n",
       "<p>5 rows × 195 columns</p>\n",
       "</div>"
      ],
      "text/plain": [
       "    iid   id  gender  idg  condtn  wave  round  position  positin1  order  \\\n",
       "0     1  1.0       0    1       1     1     10         7       NaN      4   \n",
       "10    2  2.0       0    3       1     1     10         3       NaN     10   \n",
       "20    3  3.0       0    5       1     1     10         9       NaN      6   \n",
       "30    4  4.0       0    7       1     1     10         6       NaN      3   \n",
       "40    5  5.0       0    9       1     1     10         4       NaN      1   \n",
       "\n",
       "    ...  attr3_3  sinc3_3  intel3_3  fun3_3  amb3_3  attr5_3  sinc5_3  \\\n",
       "0   ...      5.0      7.0       7.0     7.0     7.0      NaN      NaN   \n",
       "10  ...      7.0      6.0       9.0     9.0     4.0      NaN      NaN   \n",
       "20  ...      NaN      NaN       NaN     NaN     NaN      NaN      NaN   \n",
       "30  ...      6.0      5.0       6.0     8.0     5.0      NaN      NaN   \n",
       "40  ...      4.0      5.0      10.0     6.0    10.0      NaN      NaN   \n",
       "\n",
       "    intel5_3  fun5_3  amb5_3  \n",
       "0        NaN     NaN     NaN  \n",
       "10       NaN     NaN     NaN  \n",
       "20       NaN     NaN     NaN  \n",
       "30       NaN     NaN     NaN  \n",
       "40       NaN     NaN     NaN  \n",
       "\n",
       "[5 rows x 195 columns]"
      ]
     },
     "execution_count": 14,
     "metadata": {},
     "output_type": "execute_result"
    }
   ],
   "source": [
    "# nombre de participants uniques\n",
    "data_unique = df.drop_duplicates(subset=[\"iid\"], keep=\"first\").copy()\n",
    "data_unique.head()"
   ]
  },
  {
   "cell_type": "code",
   "execution_count": 15,
   "metadata": {},
   "outputs": [
    {
     "name": "stdout",
     "output_type": "stream",
     "text": [
      "<class 'pandas.core.frame.DataFrame'>\n",
      "Index: 551 entries, 0 to 8356\n",
      "Columns: 195 entries, iid to amb5_3\n",
      "dtypes: float64(174), int64(13), object(8)\n",
      "memory usage: 843.7+ KB\n"
     ]
    }
   ],
   "source": [
    "data_unique.info()"
   ]
  },
  {
   "cell_type": "code",
   "execution_count": 16,
   "metadata": {},
   "outputs": [
    {
     "data": {
      "text/plain": [
       "wave\n",
       "21    968\n",
       "11    882\n",
       "9     800\n",
       "14    720\n",
       "15    684\n",
       "4     648\n",
       "2     608\n",
       "7     512\n",
       "19    450\n",
       "12    392\n",
       "17    280\n",
       "3     200\n",
       "8     200\n",
       "1     200\n",
       "5     190\n",
       "13    180\n",
       "10    162\n",
       "16     96\n",
       "20     84\n",
       "18     72\n",
       "6      50\n",
       "Name: count, dtype: int64"
      ]
     },
     "execution_count": 16,
     "metadata": {},
     "output_type": "execute_result"
    }
   ],
   "source": [
    "df['wave'].value_counts()"
   ]
  }
 ],
 "metadata": {
  "kernelspec": {
   "display_name": "base",
   "language": "python",
   "name": "python3"
  },
  "language_info": {
   "codemirror_mode": {
    "name": "ipython",
    "version": 3
   },
   "file_extension": ".py",
   "mimetype": "text/x-python",
   "name": "python",
   "nbconvert_exporter": "python",
   "pygments_lexer": "ipython3",
   "version": "3.11.7"
  }
 },
 "nbformat": 4,
 "nbformat_minor": 2
}
