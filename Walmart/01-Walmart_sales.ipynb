{
 "cells": [
  {
   "cell_type": "markdown",
   "metadata": {},
   "source": [
    "<img src=\"https://www.bestdesigns.co/uploads/inspiration_images/4350/990__1511457498_404_walmart.png\" alt=\"WALMART LOGO\" />\n",
    "\n",
    "# Walmart : predict weekly sales\n",
    "\n",
    "## Company's Description 📇\n",
    "\n",
    "Walmart Inc. is an American multinational retail corporation that operates a chain of hypermarkets, discount department stores, and grocery stores from the United States, headquartered in Bentonville, Arkansas. The company was founded by Sam Walton in 1962.\n",
    "\n",
    "## Project 🚧\n",
    "\n",
    "Walmart's marketing service has asked you to build a machine learning model able to estimate the weekly sales in their stores, with the best precision possible on the predictions made. Such a model would help them understand better how the sales are influenced by economic indicators, and might be used to plan future marketing campaigns.\n",
    "\n",
    "## Goals 🎯\n",
    "\n",
    "The project can be divided into three steps:\n",
    "\n",
    "- Part 1 : make an EDA and all the necessary preprocessings to prepare data for machine learning\n",
    "- Part 2 : train a **linear regression model** (baseline)\n",
    "- Part 3 : avoid overfitting by training a **regularized regression model**\n",
    "\n",
    "## Scope of this project 🖼️\n",
    "\n",
    "For this project, you'll work with a dataset that contains information about weekly sales achieved by different Walmart stores, and other variables such as the unemployment rate or the fuel price, that might be useful for predicting the amount of sales. The dataset has been taken from a Kaggle competition, but we made some changes compared to the original data. Please make sure that you're using **our** custom dataset (available on JULIE). 🤓"
   ]
  },
  {
   "cell_type": "markdown",
   "metadata": {},
   "source": [
    "## Deliverable 📬\n",
    "\n",
    "To complete this project, your team should: \n",
    "\n",
    "- Create some visualizations\n",
    "- Train at least one **linear regression model** on the dataset, that predicts the amount of weekly sales as a function of the other variables\n",
    "- Assess the performances of the model by using a metric that is relevant for regression problems\n",
    "- Interpret the coefficients of the model to identify what features are important for the prediction\n",
    "- Train at least one model with **regularization (Lasso or Ridge)** to reduce overfitting\n"
   ]
  },
  {
   "cell_type": "markdown",
   "metadata": {},
   "source": [
    "## Helpers 🦮\n",
    "\n",
    "To help you achieve this project, here are a few tips that should help you: \n",
    "\n",
    "### Part 1 : EDA and data preprocessing\n",
    "\n",
    "Start your project by exploring your dataset : create figures, compute some statistics etc...\n",
    "\n",
    "Then, you'll have to make some preprocessing on the dataset. You can follow the guidelines from the *preprocessing template*. There will also be some specific transformations to be planned on this dataset, for example on the *Date* column that can't be included as it is in the model. Below are some hints that might help you 🤓\n",
    "\n",
    " #### Preprocessing to be planned with pandas\n",
    "\n",
    " **Drop lines where target values are missing :**\n",
    " - Here, the target variable (Y) corresponds to the column *Weekly_Sales*. One can see above that there are some missing values in this column.\n",
    " - We never use imputation techniques on the target : it might create some bias in the predictions !\n",
    " - Then, we will just drop the lines in the dataset for which the value in *Weekly_Sales* is missing.\n",
    " \n",
    "**Create usable features from the *Date* column :**\n",
    "The *Date* column cannot be included as it is in the model. Either you can drop this column, or you will create new columns that contain the following numeric features : \n",
    "- *year*\n",
    "- *month*\n",
    "- *day*\n",
    "- *day of week*\n",
    "\n",
    "**Drop lines containing invalid values or outliers :**\n",
    "In this project, will be considered as outliers all the numeric features that don't fall within the range : $[\\bar{X} - 3\\sigma, \\bar{X} + 3\\sigma]$. This concerns the columns : *Temperature*, *Fuel_price*, *CPI* and *Unemployment*\n",
    " \n",
    "\n",
    "\n",
    "**Target variable/target (Y) that we will try to predict, to separate from the others** : *Weekly_Sales*\n",
    "\n",
    " **------------**\n",
    "\n",
    " #### Preprocessings to be planned with scikit-learn\n",
    "\n",
    " **Explanatory variables (X)**\n",
    "We need to identify which columns contain categorical variables and which columns contain numerical variables, as they will be treated differently.\n",
    "\n",
    " - Categorical variables : Store, Holiday_Flag\n",
    " - Numerical variables : Temperature, Fuel_Price, CPI, Unemployment, Year, Month, Day, DayOfWeek\n",
    "\n",
    "### Part 2 : Baseline model (linear regression)\n",
    "Once you've trained a first model, don't forget to assess its performances on the train and test sets. Are you satisfied with the results ?\n",
    "Besides, it would be interesting to analyze the values of the model's coefficients to know what features are important for the prediction. To do so, the `.coef_` attribute of scikit-learn's LinearRegression class might be useful. Please refer to the following link for more information 😉 https://scikit-learn.org/stable/modules/generated/sklearn.linear_model.LinearRegression.html\n",
    "\n",
    "### Part 3 : Fight overfitting\n",
    "In this last part, you'll have to train a **regularized linear regression model**. You'll find below some useful classes in scikit-learn's documentation :\n",
    "- https://scikit-learn.org/stable/modules/generated/sklearn.linear_model.Ridge.html#sklearn.linear_model.Ridge\n",
    "- https://scikit-learn.org/stable/modules/generated/sklearn.linear_model.Lasso.html#sklearn.linear_model.Lasso\n",
    "\n",
    "**Bonus question**\n",
    "\n",
    "In regularized regression models, there's a hyperparameter called *the regularization strength* that can be fine-tuned to get the best generalized predictions on a given dataset. This fine-tuning can be done thanks to scikit-learn's GridSearchCV class : https://scikit-learn.org/stable/modules/generated/sklearn.model_selection.GridSearchCV.html\n",
    "\n",
    "Also, you'll find here some examples of how to use GridSearchCV together with Ridge or Lasso models : https://alfurka.github.io/2018-11-18-grid-search/"
   ]
  },
  {
   "cell_type": "code",
   "execution_count": 1,
   "metadata": {},
   "outputs": [],
   "source": [
    "#Importing Libraries\n",
    "\n",
    "import pandas as pd\n",
    "from pandas_dq import dq_report\n",
    "import numpy as np\n",
    "import datetime\n",
    "\n",
    "import plotly.express as px\n",
    "import plotly.graph_objects as go\n",
    "import plotly.io as pio\n",
    "\n",
    "from sklearn.model_selection import train_test_split, GridSearchCV\n",
    "from sklearn.pipeline import Pipeline\n",
    "from sklearn.impute import SimpleImputer #, KNNImputer\n",
    "from sklearn.preprocessing import  OneHotEncoder, StandardScaler\n",
    "from sklearn.compose import ColumnTransformer\n",
    "from sklearn.linear_model import LinearRegression, Ridge, Lasso\n",
    "from sklearn.metrics import r2_score\n",
    "#from sklearn.model_selection import cross_val_score"
   ]
  },
  {
   "cell_type": "code",
   "execution_count": 2,
   "metadata": {},
   "outputs": [],
   "source": [
    "url = 'Walmart_Store_sales.csv'\n",
    "df = pd.read_csv(url)"
   ]
  },
  {
   "cell_type": "code",
   "execution_count": 3,
   "metadata": {},
   "outputs": [
    {
     "data": {
      "text/plain": [
       "(150, 8)"
      ]
     },
     "execution_count": 3,
     "metadata": {},
     "output_type": "execute_result"
    }
   ],
   "source": [
    "df.shape"
   ]
  },
  {
   "cell_type": "markdown",
   "metadata": {},
   "source": [
    "## LES DONNEES MANQUANTES"
   ]
  },
  {
   "cell_type": "code",
   "execution_count": 4,
   "metadata": {},
   "outputs": [
    {
     "data": {
      "text/html": [
       "<div>\n",
       "<style scoped>\n",
       "    .dataframe tbody tr th:only-of-type {\n",
       "        vertical-align: middle;\n",
       "    }\n",
       "\n",
       "    .dataframe tbody tr th {\n",
       "        vertical-align: top;\n",
       "    }\n",
       "\n",
       "    .dataframe thead th {\n",
       "        text-align: right;\n",
       "    }\n",
       "</style>\n",
       "<table border=\"1\" class=\"dataframe\">\n",
       "  <thead>\n",
       "    <tr style=\"text-align: center;\">\n",
       "      <th></th>\n",
       "      <th>Store</th>\n",
       "      <th>Date</th>\n",
       "      <th>Weekly_Sales</th>\n",
       "      <th>Holiday_Flag</th>\n",
       "      <th>Temperature</th>\n",
       "      <th>Fuel_Price</th>\n",
       "      <th>CPI</th>\n",
       "      <th>Unemployment</th>\n",
       "    </tr>\n",
       "  </thead>\n",
       "  <tbody>\n",
       "    <tr>\n",
       "      <th>0</th>\n",
       "      <td>6.0</td>\n",
       "      <td>18-02-2011</td>\n",
       "      <td>1572117.54</td>\n",
       "      <td>NaN</td>\n",
       "      <td>59.61</td>\n",
       "      <td>3.045</td>\n",
       "      <td>214.777523</td>\n",
       "      <td>6.858</td>\n",
       "    </tr>\n",
       "    <tr>\n",
       "      <th>1</th>\n",
       "      <td>13.0</td>\n",
       "      <td>25-03-2011</td>\n",
       "      <td>1807545.43</td>\n",
       "      <td>0.0</td>\n",
       "      <td>42.38</td>\n",
       "      <td>3.435</td>\n",
       "      <td>128.616064</td>\n",
       "      <td>7.470</td>\n",
       "    </tr>\n",
       "    <tr>\n",
       "      <th>2</th>\n",
       "      <td>17.0</td>\n",
       "      <td>27-07-2012</td>\n",
       "      <td>NaN</td>\n",
       "      <td>0.0</td>\n",
       "      <td>NaN</td>\n",
       "      <td>NaN</td>\n",
       "      <td>130.719581</td>\n",
       "      <td>5.936</td>\n",
       "    </tr>\n",
       "    <tr>\n",
       "      <th>3</th>\n",
       "      <td>11.0</td>\n",
       "      <td>NaN</td>\n",
       "      <td>1244390.03</td>\n",
       "      <td>0.0</td>\n",
       "      <td>84.57</td>\n",
       "      <td>NaN</td>\n",
       "      <td>214.556497</td>\n",
       "      <td>7.346</td>\n",
       "    </tr>\n",
       "    <tr>\n",
       "      <th>4</th>\n",
       "      <td>6.0</td>\n",
       "      <td>28-05-2010</td>\n",
       "      <td>1644470.66</td>\n",
       "      <td>0.0</td>\n",
       "      <td>78.89</td>\n",
       "      <td>2.759</td>\n",
       "      <td>212.412888</td>\n",
       "      <td>7.092</td>\n",
       "    </tr>\n",
       "  </tbody>\n",
       "</table>\n",
       "</div>"
      ],
      "text/plain": [
       "   Store     Date     Weekly_Sales  Holiday_Flag  Temperature  Fuel_Price  \\\n",
       "0   6.0   18-02-2011   1572117.54        NaN         59.61        3.045     \n",
       "1  13.0   25-03-2011   1807545.43        0.0         42.38        3.435     \n",
       "2  17.0   27-07-2012          NaN        0.0           NaN          NaN     \n",
       "3  11.0          NaN   1244390.03        0.0         84.57          NaN     \n",
       "4   6.0   28-05-2010   1644470.66        0.0         78.89        2.759     \n",
       "\n",
       "       CPI     Unemployment  \n",
       "0  214.777523      6.858     \n",
       "1  128.616064      7.470     \n",
       "2  130.719581      5.936     \n",
       "3  214.556497      7.346     \n",
       "4  212.412888      7.092     "
      ]
     },
     "execution_count": 4,
     "metadata": {},
     "output_type": "execute_result"
    }
   ],
   "source": [
    "df.head()"
   ]
  },
  {
   "cell_type": "code",
   "execution_count": 5,
   "metadata": {},
   "outputs": [
    {
     "data": {
      "text/plain": [
       "5"
      ]
     },
     "execution_count": 5,
     "metadata": {},
     "output_type": "execute_result"
    }
   ],
   "source": [
    "# Combien j'ai de lignes pour le store 12 ?\n",
    "df[df['Store'] == 12].shape[0]"
   ]
  },
  {
   "cell_type": "code",
   "execution_count": 6,
   "metadata": {},
   "outputs": [
    {
     "name": "stdout",
     "output_type": "stream",
     "text": [
      "    All variables classified into correct types.\n"
     ]
    },
    {
     "name": "stderr",
     "output_type": "stream",
     "text": [
      "C:\\Users\\dsgat\\AppData\\Local\\Temp\\ipykernel_38280\\1642941404.py:1: FutureWarning: DataFrame.applymap has been deprecated. Use DataFrame.map instead.\n",
      "  dq_report(df, verbose=1)\n"
     ]
    },
    {
     "data": {
      "text/html": [
       "<style type=\"text/css\">\n",
       "#T_27821_row0_col0, #T_27821_row0_col2, #T_27821_row0_col3, #T_27821_row0_col4, #T_27821_row0_col5, #T_27821_row1_col0, #T_27821_row1_col2, #T_27821_row1_col3, #T_27821_row1_col4, #T_27821_row1_col5, #T_27821_row2_col0, #T_27821_row2_col2, #T_27821_row2_col3, #T_27821_row2_col4, #T_27821_row2_col5, #T_27821_row3_col0, #T_27821_row3_col2, #T_27821_row3_col3, #T_27821_row3_col4, #T_27821_row3_col5, #T_27821_row4_col0, #T_27821_row4_col2, #T_27821_row4_col3, #T_27821_row4_col4, #T_27821_row4_col5, #T_27821_row5_col0, #T_27821_row5_col2, #T_27821_row5_col3, #T_27821_row5_col4, #T_27821_row5_col5, #T_27821_row6_col0, #T_27821_row6_col2, #T_27821_row6_col3, #T_27821_row6_col4, #T_27821_row6_col5, #T_27821_row7_col0, #T_27821_row7_col2, #T_27821_row7_col3, #T_27821_row7_col4, #T_27821_row7_col5 {\n",
       "  font-family: Segoe UI;\n",
       "}\n",
       "#T_27821_row0_col1 {\n",
       "  background-color: #fff5f0;\n",
       "  color: #000000;\n",
       "  font-family: Segoe UI;\n",
       "}\n",
       "#T_27821_row1_col1, #T_27821_row4_col1 {\n",
       "  background-color: #67000d;\n",
       "  color: #f1f1f1;\n",
       "  font-family: Segoe UI;\n",
       "}\n",
       "#T_27821_row2_col1, #T_27821_row5_col1 {\n",
       "  background-color: #c2161b;\n",
       "  color: #f1f1f1;\n",
       "  font-family: Segoe UI;\n",
       "}\n",
       "#T_27821_row3_col1, #T_27821_row6_col1 {\n",
       "  background-color: #e32f27;\n",
       "  color: #f1f1f1;\n",
       "  font-family: Segoe UI;\n",
       "}\n",
       "#T_27821_row7_col1 {\n",
       "  background-color: #b11218;\n",
       "  color: #f1f1f1;\n",
       "  font-family: Segoe UI;\n",
       "}\n",
       "</style>\n",
       "<table id=\"T_27821\">\n",
       "  <thead>\n",
       "    <tr>\n",
       "      <th class=\"blank level0\" >&nbsp;</th>\n",
       "      <th id=\"T_27821_level0_col0\" class=\"col_heading level0 col0\" >Data Type</th>\n",
       "      <th id=\"T_27821_level0_col1\" class=\"col_heading level0 col1\" >Missing Values%</th>\n",
       "      <th id=\"T_27821_level0_col2\" class=\"col_heading level0 col2\" >Unique Values%</th>\n",
       "      <th id=\"T_27821_level0_col3\" class=\"col_heading level0 col3\" >Minimum Value</th>\n",
       "      <th id=\"T_27821_level0_col4\" class=\"col_heading level0 col4\" >Maximum Value</th>\n",
       "      <th id=\"T_27821_level0_col5\" class=\"col_heading level0 col5\" >DQ Issue</th>\n",
       "    </tr>\n",
       "  </thead>\n",
       "  <tbody>\n",
       "    <tr>\n",
       "      <th id=\"T_27821_level0_row0\" class=\"row_heading level0 row0\" >Store</th>\n",
       "      <td id=\"T_27821_row0_col0\" class=\"data row0 col0\" >float64</td>\n",
       "      <td id=\"T_27821_row0_col1\" class=\"data row0 col1\" >0.000000</td>\n",
       "      <td id=\"T_27821_row0_col2\" class=\"data row0 col2\" >NA</td>\n",
       "      <td id=\"T_27821_row0_col3\" class=\"data row0 col3\" >1.000000</td>\n",
       "      <td id=\"T_27821_row0_col4\" class=\"data row0 col4\" >20.000000</td>\n",
       "      <td id=\"T_27821_row0_col5\" class=\"data row0 col5\" >No issue</td>\n",
       "    </tr>\n",
       "    <tr>\n",
       "      <th id=\"T_27821_level0_row1\" class=\"row_heading level0 row1\" >Date</th>\n",
       "      <td id=\"T_27821_row1_col0\" class=\"data row1 col0\" >object</td>\n",
       "      <td id=\"T_27821_row1_col1\" class=\"data row1 col1\" >12.000000</td>\n",
       "      <td id=\"T_27821_row1_col2\" class=\"data row1 col2\" >56</td>\n",
       "      <td id=\"T_27821_row1_col3\" class=\"data row1 col3\" ></td>\n",
       "      <td id=\"T_27821_row1_col4\" class=\"data row1 col4\" ></td>\n",
       "      <td id=\"T_27821_row1_col5\" class=\"data row1 col5\" >18 missing values. Impute them with mean, median, mode, or a constant value such as 123., 51 rare categories: Too many to list. Group them into a single category or drop the categories., Mixed dtypes: has 2 different data types:  object, float,</td>\n",
       "    </tr>\n",
       "    <tr>\n",
       "      <th id=\"T_27821_level0_row2\" class=\"row_heading level0 row2\" >Weekly_Sales</th>\n",
       "      <td id=\"T_27821_row2_col0\" class=\"data row2 col0\" >float64</td>\n",
       "      <td id=\"T_27821_row2_col1\" class=\"data row2 col1\" >9.333333</td>\n",
       "      <td id=\"T_27821_row2_col2\" class=\"data row2 col2\" >NA</td>\n",
       "      <td id=\"T_27821_row2_col3\" class=\"data row2 col3\" >268929.030000</td>\n",
       "      <td id=\"T_27821_row2_col4\" class=\"data row2 col4\" >2771397.170000</td>\n",
       "      <td id=\"T_27821_row2_col5\" class=\"data row2 col5\" >14 missing values. Impute them with mean, median, mode, or a constant value such as 123.</td>\n",
       "    </tr>\n",
       "    <tr>\n",
       "      <th id=\"T_27821_level0_row3\" class=\"row_heading level0 row3\" >Holiday_Flag</th>\n",
       "      <td id=\"T_27821_row3_col0\" class=\"data row3 col0\" >float64</td>\n",
       "      <td id=\"T_27821_row3_col1\" class=\"data row3 col1\" >8.000000</td>\n",
       "      <td id=\"T_27821_row3_col2\" class=\"data row3 col2\" >1</td>\n",
       "      <td id=\"T_27821_row3_col3\" class=\"data row3 col3\" ></td>\n",
       "      <td id=\"T_27821_row3_col4\" class=\"data row3 col4\" ></td>\n",
       "      <td id=\"T_27821_row3_col5\" class=\"data row3 col5\" >12 missing values. Impute them with mean, median, mode, or a constant value such as 123.</td>\n",
       "    </tr>\n",
       "    <tr>\n",
       "      <th id=\"T_27821_level0_row4\" class=\"row_heading level0 row4\" >Temperature</th>\n",
       "      <td id=\"T_27821_row4_col0\" class=\"data row4 col0\" >float64</td>\n",
       "      <td id=\"T_27821_row4_col1\" class=\"data row4 col1\" >12.000000</td>\n",
       "      <td id=\"T_27821_row4_col2\" class=\"data row4 col2\" >NA</td>\n",
       "      <td id=\"T_27821_row4_col3\" class=\"data row4 col3\" >18.790000</td>\n",
       "      <td id=\"T_27821_row4_col4\" class=\"data row4 col4\" >91.650000</td>\n",
       "      <td id=\"T_27821_row4_col5\" class=\"data row4 col5\" >18 missing values. Impute them with mean, median, mode, or a constant value such as 123.</td>\n",
       "    </tr>\n",
       "    <tr>\n",
       "      <th id=\"T_27821_level0_row5\" class=\"row_heading level0 row5\" >Fuel_Price</th>\n",
       "      <td id=\"T_27821_row5_col0\" class=\"data row5 col0\" >float64</td>\n",
       "      <td id=\"T_27821_row5_col1\" class=\"data row5 col1\" >9.333333</td>\n",
       "      <td id=\"T_27821_row5_col2\" class=\"data row5 col2\" >NA</td>\n",
       "      <td id=\"T_27821_row5_col3\" class=\"data row5 col3\" >2.514000</td>\n",
       "      <td id=\"T_27821_row5_col4\" class=\"data row5 col4\" >4.193000</td>\n",
       "      <td id=\"T_27821_row5_col5\" class=\"data row5 col5\" >14 missing values. Impute them with mean, median, mode, or a constant value such as 123.</td>\n",
       "    </tr>\n",
       "    <tr>\n",
       "      <th id=\"T_27821_level0_row6\" class=\"row_heading level0 row6\" >CPI</th>\n",
       "      <td id=\"T_27821_row6_col0\" class=\"data row6 col0\" >float64</td>\n",
       "      <td id=\"T_27821_row6_col1\" class=\"data row6 col1\" >8.000000</td>\n",
       "      <td id=\"T_27821_row6_col2\" class=\"data row6 col2\" >NA</td>\n",
       "      <td id=\"T_27821_row6_col3\" class=\"data row6 col3\" >126.111903</td>\n",
       "      <td id=\"T_27821_row6_col4\" class=\"data row6 col4\" >226.968844</td>\n",
       "      <td id=\"T_27821_row6_col5\" class=\"data row6 col5\" >12 missing values. Impute them with mean, median, mode, or a constant value such as 123.</td>\n",
       "    </tr>\n",
       "    <tr>\n",
       "      <th id=\"T_27821_level0_row7\" class=\"row_heading level0 row7\" >Unemployment</th>\n",
       "      <td id=\"T_27821_row7_col0\" class=\"data row7 col0\" >float64</td>\n",
       "      <td id=\"T_27821_row7_col1\" class=\"data row7 col1\" >10.000000</td>\n",
       "      <td id=\"T_27821_row7_col2\" class=\"data row7 col2\" >NA</td>\n",
       "      <td id=\"T_27821_row7_col3\" class=\"data row7 col3\" >5.143000</td>\n",
       "      <td id=\"T_27821_row7_col4\" class=\"data row7 col4\" >14.313000</td>\n",
       "      <td id=\"T_27821_row7_col5\" class=\"data row7 col5\" >15 missing values. Impute them with mean, median, mode, or a constant value such as 123., Column has 5 outliers greater than upper bound (10.48) or lower than lower bound(4.27). Cap them or remove them.</td>\n",
       "    </tr>\n",
       "  </tbody>\n",
       "</table>\n"
      ],
      "text/plain": [
       "<pandas.io.formats.style.Styler at 0x22f937dc950>"
      ]
     },
     "metadata": {},
     "output_type": "display_data"
    },
    {
     "data": {
      "text/html": [
       "<div>\n",
       "<style scoped>\n",
       "    .dataframe tbody tr th:only-of-type {\n",
       "        vertical-align: middle;\n",
       "    }\n",
       "\n",
       "    .dataframe tbody tr th {\n",
       "        vertical-align: top;\n",
       "    }\n",
       "\n",
       "    .dataframe thead th {\n",
       "        text-align: right;\n",
       "    }\n",
       "</style>\n",
       "<table border=\"1\" class=\"dataframe\">\n",
       "  <thead>\n",
       "    <tr style=\"text-align: center;\">\n",
       "      <th></th>\n",
       "      <th>Data Type</th>\n",
       "      <th>Missing Values%</th>\n",
       "      <th>Unique Values%</th>\n",
       "      <th>Minimum Value</th>\n",
       "      <th>Maximum Value</th>\n",
       "      <th>DQ Issue</th>\n",
       "    </tr>\n",
       "  </thead>\n",
       "  <tbody>\n",
       "    <tr>\n",
       "      <th>Store</th>\n",
       "      <td>float64</td>\n",
       "      <td>0.000000</td>\n",
       "      <td>NA</td>\n",
       "      <td>1.0</td>\n",
       "      <td>20.0</td>\n",
       "      <td>No issue</td>\n",
       "    </tr>\n",
       "    <tr>\n",
       "      <th>Date</th>\n",
       "      <td>object</td>\n",
       "      <td>12.000000</td>\n",
       "      <td>56</td>\n",
       "      <td></td>\n",
       "      <td></td>\n",
       "      <td>18 missing values. Impute them with mean, median, mode, or a constant value such as 123., 51 rare categories: Too many to list. Group them into a single category or drop the categories., Mixed dtypes: has 2 different data types:  object, float,</td>\n",
       "    </tr>\n",
       "    <tr>\n",
       "      <th>Weekly_Sales</th>\n",
       "      <td>float64</td>\n",
       "      <td>9.333333</td>\n",
       "      <td>NA</td>\n",
       "      <td>268929.03</td>\n",
       "      <td>2771397.17</td>\n",
       "      <td>14 missing values. Impute them with mean, median, mode, or a constant value such as 123.</td>\n",
       "    </tr>\n",
       "    <tr>\n",
       "      <th>Holiday_Flag</th>\n",
       "      <td>float64</td>\n",
       "      <td>8.000000</td>\n",
       "      <td>1</td>\n",
       "      <td></td>\n",
       "      <td></td>\n",
       "      <td>12 missing values. Impute them with mean, median, mode, or a constant value such as 123.</td>\n",
       "    </tr>\n",
       "    <tr>\n",
       "      <th>Temperature</th>\n",
       "      <td>float64</td>\n",
       "      <td>12.000000</td>\n",
       "      <td>NA</td>\n",
       "      <td>18.79</td>\n",
       "      <td>91.65</td>\n",
       "      <td>18 missing values. Impute them with mean, median, mode, or a constant value such as 123.</td>\n",
       "    </tr>\n",
       "    <tr>\n",
       "      <th>Fuel_Price</th>\n",
       "      <td>float64</td>\n",
       "      <td>9.333333</td>\n",
       "      <td>NA</td>\n",
       "      <td>2.514</td>\n",
       "      <td>4.193</td>\n",
       "      <td>14 missing values. Impute them with mean, median, mode, or a constant value such as 123.</td>\n",
       "    </tr>\n",
       "    <tr>\n",
       "      <th>CPI</th>\n",
       "      <td>float64</td>\n",
       "      <td>8.000000</td>\n",
       "      <td>NA</td>\n",
       "      <td>126.111903</td>\n",
       "      <td>226.968844</td>\n",
       "      <td>12 missing values. Impute them with mean, median, mode, or a constant value such as 123.</td>\n",
       "    </tr>\n",
       "    <tr>\n",
       "      <th>Unemployment</th>\n",
       "      <td>float64</td>\n",
       "      <td>10.000000</td>\n",
       "      <td>NA</td>\n",
       "      <td>5.143</td>\n",
       "      <td>14.313</td>\n",
       "      <td>15 missing values. Impute them with mean, median, mode, or a constant value such as 123., Column has 5 outliers greater than upper bound (10.48) or lower than lower bound(4.27). Cap them or remove them.</td>\n",
       "    </tr>\n",
       "  </tbody>\n",
       "</table>\n",
       "</div>"
      ],
      "text/plain": [
       "             Data Type  Missing Values% Unique Values% Minimum Value  \\\n",
       "Store          float64      0.000000          NA                1.0    \n",
       "Date            object     12.000000          56                       \n",
       "Weekly_Sales   float64      9.333333          NA          268929.03    \n",
       "Holiday_Flag   float64      8.000000           1                       \n",
       "Temperature    float64     12.000000          NA              18.79    \n",
       "Fuel_Price     float64      9.333333          NA              2.514    \n",
       "CPI            float64      8.000000          NA         126.111903    \n",
       "Unemployment   float64     10.000000          NA              5.143    \n",
       "\n",
       "             Maximum Value  \\\n",
       "Store                20.0    \n",
       "Date                         \n",
       "Weekly_Sales   2771397.17    \n",
       "Holiday_Flag                 \n",
       "Temperature         91.65    \n",
       "Fuel_Price          4.193    \n",
       "CPI            226.968844    \n",
       "Unemployment       14.313    \n",
       "\n",
       "                                                                                                                                    DQ Issue                                                                                                                        \n",
       "Store                                                                                                                                                                                                                                                     No issue  \n",
       "Date          18 missing values. Impute them with mean, median, mode, or a constant value such as 123., 51 rare categories: Too many to list. Group them into a single category or drop the categories., Mixed dtypes: has 2 different data types:  object, float,  \n",
       "Weekly_Sales                                                                                                                                                              14 missing values. Impute them with mean, median, mode, or a constant value such as 123.  \n",
       "Holiday_Flag                                                                                                                                                              12 missing values. Impute them with mean, median, mode, or a constant value such as 123.  \n",
       "Temperature                                                                                                                                                               18 missing values. Impute them with mean, median, mode, or a constant value such as 123.  \n",
       "Fuel_Price                                                                                                                                                                14 missing values. Impute them with mean, median, mode, or a constant value such as 123.  \n",
       "CPI                                                                                                                                                                       12 missing values. Impute them with mean, median, mode, or a constant value such as 123.  \n",
       "Unemployment                                            15 missing values. Impute them with mean, median, mode, or a constant value such as 123., Column has 5 outliers greater than upper bound (10.48) or lower than lower bound(4.27). Cap them or remove them.  "
      ]
     },
     "execution_count": 6,
     "metadata": {},
     "output_type": "execute_result"
    }
   ],
   "source": [
    "dq_report(df, verbose=1)"
   ]
  },
  {
   "cell_type": "code",
   "execution_count": 7,
   "metadata": {},
   "outputs": [
    {
     "name": "stdout",
     "output_type": "stream",
     "text": [
      "<class 'pandas.core.frame.DataFrame'>\n",
      "RangeIndex: 150 entries, 0 to 149\n",
      "Data columns (total 8 columns):\n",
      " #   Column        Non-Null Count  Dtype  \n",
      "---  ------        --------------  -----  \n",
      " 0   Store         150 non-null    float64\n",
      " 1   Date          132 non-null    object \n",
      " 2   Weekly_Sales  136 non-null    float64\n",
      " 3   Holiday_Flag  138 non-null    float64\n",
      " 4   Temperature   132 non-null    float64\n",
      " 5   Fuel_Price    136 non-null    float64\n",
      " 6   CPI           138 non-null    float64\n",
      " 7   Unemployment  135 non-null    float64\n",
      "dtypes: float64(7), object(1)\n",
      "memory usage: 9.5+ KB\n"
     ]
    }
   ],
   "source": [
    "df.info()"
   ]
  },
  {
   "cell_type": "code",
   "execution_count": 8,
   "metadata": {},
   "outputs": [
    {
     "data": {
      "text/plain": [
       "5"
      ]
     },
     "execution_count": 8,
     "metadata": {},
     "output_type": "execute_result"
    }
   ],
   "source": [
    "# Combien j'ai de lignes pour le store 12 ?\n",
    "df[df['Store'] == 12].shape[0]"
   ]
  },
  {
   "cell_type": "markdown",
   "metadata": {},
   "source": [
    "## TRAITEMENT DES DONNEES MANQUANTES"
   ]
  },
  {
   "cell_type": "code",
   "execution_count": 9,
   "metadata": {},
   "outputs": [],
   "source": [
    "#supprimer les valeurs manquantes de la target\n",
    "df.dropna(subset=['Weekly_Sales'], inplace=True)"
   ]
  },
  {
   "cell_type": "code",
   "execution_count": 10,
   "metadata": {},
   "outputs": [
    {
     "data": {
      "text/plain": [
       "5"
      ]
     },
     "execution_count": 10,
     "metadata": {},
     "output_type": "execute_result"
    }
   ],
   "source": [
    "# Combien j'ai de lignes pour le store 12 ?\n",
    "df[df['Store'] == 12].shape[0]"
   ]
  },
  {
   "cell_type": "code",
   "execution_count": 11,
   "metadata": {},
   "outputs": [
    {
     "name": "stdout",
     "output_type": "stream",
     "text": [
      "0\n"
     ]
    }
   ],
   "source": [
    "# voir si il y a des valeurs manques sur \"weekly_sales\"\n",
    "print(df['Weekly_Sales'].isnull().sum())"
   ]
  },
  {
   "cell_type": "code",
   "execution_count": 12,
   "metadata": {},
   "outputs": [
    {
     "data": {
      "text/plain": [
       "(136, 8)"
      ]
     },
     "execution_count": 12,
     "metadata": {},
     "output_type": "execute_result"
    }
   ],
   "source": [
    "df.shape"
   ]
  },
  {
   "cell_type": "markdown",
   "metadata": {},
   "source": [
    "## TRAITEMENT DES VALEURS NEGATIVE - ABERRANTES - OUTLIERS"
   ]
  },
  {
   "cell_type": "code",
   "execution_count": 13,
   "metadata": {},
   "outputs": [],
   "source": [
    "# Processing date as proper datetime format\n",
    "df['Date'] = pd.to_datetime(df['Date'], dayfirst=True)"
   ]
  },
  {
   "cell_type": "code",
   "execution_count": 14,
   "metadata": {},
   "outputs": [
    {
     "data": {
      "text/plain": [
       "(136, 8)"
      ]
     },
     "execution_count": 14,
     "metadata": {},
     "output_type": "execute_result"
    }
   ],
   "source": [
    "df.shape"
   ]
  },
  {
   "cell_type": "code",
   "execution_count": 15,
   "metadata": {},
   "outputs": [],
   "source": [
    "# créer de nouvelles colonnes pour l'année, le mois et le jour\n",
    "df['Year'] = df['Date'].dt.year\n",
    "df['Month'] = df['Date'].dt.month\n",
    "df['Day'] = df['Date'].dt.day"
   ]
  },
  {
   "cell_type": "code",
   "execution_count": 16,
   "metadata": {},
   "outputs": [
    {
     "data": {
      "text/plain": [
       "(136, 11)"
      ]
     },
     "execution_count": 16,
     "metadata": {},
     "output_type": "execute_result"
    }
   ],
   "source": [
    "df.shape"
   ]
  },
  {
   "cell_type": "code",
   "execution_count": 17,
   "metadata": {},
   "outputs": [],
   "source": [
    "# converting temperature from fahrenheit to celsius\n",
    "df['Temperature'] = round((df['Temperature']-32)*5/9 ,1)"
   ]
  },
  {
   "cell_type": "code",
   "execution_count": 18,
   "metadata": {},
   "outputs": [
    {
     "data": {
      "text/plain": [
       "(136, 11)"
      ]
     },
     "execution_count": 18,
     "metadata": {},
     "output_type": "execute_result"
    }
   ],
   "source": [
    "df.shape"
   ]
  },
  {
   "cell_type": "code",
   "execution_count": 19,
   "metadata": {},
   "outputs": [
    {
     "data": {
      "text/html": [
       "<div>\n",
       "<style scoped>\n",
       "    .dataframe tbody tr th:only-of-type {\n",
       "        vertical-align: middle;\n",
       "    }\n",
       "\n",
       "    .dataframe tbody tr th {\n",
       "        vertical-align: top;\n",
       "    }\n",
       "\n",
       "    .dataframe thead th {\n",
       "        text-align: right;\n",
       "    }\n",
       "</style>\n",
       "<table border=\"1\" class=\"dataframe\">\n",
       "  <thead>\n",
       "    <tr style=\"text-align: center;\">\n",
       "      <th></th>\n",
       "      <th>Store</th>\n",
       "      <th>Date</th>\n",
       "      <th>Weekly_Sales</th>\n",
       "      <th>Holiday_Flag</th>\n",
       "      <th>Temperature</th>\n",
       "      <th>Fuel_Price</th>\n",
       "      <th>CPI</th>\n",
       "      <th>Unemployment</th>\n",
       "      <th>Year</th>\n",
       "      <th>Month</th>\n",
       "      <th>Day</th>\n",
       "    </tr>\n",
       "  </thead>\n",
       "  <tbody>\n",
       "    <tr>\n",
       "      <th>3</th>\n",
       "      <td>11.0</td>\n",
       "      <td>NaT</td>\n",
       "      <td>1244390.03</td>\n",
       "      <td>0.0</td>\n",
       "      <td>29.2</td>\n",
       "      <td>NaN</td>\n",
       "      <td>214.556497</td>\n",
       "      <td>7.346</td>\n",
       "      <td>NaN</td>\n",
       "      <td>NaN</td>\n",
       "      <td>NaN</td>\n",
       "    </tr>\n",
       "    <tr>\n",
       "      <th>9</th>\n",
       "      <td>3.0</td>\n",
       "      <td>NaT</td>\n",
       "      <td>418925.47</td>\n",
       "      <td>0.0</td>\n",
       "      <td>15.6</td>\n",
       "      <td>3.555</td>\n",
       "      <td>224.132020</td>\n",
       "      <td>6.833</td>\n",
       "      <td>NaN</td>\n",
       "      <td>NaN</td>\n",
       "      <td>NaN</td>\n",
       "    </tr>\n",
       "    <tr>\n",
       "      <th>17</th>\n",
       "      <td>18.0</td>\n",
       "      <td>NaT</td>\n",
       "      <td>1205307.50</td>\n",
       "      <td>0.0</td>\n",
       "      <td>-5.9</td>\n",
       "      <td>2.788</td>\n",
       "      <td>131.527903</td>\n",
       "      <td>9.202</td>\n",
       "      <td>NaN</td>\n",
       "      <td>NaN</td>\n",
       "      <td>NaN</td>\n",
       "    </tr>\n",
       "    <tr>\n",
       "      <th>34</th>\n",
       "      <td>2.0</td>\n",
       "      <td>NaT</td>\n",
       "      <td>1853161.99</td>\n",
       "      <td>0.0</td>\n",
       "      <td>30.9</td>\n",
       "      <td>3.480</td>\n",
       "      <td>214.929625</td>\n",
       "      <td>NaN</td>\n",
       "      <td>NaN</td>\n",
       "      <td>NaN</td>\n",
       "      <td>NaN</td>\n",
       "    </tr>\n",
       "    <tr>\n",
       "      <th>42</th>\n",
       "      <td>1.0</td>\n",
       "      <td>NaT</td>\n",
       "      <td>1661767.33</td>\n",
       "      <td>1.0</td>\n",
       "      <td>NaN</td>\n",
       "      <td>3.730</td>\n",
       "      <td>222.439015</td>\n",
       "      <td>6.908</td>\n",
       "      <td>NaN</td>\n",
       "      <td>NaN</td>\n",
       "      <td>NaN</td>\n",
       "    </tr>\n",
       "    <tr>\n",
       "      <th>65</th>\n",
       "      <td>10.0</td>\n",
       "      <td>NaT</td>\n",
       "      <td>1714309.90</td>\n",
       "      <td>NaN</td>\n",
       "      <td>6.4</td>\n",
       "      <td>3.287</td>\n",
       "      <td>127.191774</td>\n",
       "      <td>8.744</td>\n",
       "      <td>NaN</td>\n",
       "      <td>NaN</td>\n",
       "      <td>NaN</td>\n",
       "    </tr>\n",
       "    <tr>\n",
       "      <th>81</th>\n",
       "      <td>5.0</td>\n",
       "      <td>NaT</td>\n",
       "      <td>359206.21</td>\n",
       "      <td>0.0</td>\n",
       "      <td>NaN</td>\n",
       "      <td>3.630</td>\n",
       "      <td>221.434215</td>\n",
       "      <td>5.943</td>\n",
       "      <td>NaN</td>\n",
       "      <td>NaN</td>\n",
       "      <td>NaN</td>\n",
       "    </tr>\n",
       "    <tr>\n",
       "      <th>82</th>\n",
       "      <td>11.0</td>\n",
       "      <td>NaT</td>\n",
       "      <td>1569607.94</td>\n",
       "      <td>0.0</td>\n",
       "      <td>11.5</td>\n",
       "      <td>3.510</td>\n",
       "      <td>223.917015</td>\n",
       "      <td>6.833</td>\n",
       "      <td>NaN</td>\n",
       "      <td>NaN</td>\n",
       "      <td>NaN</td>\n",
       "    </tr>\n",
       "    <tr>\n",
       "      <th>83</th>\n",
       "      <td>15.0</td>\n",
       "      <td>NaT</td>\n",
       "      <td>607475.44</td>\n",
       "      <td>0.0</td>\n",
       "      <td>26.6</td>\n",
       "      <td>3.972</td>\n",
       "      <td>135.873839</td>\n",
       "      <td>7.806</td>\n",
       "      <td>NaN</td>\n",
       "      <td>NaN</td>\n",
       "      <td>NaN</td>\n",
       "    </tr>\n",
       "    <tr>\n",
       "      <th>86</th>\n",
       "      <td>17.0</td>\n",
       "      <td>NaT</td>\n",
       "      <td>986922.62</td>\n",
       "      <td>0.0</td>\n",
       "      <td>NaN</td>\n",
       "      <td>3.793</td>\n",
       "      <td>131.037548</td>\n",
       "      <td>6.235</td>\n",
       "      <td>NaN</td>\n",
       "      <td>NaN</td>\n",
       "      <td>NaN</td>\n",
       "    </tr>\n",
       "    <tr>\n",
       "      <th>88</th>\n",
       "      <td>20.0</td>\n",
       "      <td>NaT</td>\n",
       "      <td>2045837.55</td>\n",
       "      <td>0.0</td>\n",
       "      <td>4.3</td>\n",
       "      <td>3.739</td>\n",
       "      <td>213.472512</td>\n",
       "      <td>6.961</td>\n",
       "      <td>NaN</td>\n",
       "      <td>NaN</td>\n",
       "      <td>NaN</td>\n",
       "    </tr>\n",
       "    <tr>\n",
       "      <th>89</th>\n",
       "      <td>2.0</td>\n",
       "      <td>NaT</td>\n",
       "      <td>1797732.56</td>\n",
       "      <td>0.0</td>\n",
       "      <td>24.7</td>\n",
       "      <td>3.786</td>\n",
       "      <td>215.154482</td>\n",
       "      <td>7.931</td>\n",
       "      <td>NaN</td>\n",
       "      <td>NaN</td>\n",
       "      <td>NaN</td>\n",
       "    </tr>\n",
       "    <tr>\n",
       "      <th>91</th>\n",
       "      <td>17.0</td>\n",
       "      <td>NaT</td>\n",
       "      <td>1046782.52</td>\n",
       "      <td>0.0</td>\n",
       "      <td>20.5</td>\n",
       "      <td>3.630</td>\n",
       "      <td>NaN</td>\n",
       "      <td>5.936</td>\n",
       "      <td>NaN</td>\n",
       "      <td>NaN</td>\n",
       "      <td>NaN</td>\n",
       "    </tr>\n",
       "    <tr>\n",
       "      <th>92</th>\n",
       "      <td>3.0</td>\n",
       "      <td>NaT</td>\n",
       "      <td>384200.69</td>\n",
       "      <td>0.0</td>\n",
       "      <td>NaN</td>\n",
       "      <td>2.667</td>\n",
       "      <td>214.702765</td>\n",
       "      <td>NaN</td>\n",
       "      <td>NaN</td>\n",
       "      <td>NaN</td>\n",
       "      <td>NaN</td>\n",
       "    </tr>\n",
       "    <tr>\n",
       "      <th>102</th>\n",
       "      <td>18.0</td>\n",
       "      <td>NaT</td>\n",
       "      <td>1087051.26</td>\n",
       "      <td>0.0</td>\n",
       "      <td>21.0</td>\n",
       "      <td>3.815</td>\n",
       "      <td>135.446800</td>\n",
       "      <td>8.890</td>\n",
       "      <td>NaN</td>\n",
       "      <td>NaN</td>\n",
       "      <td>NaN</td>\n",
       "    </tr>\n",
       "    <tr>\n",
       "      <th>129</th>\n",
       "      <td>18.0</td>\n",
       "      <td>NaT</td>\n",
       "      <td>1048134.24</td>\n",
       "      <td>0.0</td>\n",
       "      <td>22.9</td>\n",
       "      <td>3.840</td>\n",
       "      <td>138.185710</td>\n",
       "      <td>8.535</td>\n",
       "      <td>NaN</td>\n",
       "      <td>NaN</td>\n",
       "      <td>NaN</td>\n",
       "    </tr>\n",
       "    <tr>\n",
       "      <th>137</th>\n",
       "      <td>10.0</td>\n",
       "      <td>NaT</td>\n",
       "      <td>1831676.03</td>\n",
       "      <td>0.0</td>\n",
       "      <td>31.4</td>\n",
       "      <td>3.112</td>\n",
       "      <td>126.128355</td>\n",
       "      <td>9.199</td>\n",
       "      <td>NaN</td>\n",
       "      <td>NaN</td>\n",
       "      <td>NaN</td>\n",
       "    </tr>\n",
       "    <tr>\n",
       "      <th>146</th>\n",
       "      <td>7.0</td>\n",
       "      <td>NaT</td>\n",
       "      <td>716388.81</td>\n",
       "      <td>NaN</td>\n",
       "      <td>-6.3</td>\n",
       "      <td>2.778</td>\n",
       "      <td>NaN</td>\n",
       "      <td>NaN</td>\n",
       "      <td>NaN</td>\n",
       "      <td>NaN</td>\n",
       "      <td>NaN</td>\n",
       "    </tr>\n",
       "  </tbody>\n",
       "</table>\n",
       "</div>"
      ],
      "text/plain": [
       "     Store Date  Weekly_Sales  Holiday_Flag  Temperature  Fuel_Price  \\\n",
       "3    11.0  NaT    1244390.03        0.0         29.2           NaN     \n",
       "9     3.0  NaT     418925.47        0.0         15.6         3.555     \n",
       "17   18.0  NaT    1205307.50        0.0         -5.9         2.788     \n",
       "34    2.0  NaT    1853161.99        0.0         30.9         3.480     \n",
       "42    1.0  NaT    1661767.33        1.0          NaN         3.730     \n",
       "65   10.0  NaT    1714309.90        NaN          6.4         3.287     \n",
       "81    5.0  NaT     359206.21        0.0          NaN         3.630     \n",
       "82   11.0  NaT    1569607.94        0.0         11.5         3.510     \n",
       "83   15.0  NaT     607475.44        0.0         26.6         3.972     \n",
       "86   17.0  NaT     986922.62        0.0          NaN         3.793     \n",
       "88   20.0  NaT    2045837.55        0.0          4.3         3.739     \n",
       "89    2.0  NaT    1797732.56        0.0         24.7         3.786     \n",
       "91   17.0  NaT    1046782.52        0.0         20.5         3.630     \n",
       "92    3.0  NaT     384200.69        0.0          NaN         2.667     \n",
       "102  18.0  NaT    1087051.26        0.0         21.0         3.815     \n",
       "129  18.0  NaT    1048134.24        0.0         22.9         3.840     \n",
       "137  10.0  NaT    1831676.03        0.0         31.4         3.112     \n",
       "146   7.0  NaT     716388.81        NaN         -6.3         2.778     \n",
       "\n",
       "         CPI     Unemployment  Year  Month  Day  \n",
       "3    214.556497      7.346     NaN   NaN   NaN   \n",
       "9    224.132020      6.833     NaN   NaN   NaN   \n",
       "17   131.527903      9.202     NaN   NaN   NaN   \n",
       "34   214.929625        NaN     NaN   NaN   NaN   \n",
       "42   222.439015      6.908     NaN   NaN   NaN   \n",
       "65   127.191774      8.744     NaN   NaN   NaN   \n",
       "81   221.434215      5.943     NaN   NaN   NaN   \n",
       "82   223.917015      6.833     NaN   NaN   NaN   \n",
       "83   135.873839      7.806     NaN   NaN   NaN   \n",
       "86   131.037548      6.235     NaN   NaN   NaN   \n",
       "88   213.472512      6.961     NaN   NaN   NaN   \n",
       "89   215.154482      7.931     NaN   NaN   NaN   \n",
       "91          NaN      5.936     NaN   NaN   NaN   \n",
       "92   214.702765        NaN     NaN   NaN   NaN   \n",
       "102  135.446800      8.890     NaN   NaN   NaN   \n",
       "129  138.185710      8.535     NaN   NaN   NaN   \n",
       "137  126.128355      9.199     NaN   NaN   NaN   \n",
       "146         NaN        NaN     NaN   NaN   NaN   "
      ]
     },
     "execution_count": 19,
     "metadata": {},
     "output_type": "execute_result"
    }
   ],
   "source": [
    "# montrer les lignes sans date\n",
    "df[df['Date'].isnull()]"
   ]
  },
  {
   "cell_type": "markdown",
   "metadata": {},
   "source": [
    "# Peut-on rapprocher certaines dates manquantes avec le taux de chomage national ou le taux d'inflation ?"
   ]
  },
  {
   "cell_type": "code",
   "execution_count": 20,
   "metadata": {},
   "outputs": [
    {
     "data": {
      "text/html": [
       "<div>\n",
       "<style scoped>\n",
       "    .dataframe tbody tr th:only-of-type {\n",
       "        vertical-align: middle;\n",
       "    }\n",
       "\n",
       "    .dataframe tbody tr th {\n",
       "        vertical-align: top;\n",
       "    }\n",
       "\n",
       "    .dataframe thead th {\n",
       "        text-align: right;\n",
       "    }\n",
       "</style>\n",
       "<table border=\"1\" class=\"dataframe\">\n",
       "  <thead>\n",
       "    <tr style=\"text-align: center;\">\n",
       "      <th></th>\n",
       "      <th>Store</th>\n",
       "      <th>Date</th>\n",
       "      <th>Weekly_Sales</th>\n",
       "      <th>Holiday_Flag</th>\n",
       "      <th>Temperature</th>\n",
       "      <th>Fuel_Price</th>\n",
       "      <th>CPI</th>\n",
       "      <th>Unemployment</th>\n",
       "      <th>Year</th>\n",
       "      <th>Month</th>\n",
       "      <th>Day</th>\n",
       "    </tr>\n",
       "  </thead>\n",
       "  <tbody>\n",
       "    <tr>\n",
       "      <th>147</th>\n",
       "      <td>17.0</td>\n",
       "      <td>2010-06-11</td>\n",
       "      <td>845252.21</td>\n",
       "      <td>0.0</td>\n",
       "      <td>14.0</td>\n",
       "      <td>2.841</td>\n",
       "      <td>126.111903</td>\n",
       "      <td>NaN</td>\n",
       "      <td>2010.0</td>\n",
       "      <td>6.0</td>\n",
       "      <td>11.0</td>\n",
       "    </tr>\n",
       "    <tr>\n",
       "      <th>135</th>\n",
       "      <td>12.0</td>\n",
       "      <td>2010-09-10</td>\n",
       "      <td>903119.03</td>\n",
       "      <td>1.0</td>\n",
       "      <td>28.7</td>\n",
       "      <td>3.044</td>\n",
       "      <td>126.114581</td>\n",
       "      <td>14.180</td>\n",
       "      <td>2010.0</td>\n",
       "      <td>9.0</td>\n",
       "      <td>10.0</td>\n",
       "    </tr>\n",
       "    <tr>\n",
       "      <th>98</th>\n",
       "      <td>10.0</td>\n",
       "      <td>2010-06-25</td>\n",
       "      <td>1768172.31</td>\n",
       "      <td>0.0</td>\n",
       "      <td>32.4</td>\n",
       "      <td>NaN</td>\n",
       "      <td>126.126600</td>\n",
       "      <td>9.524</td>\n",
       "      <td>2010.0</td>\n",
       "      <td>6.0</td>\n",
       "      <td>25.0</td>\n",
       "    </tr>\n",
       "    <tr>\n",
       "      <th>137</th>\n",
       "      <td>10.0</td>\n",
       "      <td>NaT</td>\n",
       "      <td>1831676.03</td>\n",
       "      <td>0.0</td>\n",
       "      <td>31.4</td>\n",
       "      <td>3.112</td>\n",
       "      <td>126.128355</td>\n",
       "      <td>9.199</td>\n",
       "      <td>NaN</td>\n",
       "      <td>NaN</td>\n",
       "      <td>NaN</td>\n",
       "    </tr>\n",
       "    <tr>\n",
       "      <th>99</th>\n",
       "      <td>13.0</td>\n",
       "      <td>2010-07-02</td>\n",
       "      <td>2018314.71</td>\n",
       "      <td>0.0</td>\n",
       "      <td>26.0</td>\n",
       "      <td>2.814</td>\n",
       "      <td>126.139200</td>\n",
       "      <td>7.951</td>\n",
       "      <td>2010.0</td>\n",
       "      <td>7.0</td>\n",
       "      <td>2.0</td>\n",
       "    </tr>\n",
       "    <tr>\n",
       "      <th>5</th>\n",
       "      <td>4.0</td>\n",
       "      <td>2010-05-28</td>\n",
       "      <td>1857533.70</td>\n",
       "      <td>0.0</td>\n",
       "      <td>NaN</td>\n",
       "      <td>2.756</td>\n",
       "      <td>126.160226</td>\n",
       "      <td>7.896</td>\n",
       "      <td>2010.0</td>\n",
       "      <td>5.0</td>\n",
       "      <td>28.0</td>\n",
       "    </tr>\n",
       "    <tr>\n",
       "      <th>14</th>\n",
       "      <td>17.0</td>\n",
       "      <td>2010-10-01</td>\n",
       "      <td>829207.27</td>\n",
       "      <td>0.0</td>\n",
       "      <td>15.6</td>\n",
       "      <td>2.853</td>\n",
       "      <td>126.234600</td>\n",
       "      <td>6.885</td>\n",
       "      <td>2010.0</td>\n",
       "      <td>10.0</td>\n",
       "      <td>1.0</td>\n",
       "    </tr>\n",
       "    <tr>\n",
       "      <th>131</th>\n",
       "      <td>17.0</td>\n",
       "      <td>2010-11-12</td>\n",
       "      <td>855459.96</td>\n",
       "      <td>0.0</td>\n",
       "      <td>NaN</td>\n",
       "      <td>2.831</td>\n",
       "      <td>126.546161</td>\n",
       "      <td>NaN</td>\n",
       "      <td>2010.0</td>\n",
       "      <td>11.0</td>\n",
       "      <td>12.0</td>\n",
       "    </tr>\n",
       "    <tr>\n",
       "      <th>28</th>\n",
       "      <td>17.0</td>\n",
       "      <td>2010-04-16</td>\n",
       "      <td>757738.76</td>\n",
       "      <td>0.0</td>\n",
       "      <td>7.3</td>\n",
       "      <td>2.915</td>\n",
       "      <td>126.562100</td>\n",
       "      <td>6.635</td>\n",
       "      <td>2010.0</td>\n",
       "      <td>4.0</td>\n",
       "      <td>16.0</td>\n",
       "    </tr>\n",
       "    <tr>\n",
       "      <th>103</th>\n",
       "      <td>4.0</td>\n",
       "      <td>2010-12-10</td>\n",
       "      <td>2302504.86</td>\n",
       "      <td>0.0</td>\n",
       "      <td>5.8</td>\n",
       "      <td>2.860</td>\n",
       "      <td>126.793400</td>\n",
       "      <td>7.127</td>\n",
       "      <td>2010.0</td>\n",
       "      <td>12.0</td>\n",
       "      <td>10.0</td>\n",
       "    </tr>\n",
       "    <tr>\n",
       "      <th>72</th>\n",
       "      <td>13.0</td>\n",
       "      <td>2010-12-10</td>\n",
       "      <td>2461468.35</td>\n",
       "      <td>0.0</td>\n",
       "      <td>2.7</td>\n",
       "      <td>2.817</td>\n",
       "      <td>126.793400</td>\n",
       "      <td>7.795</td>\n",
       "      <td>2010.0</td>\n",
       "      <td>12.0</td>\n",
       "      <td>10.0</td>\n",
       "    </tr>\n",
       "    <tr>\n",
       "      <th>62</th>\n",
       "      <td>12.0</td>\n",
       "      <td>2010-12-17</td>\n",
       "      <td>1295605.35</td>\n",
       "      <td>0.0</td>\n",
       "      <td>11.5</td>\n",
       "      <td>3.236</td>\n",
       "      <td>126.879484</td>\n",
       "      <td>14.313</td>\n",
       "      <td>2010.0</td>\n",
       "      <td>12.0</td>\n",
       "      <td>17.0</td>\n",
       "    </tr>\n",
       "    <tr>\n",
       "      <th>65</th>\n",
       "      <td>10.0</td>\n",
       "      <td>NaT</td>\n",
       "      <td>1714309.90</td>\n",
       "      <td>NaN</td>\n",
       "      <td>6.4</td>\n",
       "      <td>3.287</td>\n",
       "      <td>127.191774</td>\n",
       "      <td>8.744</td>\n",
       "      <td>NaN</td>\n",
       "      <td>NaN</td>\n",
       "      <td>NaN</td>\n",
       "    </tr>\n",
       "    <tr>\n",
       "      <th>1</th>\n",
       "      <td>13.0</td>\n",
       "      <td>2011-03-25</td>\n",
       "      <td>1807545.43</td>\n",
       "      <td>0.0</td>\n",
       "      <td>5.8</td>\n",
       "      <td>3.435</td>\n",
       "      <td>128.616064</td>\n",
       "      <td>7.470</td>\n",
       "      <td>2011.0</td>\n",
       "      <td>3.0</td>\n",
       "      <td>25.0</td>\n",
       "    </tr>\n",
       "    <tr>\n",
       "      <th>30</th>\n",
       "      <td>12.0</td>\n",
       "      <td>2011-05-06</td>\n",
       "      <td>1021154.48</td>\n",
       "      <td>0.0</td>\n",
       "      <td>20.2</td>\n",
       "      <td>4.193</td>\n",
       "      <td>129.044433</td>\n",
       "      <td>13.736</td>\n",
       "      <td>2011.0</td>\n",
       "      <td>5.0</td>\n",
       "      <td>6.0</td>\n",
       "    </tr>\n",
       "    <tr>\n",
       "      <th>93</th>\n",
       "      <td>12.0</td>\n",
       "      <td>2011-05-27</td>\n",
       "      <td>964332.51</td>\n",
       "      <td>0.0</td>\n",
       "      <td>NaN</td>\n",
       "      <td>4.087</td>\n",
       "      <td>129.062355</td>\n",
       "      <td>13.736</td>\n",
       "      <td>2011.0</td>\n",
       "      <td>5.0</td>\n",
       "      <td>27.0</td>\n",
       "    </tr>\n",
       "    <tr>\n",
       "      <th>38</th>\n",
       "      <td>4.0</td>\n",
       "      <td>2011-06-24</td>\n",
       "      <td>2008344.92</td>\n",
       "      <td>0.0</td>\n",
       "      <td>27.7</td>\n",
       "      <td>3.570</td>\n",
       "      <td>129.066300</td>\n",
       "      <td>5.946</td>\n",
       "      <td>2011.0</td>\n",
       "      <td>6.0</td>\n",
       "      <td>24.0</td>\n",
       "    </tr>\n",
       "    <tr>\n",
       "      <th>136</th>\n",
       "      <td>4.0</td>\n",
       "      <td>2011-07-08</td>\n",
       "      <td>2066541.86</td>\n",
       "      <td>NaN</td>\n",
       "      <td>29.2</td>\n",
       "      <td>3.469</td>\n",
       "      <td>129.112500</td>\n",
       "      <td>5.644</td>\n",
       "      <td>2011.0</td>\n",
       "      <td>7.0</td>\n",
       "      <td>8.0</td>\n",
       "    </tr>\n",
       "    <tr>\n",
       "      <th>132</th>\n",
       "      <td>4.0</td>\n",
       "      <td>2011-07-22</td>\n",
       "      <td>2036231.39</td>\n",
       "      <td>0.0</td>\n",
       "      <td>28.2</td>\n",
       "      <td>3.627</td>\n",
       "      <td>129.150774</td>\n",
       "      <td>5.644</td>\n",
       "      <td>2011.0</td>\n",
       "      <td>7.0</td>\n",
       "      <td>22.0</td>\n",
       "    </tr>\n",
       "    <tr>\n",
       "      <th>128</th>\n",
       "      <td>13.0</td>\n",
       "      <td>2011-08-12</td>\n",
       "      <td>1970341.38</td>\n",
       "      <td>0.0</td>\n",
       "      <td>24.4</td>\n",
       "      <td>3.606</td>\n",
       "      <td>129.201581</td>\n",
       "      <td>6.877</td>\n",
       "      <td>2011.0</td>\n",
       "      <td>8.0</td>\n",
       "      <td>12.0</td>\n",
       "    </tr>\n",
       "    <tr>\n",
       "      <th>68</th>\n",
       "      <td>12.0</td>\n",
       "      <td>2011-08-12</td>\n",
       "      <td>955913.68</td>\n",
       "      <td>0.0</td>\n",
       "      <td>32.8</td>\n",
       "      <td>3.701</td>\n",
       "      <td>129.201581</td>\n",
       "      <td>13.503</td>\n",
       "      <td>2011.0</td>\n",
       "      <td>8.0</td>\n",
       "      <td>12.0</td>\n",
       "    </tr>\n",
       "    <tr>\n",
       "      <th>55</th>\n",
       "      <td>13.0</td>\n",
       "      <td>2011-09-23</td>\n",
       "      <td>1847430.96</td>\n",
       "      <td>0.0</td>\n",
       "      <td>17.6</td>\n",
       "      <td>3.648</td>\n",
       "      <td>129.518333</td>\n",
       "      <td>6.877</td>\n",
       "      <td>2011.0</td>\n",
       "      <td>9.0</td>\n",
       "      <td>23.0</td>\n",
       "    </tr>\n",
       "    <tr>\n",
       "      <th>64</th>\n",
       "      <td>4.0</td>\n",
       "      <td>2011-12-16</td>\n",
       "      <td>2771397.17</td>\n",
       "      <td>0.0</td>\n",
       "      <td>2.5</td>\n",
       "      <td>3.149</td>\n",
       "      <td>129.898065</td>\n",
       "      <td>5.143</td>\n",
       "      <td>2011.0</td>\n",
       "      <td>12.0</td>\n",
       "      <td>16.0</td>\n",
       "    </tr>\n",
       "    <tr>\n",
       "      <th>113</th>\n",
       "      <td>13.0</td>\n",
       "      <td>2012-01-20</td>\n",
       "      <td>1811606.21</td>\n",
       "      <td>0.0</td>\n",
       "      <td>0.4</td>\n",
       "      <td>NaN</td>\n",
       "      <td>130.279226</td>\n",
       "      <td>6.104</td>\n",
       "      <td>2012.0</td>\n",
       "      <td>1.0</td>\n",
       "      <td>20.0</td>\n",
       "    </tr>\n",
       "    <tr>\n",
       "      <th>61</th>\n",
       "      <td>10.0</td>\n",
       "      <td>2012-03-02</td>\n",
       "      <td>1990371.02</td>\n",
       "      <td>0.0</td>\n",
       "      <td>14.2</td>\n",
       "      <td>3.882</td>\n",
       "      <td>130.645793</td>\n",
       "      <td>7.545</td>\n",
       "      <td>2012.0</td>\n",
       "      <td>3.0</td>\n",
       "      <td>2.0</td>\n",
       "    </tr>\n",
       "    <tr>\n",
       "      <th>54</th>\n",
       "      <td>10.0</td>\n",
       "      <td>2012-07-06</td>\n",
       "      <td>1805999.79</td>\n",
       "      <td>0.0</td>\n",
       "      <td>30.5</td>\n",
       "      <td>3.666</td>\n",
       "      <td>130.719633</td>\n",
       "      <td>7.170</td>\n",
       "      <td>2012.0</td>\n",
       "      <td>7.0</td>\n",
       "      <td>6.0</td>\n",
       "    </tr>\n",
       "    <tr>\n",
       "      <th>130</th>\n",
       "      <td>13.0</td>\n",
       "      <td>2012-03-16</td>\n",
       "      <td>2025582.62</td>\n",
       "      <td>0.0</td>\n",
       "      <td>11.4</td>\n",
       "      <td>3.529</td>\n",
       "      <td>130.826194</td>\n",
       "      <td>6.104</td>\n",
       "      <td>2012.0</td>\n",
       "      <td>3.0</td>\n",
       "      <td>16.0</td>\n",
       "    </tr>\n",
       "    <tr>\n",
       "      <th>50</th>\n",
       "      <td>13.0</td>\n",
       "      <td>2012-06-01</td>\n",
       "      <td>2035431.39</td>\n",
       "      <td>0.0</td>\n",
       "      <td>16.2</td>\n",
       "      <td>3.788</td>\n",
       "      <td>130.959226</td>\n",
       "      <td>5.965</td>\n",
       "      <td>2012.0</td>\n",
       "      <td>6.0</td>\n",
       "      <td>1.0</td>\n",
       "    </tr>\n",
       "    <tr>\n",
       "      <th>86</th>\n",
       "      <td>17.0</td>\n",
       "      <td>NaT</td>\n",
       "      <td>986922.62</td>\n",
       "      <td>0.0</td>\n",
       "      <td>NaN</td>\n",
       "      <td>3.793</td>\n",
       "      <td>131.037548</td>\n",
       "      <td>6.235</td>\n",
       "      <td>NaN</td>\n",
       "      <td>NaN</td>\n",
       "      <td>NaN</td>\n",
       "    </tr>\n",
       "    <tr>\n",
       "      <th>25</th>\n",
       "      <td>17.0</td>\n",
       "      <td>2012-10-12</td>\n",
       "      <td>919878.34</td>\n",
       "      <td>0.0</td>\n",
       "      <td>7.1</td>\n",
       "      <td>3.797</td>\n",
       "      <td>131.108333</td>\n",
       "      <td>5.527</td>\n",
       "      <td>2012.0</td>\n",
       "      <td>10.0</td>\n",
       "      <td>12.0</td>\n",
       "    </tr>\n",
       "    <tr>\n",
       "      <th>17</th>\n",
       "      <td>18.0</td>\n",
       "      <td>NaT</td>\n",
       "      <td>1205307.50</td>\n",
       "      <td>0.0</td>\n",
       "      <td>-5.9</td>\n",
       "      <td>2.788</td>\n",
       "      <td>131.527903</td>\n",
       "      <td>9.202</td>\n",
       "      <td>NaN</td>\n",
       "      <td>NaN</td>\n",
       "      <td>NaN</td>\n",
       "    </tr>\n",
       "    <tr>\n",
       "      <th>115</th>\n",
       "      <td>15.0</td>\n",
       "      <td>2010-02-19</td>\n",
       "      <td>660838.75</td>\n",
       "      <td>0.0</td>\n",
       "      <td>NaN</td>\n",
       "      <td>2.909</td>\n",
       "      <td>131.637000</td>\n",
       "      <td>NaN</td>\n",
       "      <td>2010.0</td>\n",
       "      <td>2.0</td>\n",
       "      <td>19.0</td>\n",
       "    </tr>\n",
       "    <tr>\n",
       "      <th>23</th>\n",
       "      <td>19.0</td>\n",
       "      <td>2010-03-26</td>\n",
       "      <td>1427023.45</td>\n",
       "      <td>0.0</td>\n",
       "      <td>3.9</td>\n",
       "      <td>2.963</td>\n",
       "      <td>131.863129</td>\n",
       "      <td>8.350</td>\n",
       "      <td>2010.0</td>\n",
       "      <td>3.0</td>\n",
       "      <td>26.0</td>\n",
       "    </tr>\n",
       "    <tr>\n",
       "      <th>108</th>\n",
       "      <td>18.0</td>\n",
       "      <td>2010-05-28</td>\n",
       "      <td>1256282.79</td>\n",
       "      <td>0.0</td>\n",
       "      <td>20.6</td>\n",
       "      <td>2.906</td>\n",
       "      <td>132.293936</td>\n",
       "      <td>NaN</td>\n",
       "      <td>2010.0</td>\n",
       "      <td>5.0</td>\n",
       "      <td>28.0</td>\n",
       "    </tr>\n",
       "    <tr>\n",
       "      <th>47</th>\n",
       "      <td>19.0</td>\n",
       "      <td>2010-07-02</td>\n",
       "      <td>1549018.68</td>\n",
       "      <td>0.0</td>\n",
       "      <td>19.0</td>\n",
       "      <td>2.958</td>\n",
       "      <td>132.521867</td>\n",
       "      <td>8.099</td>\n",
       "      <td>2010.0</td>\n",
       "      <td>7.0</td>\n",
       "      <td>2.0</td>\n",
       "    </tr>\n",
       "    <tr>\n",
       "      <th>105</th>\n",
       "      <td>19.0</td>\n",
       "      <td>2010-07-30</td>\n",
       "      <td>1366395.96</td>\n",
       "      <td>0.0</td>\n",
       "      <td>22.7</td>\n",
       "      <td>2.932</td>\n",
       "      <td>132.598387</td>\n",
       "      <td>8.099</td>\n",
       "      <td>2010.0</td>\n",
       "      <td>7.0</td>\n",
       "      <td>30.0</td>\n",
       "    </tr>\n",
       "    <tr>\n",
       "      <th>66</th>\n",
       "      <td>18.0</td>\n",
       "      <td>2010-08-06</td>\n",
       "      <td>1166117.85</td>\n",
       "      <td>0.0</td>\n",
       "      <td>23.2</td>\n",
       "      <td>2.792</td>\n",
       "      <td>132.614193</td>\n",
       "      <td>9.342</td>\n",
       "      <td>2010.0</td>\n",
       "      <td>8.0</td>\n",
       "      <td>6.0</td>\n",
       "    </tr>\n",
       "    <tr>\n",
       "      <th>11</th>\n",
       "      <td>18.0</td>\n",
       "      <td>2010-10-15</td>\n",
       "      <td>1029618.10</td>\n",
       "      <td>0.0</td>\n",
       "      <td>11.1</td>\n",
       "      <td>2.878</td>\n",
       "      <td>132.763355</td>\n",
       "      <td>9.331</td>\n",
       "      <td>2010.0</td>\n",
       "      <td>10.0</td>\n",
       "      <td>15.0</td>\n",
       "    </tr>\n",
       "    <tr>\n",
       "      <th>35</th>\n",
       "      <td>19.0</td>\n",
       "      <td>2011-03-25</td>\n",
       "      <td>1266564.94</td>\n",
       "      <td>0.0</td>\n",
       "      <td>0.7</td>\n",
       "      <td>3.789</td>\n",
       "      <td>133.958742</td>\n",
       "      <td>7.771</td>\n",
       "      <td>2011.0</td>\n",
       "      <td>3.0</td>\n",
       "      <td>25.0</td>\n",
       "    </tr>\n",
       "    <tr>\n",
       "      <th>37</th>\n",
       "      <td>18.0</td>\n",
       "      <td>2011-04-15</td>\n",
       "      <td>988157.72</td>\n",
       "      <td>0.0</td>\n",
       "      <td>NaN</td>\n",
       "      <td>3.823</td>\n",
       "      <td>134.278467</td>\n",
       "      <td>8.975</td>\n",
       "      <td>2011.0</td>\n",
       "      <td>4.0</td>\n",
       "      <td>15.0</td>\n",
       "    </tr>\n",
       "    <tr>\n",
       "      <th>6</th>\n",
       "      <td>15.0</td>\n",
       "      <td>2011-06-03</td>\n",
       "      <td>695396.19</td>\n",
       "      <td>0.0</td>\n",
       "      <td>21.0</td>\n",
       "      <td>4.069</td>\n",
       "      <td>134.855161</td>\n",
       "      <td>7.658</td>\n",
       "      <td>2011.0</td>\n",
       "      <td>6.0</td>\n",
       "      <td>3.0</td>\n",
       "    </tr>\n",
       "    <tr>\n",
       "      <th>124</th>\n",
       "      <td>19.0</td>\n",
       "      <td>2011-06-10</td>\n",
       "      <td>1467473.63</td>\n",
       "      <td>0.0</td>\n",
       "      <td>20.1</td>\n",
       "      <td>NaN</td>\n",
       "      <td>134.942548</td>\n",
       "      <td>7.658</td>\n",
       "      <td>2011.0</td>\n",
       "      <td>6.0</td>\n",
       "      <td>10.0</td>\n",
       "    </tr>\n",
       "    <tr>\n",
       "      <th>102</th>\n",
       "      <td>18.0</td>\n",
       "      <td>NaT</td>\n",
       "      <td>1087051.26</td>\n",
       "      <td>0.0</td>\n",
       "      <td>21.0</td>\n",
       "      <td>3.815</td>\n",
       "      <td>135.446800</td>\n",
       "      <td>8.890</td>\n",
       "      <td>NaN</td>\n",
       "      <td>NaN</td>\n",
       "      <td>NaN</td>\n",
       "    </tr>\n",
       "    <tr>\n",
       "      <th>83</th>\n",
       "      <td>15.0</td>\n",
       "      <td>NaT</td>\n",
       "      <td>607475.44</td>\n",
       "      <td>0.0</td>\n",
       "      <td>26.6</td>\n",
       "      <td>3.972</td>\n",
       "      <td>135.873839</td>\n",
       "      <td>7.806</td>\n",
       "      <td>NaN</td>\n",
       "      <td>NaN</td>\n",
       "      <td>NaN</td>\n",
       "    </tr>\n",
       "    <tr>\n",
       "      <th>76</th>\n",
       "      <td>15.0</td>\n",
       "      <td>2012-03-16</td>\n",
       "      <td>570611.23</td>\n",
       "      <td>0.0</td>\n",
       "      <td>8.6</td>\n",
       "      <td>4.021</td>\n",
       "      <td>137.584387</td>\n",
       "      <td>7.943</td>\n",
       "      <td>2012.0</td>\n",
       "      <td>3.0</td>\n",
       "      <td>16.0</td>\n",
       "    </tr>\n",
       "    <tr>\n",
       "      <th>149</th>\n",
       "      <td>19.0</td>\n",
       "      <td>2012-04-20</td>\n",
       "      <td>1255087.26</td>\n",
       "      <td>0.0</td>\n",
       "      <td>12.9</td>\n",
       "      <td>4.170</td>\n",
       "      <td>137.923067</td>\n",
       "      <td>8.150</td>\n",
       "      <td>2012.0</td>\n",
       "      <td>4.0</td>\n",
       "      <td>20.0</td>\n",
       "    </tr>\n",
       "    <tr>\n",
       "      <th>40</th>\n",
       "      <td>18.0</td>\n",
       "      <td>2012-04-27</td>\n",
       "      <td>961186.23</td>\n",
       "      <td>0.0</td>\n",
       "      <td>10.2</td>\n",
       "      <td>4.023</td>\n",
       "      <td>137.978133</td>\n",
       "      <td>8.304</td>\n",
       "      <td>2012.0</td>\n",
       "      <td>4.0</td>\n",
       "      <td>27.0</td>\n",
       "    </tr>\n",
       "    <tr>\n",
       "      <th>24</th>\n",
       "      <td>19.0</td>\n",
       "      <td>2012-05-04</td>\n",
       "      <td>1405007.44</td>\n",
       "      <td>0.0</td>\n",
       "      <td>10.4</td>\n",
       "      <td>4.124</td>\n",
       "      <td>138.033200</td>\n",
       "      <td>8.150</td>\n",
       "      <td>2012.0</td>\n",
       "      <td>5.0</td>\n",
       "      <td>4.0</td>\n",
       "    </tr>\n",
       "    <tr>\n",
       "      <th>111</th>\n",
       "      <td>19.0</td>\n",
       "      <td>2012-06-22</td>\n",
       "      <td>1468350.36</td>\n",
       "      <td>0.0</td>\n",
       "      <td>NaN</td>\n",
       "      <td>3.722</td>\n",
       "      <td>138.162900</td>\n",
       "      <td>8.150</td>\n",
       "      <td>2012.0</td>\n",
       "      <td>6.0</td>\n",
       "      <td>22.0</td>\n",
       "    </tr>\n",
       "    <tr>\n",
       "      <th>129</th>\n",
       "      <td>18.0</td>\n",
       "      <td>NaT</td>\n",
       "      <td>1048134.24</td>\n",
       "      <td>0.0</td>\n",
       "      <td>22.9</td>\n",
       "      <td>3.840</td>\n",
       "      <td>138.185710</td>\n",
       "      <td>8.535</td>\n",
       "      <td>NaN</td>\n",
       "      <td>NaN</td>\n",
       "      <td>NaN</td>\n",
       "    </tr>\n",
       "    <tr>\n",
       "      <th>22</th>\n",
       "      <td>18.0</td>\n",
       "      <td>2012-10-12</td>\n",
       "      <td>1074079.00</td>\n",
       "      <td>0.0</td>\n",
       "      <td>10.5</td>\n",
       "      <td>4.029</td>\n",
       "      <td>138.911700</td>\n",
       "      <td>8.243</td>\n",
       "      <td>2012.0</td>\n",
       "      <td>10.0</td>\n",
       "      <td>12.0</td>\n",
       "    </tr>\n",
       "    <tr>\n",
       "      <th>145</th>\n",
       "      <td>14.0</td>\n",
       "      <td>2010-06-18</td>\n",
       "      <td>2248645.59</td>\n",
       "      <td>0.0</td>\n",
       "      <td>22.6</td>\n",
       "      <td>2.780</td>\n",
       "      <td>182.442420</td>\n",
       "      <td>8.899</td>\n",
       "      <td>2010.0</td>\n",
       "      <td>6.0</td>\n",
       "      <td>18.0</td>\n",
       "    </tr>\n",
       "    <tr>\n",
       "      <th>119</th>\n",
       "      <td>14.0</td>\n",
       "      <td>2011-01-07</td>\n",
       "      <td>1864746.10</td>\n",
       "      <td>0.0</td>\n",
       "      <td>1.3</td>\n",
       "      <td>3.193</td>\n",
       "      <td>182.598306</td>\n",
       "      <td>NaN</td>\n",
       "      <td>2011.0</td>\n",
       "      <td>1.0</td>\n",
       "      <td>7.0</td>\n",
       "    </tr>\n",
       "    <tr>\n",
       "      <th>53</th>\n",
       "      <td>14.0</td>\n",
       "      <td>2011-03-25</td>\n",
       "      <td>1879451.23</td>\n",
       "      <td>NaN</td>\n",
       "      <td>5.4</td>\n",
       "      <td>3.625</td>\n",
       "      <td>184.994368</td>\n",
       "      <td>8.549</td>\n",
       "      <td>2011.0</td>\n",
       "      <td>3.0</td>\n",
       "      <td>25.0</td>\n",
       "    </tr>\n",
       "    <tr>\n",
       "      <th>60</th>\n",
       "      <td>14.0</td>\n",
       "      <td>2011-05-06</td>\n",
       "      <td>2095599.93</td>\n",
       "      <td>0.0</td>\n",
       "      <td>NaN</td>\n",
       "      <td>4.046</td>\n",
       "      <td>185.937438</td>\n",
       "      <td>8.521</td>\n",
       "      <td>2011.0</td>\n",
       "      <td>5.0</td>\n",
       "      <td>6.0</td>\n",
       "    </tr>\n",
       "    <tr>\n",
       "      <th>94</th>\n",
       "      <td>14.0</td>\n",
       "      <td>2011-07-15</td>\n",
       "      <td>1953544.76</td>\n",
       "      <td>0.0</td>\n",
       "      <td>25.8</td>\n",
       "      <td>3.760</td>\n",
       "      <td>186.139981</td>\n",
       "      <td>8.625</td>\n",
       "      <td>2011.0</td>\n",
       "      <td>7.0</td>\n",
       "      <td>15.0</td>\n",
       "    </tr>\n",
       "    <tr>\n",
       "      <th>127</th>\n",
       "      <td>16.0</td>\n",
       "      <td>2010-07-09</td>\n",
       "      <td>614253.33</td>\n",
       "      <td>0.0</td>\n",
       "      <td>16.5</td>\n",
       "      <td>2.711</td>\n",
       "      <td>189.523128</td>\n",
       "      <td>6.868</td>\n",
       "      <td>2010.0</td>\n",
       "      <td>7.0</td>\n",
       "      <td>9.0</td>\n",
       "    </tr>\n",
       "    <tr>\n",
       "      <th>20</th>\n",
       "      <td>7.0</td>\n",
       "      <td>2010-04-02</td>\n",
       "      <td>561145.14</td>\n",
       "      <td>0.0</td>\n",
       "      <td>3.5</td>\n",
       "      <td>2.725</td>\n",
       "      <td>189.704822</td>\n",
       "      <td>8.963</td>\n",
       "      <td>2010.0</td>\n",
       "      <td>4.0</td>\n",
       "      <td>2.0</td>\n",
       "    </tr>\n",
       "    <tr>\n",
       "      <th>59</th>\n",
       "      <td>14.0</td>\n",
       "      <td>2012-02-17</td>\n",
       "      <td>2020550.99</td>\n",
       "      <td>0.0</td>\n",
       "      <td>2.7</td>\n",
       "      <td>3.695</td>\n",
       "      <td>189.842483</td>\n",
       "      <td>8.424</td>\n",
       "      <td>2012.0</td>\n",
       "      <td>2.0</td>\n",
       "      <td>17.0</td>\n",
       "    </tr>\n",
       "    <tr>\n",
       "      <th>12</th>\n",
       "      <td>7.0</td>\n",
       "      <td>2011-05-13</td>\n",
       "      <td>414094.05</td>\n",
       "      <td>0.0</td>\n",
       "      <td>2.6</td>\n",
       "      <td>3.767</td>\n",
       "      <td>192.826069</td>\n",
       "      <td>8.595</td>\n",
       "      <td>2011.0</td>\n",
       "      <td>5.0</td>\n",
       "      <td>13.0</td>\n",
       "    </tr>\n",
       "    <tr>\n",
       "      <th>27</th>\n",
       "      <td>16.0</td>\n",
       "      <td>2011-05-20</td>\n",
       "      <td>435397.19</td>\n",
       "      <td>0.0</td>\n",
       "      <td>6.6</td>\n",
       "      <td>3.828</td>\n",
       "      <td>192.831317</td>\n",
       "      <td>6.339</td>\n",
       "      <td>2011.0</td>\n",
       "      <td>5.0</td>\n",
       "      <td>20.0</td>\n",
       "    </tr>\n",
       "    <tr>\n",
       "      <th>43</th>\n",
       "      <td>7.0</td>\n",
       "      <td>2011-08-26</td>\n",
       "      <td>629994.47</td>\n",
       "      <td>NaN</td>\n",
       "      <td>14.2</td>\n",
       "      <td>3.485</td>\n",
       "      <td>194.379637</td>\n",
       "      <td>8.622</td>\n",
       "      <td>2011.0</td>\n",
       "      <td>8.0</td>\n",
       "      <td>26.0</td>\n",
       "    </tr>\n",
       "    <tr>\n",
       "      <th>32</th>\n",
       "      <td>7.0</td>\n",
       "      <td>2012-02-10</td>\n",
       "      <td>563460.77</td>\n",
       "      <td>1.0</td>\n",
       "      <td>-7.3</td>\n",
       "      <td>3.103</td>\n",
       "      <td>196.919506</td>\n",
       "      <td>8.256</td>\n",
       "      <td>2012.0</td>\n",
       "      <td>2.0</td>\n",
       "      <td>10.0</td>\n",
       "    </tr>\n",
       "    <tr>\n",
       "      <th>49</th>\n",
       "      <td>16.0</td>\n",
       "      <td>2012-03-30</td>\n",
       "      <td>485095.41</td>\n",
       "      <td>0.0</td>\n",
       "      <td>9.0</td>\n",
       "      <td>3.750</td>\n",
       "      <td>197.413326</td>\n",
       "      <td>6.162</td>\n",
       "      <td>2012.0</td>\n",
       "      <td>3.0</td>\n",
       "      <td>30.0</td>\n",
       "    </tr>\n",
       "    <tr>\n",
       "      <th>139</th>\n",
       "      <td>7.0</td>\n",
       "      <td>2012-05-25</td>\n",
       "      <td>532739.77</td>\n",
       "      <td>0.0</td>\n",
       "      <td>10.3</td>\n",
       "      <td>3.804</td>\n",
       "      <td>197.588605</td>\n",
       "      <td>8.090</td>\n",
       "      <td>2012.0</td>\n",
       "      <td>5.0</td>\n",
       "      <td>25.0</td>\n",
       "    </tr>\n",
       "    <tr>\n",
       "      <th>116</th>\n",
       "      <td>7.0</td>\n",
       "      <td>2012-04-20</td>\n",
       "      <td>457340.06</td>\n",
       "      <td>0.0</td>\n",
       "      <td>4.1</td>\n",
       "      <td>3.936</td>\n",
       "      <td>197.722738</td>\n",
       "      <td>8.090</td>\n",
       "      <td>2012.0</td>\n",
       "      <td>4.0</td>\n",
       "      <td>20.0</td>\n",
       "    </tr>\n",
       "    <tr>\n",
       "      <th>122</th>\n",
       "      <td>7.0</td>\n",
       "      <td>2012-09-07</td>\n",
       "      <td>597876.55</td>\n",
       "      <td>1.0</td>\n",
       "      <td>14.4</td>\n",
       "      <td>3.596</td>\n",
       "      <td>198.095048</td>\n",
       "      <td>7.872</td>\n",
       "      <td>2012.0</td>\n",
       "      <td>9.0</td>\n",
       "      <td>7.0</td>\n",
       "    </tr>\n",
       "    <tr>\n",
       "      <th>41</th>\n",
       "      <td>16.0</td>\n",
       "      <td>2012-09-14</td>\n",
       "      <td>526525.16</td>\n",
       "      <td>0.0</td>\n",
       "      <td>NaN</td>\n",
       "      <td>3.659</td>\n",
       "      <td>198.126718</td>\n",
       "      <td>6.061</td>\n",
       "      <td>2012.0</td>\n",
       "      <td>9.0</td>\n",
       "      <td>14.0</td>\n",
       "    </tr>\n",
       "    <tr>\n",
       "      <th>75</th>\n",
       "      <td>20.0</td>\n",
       "      <td>2010-06-25</td>\n",
       "      <td>1973135.87</td>\n",
       "      <td>0.0</td>\n",
       "      <td>24.0</td>\n",
       "      <td>2.808</td>\n",
       "      <td>204.567546</td>\n",
       "      <td>7.856</td>\n",
       "      <td>2010.0</td>\n",
       "      <td>6.0</td>\n",
       "      <td>25.0</td>\n",
       "    </tr>\n",
       "    <tr>\n",
       "      <th>110</th>\n",
       "      <td>20.0</td>\n",
       "      <td>2010-12-31</td>\n",
       "      <td>1799737.79</td>\n",
       "      <td>1.0</td>\n",
       "      <td>-1.7</td>\n",
       "      <td>3.179</td>\n",
       "      <td>204.643227</td>\n",
       "      <td>7.484</td>\n",
       "      <td>2010.0</td>\n",
       "      <td>12.0</td>\n",
       "      <td>31.0</td>\n",
       "    </tr>\n",
       "    <tr>\n",
       "      <th>95</th>\n",
       "      <td>1.0</td>\n",
       "      <td>2010-05-14</td>\n",
       "      <td>1494251.50</td>\n",
       "      <td>0.0</td>\n",
       "      <td>23.8</td>\n",
       "      <td>2.854</td>\n",
       "      <td>210.337426</td>\n",
       "      <td>7.808</td>\n",
       "      <td>2010.0</td>\n",
       "      <td>5.0</td>\n",
       "      <td>14.0</td>\n",
       "    </tr>\n",
       "    <tr>\n",
       "      <th>97</th>\n",
       "      <td>5.0</td>\n",
       "      <td>2010-04-30</td>\n",
       "      <td>298697.84</td>\n",
       "      <td>0.0</td>\n",
       "      <td>19.7</td>\n",
       "      <td>NaN</td>\n",
       "      <td>210.939388</td>\n",
       "      <td>NaN</td>\n",
       "      <td>2010.0</td>\n",
       "      <td>4.0</td>\n",
       "      <td>30.0</td>\n",
       "    </tr>\n",
       "    <tr>\n",
       "      <th>112</th>\n",
       "      <td>2.0</td>\n",
       "      <td>2010-02-19</td>\n",
       "      <td>2124451.54</td>\n",
       "      <td>0.0</td>\n",
       "      <td>4.3</td>\n",
       "      <td>2.514</td>\n",
       "      <td>210.945160</td>\n",
       "      <td>NaN</td>\n",
       "      <td>2010.0</td>\n",
       "      <td>2.0</td>\n",
       "      <td>19.0</td>\n",
       "    </tr>\n",
       "    <tr>\n",
       "      <th>85</th>\n",
       "      <td>2.0</td>\n",
       "      <td>2011-01-07</td>\n",
       "      <td>1758050.79</td>\n",
       "      <td>0.0</td>\n",
       "      <td>7.0</td>\n",
       "      <td>2.976</td>\n",
       "      <td>211.064888</td>\n",
       "      <td>8.028</td>\n",
       "      <td>2011.0</td>\n",
       "      <td>1.0</td>\n",
       "      <td>7.0</td>\n",
       "    </tr>\n",
       "    <tr>\n",
       "      <th>44</th>\n",
       "      <td>1.0</td>\n",
       "      <td>2010-02-12</td>\n",
       "      <td>1641957.44</td>\n",
       "      <td>1.0</td>\n",
       "      <td>3.6</td>\n",
       "      <td>2.548</td>\n",
       "      <td>211.242170</td>\n",
       "      <td>8.106</td>\n",
       "      <td>2010.0</td>\n",
       "      <td>2.0</td>\n",
       "      <td>12.0</td>\n",
       "    </tr>\n",
       "    <tr>\n",
       "      <th>73</th>\n",
       "      <td>1.0</td>\n",
       "      <td>2010-08-27</td>\n",
       "      <td>1449142.92</td>\n",
       "      <td>NaN</td>\n",
       "      <td>29.6</td>\n",
       "      <td>2.619</td>\n",
       "      <td>211.567306</td>\n",
       "      <td>7.787</td>\n",
       "      <td>2010.0</td>\n",
       "      <td>8.0</td>\n",
       "      <td>27.0</td>\n",
       "    </tr>\n",
       "    <tr>\n",
       "      <th>51</th>\n",
       "      <td>2.0</td>\n",
       "      <td>2010-11-12</td>\n",
       "      <td>1916812.74</td>\n",
       "      <td>0.0</td>\n",
       "      <td>15.4</td>\n",
       "      <td>2.728</td>\n",
       "      <td>211.660898</td>\n",
       "      <td>8.163</td>\n",
       "      <td>2010.0</td>\n",
       "      <td>11.0</td>\n",
       "      <td>12.0</td>\n",
       "    </tr>\n",
       "    <tr>\n",
       "      <th>15</th>\n",
       "      <td>6.0</td>\n",
       "      <td>2010-04-30</td>\n",
       "      <td>1498080.16</td>\n",
       "      <td>NaN</td>\n",
       "      <td>20.5</td>\n",
       "      <td>2.780</td>\n",
       "      <td>211.894272</td>\n",
       "      <td>7.092</td>\n",
       "      <td>2010.0</td>\n",
       "      <td>4.0</td>\n",
       "      <td>30.0</td>\n",
       "    </tr>\n",
       "    <tr>\n",
       "      <th>46</th>\n",
       "      <td>5.0</td>\n",
       "      <td>2010-07-30</td>\n",
       "      <td>268929.03</td>\n",
       "      <td>0.0</td>\n",
       "      <td>28.0</td>\n",
       "      <td>2.640</td>\n",
       "      <td>211.927001</td>\n",
       "      <td>6.496</td>\n",
       "      <td>2010.0</td>\n",
       "      <td>7.0</td>\n",
       "      <td>30.0</td>\n",
       "    </tr>\n",
       "    <tr>\n",
       "      <th>4</th>\n",
       "      <td>6.0</td>\n",
       "      <td>2010-05-28</td>\n",
       "      <td>1644470.66</td>\n",
       "      <td>0.0</td>\n",
       "      <td>26.0</td>\n",
       "      <td>2.759</td>\n",
       "      <td>212.412888</td>\n",
       "      <td>7.092</td>\n",
       "      <td>2010.0</td>\n",
       "      <td>5.0</td>\n",
       "      <td>28.0</td>\n",
       "    </tr>\n",
       "    <tr>\n",
       "      <th>141</th>\n",
       "      <td>5.0</td>\n",
       "      <td>2010-11-12</td>\n",
       "      <td>301827.36</td>\n",
       "      <td>0.0</td>\n",
       "      <td>16.9</td>\n",
       "      <td>NaN</td>\n",
       "      <td>212.560411</td>\n",
       "      <td>6.768</td>\n",
       "      <td>2010.0</td>\n",
       "      <td>11.0</td>\n",
       "      <td>12.0</td>\n",
       "    </tr>\n",
       "    <tr>\n",
       "      <th>58</th>\n",
       "      <td>6.0</td>\n",
       "      <td>2010-07-30</td>\n",
       "      <td>1532308.78</td>\n",
       "      <td>0.0</td>\n",
       "      <td>NaN</td>\n",
       "      <td>2.640</td>\n",
       "      <td>212.894485</td>\n",
       "      <td>6.973</td>\n",
       "      <td>2010.0</td>\n",
       "      <td>7.0</td>\n",
       "      <td>30.0</td>\n",
       "    </tr>\n",
       "    <tr>\n",
       "      <th>7</th>\n",
       "      <td>20.0</td>\n",
       "      <td>2012-02-03</td>\n",
       "      <td>2203523.20</td>\n",
       "      <td>0.0</td>\n",
       "      <td>4.4</td>\n",
       "      <td>3.617</td>\n",
       "      <td>213.023622</td>\n",
       "      <td>6.961</td>\n",
       "      <td>2012.0</td>\n",
       "      <td>2.0</td>\n",
       "      <td>3.0</td>\n",
       "    </tr>\n",
       "    <tr>\n",
       "      <th>88</th>\n",
       "      <td>20.0</td>\n",
       "      <td>NaT</td>\n",
       "      <td>2045837.55</td>\n",
       "      <td>0.0</td>\n",
       "      <td>4.3</td>\n",
       "      <td>3.739</td>\n",
       "      <td>213.472512</td>\n",
       "      <td>6.961</td>\n",
       "      <td>NaN</td>\n",
       "      <td>NaN</td>\n",
       "      <td>NaN</td>\n",
       "    </tr>\n",
       "    <tr>\n",
       "      <th>67</th>\n",
       "      <td>3.0</td>\n",
       "      <td>2010-02-05</td>\n",
       "      <td>461622.22</td>\n",
       "      <td>0.0</td>\n",
       "      <td>7.6</td>\n",
       "      <td>2.572</td>\n",
       "      <td>214.424881</td>\n",
       "      <td>7.368</td>\n",
       "      <td>2010.0</td>\n",
       "      <td>2.0</td>\n",
       "      <td>5.0</td>\n",
       "    </tr>\n",
       "    <tr>\n",
       "      <th>143</th>\n",
       "      <td>3.0</td>\n",
       "      <td>2010-06-04</td>\n",
       "      <td>396968.80</td>\n",
       "      <td>0.0</td>\n",
       "      <td>25.8</td>\n",
       "      <td>2.705</td>\n",
       "      <td>214.495838</td>\n",
       "      <td>7.343</td>\n",
       "      <td>2010.0</td>\n",
       "      <td>6.0</td>\n",
       "      <td>4.0</td>\n",
       "    </tr>\n",
       "    <tr>\n",
       "      <th>3</th>\n",
       "      <td>11.0</td>\n",
       "      <td>NaT</td>\n",
       "      <td>1244390.03</td>\n",
       "      <td>0.0</td>\n",
       "      <td>29.2</td>\n",
       "      <td>NaN</td>\n",
       "      <td>214.556497</td>\n",
       "      <td>7.346</td>\n",
       "      <td>NaN</td>\n",
       "      <td>NaN</td>\n",
       "      <td>NaN</td>\n",
       "    </tr>\n",
       "    <tr>\n",
       "      <th>107</th>\n",
       "      <td>8.0</td>\n",
       "      <td>2010-02-12</td>\n",
       "      <td>994801.40</td>\n",
       "      <td>1.0</td>\n",
       "      <td>0.7</td>\n",
       "      <td>2.548</td>\n",
       "      <td>214.621419</td>\n",
       "      <td>6.299</td>\n",
       "      <td>2010.0</td>\n",
       "      <td>2.0</td>\n",
       "      <td>12.0</td>\n",
       "    </tr>\n",
       "    <tr>\n",
       "      <th>90</th>\n",
       "      <td>9.0</td>\n",
       "      <td>2010-07-09</td>\n",
       "      <td>485389.15</td>\n",
       "      <td>NaN</td>\n",
       "      <td>25.8</td>\n",
       "      <td>2.642</td>\n",
       "      <td>214.656430</td>\n",
       "      <td>6.442</td>\n",
       "      <td>2010.0</td>\n",
       "      <td>7.0</td>\n",
       "      <td>9.0</td>\n",
       "    </tr>\n",
       "    <tr>\n",
       "      <th>92</th>\n",
       "      <td>3.0</td>\n",
       "      <td>NaT</td>\n",
       "      <td>384200.69</td>\n",
       "      <td>0.0</td>\n",
       "      <td>NaN</td>\n",
       "      <td>2.667</td>\n",
       "      <td>214.702765</td>\n",
       "      <td>NaN</td>\n",
       "      <td>NaN</td>\n",
       "      <td>NaN</td>\n",
       "      <td>NaN</td>\n",
       "    </tr>\n",
       "    <tr>\n",
       "      <th>96</th>\n",
       "      <td>8.0</td>\n",
       "      <td>2010-03-12</td>\n",
       "      <td>860336.16</td>\n",
       "      <td>0.0</td>\n",
       "      <td>9.9</td>\n",
       "      <td>NaN</td>\n",
       "      <td>214.749245</td>\n",
       "      <td>6.299</td>\n",
       "      <td>2010.0</td>\n",
       "      <td>3.0</td>\n",
       "      <td>12.0</td>\n",
       "    </tr>\n",
       "    <tr>\n",
       "      <th>0</th>\n",
       "      <td>6.0</td>\n",
       "      <td>2011-02-18</td>\n",
       "      <td>1572117.54</td>\n",
       "      <td>NaN</td>\n",
       "      <td>15.3</td>\n",
       "      <td>3.045</td>\n",
       "      <td>214.777523</td>\n",
       "      <td>6.858</td>\n",
       "      <td>2011.0</td>\n",
       "      <td>2.0</td>\n",
       "      <td>18.0</td>\n",
       "    </tr>\n",
       "    <tr>\n",
       "      <th>100</th>\n",
       "      <td>3.0</td>\n",
       "      <td>2010-06-18</td>\n",
       "      <td>364076.85</td>\n",
       "      <td>0.0</td>\n",
       "      <td>28.6</td>\n",
       "      <td>2.637</td>\n",
       "      <td>214.785826</td>\n",
       "      <td>7.343</td>\n",
       "      <td>2010.0</td>\n",
       "      <td>6.0</td>\n",
       "      <td>18.0</td>\n",
       "    </tr>\n",
       "    <tr>\n",
       "      <th>120</th>\n",
       "      <td>8.0</td>\n",
       "      <td>2010-09-17</td>\n",
       "      <td>836707.85</td>\n",
       "      <td>0.0</td>\n",
       "      <td>24.1</td>\n",
       "      <td>2.582</td>\n",
       "      <td>214.878556</td>\n",
       "      <td>6.315</td>\n",
       "      <td>2010.0</td>\n",
       "      <td>9.0</td>\n",
       "      <td>17.0</td>\n",
       "    </tr>\n",
       "    <tr>\n",
       "      <th>52</th>\n",
       "      <td>9.0</td>\n",
       "      <td>2010-06-25</td>\n",
       "      <td>509263.28</td>\n",
       "      <td>0.0</td>\n",
       "      <td>29.5</td>\n",
       "      <td>2.653</td>\n",
       "      <td>214.896576</td>\n",
       "      <td>NaN</td>\n",
       "      <td>2010.0</td>\n",
       "      <td>6.0</td>\n",
       "      <td>25.0</td>\n",
       "    </tr>\n",
       "    <tr>\n",
       "      <th>34</th>\n",
       "      <td>2.0</td>\n",
       "      <td>NaT</td>\n",
       "      <td>1853161.99</td>\n",
       "      <td>0.0</td>\n",
       "      <td>30.9</td>\n",
       "      <td>3.480</td>\n",
       "      <td>214.929625</td>\n",
       "      <td>NaN</td>\n",
       "      <td>NaN</td>\n",
       "      <td>NaN</td>\n",
       "      <td>NaN</td>\n",
       "    </tr>\n",
       "    <tr>\n",
       "      <th>56</th>\n",
       "      <td>8.0</td>\n",
       "      <td>2010-08-27</td>\n",
       "      <td>888816.78</td>\n",
       "      <td>0.0</td>\n",
       "      <td>23.8</td>\n",
       "      <td>2.619</td>\n",
       "      <td>214.936279</td>\n",
       "      <td>6.315</td>\n",
       "      <td>2010.0</td>\n",
       "      <td>8.0</td>\n",
       "      <td>27.0</td>\n",
       "    </tr>\n",
       "    <tr>\n",
       "      <th>118</th>\n",
       "      <td>9.0</td>\n",
       "      <td>2010-06-18</td>\n",
       "      <td>513073.87</td>\n",
       "      <td>NaN</td>\n",
       "      <td>28.3</td>\n",
       "      <td>2.637</td>\n",
       "      <td>215.016648</td>\n",
       "      <td>6.384</td>\n",
       "      <td>2010.0</td>\n",
       "      <td>6.0</td>\n",
       "      <td>18.0</td>\n",
       "    </tr>\n",
       "    <tr>\n",
       "      <th>114</th>\n",
       "      <td>11.0</td>\n",
       "      <td>2010-11-26</td>\n",
       "      <td>1757242.51</td>\n",
       "      <td>1.0</td>\n",
       "      <td>21.1</td>\n",
       "      <td>2.735</td>\n",
       "      <td>215.061403</td>\n",
       "      <td>7.564</td>\n",
       "      <td>2010.0</td>\n",
       "      <td>11.0</td>\n",
       "      <td>26.0</td>\n",
       "    </tr>\n",
       "    <tr>\n",
       "      <th>89</th>\n",
       "      <td>2.0</td>\n",
       "      <td>NaT</td>\n",
       "      <td>1797732.56</td>\n",
       "      <td>0.0</td>\n",
       "      <td>24.7</td>\n",
       "      <td>3.786</td>\n",
       "      <td>215.154482</td>\n",
       "      <td>7.931</td>\n",
       "      <td>NaN</td>\n",
       "      <td>NaN</td>\n",
       "      <td>NaN</td>\n",
       "    </tr>\n",
       "    <tr>\n",
       "      <th>80</th>\n",
       "      <td>9.0</td>\n",
       "      <td>2010-11-19</td>\n",
       "      <td>519823.30</td>\n",
       "      <td>0.0</td>\n",
       "      <td>10.0</td>\n",
       "      <td>2.771</td>\n",
       "      <td>215.437285</td>\n",
       "      <td>6.560</td>\n",
       "      <td>2010.0</td>\n",
       "      <td>11.0</td>\n",
       "      <td>19.0</td>\n",
       "    </tr>\n",
       "    <tr>\n",
       "      <th>123</th>\n",
       "      <td>1.0</td>\n",
       "      <td>2011-05-27</td>\n",
       "      <td>1466046.67</td>\n",
       "      <td>0.0</td>\n",
       "      <td>NaN</td>\n",
       "      <td>3.786</td>\n",
       "      <td>215.503788</td>\n",
       "      <td>7.682</td>\n",
       "      <td>2011.0</td>\n",
       "      <td>5.0</td>\n",
       "      <td>27.0</td>\n",
       "    </tr>\n",
       "    <tr>\n",
       "      <th>48</th>\n",
       "      <td>1.0</td>\n",
       "      <td>2011-08-05</td>\n",
       "      <td>1624383.75</td>\n",
       "      <td>NaN</td>\n",
       "      <td>33.1</td>\n",
       "      <td>3.684</td>\n",
       "      <td>215.544618</td>\n",
       "      <td>7.962</td>\n",
       "      <td>2011.0</td>\n",
       "      <td>8.0</td>\n",
       "      <td>5.0</td>\n",
       "    </tr>\n",
       "    <tr>\n",
       "      <th>121</th>\n",
       "      <td>5.0</td>\n",
       "      <td>2011-07-29</td>\n",
       "      <td>275142.17</td>\n",
       "      <td>0.0</td>\n",
       "      <td>31.9</td>\n",
       "      <td>3.682</td>\n",
       "      <td>216.046436</td>\n",
       "      <td>6.529</td>\n",
       "      <td>2011.0</td>\n",
       "      <td>7.0</td>\n",
       "      <td>29.0</td>\n",
       "    </tr>\n",
       "    <tr>\n",
       "      <th>21</th>\n",
       "      <td>5.0</td>\n",
       "      <td>2011-05-13</td>\n",
       "      <td>290930.01</td>\n",
       "      <td>0.0</td>\n",
       "      <td>25.2</td>\n",
       "      <td>3.899</td>\n",
       "      <td>216.534361</td>\n",
       "      <td>6.489</td>\n",
       "      <td>2011.0</td>\n",
       "      <td>5.0</td>\n",
       "      <td>13.0</td>\n",
       "    </tr>\n",
       "    <tr>\n",
       "      <th>138</th>\n",
       "      <td>6.0</td>\n",
       "      <td>2011-04-22</td>\n",
       "      <td>1639358.93</td>\n",
       "      <td>0.0</td>\n",
       "      <td>23.5</td>\n",
       "      <td>3.807</td>\n",
       "      <td>217.014694</td>\n",
       "      <td>6.855</td>\n",
       "      <td>2011.0</td>\n",
       "      <td>4.0</td>\n",
       "      <td>22.0</td>\n",
       "    </tr>\n",
       "    <tr>\n",
       "      <th>29</th>\n",
       "      <td>6.0</td>\n",
       "      <td>2011-08-26</td>\n",
       "      <td>1420405.41</td>\n",
       "      <td>0.0</td>\n",
       "      <td>NaN</td>\n",
       "      <td>3.523</td>\n",
       "      <td>217.270654</td>\n",
       "      <td>6.925</td>\n",
       "      <td>2011.0</td>\n",
       "      <td>8.0</td>\n",
       "      <td>26.0</td>\n",
       "    </tr>\n",
       "    <tr>\n",
       "      <th>78</th>\n",
       "      <td>1.0</td>\n",
       "      <td>2011-11-18</td>\n",
       "      <td>1539483.70</td>\n",
       "      <td>0.0</td>\n",
       "      <td>16.8</td>\n",
       "      <td>3.308</td>\n",
       "      <td>218.220509</td>\n",
       "      <td>7.866</td>\n",
       "      <td>2011.0</td>\n",
       "      <td>11.0</td>\n",
       "      <td>18.0</td>\n",
       "    </tr>\n",
       "    <tr>\n",
       "      <th>39</th>\n",
       "      <td>5.0</td>\n",
       "      <td>2011-11-11</td>\n",
       "      <td>311906.70</td>\n",
       "      <td>0.0</td>\n",
       "      <td>16.0</td>\n",
       "      <td>3.297</td>\n",
       "      <td>218.569962</td>\n",
       "      <td>6.300</td>\n",
       "      <td>2011.0</td>\n",
       "      <td>11.0</td>\n",
       "      <td>11.0</td>\n",
       "    </tr>\n",
       "    <tr>\n",
       "      <th>148</th>\n",
       "      <td>8.0</td>\n",
       "      <td>2011-08-12</td>\n",
       "      <td>856796.10</td>\n",
       "      <td>0.0</td>\n",
       "      <td>30.0</td>\n",
       "      <td>3.638</td>\n",
       "      <td>219.007525</td>\n",
       "      <td>NaN</td>\n",
       "      <td>2011.0</td>\n",
       "      <td>8.0</td>\n",
       "      <td>12.0</td>\n",
       "    </tr>\n",
       "    <tr>\n",
       "      <th>10</th>\n",
       "      <td>8.0</td>\n",
       "      <td>2011-08-19</td>\n",
       "      <td>895066.50</td>\n",
       "      <td>0.0</td>\n",
       "      <td>28.3</td>\n",
       "      <td>3.554</td>\n",
       "      <td>219.070197</td>\n",
       "      <td>6.425</td>\n",
       "      <td>2011.0</td>\n",
       "      <td>8.0</td>\n",
       "      <td>19.0</td>\n",
       "    </tr>\n",
       "    <tr>\n",
       "      <th>101</th>\n",
       "      <td>2.0</td>\n",
       "      <td>2012-01-06</td>\n",
       "      <td>1799520.14</td>\n",
       "      <td>0.0</td>\n",
       "      <td>8.2</td>\n",
       "      <td>NaN</td>\n",
       "      <td>219.355063</td>\n",
       "      <td>7.057</td>\n",
       "      <td>2012.0</td>\n",
       "      <td>1.0</td>\n",
       "      <td>6.0</td>\n",
       "    </tr>\n",
       "    <tr>\n",
       "      <th>36</th>\n",
       "      <td>3.0</td>\n",
       "      <td>2011-09-23</td>\n",
       "      <td>365248.94</td>\n",
       "      <td>0.0</td>\n",
       "      <td>26.8</td>\n",
       "      <td>3.467</td>\n",
       "      <td>219.741491</td>\n",
       "      <td>7.567</td>\n",
       "      <td>2011.0</td>\n",
       "      <td>9.0</td>\n",
       "      <td>23.0</td>\n",
       "    </tr>\n",
       "    <tr>\n",
       "      <th>45</th>\n",
       "      <td>2.0</td>\n",
       "      <td>2012-02-24</td>\n",
       "      <td>1861802.70</td>\n",
       "      <td>0.0</td>\n",
       "      <td>12.6</td>\n",
       "      <td>3.555</td>\n",
       "      <td>220.275944</td>\n",
       "      <td>7.057</td>\n",
       "      <td>2012.0</td>\n",
       "      <td>2.0</td>\n",
       "      <td>24.0</td>\n",
       "    </tr>\n",
       "    <tr>\n",
       "      <th>13</th>\n",
       "      <td>1.0</td>\n",
       "      <td>2012-03-16</td>\n",
       "      <td>1677472.78</td>\n",
       "      <td>0.0</td>\n",
       "      <td>18.2</td>\n",
       "      <td>3.734</td>\n",
       "      <td>221.211813</td>\n",
       "      <td>7.348</td>\n",
       "      <td>2012.0</td>\n",
       "      <td>3.0</td>\n",
       "      <td>16.0</td>\n",
       "    </tr>\n",
       "    <tr>\n",
       "      <th>81</th>\n",
       "      <td>5.0</td>\n",
       "      <td>NaT</td>\n",
       "      <td>359206.21</td>\n",
       "      <td>0.0</td>\n",
       "      <td>NaN</td>\n",
       "      <td>3.630</td>\n",
       "      <td>221.434215</td>\n",
       "      <td>5.943</td>\n",
       "      <td>NaN</td>\n",
       "      <td>NaN</td>\n",
       "      <td>NaN</td>\n",
       "    </tr>\n",
       "    <tr>\n",
       "      <th>125</th>\n",
       "      <td>3.0</td>\n",
       "      <td>2011-11-18</td>\n",
       "      <td>398838.97</td>\n",
       "      <td>0.0</td>\n",
       "      <td>17.7</td>\n",
       "      <td>3.308</td>\n",
       "      <td>221.643285</td>\n",
       "      <td>7.197</td>\n",
       "      <td>2011.0</td>\n",
       "      <td>11.0</td>\n",
       "      <td>18.0</td>\n",
       "    </tr>\n",
       "    <tr>\n",
       "      <th>42</th>\n",
       "      <td>1.0</td>\n",
       "      <td>NaT</td>\n",
       "      <td>1661767.33</td>\n",
       "      <td>1.0</td>\n",
       "      <td>NaN</td>\n",
       "      <td>3.730</td>\n",
       "      <td>222.439015</td>\n",
       "      <td>6.908</td>\n",
       "      <td>NaN</td>\n",
       "      <td>NaN</td>\n",
       "      <td>NaN</td>\n",
       "    </tr>\n",
       "    <tr>\n",
       "      <th>74</th>\n",
       "      <td>1.0</td>\n",
       "      <td>2012-10-19</td>\n",
       "      <td>1508068.77</td>\n",
       "      <td>0.0</td>\n",
       "      <td>20.0</td>\n",
       "      <td>3.594</td>\n",
       "      <td>223.425723</td>\n",
       "      <td>NaN</td>\n",
       "      <td>2012.0</td>\n",
       "      <td>10.0</td>\n",
       "      <td>19.0</td>\n",
       "    </tr>\n",
       "    <tr>\n",
       "      <th>82</th>\n",
       "      <td>11.0</td>\n",
       "      <td>NaT</td>\n",
       "      <td>1569607.94</td>\n",
       "      <td>0.0</td>\n",
       "      <td>11.5</td>\n",
       "      <td>3.510</td>\n",
       "      <td>223.917015</td>\n",
       "      <td>6.833</td>\n",
       "      <td>NaN</td>\n",
       "      <td>NaN</td>\n",
       "      <td>NaN</td>\n",
       "    </tr>\n",
       "    <tr>\n",
       "      <th>63</th>\n",
       "      <td>5.0</td>\n",
       "      <td>2012-10-19</td>\n",
       "      <td>313358.15</td>\n",
       "      <td>0.0</td>\n",
       "      <td>20.7</td>\n",
       "      <td>3.594</td>\n",
       "      <td>224.019287</td>\n",
       "      <td>5.422</td>\n",
       "      <td>2012.0</td>\n",
       "      <td>10.0</td>\n",
       "      <td>19.0</td>\n",
       "    </tr>\n",
       "    <tr>\n",
       "      <th>9</th>\n",
       "      <td>3.0</td>\n",
       "      <td>NaT</td>\n",
       "      <td>418925.47</td>\n",
       "      <td>0.0</td>\n",
       "      <td>15.6</td>\n",
       "      <td>3.555</td>\n",
       "      <td>224.132020</td>\n",
       "      <td>6.833</td>\n",
       "      <td>NaN</td>\n",
       "      <td>NaN</td>\n",
       "      <td>NaN</td>\n",
       "    </tr>\n",
       "    <tr>\n",
       "      <th>87</th>\n",
       "      <td>3.0</td>\n",
       "      <td>2012-05-11</td>\n",
       "      <td>431985.36</td>\n",
       "      <td>0.0</td>\n",
       "      <td>24.0</td>\n",
       "      <td>3.688</td>\n",
       "      <td>225.235150</td>\n",
       "      <td>6.664</td>\n",
       "      <td>2012.0</td>\n",
       "      <td>5.0</td>\n",
       "      <td>11.0</td>\n",
       "    </tr>\n",
       "    <tr>\n",
       "      <th>104</th>\n",
       "      <td>3.0</td>\n",
       "      <td>2012-06-22</td>\n",
       "      <td>419497.95</td>\n",
       "      <td>0.0</td>\n",
       "      <td>28.2</td>\n",
       "      <td>3.346</td>\n",
       "      <td>225.306861</td>\n",
       "      <td>6.664</td>\n",
       "      <td>2012.0</td>\n",
       "      <td>6.0</td>\n",
       "      <td>22.0</td>\n",
       "    </tr>\n",
       "    <tr>\n",
       "      <th>144</th>\n",
       "      <td>3.0</td>\n",
       "      <td>2012-10-19</td>\n",
       "      <td>424513.08</td>\n",
       "      <td>0.0</td>\n",
       "      <td>23.0</td>\n",
       "      <td>3.594</td>\n",
       "      <td>226.968844</td>\n",
       "      <td>6.034</td>\n",
       "      <td>2012.0</td>\n",
       "      <td>10.0</td>\n",
       "      <td>19.0</td>\n",
       "    </tr>\n",
       "  </tbody>\n",
       "</table>\n",
       "</div>"
      ],
      "text/plain": [
       "     Store    Date     Weekly_Sales  Holiday_Flag  Temperature  Fuel_Price  \\\n",
       "147  17.0  2010-06-11    845252.21        0.0         14.0         2.841     \n",
       "135  12.0  2010-09-10    903119.03        1.0         28.7         3.044     \n",
       "98   10.0  2010-06-25   1768172.31        0.0         32.4           NaN     \n",
       "137  10.0         NaT   1831676.03        0.0         31.4         3.112     \n",
       "99   13.0  2010-07-02   2018314.71        0.0         26.0         2.814     \n",
       "5     4.0  2010-05-28   1857533.70        0.0          NaN         2.756     \n",
       "14   17.0  2010-10-01    829207.27        0.0         15.6         2.853     \n",
       "131  17.0  2010-11-12    855459.96        0.0          NaN         2.831     \n",
       "28   17.0  2010-04-16    757738.76        0.0          7.3         2.915     \n",
       "103   4.0  2010-12-10   2302504.86        0.0          5.8         2.860     \n",
       "72   13.0  2010-12-10   2461468.35        0.0          2.7         2.817     \n",
       "62   12.0  2010-12-17   1295605.35        0.0         11.5         3.236     \n",
       "65   10.0         NaT   1714309.90        NaN          6.4         3.287     \n",
       "1    13.0  2011-03-25   1807545.43        0.0          5.8         3.435     \n",
       "30   12.0  2011-05-06   1021154.48        0.0         20.2         4.193     \n",
       "93   12.0  2011-05-27    964332.51        0.0          NaN         4.087     \n",
       "38    4.0  2011-06-24   2008344.92        0.0         27.7         3.570     \n",
       "136   4.0  2011-07-08   2066541.86        NaN         29.2         3.469     \n",
       "132   4.0  2011-07-22   2036231.39        0.0         28.2         3.627     \n",
       "128  13.0  2011-08-12   1970341.38        0.0         24.4         3.606     \n",
       "68   12.0  2011-08-12    955913.68        0.0         32.8         3.701     \n",
       "55   13.0  2011-09-23   1847430.96        0.0         17.6         3.648     \n",
       "64    4.0  2011-12-16   2771397.17        0.0          2.5         3.149     \n",
       "113  13.0  2012-01-20   1811606.21        0.0          0.4           NaN     \n",
       "61   10.0  2012-03-02   1990371.02        0.0         14.2         3.882     \n",
       "54   10.0  2012-07-06   1805999.79        0.0         30.5         3.666     \n",
       "130  13.0  2012-03-16   2025582.62        0.0         11.4         3.529     \n",
       "50   13.0  2012-06-01   2035431.39        0.0         16.2         3.788     \n",
       "86   17.0         NaT    986922.62        0.0          NaN         3.793     \n",
       "25   17.0  2012-10-12    919878.34        0.0          7.1         3.797     \n",
       "17   18.0         NaT   1205307.50        0.0         -5.9         2.788     \n",
       "115  15.0  2010-02-19    660838.75        0.0          NaN         2.909     \n",
       "23   19.0  2010-03-26   1427023.45        0.0          3.9         2.963     \n",
       "108  18.0  2010-05-28   1256282.79        0.0         20.6         2.906     \n",
       "47   19.0  2010-07-02   1549018.68        0.0         19.0         2.958     \n",
       "105  19.0  2010-07-30   1366395.96        0.0         22.7         2.932     \n",
       "66   18.0  2010-08-06   1166117.85        0.0         23.2         2.792     \n",
       "11   18.0  2010-10-15   1029618.10        0.0         11.1         2.878     \n",
       "35   19.0  2011-03-25   1266564.94        0.0          0.7         3.789     \n",
       "37   18.0  2011-04-15    988157.72        0.0          NaN         3.823     \n",
       "6    15.0  2011-06-03    695396.19        0.0         21.0         4.069     \n",
       "124  19.0  2011-06-10   1467473.63        0.0         20.1           NaN     \n",
       "102  18.0         NaT   1087051.26        0.0         21.0         3.815     \n",
       "83   15.0         NaT    607475.44        0.0         26.6         3.972     \n",
       "76   15.0  2012-03-16    570611.23        0.0          8.6         4.021     \n",
       "149  19.0  2012-04-20   1255087.26        0.0         12.9         4.170     \n",
       "40   18.0  2012-04-27    961186.23        0.0         10.2         4.023     \n",
       "24   19.0  2012-05-04   1405007.44        0.0         10.4         4.124     \n",
       "111  19.0  2012-06-22   1468350.36        0.0          NaN         3.722     \n",
       "129  18.0         NaT   1048134.24        0.0         22.9         3.840     \n",
       "22   18.0  2012-10-12   1074079.00        0.0         10.5         4.029     \n",
       "145  14.0  2010-06-18   2248645.59        0.0         22.6         2.780     \n",
       "119  14.0  2011-01-07   1864746.10        0.0          1.3         3.193     \n",
       "53   14.0  2011-03-25   1879451.23        NaN          5.4         3.625     \n",
       "60   14.0  2011-05-06   2095599.93        0.0          NaN         4.046     \n",
       "94   14.0  2011-07-15   1953544.76        0.0         25.8         3.760     \n",
       "127  16.0  2010-07-09    614253.33        0.0         16.5         2.711     \n",
       "20    7.0  2010-04-02    561145.14        0.0          3.5         2.725     \n",
       "59   14.0  2012-02-17   2020550.99        0.0          2.7         3.695     \n",
       "12    7.0  2011-05-13    414094.05        0.0          2.6         3.767     \n",
       "27   16.0  2011-05-20    435397.19        0.0          6.6         3.828     \n",
       "43    7.0  2011-08-26    629994.47        NaN         14.2         3.485     \n",
       "32    7.0  2012-02-10    563460.77        1.0         -7.3         3.103     \n",
       "49   16.0  2012-03-30    485095.41        0.0          9.0         3.750     \n",
       "139   7.0  2012-05-25    532739.77        0.0         10.3         3.804     \n",
       "116   7.0  2012-04-20    457340.06        0.0          4.1         3.936     \n",
       "122   7.0  2012-09-07    597876.55        1.0         14.4         3.596     \n",
       "41   16.0  2012-09-14    526525.16        0.0          NaN         3.659     \n",
       "75   20.0  2010-06-25   1973135.87        0.0         24.0         2.808     \n",
       "110  20.0  2010-12-31   1799737.79        1.0         -1.7         3.179     \n",
       "95    1.0  2010-05-14   1494251.50        0.0         23.8         2.854     \n",
       "97    5.0  2010-04-30    298697.84        0.0         19.7           NaN     \n",
       "112   2.0  2010-02-19   2124451.54        0.0          4.3         2.514     \n",
       "85    2.0  2011-01-07   1758050.79        0.0          7.0         2.976     \n",
       "44    1.0  2010-02-12   1641957.44        1.0          3.6         2.548     \n",
       "73    1.0  2010-08-27   1449142.92        NaN         29.6         2.619     \n",
       "51    2.0  2010-11-12   1916812.74        0.0         15.4         2.728     \n",
       "15    6.0  2010-04-30   1498080.16        NaN         20.5         2.780     \n",
       "46    5.0  2010-07-30    268929.03        0.0         28.0         2.640     \n",
       "4     6.0  2010-05-28   1644470.66        0.0         26.0         2.759     \n",
       "141   5.0  2010-11-12    301827.36        0.0         16.9           NaN     \n",
       "58    6.0  2010-07-30   1532308.78        0.0          NaN         2.640     \n",
       "7    20.0  2012-02-03   2203523.20        0.0          4.4         3.617     \n",
       "88   20.0         NaT   2045837.55        0.0          4.3         3.739     \n",
       "67    3.0  2010-02-05    461622.22        0.0          7.6         2.572     \n",
       "143   3.0  2010-06-04    396968.80        0.0         25.8         2.705     \n",
       "3    11.0         NaT   1244390.03        0.0         29.2           NaN     \n",
       "107   8.0  2010-02-12    994801.40        1.0          0.7         2.548     \n",
       "90    9.0  2010-07-09    485389.15        NaN         25.8         2.642     \n",
       "92    3.0         NaT    384200.69        0.0          NaN         2.667     \n",
       "96    8.0  2010-03-12    860336.16        0.0          9.9           NaN     \n",
       "0     6.0  2011-02-18   1572117.54        NaN         15.3         3.045     \n",
       "100   3.0  2010-06-18    364076.85        0.0         28.6         2.637     \n",
       "120   8.0  2010-09-17    836707.85        0.0         24.1         2.582     \n",
       "52    9.0  2010-06-25    509263.28        0.0         29.5         2.653     \n",
       "34    2.0         NaT   1853161.99        0.0         30.9         3.480     \n",
       "56    8.0  2010-08-27    888816.78        0.0         23.8         2.619     \n",
       "118   9.0  2010-06-18    513073.87        NaN         28.3         2.637     \n",
       "114  11.0  2010-11-26   1757242.51        1.0         21.1         2.735     \n",
       "89    2.0         NaT   1797732.56        0.0         24.7         3.786     \n",
       "80    9.0  2010-11-19    519823.30        0.0         10.0         2.771     \n",
       "123   1.0  2011-05-27   1466046.67        0.0          NaN         3.786     \n",
       "48    1.0  2011-08-05   1624383.75        NaN         33.1         3.684     \n",
       "121   5.0  2011-07-29    275142.17        0.0         31.9         3.682     \n",
       "21    5.0  2011-05-13    290930.01        0.0         25.2         3.899     \n",
       "138   6.0  2011-04-22   1639358.93        0.0         23.5         3.807     \n",
       "29    6.0  2011-08-26   1420405.41        0.0          NaN         3.523     \n",
       "78    1.0  2011-11-18   1539483.70        0.0         16.8         3.308     \n",
       "39    5.0  2011-11-11    311906.70        0.0         16.0         3.297     \n",
       "148   8.0  2011-08-12    856796.10        0.0         30.0         3.638     \n",
       "10    8.0  2011-08-19    895066.50        0.0         28.3         3.554     \n",
       "101   2.0  2012-01-06   1799520.14        0.0          8.2           NaN     \n",
       "36    3.0  2011-09-23    365248.94        0.0         26.8         3.467     \n",
       "45    2.0  2012-02-24   1861802.70        0.0         12.6         3.555     \n",
       "13    1.0  2012-03-16   1677472.78        0.0         18.2         3.734     \n",
       "81    5.0         NaT    359206.21        0.0          NaN         3.630     \n",
       "125   3.0  2011-11-18    398838.97        0.0         17.7         3.308     \n",
       "42    1.0         NaT   1661767.33        1.0          NaN         3.730     \n",
       "74    1.0  2012-10-19   1508068.77        0.0         20.0         3.594     \n",
       "82   11.0         NaT   1569607.94        0.0         11.5         3.510     \n",
       "63    5.0  2012-10-19    313358.15        0.0         20.7         3.594     \n",
       "9     3.0         NaT    418925.47        0.0         15.6         3.555     \n",
       "87    3.0  2012-05-11    431985.36        0.0         24.0         3.688     \n",
       "104   3.0  2012-06-22    419497.95        0.0         28.2         3.346     \n",
       "144   3.0  2012-10-19    424513.08        0.0         23.0         3.594     \n",
       "\n",
       "         CPI     Unemployment   Year   Month   Day  \n",
       "147  126.111903        NaN     2010.0   6.0   11.0  \n",
       "135  126.114581     14.180     2010.0   9.0   10.0  \n",
       "98   126.126600      9.524     2010.0   6.0   25.0  \n",
       "137  126.128355      9.199        NaN   NaN    NaN  \n",
       "99   126.139200      7.951     2010.0   7.0    2.0  \n",
       "5    126.160226      7.896     2010.0   5.0   28.0  \n",
       "14   126.234600      6.885     2010.0  10.0    1.0  \n",
       "131  126.546161        NaN     2010.0  11.0   12.0  \n",
       "28   126.562100      6.635     2010.0   4.0   16.0  \n",
       "103  126.793400      7.127     2010.0  12.0   10.0  \n",
       "72   126.793400      7.795     2010.0  12.0   10.0  \n",
       "62   126.879484     14.313     2010.0  12.0   17.0  \n",
       "65   127.191774      8.744        NaN   NaN    NaN  \n",
       "1    128.616064      7.470     2011.0   3.0   25.0  \n",
       "30   129.044433     13.736     2011.0   5.0    6.0  \n",
       "93   129.062355     13.736     2011.0   5.0   27.0  \n",
       "38   129.066300      5.946     2011.0   6.0   24.0  \n",
       "136  129.112500      5.644     2011.0   7.0    8.0  \n",
       "132  129.150774      5.644     2011.0   7.0   22.0  \n",
       "128  129.201581      6.877     2011.0   8.0   12.0  \n",
       "68   129.201581     13.503     2011.0   8.0   12.0  \n",
       "55   129.518333      6.877     2011.0   9.0   23.0  \n",
       "64   129.898065      5.143     2011.0  12.0   16.0  \n",
       "113  130.279226      6.104     2012.0   1.0   20.0  \n",
       "61   130.645793      7.545     2012.0   3.0    2.0  \n",
       "54   130.719633      7.170     2012.0   7.0    6.0  \n",
       "130  130.826194      6.104     2012.0   3.0   16.0  \n",
       "50   130.959226      5.965     2012.0   6.0    1.0  \n",
       "86   131.037548      6.235        NaN   NaN    NaN  \n",
       "25   131.108333      5.527     2012.0  10.0   12.0  \n",
       "17   131.527903      9.202        NaN   NaN    NaN  \n",
       "115  131.637000        NaN     2010.0   2.0   19.0  \n",
       "23   131.863129      8.350     2010.0   3.0   26.0  \n",
       "108  132.293936        NaN     2010.0   5.0   28.0  \n",
       "47   132.521867      8.099     2010.0   7.0    2.0  \n",
       "105  132.598387      8.099     2010.0   7.0   30.0  \n",
       "66   132.614193      9.342     2010.0   8.0    6.0  \n",
       "11   132.763355      9.331     2010.0  10.0   15.0  \n",
       "35   133.958742      7.771     2011.0   3.0   25.0  \n",
       "37   134.278467      8.975     2011.0   4.0   15.0  \n",
       "6    134.855161      7.658     2011.0   6.0    3.0  \n",
       "124  134.942548      7.658     2011.0   6.0   10.0  \n",
       "102  135.446800      8.890        NaN   NaN    NaN  \n",
       "83   135.873839      7.806        NaN   NaN    NaN  \n",
       "76   137.584387      7.943     2012.0   3.0   16.0  \n",
       "149  137.923067      8.150     2012.0   4.0   20.0  \n",
       "40   137.978133      8.304     2012.0   4.0   27.0  \n",
       "24   138.033200      8.150     2012.0   5.0    4.0  \n",
       "111  138.162900      8.150     2012.0   6.0   22.0  \n",
       "129  138.185710      8.535        NaN   NaN    NaN  \n",
       "22   138.911700      8.243     2012.0  10.0   12.0  \n",
       "145  182.442420      8.899     2010.0   6.0   18.0  \n",
       "119  182.598306        NaN     2011.0   1.0    7.0  \n",
       "53   184.994368      8.549     2011.0   3.0   25.0  \n",
       "60   185.937438      8.521     2011.0   5.0    6.0  \n",
       "94   186.139981      8.625     2011.0   7.0   15.0  \n",
       "127  189.523128      6.868     2010.0   7.0    9.0  \n",
       "20   189.704822      8.963     2010.0   4.0    2.0  \n",
       "59   189.842483      8.424     2012.0   2.0   17.0  \n",
       "12   192.826069      8.595     2011.0   5.0   13.0  \n",
       "27   192.831317      6.339     2011.0   5.0   20.0  \n",
       "43   194.379637      8.622     2011.0   8.0   26.0  \n",
       "32   196.919506      8.256     2012.0   2.0   10.0  \n",
       "49   197.413326      6.162     2012.0   3.0   30.0  \n",
       "139  197.588605      8.090     2012.0   5.0   25.0  \n",
       "116  197.722738      8.090     2012.0   4.0   20.0  \n",
       "122  198.095048      7.872     2012.0   9.0    7.0  \n",
       "41   198.126718      6.061     2012.0   9.0   14.0  \n",
       "75   204.567546      7.856     2010.0   6.0   25.0  \n",
       "110  204.643227      7.484     2010.0  12.0   31.0  \n",
       "95   210.337426      7.808     2010.0   5.0   14.0  \n",
       "97   210.939388        NaN     2010.0   4.0   30.0  \n",
       "112  210.945160        NaN     2010.0   2.0   19.0  \n",
       "85   211.064888      8.028     2011.0   1.0    7.0  \n",
       "44   211.242170      8.106     2010.0   2.0   12.0  \n",
       "73   211.567306      7.787     2010.0   8.0   27.0  \n",
       "51   211.660898      8.163     2010.0  11.0   12.0  \n",
       "15   211.894272      7.092     2010.0   4.0   30.0  \n",
       "46   211.927001      6.496     2010.0   7.0   30.0  \n",
       "4    212.412888      7.092     2010.0   5.0   28.0  \n",
       "141  212.560411      6.768     2010.0  11.0   12.0  \n",
       "58   212.894485      6.973     2010.0   7.0   30.0  \n",
       "7    213.023622      6.961     2012.0   2.0    3.0  \n",
       "88   213.472512      6.961        NaN   NaN    NaN  \n",
       "67   214.424881      7.368     2010.0   2.0    5.0  \n",
       "143  214.495838      7.343     2010.0   6.0    4.0  \n",
       "3    214.556497      7.346        NaN   NaN    NaN  \n",
       "107  214.621419      6.299     2010.0   2.0   12.0  \n",
       "90   214.656430      6.442     2010.0   7.0    9.0  \n",
       "92   214.702765        NaN        NaN   NaN    NaN  \n",
       "96   214.749245      6.299     2010.0   3.0   12.0  \n",
       "0    214.777523      6.858     2011.0   2.0   18.0  \n",
       "100  214.785826      7.343     2010.0   6.0   18.0  \n",
       "120  214.878556      6.315     2010.0   9.0   17.0  \n",
       "52   214.896576        NaN     2010.0   6.0   25.0  \n",
       "34   214.929625        NaN        NaN   NaN    NaN  \n",
       "56   214.936279      6.315     2010.0   8.0   27.0  \n",
       "118  215.016648      6.384     2010.0   6.0   18.0  \n",
       "114  215.061403      7.564     2010.0  11.0   26.0  \n",
       "89   215.154482      7.931        NaN   NaN    NaN  \n",
       "80   215.437285      6.560     2010.0  11.0   19.0  \n",
       "123  215.503788      7.682     2011.0   5.0   27.0  \n",
       "48   215.544618      7.962     2011.0   8.0    5.0  \n",
       "121  216.046436      6.529     2011.0   7.0   29.0  \n",
       "21   216.534361      6.489     2011.0   5.0   13.0  \n",
       "138  217.014694      6.855     2011.0   4.0   22.0  \n",
       "29   217.270654      6.925     2011.0   8.0   26.0  \n",
       "78   218.220509      7.866     2011.0  11.0   18.0  \n",
       "39   218.569962      6.300     2011.0  11.0   11.0  \n",
       "148  219.007525        NaN     2011.0   8.0   12.0  \n",
       "10   219.070197      6.425     2011.0   8.0   19.0  \n",
       "101  219.355063      7.057     2012.0   1.0    6.0  \n",
       "36   219.741491      7.567     2011.0   9.0   23.0  \n",
       "45   220.275944      7.057     2012.0   2.0   24.0  \n",
       "13   221.211813      7.348     2012.0   3.0   16.0  \n",
       "81   221.434215      5.943        NaN   NaN    NaN  \n",
       "125  221.643285      7.197     2011.0  11.0   18.0  \n",
       "42   222.439015      6.908        NaN   NaN    NaN  \n",
       "74   223.425723        NaN     2012.0  10.0   19.0  \n",
       "82   223.917015      6.833        NaN   NaN    NaN  \n",
       "63   224.019287      5.422     2012.0  10.0   19.0  \n",
       "9    224.132020      6.833        NaN   NaN    NaN  \n",
       "87   225.235150      6.664     2012.0   5.0   11.0  \n",
       "104  225.306861      6.664     2012.0   6.0   22.0  \n",
       "144  226.968844      6.034     2012.0  10.0   19.0  "
      ]
     },
     "execution_count": 20,
     "metadata": {},
     "output_type": "execute_result"
    }
   ],
   "source": [
    "CPI_same = df[df['CPI'].notna()].sort_values(by='CPI')\n",
    "CPI_same"
   ]
  },
  {
   "cell_type": "markdown",
   "metadata": {},
   "source": [
    "Pas à ppremière vue"
   ]
  },
  {
   "cell_type": "code",
   "execution_count": 21,
   "metadata": {},
   "outputs": [
    {
     "name": "stdout",
     "output_type": "stream",
     "text": [
      "     Store    Date     Weekly_Sales  Holiday_Flag  Temperature  Fuel_Price  \\\n",
      "0     6.0  2011-02-18   1572117.54        NaN         15.3         3.045     \n",
      "3    11.0         NaT   1244390.03        0.0         29.2           NaN     \n",
      "34    2.0         NaT   1853161.99        0.0         30.9         3.480     \n",
      "52    9.0  2010-06-25    509263.28        0.0         29.5         2.653     \n",
      "56    8.0  2010-08-27    888816.78        0.0         23.8         2.619     \n",
      "67    3.0  2010-02-05    461622.22        0.0          7.6         2.572     \n",
      "90    9.0  2010-07-09    485389.15        NaN         25.8         2.642     \n",
      "92    3.0         NaT    384200.69        0.0          NaN         2.667     \n",
      "96    8.0  2010-03-12    860336.16        0.0          9.9           NaN     \n",
      "100   3.0  2010-06-18    364076.85        0.0         28.6         2.637     \n",
      "107   8.0  2010-02-12    994801.40        1.0          0.7         2.548     \n",
      "120   8.0  2010-09-17    836707.85        0.0         24.1         2.582     \n",
      "143   3.0  2010-06-04    396968.80        0.0         25.8         2.705     \n",
      "\n",
      "         CPI     Unemployment   Year   Month   Day  \n",
      "0    214.777523      6.858     2011.0   2.0   18.0  \n",
      "3    214.556497      7.346        NaN   NaN    NaN  \n",
      "34   214.929625        NaN        NaN   NaN    NaN  \n",
      "52   214.896576        NaN     2010.0   6.0   25.0  \n",
      "56   214.936279      6.315     2010.0   8.0   27.0  \n",
      "67   214.424881      7.368     2010.0   2.0    5.0  \n",
      "90   214.656430      6.442     2010.0   7.0    9.0  \n",
      "92   214.702765        NaN        NaN   NaN    NaN  \n",
      "96   214.749245      6.299     2010.0   3.0   12.0  \n",
      "100  214.785826      7.343     2010.0   6.0   18.0  \n",
      "107  214.621419      6.299     2010.0   2.0   12.0  \n",
      "120  214.878556      6.315     2010.0   9.0   17.0  \n",
      "143  214.495838      7.343     2010.0   6.0    4.0  \n"
     ]
    }
   ],
   "source": [
    "# comparer dans DF les lignes avec un CPI entre 214 et 215 pour voir si il y a des valeurs se rapprochant\n",
    "df_filtré = df.query('214 <= CPI < 215')\n",
    "print(df_filtré)\n"
   ]
  },
  {
   "cell_type": "markdown",
   "metadata": {},
   "source": [
    "Aucune valeur. Impossible de rapprocher les dates vides avec une date pleine possédant le même taux de chômage. "
   ]
  },
  {
   "cell_type": "code",
   "execution_count": 22,
   "metadata": {},
   "outputs": [],
   "source": [
    "# Supprimer les date vides\n",
    "df.dropna(subset=['Date'], inplace=True)"
   ]
  },
  {
   "cell_type": "code",
   "execution_count": 23,
   "metadata": {},
   "outputs": [
    {
     "data": {
      "text/plain": [
       "(118, 11)"
      ]
     },
     "execution_count": 23,
     "metadata": {},
     "output_type": "execute_result"
    }
   ],
   "source": [
    "df.shape"
   ]
  },
  {
   "cell_type": "code",
   "execution_count": 24,
   "metadata": {},
   "outputs": [
    {
     "data": {
      "text/html": [
       "<div>\n",
       "<style scoped>\n",
       "    .dataframe tbody tr th:only-of-type {\n",
       "        vertical-align: middle;\n",
       "    }\n",
       "\n",
       "    .dataframe tbody tr th {\n",
       "        vertical-align: top;\n",
       "    }\n",
       "\n",
       "    .dataframe thead th {\n",
       "        text-align: right;\n",
       "    }\n",
       "</style>\n",
       "<table border=\"1\" class=\"dataframe\">\n",
       "  <thead>\n",
       "    <tr style=\"text-align: center;\">\n",
       "      <th></th>\n",
       "      <th>Store</th>\n",
       "      <th>Date</th>\n",
       "      <th>Weekly_Sales</th>\n",
       "      <th>Holiday_Flag</th>\n",
       "      <th>Temperature</th>\n",
       "      <th>Fuel_Price</th>\n",
       "      <th>CPI</th>\n",
       "      <th>Unemployment</th>\n",
       "      <th>Year</th>\n",
       "      <th>Month</th>\n",
       "      <th>Day</th>\n",
       "    </tr>\n",
       "  </thead>\n",
       "  <tbody>\n",
       "    <tr>\n",
       "      <th>0</th>\n",
       "      <td>6.0</td>\n",
       "      <td>2011-02-18</td>\n",
       "      <td>1572117.54</td>\n",
       "      <td>NaN</td>\n",
       "      <td>15.3</td>\n",
       "      <td>3.045</td>\n",
       "      <td>214.777523</td>\n",
       "      <td>6.858</td>\n",
       "      <td>2011.0</td>\n",
       "      <td>2.0</td>\n",
       "      <td>18.0</td>\n",
       "    </tr>\n",
       "    <tr>\n",
       "      <th>15</th>\n",
       "      <td>6.0</td>\n",
       "      <td>2010-04-30</td>\n",
       "      <td>1498080.16</td>\n",
       "      <td>NaN</td>\n",
       "      <td>20.5</td>\n",
       "      <td>2.780</td>\n",
       "      <td>211.894272</td>\n",
       "      <td>7.092</td>\n",
       "      <td>2010.0</td>\n",
       "      <td>4.0</td>\n",
       "      <td>30.0</td>\n",
       "    </tr>\n",
       "    <tr>\n",
       "      <th>43</th>\n",
       "      <td>7.0</td>\n",
       "      <td>2011-08-26</td>\n",
       "      <td>629994.47</td>\n",
       "      <td>NaN</td>\n",
       "      <td>14.2</td>\n",
       "      <td>3.485</td>\n",
       "      <td>194.379637</td>\n",
       "      <td>8.622</td>\n",
       "      <td>2011.0</td>\n",
       "      <td>8.0</td>\n",
       "      <td>26.0</td>\n",
       "    </tr>\n",
       "    <tr>\n",
       "      <th>48</th>\n",
       "      <td>1.0</td>\n",
       "      <td>2011-08-05</td>\n",
       "      <td>1624383.75</td>\n",
       "      <td>NaN</td>\n",
       "      <td>33.1</td>\n",
       "      <td>3.684</td>\n",
       "      <td>215.544618</td>\n",
       "      <td>7.962</td>\n",
       "      <td>2011.0</td>\n",
       "      <td>8.0</td>\n",
       "      <td>5.0</td>\n",
       "    </tr>\n",
       "    <tr>\n",
       "      <th>53</th>\n",
       "      <td>14.0</td>\n",
       "      <td>2011-03-25</td>\n",
       "      <td>1879451.23</td>\n",
       "      <td>NaN</td>\n",
       "      <td>5.4</td>\n",
       "      <td>3.625</td>\n",
       "      <td>184.994368</td>\n",
       "      <td>8.549</td>\n",
       "      <td>2011.0</td>\n",
       "      <td>3.0</td>\n",
       "      <td>25.0</td>\n",
       "    </tr>\n",
       "    <tr>\n",
       "      <th>73</th>\n",
       "      <td>1.0</td>\n",
       "      <td>2010-08-27</td>\n",
       "      <td>1449142.92</td>\n",
       "      <td>NaN</td>\n",
       "      <td>29.6</td>\n",
       "      <td>2.619</td>\n",
       "      <td>211.567306</td>\n",
       "      <td>7.787</td>\n",
       "      <td>2010.0</td>\n",
       "      <td>8.0</td>\n",
       "      <td>27.0</td>\n",
       "    </tr>\n",
       "    <tr>\n",
       "      <th>90</th>\n",
       "      <td>9.0</td>\n",
       "      <td>2010-07-09</td>\n",
       "      <td>485389.15</td>\n",
       "      <td>NaN</td>\n",
       "      <td>25.8</td>\n",
       "      <td>2.642</td>\n",
       "      <td>214.656430</td>\n",
       "      <td>6.442</td>\n",
       "      <td>2010.0</td>\n",
       "      <td>7.0</td>\n",
       "      <td>9.0</td>\n",
       "    </tr>\n",
       "    <tr>\n",
       "      <th>118</th>\n",
       "      <td>9.0</td>\n",
       "      <td>2010-06-18</td>\n",
       "      <td>513073.87</td>\n",
       "      <td>NaN</td>\n",
       "      <td>28.3</td>\n",
       "      <td>2.637</td>\n",
       "      <td>215.016648</td>\n",
       "      <td>6.384</td>\n",
       "      <td>2010.0</td>\n",
       "      <td>6.0</td>\n",
       "      <td>18.0</td>\n",
       "    </tr>\n",
       "    <tr>\n",
       "      <th>136</th>\n",
       "      <td>4.0</td>\n",
       "      <td>2011-07-08</td>\n",
       "      <td>2066541.86</td>\n",
       "      <td>NaN</td>\n",
       "      <td>29.2</td>\n",
       "      <td>3.469</td>\n",
       "      <td>129.112500</td>\n",
       "      <td>5.644</td>\n",
       "      <td>2011.0</td>\n",
       "      <td>7.0</td>\n",
       "      <td>8.0</td>\n",
       "    </tr>\n",
       "  </tbody>\n",
       "</table>\n",
       "</div>"
      ],
      "text/plain": [
       "     Store    Date     Weekly_Sales  Holiday_Flag  Temperature  Fuel_Price  \\\n",
       "0     6.0  2011-02-18   1572117.54       NaN          15.3         3.045     \n",
       "15    6.0  2010-04-30   1498080.16       NaN          20.5         2.780     \n",
       "43    7.0  2011-08-26    629994.47       NaN          14.2         3.485     \n",
       "48    1.0  2011-08-05   1624383.75       NaN          33.1         3.684     \n",
       "53   14.0  2011-03-25   1879451.23       NaN           5.4         3.625     \n",
       "73    1.0  2010-08-27   1449142.92       NaN          29.6         2.619     \n",
       "90    9.0  2010-07-09    485389.15       NaN          25.8         2.642     \n",
       "118   9.0  2010-06-18    513073.87       NaN          28.3         2.637     \n",
       "136   4.0  2011-07-08   2066541.86       NaN          29.2         3.469     \n",
       "\n",
       "         CPI     Unemployment   Year   Month   Day  \n",
       "0    214.777523      6.858     2011.0   2.0   18.0  \n",
       "15   211.894272      7.092     2010.0   4.0   30.0  \n",
       "43   194.379637      8.622     2011.0   8.0   26.0  \n",
       "48   215.544618      7.962     2011.0   8.0    5.0  \n",
       "53   184.994368      8.549     2011.0   3.0   25.0  \n",
       "73   211.567306      7.787     2010.0   8.0   27.0  \n",
       "90   214.656430      6.442     2010.0   7.0    9.0  \n",
       "118  215.016648      6.384     2010.0   6.0   18.0  \n",
       "136  129.112500      5.644     2011.0   7.0    8.0  "
      ]
     },
     "execution_count": 24,
     "metadata": {},
     "output_type": "execute_result"
    }
   ],
   "source": [
    "# montrer les lignes sans Holiday_Flag\n",
    "df[df['Holiday_Flag'].isnull()]"
   ]
  },
  {
   "cell_type": "code",
   "execution_count": 25,
   "metadata": {},
   "outputs": [],
   "source": [
    "#Export un csv avec uniquement la colonne Date pour les colonnes sans Holiday_Flag\n",
    "df[df['Holiday_Flag'].isnull()]['Date'].to_csv('missing_holiday_flag.csv', index=False)\n"
   ]
  },
  {
   "cell_type": "markdown",
   "metadata": {},
   "source": [
    "Aucune date sans Holidays-Flag ne correspond à un jour férié national. Passons les valeurs de NaN à 0"
   ]
  },
  {
   "cell_type": "code",
   "execution_count": 26,
   "metadata": {},
   "outputs": [],
   "source": [
    "# remplacer les valeurs NaN dans Holiday_Flag par 0\n",
    "df['Holiday_Flag'].fillna(0, inplace=True)"
   ]
  },
  {
   "cell_type": "code",
   "execution_count": 27,
   "metadata": {},
   "outputs": [
    {
     "data": {
      "text/html": [
       "<div>\n",
       "<style scoped>\n",
       "    .dataframe tbody tr th:only-of-type {\n",
       "        vertical-align: middle;\n",
       "    }\n",
       "\n",
       "    .dataframe tbody tr th {\n",
       "        vertical-align: top;\n",
       "    }\n",
       "\n",
       "    .dataframe thead th {\n",
       "        text-align: right;\n",
       "    }\n",
       "</style>\n",
       "<table border=\"1\" class=\"dataframe\">\n",
       "  <thead>\n",
       "    <tr style=\"text-align: center;\">\n",
       "      <th></th>\n",
       "      <th>Store</th>\n",
       "      <th>Date</th>\n",
       "      <th>Weekly_Sales</th>\n",
       "      <th>Holiday_Flag</th>\n",
       "      <th>Temperature</th>\n",
       "      <th>Fuel_Price</th>\n",
       "      <th>CPI</th>\n",
       "      <th>Unemployment</th>\n",
       "      <th>Year</th>\n",
       "      <th>Month</th>\n",
       "      <th>Day</th>\n",
       "    </tr>\n",
       "  </thead>\n",
       "  <tbody>\n",
       "  </tbody>\n",
       "</table>\n",
       "</div>"
      ],
      "text/plain": [
       "Empty DataFrame\n",
       "Columns: [Store, Date, Weekly_Sales, Holiday_Flag, Temperature, Fuel_Price, CPI, Unemployment, Year, Month, Day]\n",
       "Index: []"
      ]
     },
     "execution_count": 27,
     "metadata": {},
     "output_type": "execute_result"
    }
   ],
   "source": [
    "# montrer les lignes sans Holiday_Flag\n",
    "df[df['Holiday_Flag'].isnull()]"
   ]
  },
  {
   "cell_type": "code",
   "execution_count": 28,
   "metadata": {},
   "outputs": [
    {
     "data": {
      "text/plain": [
       "(118, 11)"
      ]
     },
     "execution_count": 28,
     "metadata": {},
     "output_type": "execute_result"
    }
   ],
   "source": [
    "df.shape"
   ]
  },
  {
   "cell_type": "code",
   "execution_count": 29,
   "metadata": {},
   "outputs": [
    {
     "data": {
      "application/vnd.plotly.v1+json": {
       "config": {
        "plotlyServerURL": "https://plot.ly"
       },
       "data": [
        {
         "name": "Temperature",
         "type": "box",
         "xaxis": "x",
         "y": [
          15.3,
          5.8,
          26,
          null,
          21,
          4.4,
          -0.8,
          28.3,
          11.1,
          2.6,
          18.2,
          15.6,
          20.5,
          24.6,
          10.1,
          3.5,
          25.2,
          10.5,
          3.9,
          10.4,
          7.1,
          11,
          6.6,
          7.3,
          null,
          20.2,
          -7.3,
          2.8,
          0.7,
          26.8,
          null,
          27.7,
          16,
          10.2,
          null,
          14.2,
          3.6,
          12.6,
          28,
          19,
          33.1,
          9,
          16.2,
          15.4,
          29.5,
          5.4,
          30.5,
          17.6,
          23.8,
          null,
          2.7,
          null,
          14.2,
          11.5,
          20.7,
          2.5,
          23.2,
          7.6,
          32.8,
          -2.6,
          2.7,
          29.6,
          20,
          24,
          8.6,
          16.8,
          20.8,
          10,
          7,
          24,
          25.8,
          null,
          25.8,
          23.8,
          9.9,
          19.7,
          32.4,
          26,
          28.6,
          8.2,
          5.8,
          28.2,
          22.7,
          1.6,
          0.7,
          20.6,
          -1.7,
          null,
          4.3,
          0.4,
          21.1,
          null,
          4.1,
          28.3,
          1.3,
          24.1,
          31.9,
          14.4,
          null,
          20.1,
          17.7,
          16.5,
          24.4,
          11.4,
          null,
          28.2,
          28.7,
          29.2,
          23.5,
          10.3,
          16.9,
          24.2,
          25.8,
          23,
          22.6,
          14,
          30,
          12.9
         ],
         "yaxis": "y"
        },
        {
         "name": "Fuel Price",
         "type": "box",
         "xaxis": "x2",
         "y": [
          3.045,
          3.435,
          2.759,
          2.756,
          4.069,
          3.617,
          3.109,
          3.554,
          2.878,
          3.767,
          3.734,
          2.853,
          2.78,
          2.85,
          null,
          2.725,
          3.899,
          4.029,
          2.963,
          4.124,
          3.797,
          3.261,
          3.828,
          2.915,
          3.523,
          4.1930000000000005,
          3.103,
          null,
          3.789,
          3.467,
          3.823,
          3.57,
          3.297,
          4.023,
          3.659,
          3.485,
          2.548,
          3.555,
          2.64,
          2.958,
          3.684,
          3.75,
          3.788,
          2.728,
          2.653,
          3.625,
          3.666,
          3.648,
          2.619,
          2.64,
          3.695,
          4.046,
          3.882,
          3.236,
          3.594,
          3.149,
          2.792,
          2.572,
          3.701,
          3.139,
          2.817,
          2.619,
          3.594,
          2.8080000000000003,
          4.021,
          3.3080000000000003,
          null,
          2.7710000000000004,
          2.9760000000000004,
          3.688,
          2.642,
          4.087,
          3.76,
          2.854,
          null,
          null,
          null,
          2.814,
          2.637,
          null,
          2.86,
          3.346,
          2.932,
          null,
          2.548,
          2.906,
          3.179,
          3.722,
          2.514,
          null,
          2.735,
          2.909,
          3.936,
          2.637,
          3.193,
          2.582,
          3.682,
          3.596,
          3.786,
          null,
          3.3080000000000003,
          2.7110000000000003,
          3.606,
          3.529,
          2.8310000000000004,
          3.627,
          3.044,
          3.469,
          3.807,
          3.804,
          null,
          3.285,
          2.705,
          3.594,
          2.78,
          2.841,
          3.638,
          4.17
         ],
         "yaxis": "y2"
        },
        {
         "name": "CPI",
         "type": "box",
         "xaxis": "x3",
         "y": [
          214.7775231,
          128.6160645,
          212.412888,
          126.1602258,
          134.85516130000002,
          213.0236225,
          null,
          219.07019680000005,
          132.7633548,
          192.826069,
          221.2118132,
          126.2346,
          211.8942725,
          null,
          null,
          189.7048215,
          216.5343611,
          138.9117,
          131.863129,
          138.0332,
          131.1083333,
          null,
          192.831317,
          126.5621,
          217.2706543,
          129.04443329999998,
          196.9195056,
          null,
          133.9587419,
          219.7414914,
          134.2784667,
          129.0663,
          218.5699621,
          137.9781333,
          198.1267184,
          194.3796374,
          211.24216980000003,
          220.275944,
          211.9270006,
          132.5218667,
          215.544618,
          197.4133259,
          130.95922579999998,
          211.6608975,
          214.8965756,
          184.9943679,
          130.7196333,
          129.5183333,
          214.9362793,
          212.8944846,
          189.8424834,
          185.9374378,
          130.6457931,
          126.8794839,
          224.0192873,
          129.8980645,
          132.6141935,
          214.4248812,
          129.2015806,
          null,
          126.7934,
          211.5673056,
          223.4257233,
          204.5675459,
          137.5843871,
          218.2205088,
          null,
          215.43728540000004,
          211.0648881,
          225.2351496,
          214.6564301,
          129.0623548,
          186.1399808,
          210.3374261,
          214.7492449,
          210.939388,
          126.1266,
          126.1392,
          214.7858259,
          219.355063,
          126.7934,
          225.3068615,
          132.5983871,
          null,
          214.62141890000004,
          132.2939355,
          204.6432267,
          138.1629,
          210.9451605,
          130.27922579999998,
          215.0614025,
          131.637,
          197.7227385,
          215.0166484,
          182.5983058,
          214.8785562,
          216.0464364,
          198.0950484,
          215.5037878,
          134.94254840000002,
          221.6432852,
          189.5231276,
          129.2015806,
          130.82619350000002,
          126.5461613,
          129.1507742,
          126.11458059999998,
          129.1125,
          217.0146941,
          197.5886046,
          212.5604113,
          null,
          214.4958382,
          226.9688442,
          182.4424199,
          126.1119032,
          219.0075249,
          137.9230667
         ],
         "yaxis": "y3"
        },
        {
         "name": "Unemployment",
         "type": "box",
         "xaxis": "x4",
         "y": [
          6.858,
          7.47,
          7.0920000000000005,
          7.896,
          7.657999999999999,
          6.961,
          null,
          6.425,
          9.331,
          8.595,
          7.348,
          6.885,
          7.0920000000000005,
          7.951,
          7.441,
          8.963,
          6.489,
          8.243,
          8.35,
          8.15,
          5.527,
          6.832999999999998,
          6.339,
          6.635,
          6.925,
          13.736,
          8.256,
          8.424,
          7.771,
          7.567,
          8.975,
          5.9460000000000015,
          6.3,
          8.304,
          6.061,
          8.622,
          8.106,
          7.057,
          6.496,
          8.099,
          7.9620000000000015,
          6.162000000000001,
          5.965,
          8.163,
          null,
          8.549,
          7.17,
          6.877000000000002,
          6.315,
          6.973,
          8.424,
          8.521,
          7.545,
          14.313,
          5.4220000000000015,
          5.143,
          9.342,
          7.3679999999999986,
          13.503,
          9.331,
          7.795,
          7.787000000000001,
          null,
          7.856,
          7.943,
          7.866,
          7.527,
          6.56,
          8.027999999999999,
          6.664,
          6.442,
          13.736,
          8.625,
          7.808,
          6.299,
          null,
          9.524,
          7.951,
          7.343,
          7.057,
          7.127000000000002,
          6.664,
          8.099,
          8.992,
          6.299,
          null,
          7.484,
          8.15,
          null,
          6.104,
          7.564,
          null,
          8.09,
          6.384,
          null,
          6.315,
          6.529,
          7.872000000000001,
          7.682,
          7.657999999999999,
          7.197,
          6.867999999999999,
          6.877000000000002,
          6.104,
          null,
          5.644,
          14.18,
          5.644,
          6.855,
          8.09,
          6.768,
          7.197,
          7.343,
          6.034,
          8.899,
          null,
          null,
          8.15
         ],
         "yaxis": "y4"
        },
        {
         "name": "Weekly Sales",
         "type": "box",
         "xaxis": "x5",
         "y": [
          1572117.54,
          1807545.43,
          1644470.66,
          1857533.7,
          695396.19,
          2203523.2,
          2600519.26,
          895066.5,
          1029618.1,
          414094.05,
          1677472.78,
          829207.27,
          1498080.16,
          1997397.63,
          2432736.52,
          561145.14,
          290930.01,
          1074079,
          1427023.45,
          1405007.44,
          919878.34,
          367438.62,
          435397.19,
          757738.76,
          1420405.41,
          1021154.48,
          563460.77,
          2077256.24,
          1266564.94,
          365248.94,
          988157.72,
          2008344.92,
          311906.7,
          961186.23,
          526525.16,
          629994.47,
          1641957.44,
          1861802.7,
          268929.03,
          1549018.68,
          1624383.75,
          485095.41,
          2035431.39,
          1916812.74,
          509263.28,
          1879451.23,
          1805999.79,
          1847430.96,
          888816.78,
          1532308.78,
          2020550.99,
          2095599.93,
          1990371.02,
          1295605.35,
          313358.15,
          2771397.17,
          1166117.85,
          461622.22,
          955913.68,
          1588430.71,
          2461468.35,
          1449142.92,
          1508068.77,
          1973135.87,
          570611.23,
          1539483.7,
          1789687.65,
          519823.3,
          1758050.79,
          431985.36,
          485389.15,
          964332.51,
          1953544.76,
          1494251.5,
          860336.16,
          298697.84,
          1768172.31,
          2018314.71,
          364076.85,
          1799520.14,
          2302504.86,
          419497.95,
          1366395.96,
          2095591.63,
          994801.4,
          1256282.79,
          1799737.79,
          1468350.36,
          2124451.54,
          1811606.21,
          1757242.51,
          660838.75,
          457340.06,
          513073.87,
          1864746.1,
          836707.85,
          275142.17,
          597876.55,
          1466046.67,
          1467473.63,
          398838.97,
          614253.33,
          1970341.38,
          2025582.62,
          855459.96,
          2036231.39,
          903119.03,
          2066541.86,
          1639358.93,
          532739.77,
          301827.36,
          403342.4,
          396968.8,
          424513.08,
          2248645.59,
          845252.21,
          856796.1,
          1255087.26
         ],
         "yaxis": "y5"
        }
       ],
       "layout": {
        "annotations": [
         {
          "font": {
           "size": 16
          },
          "showarrow": false,
          "text": "Temperature",
          "x": 0.14444444444444446,
          "xanchor": "center",
          "xref": "paper",
          "y": 1,
          "yanchor": "bottom",
          "yref": "paper"
         },
         {
          "font": {
           "size": 16
          },
          "showarrow": false,
          "text": "Fuel Price",
          "x": 0.5,
          "xanchor": "center",
          "xref": "paper",
          "y": 1,
          "yanchor": "bottom",
          "yref": "paper"
         },
         {
          "font": {
           "size": 16
          },
          "showarrow": false,
          "text": "CPI",
          "x": 0.8555555555555556,
          "xanchor": "center",
          "xref": "paper",
          "y": 1,
          "yanchor": "bottom",
          "yref": "paper"
         },
         {
          "font": {
           "size": 16
          },
          "showarrow": false,
          "text": "Unemployment",
          "x": 0.14444444444444446,
          "xanchor": "center",
          "xref": "paper",
          "y": 0.375,
          "yanchor": "bottom",
          "yref": "paper"
         },
         {
          "font": {
           "size": 16
          },
          "showarrow": false,
          "text": "Weekly Sales",
          "x": 0.5,
          "xanchor": "center",
          "xref": "paper",
          "y": 0.375,
          "yanchor": "bottom",
          "yref": "paper"
         }
        ],
        "height": 600,
        "template": {
         "data": {
          "bar": [
           {
            "error_x": {
             "color": "#2a3f5f"
            },
            "error_y": {
             "color": "#2a3f5f"
            },
            "marker": {
             "line": {
              "color": "#E5ECF6",
              "width": 0.5
             },
             "pattern": {
              "fillmode": "overlay",
              "size": 10,
              "solidity": 0.2
             }
            },
            "type": "bar"
           }
          ],
          "barpolar": [
           {
            "marker": {
             "line": {
              "color": "#E5ECF6",
              "width": 0.5
             },
             "pattern": {
              "fillmode": "overlay",
              "size": 10,
              "solidity": 0.2
             }
            },
            "type": "barpolar"
           }
          ],
          "carpet": [
           {
            "aaxis": {
             "endlinecolor": "#2a3f5f",
             "gridcolor": "white",
             "linecolor": "white",
             "minorgridcolor": "white",
             "startlinecolor": "#2a3f5f"
            },
            "baxis": {
             "endlinecolor": "#2a3f5f",
             "gridcolor": "white",
             "linecolor": "white",
             "minorgridcolor": "white",
             "startlinecolor": "#2a3f5f"
            },
            "type": "carpet"
           }
          ],
          "choropleth": [
           {
            "colorbar": {
             "outlinewidth": 0,
             "ticks": ""
            },
            "type": "choropleth"
           }
          ],
          "contour": [
           {
            "colorbar": {
             "outlinewidth": 0,
             "ticks": ""
            },
            "colorscale": [
             [
              0,
              "#0d0887"
             ],
             [
              0.1111111111111111,
              "#46039f"
             ],
             [
              0.2222222222222222,
              "#7201a8"
             ],
             [
              0.3333333333333333,
              "#9c179e"
             ],
             [
              0.4444444444444444,
              "#bd3786"
             ],
             [
              0.5555555555555556,
              "#d8576b"
             ],
             [
              0.6666666666666666,
              "#ed7953"
             ],
             [
              0.7777777777777778,
              "#fb9f3a"
             ],
             [
              0.8888888888888888,
              "#fdca26"
             ],
             [
              1,
              "#f0f921"
             ]
            ],
            "type": "contour"
           }
          ],
          "contourcarpet": [
           {
            "colorbar": {
             "outlinewidth": 0,
             "ticks": ""
            },
            "type": "contourcarpet"
           }
          ],
          "heatmap": [
           {
            "colorbar": {
             "outlinewidth": 0,
             "ticks": ""
            },
            "colorscale": [
             [
              0,
              "#0d0887"
             ],
             [
              0.1111111111111111,
              "#46039f"
             ],
             [
              0.2222222222222222,
              "#7201a8"
             ],
             [
              0.3333333333333333,
              "#9c179e"
             ],
             [
              0.4444444444444444,
              "#bd3786"
             ],
             [
              0.5555555555555556,
              "#d8576b"
             ],
             [
              0.6666666666666666,
              "#ed7953"
             ],
             [
              0.7777777777777778,
              "#fb9f3a"
             ],
             [
              0.8888888888888888,
              "#fdca26"
             ],
             [
              1,
              "#f0f921"
             ]
            ],
            "type": "heatmap"
           }
          ],
          "heatmapgl": [
           {
            "colorbar": {
             "outlinewidth": 0,
             "ticks": ""
            },
            "colorscale": [
             [
              0,
              "#0d0887"
             ],
             [
              0.1111111111111111,
              "#46039f"
             ],
             [
              0.2222222222222222,
              "#7201a8"
             ],
             [
              0.3333333333333333,
              "#9c179e"
             ],
             [
              0.4444444444444444,
              "#bd3786"
             ],
             [
              0.5555555555555556,
              "#d8576b"
             ],
             [
              0.6666666666666666,
              "#ed7953"
             ],
             [
              0.7777777777777778,
              "#fb9f3a"
             ],
             [
              0.8888888888888888,
              "#fdca26"
             ],
             [
              1,
              "#f0f921"
             ]
            ],
            "type": "heatmapgl"
           }
          ],
          "histogram": [
           {
            "marker": {
             "pattern": {
              "fillmode": "overlay",
              "size": 10,
              "solidity": 0.2
             }
            },
            "type": "histogram"
           }
          ],
          "histogram2d": [
           {
            "colorbar": {
             "outlinewidth": 0,
             "ticks": ""
            },
            "colorscale": [
             [
              0,
              "#0d0887"
             ],
             [
              0.1111111111111111,
              "#46039f"
             ],
             [
              0.2222222222222222,
              "#7201a8"
             ],
             [
              0.3333333333333333,
              "#9c179e"
             ],
             [
              0.4444444444444444,
              "#bd3786"
             ],
             [
              0.5555555555555556,
              "#d8576b"
             ],
             [
              0.6666666666666666,
              "#ed7953"
             ],
             [
              0.7777777777777778,
              "#fb9f3a"
             ],
             [
              0.8888888888888888,
              "#fdca26"
             ],
             [
              1,
              "#f0f921"
             ]
            ],
            "type": "histogram2d"
           }
          ],
          "histogram2dcontour": [
           {
            "colorbar": {
             "outlinewidth": 0,
             "ticks": ""
            },
            "colorscale": [
             [
              0,
              "#0d0887"
             ],
             [
              0.1111111111111111,
              "#46039f"
             ],
             [
              0.2222222222222222,
              "#7201a8"
             ],
             [
              0.3333333333333333,
              "#9c179e"
             ],
             [
              0.4444444444444444,
              "#bd3786"
             ],
             [
              0.5555555555555556,
              "#d8576b"
             ],
             [
              0.6666666666666666,
              "#ed7953"
             ],
             [
              0.7777777777777778,
              "#fb9f3a"
             ],
             [
              0.8888888888888888,
              "#fdca26"
             ],
             [
              1,
              "#f0f921"
             ]
            ],
            "type": "histogram2dcontour"
           }
          ],
          "mesh3d": [
           {
            "colorbar": {
             "outlinewidth": 0,
             "ticks": ""
            },
            "type": "mesh3d"
           }
          ],
          "parcoords": [
           {
            "line": {
             "colorbar": {
              "outlinewidth": 0,
              "ticks": ""
             }
            },
            "type": "parcoords"
           }
          ],
          "pie": [
           {
            "automargin": true,
            "type": "pie"
           }
          ],
          "scatter": [
           {
            "fillpattern": {
             "fillmode": "overlay",
             "size": 10,
             "solidity": 0.2
            },
            "type": "scatter"
           }
          ],
          "scatter3d": [
           {
            "line": {
             "colorbar": {
              "outlinewidth": 0,
              "ticks": ""
             }
            },
            "marker": {
             "colorbar": {
              "outlinewidth": 0,
              "ticks": ""
             }
            },
            "type": "scatter3d"
           }
          ],
          "scattercarpet": [
           {
            "marker": {
             "colorbar": {
              "outlinewidth": 0,
              "ticks": ""
             }
            },
            "type": "scattercarpet"
           }
          ],
          "scattergeo": [
           {
            "marker": {
             "colorbar": {
              "outlinewidth": 0,
              "ticks": ""
             }
            },
            "type": "scattergeo"
           }
          ],
          "scattergl": [
           {
            "marker": {
             "colorbar": {
              "outlinewidth": 0,
              "ticks": ""
             }
            },
            "type": "scattergl"
           }
          ],
          "scattermapbox": [
           {
            "marker": {
             "colorbar": {
              "outlinewidth": 0,
              "ticks": ""
             }
            },
            "type": "scattermapbox"
           }
          ],
          "scatterpolar": [
           {
            "marker": {
             "colorbar": {
              "outlinewidth": 0,
              "ticks": ""
             }
            },
            "type": "scatterpolar"
           }
          ],
          "scatterpolargl": [
           {
            "marker": {
             "colorbar": {
              "outlinewidth": 0,
              "ticks": ""
             }
            },
            "type": "scatterpolargl"
           }
          ],
          "scatterternary": [
           {
            "marker": {
             "colorbar": {
              "outlinewidth": 0,
              "ticks": ""
             }
            },
            "type": "scatterternary"
           }
          ],
          "surface": [
           {
            "colorbar": {
             "outlinewidth": 0,
             "ticks": ""
            },
            "colorscale": [
             [
              0,
              "#0d0887"
             ],
             [
              0.1111111111111111,
              "#46039f"
             ],
             [
              0.2222222222222222,
              "#7201a8"
             ],
             [
              0.3333333333333333,
              "#9c179e"
             ],
             [
              0.4444444444444444,
              "#bd3786"
             ],
             [
              0.5555555555555556,
              "#d8576b"
             ],
             [
              0.6666666666666666,
              "#ed7953"
             ],
             [
              0.7777777777777778,
              "#fb9f3a"
             ],
             [
              0.8888888888888888,
              "#fdca26"
             ],
             [
              1,
              "#f0f921"
             ]
            ],
            "type": "surface"
           }
          ],
          "table": [
           {
            "cells": {
             "fill": {
              "color": "#EBF0F8"
             },
             "line": {
              "color": "white"
             }
            },
            "header": {
             "fill": {
              "color": "#C8D4E3"
             },
             "line": {
              "color": "white"
             }
            },
            "type": "table"
           }
          ]
         },
         "layout": {
          "annotationdefaults": {
           "arrowcolor": "#2a3f5f",
           "arrowhead": 0,
           "arrowwidth": 1
          },
          "autotypenumbers": "strict",
          "coloraxis": {
           "colorbar": {
            "outlinewidth": 0,
            "ticks": ""
           }
          },
          "colorscale": {
           "diverging": [
            [
             0,
             "#8e0152"
            ],
            [
             0.1,
             "#c51b7d"
            ],
            [
             0.2,
             "#de77ae"
            ],
            [
             0.3,
             "#f1b6da"
            ],
            [
             0.4,
             "#fde0ef"
            ],
            [
             0.5,
             "#f7f7f7"
            ],
            [
             0.6,
             "#e6f5d0"
            ],
            [
             0.7,
             "#b8e186"
            ],
            [
             0.8,
             "#7fbc41"
            ],
            [
             0.9,
             "#4d9221"
            ],
            [
             1,
             "#276419"
            ]
           ],
           "sequential": [
            [
             0,
             "#0d0887"
            ],
            [
             0.1111111111111111,
             "#46039f"
            ],
            [
             0.2222222222222222,
             "#7201a8"
            ],
            [
             0.3333333333333333,
             "#9c179e"
            ],
            [
             0.4444444444444444,
             "#bd3786"
            ],
            [
             0.5555555555555556,
             "#d8576b"
            ],
            [
             0.6666666666666666,
             "#ed7953"
            ],
            [
             0.7777777777777778,
             "#fb9f3a"
            ],
            [
             0.8888888888888888,
             "#fdca26"
            ],
            [
             1,
             "#f0f921"
            ]
           ],
           "sequentialminus": [
            [
             0,
             "#0d0887"
            ],
            [
             0.1111111111111111,
             "#46039f"
            ],
            [
             0.2222222222222222,
             "#7201a8"
            ],
            [
             0.3333333333333333,
             "#9c179e"
            ],
            [
             0.4444444444444444,
             "#bd3786"
            ],
            [
             0.5555555555555556,
             "#d8576b"
            ],
            [
             0.6666666666666666,
             "#ed7953"
            ],
            [
             0.7777777777777778,
             "#fb9f3a"
            ],
            [
             0.8888888888888888,
             "#fdca26"
            ],
            [
             1,
             "#f0f921"
            ]
           ]
          },
          "colorway": [
           "#636efa",
           "#EF553B",
           "#00cc96",
           "#ab63fa",
           "#FFA15A",
           "#19d3f3",
           "#FF6692",
           "#B6E880",
           "#FF97FF",
           "#FECB52"
          ],
          "font": {
           "color": "#2a3f5f"
          },
          "geo": {
           "bgcolor": "white",
           "lakecolor": "white",
           "landcolor": "#E5ECF6",
           "showlakes": true,
           "showland": true,
           "subunitcolor": "white"
          },
          "hoverlabel": {
           "align": "left"
          },
          "hovermode": "closest",
          "mapbox": {
           "style": "light"
          },
          "paper_bgcolor": "white",
          "plot_bgcolor": "#E5ECF6",
          "polar": {
           "angularaxis": {
            "gridcolor": "white",
            "linecolor": "white",
            "ticks": ""
           },
           "bgcolor": "#E5ECF6",
           "radialaxis": {
            "gridcolor": "white",
            "linecolor": "white",
            "ticks": ""
           }
          },
          "scene": {
           "xaxis": {
            "backgroundcolor": "#E5ECF6",
            "gridcolor": "white",
            "gridwidth": 2,
            "linecolor": "white",
            "showbackground": true,
            "ticks": "",
            "zerolinecolor": "white"
           },
           "yaxis": {
            "backgroundcolor": "#E5ECF6",
            "gridcolor": "white",
            "gridwidth": 2,
            "linecolor": "white",
            "showbackground": true,
            "ticks": "",
            "zerolinecolor": "white"
           },
           "zaxis": {
            "backgroundcolor": "#E5ECF6",
            "gridcolor": "white",
            "gridwidth": 2,
            "linecolor": "white",
            "showbackground": true,
            "ticks": "",
            "zerolinecolor": "white"
           }
          },
          "shapedefaults": {
           "line": {
            "color": "#2a3f5f"
           }
          },
          "ternary": {
           "aaxis": {
            "gridcolor": "white",
            "linecolor": "white",
            "ticks": ""
           },
           "baxis": {
            "gridcolor": "white",
            "linecolor": "white",
            "ticks": ""
           },
           "bgcolor": "#E5ECF6",
           "caxis": {
            "gridcolor": "white",
            "linecolor": "white",
            "ticks": ""
           }
          },
          "title": {
           "x": 0.05
          },
          "xaxis": {
           "automargin": true,
           "gridcolor": "white",
           "linecolor": "white",
           "ticks": "",
           "title": {
            "standoff": 15
           },
           "zerolinecolor": "white",
           "zerolinewidth": 2
          },
          "yaxis": {
           "automargin": true,
           "gridcolor": "white",
           "linecolor": "white",
           "ticks": "",
           "title": {
            "standoff": 15
           },
           "zerolinecolor": "white",
           "zerolinewidth": 2
          }
         }
        },
        "title": {
         "text": "Distribution des variables"
        },
        "width": 800,
        "xaxis": {
         "anchor": "y",
         "domain": [
          0,
          0.2888888888888889
         ]
        },
        "xaxis2": {
         "anchor": "y2",
         "domain": [
          0.35555555555555557,
          0.6444444444444445
         ]
        },
        "xaxis3": {
         "anchor": "y3",
         "domain": [
          0.7111111111111111,
          1
         ]
        },
        "xaxis4": {
         "anchor": "y4",
         "domain": [
          0,
          0.2888888888888889
         ]
        },
        "xaxis5": {
         "anchor": "y5",
         "domain": [
          0.35555555555555557,
          0.6444444444444445
         ]
        },
        "xaxis6": {
         "anchor": "y6",
         "domain": [
          0.7111111111111111,
          1
         ]
        },
        "yaxis": {
         "anchor": "x",
         "domain": [
          0.625,
          1
         ]
        },
        "yaxis2": {
         "anchor": "x2",
         "domain": [
          0.625,
          1
         ]
        },
        "yaxis3": {
         "anchor": "x3",
         "domain": [
          0.625,
          1
         ]
        },
        "yaxis4": {
         "anchor": "x4",
         "domain": [
          0,
          0.375
         ]
        },
        "yaxis5": {
         "anchor": "x5",
         "domain": [
          0,
          0.375
         ]
        },
        "yaxis6": {
         "anchor": "x6",
         "domain": [
          0,
          0.375
         ]
        }
       }
      }
     },
     "metadata": {},
     "output_type": "display_data"
    }
   ],
   "source": [
    "from plotly.subplots import make_subplots\n",
    "import plotly.graph_objects as go\n",
    "\n",
    "# Créer une figure avec une grille de 3x2\n",
    "fig = make_subplots(rows=2, cols=3, subplot_titles=('Temperature', 'Fuel Price', 'CPI', 'Unemployment', 'Weekly Sales'))\n",
    "\n",
    "# Ajouter les boîtes à moustaches à la figure\n",
    "fig.add_trace(go.Box(y=df['Temperature'], name='Temperature'), row=1, col=1)\n",
    "fig.add_trace(go.Box(y=df['Fuel_Price'], name='Fuel Price'), row=1, col=2)\n",
    "fig.add_trace(go.Box(y=df['CPI'], name='CPI'), row=1, col=3)\n",
    "fig.add_trace(go.Box(y=df['Unemployment'], name='Unemployment'), row=2, col=1)\n",
    "fig.add_trace(go.Box(y=df['Weekly_Sales'], name='Weekly Sales'), row=2, col=2)\n",
    "\n",
    "# Mise en page\n",
    "fig.update_layout(height=600, width=800, title_text=\"Distribution des variables\")\n",
    "\n",
    "# Afficher\n",
    "fig.show()"
   ]
  },
  {
   "cell_type": "code",
   "execution_count": 30,
   "metadata": {},
   "outputs": [
    {
     "data": {
      "application/vnd.plotly.v1+json": {
       "config": {
        "plotlyServerURL": "https://plot.ly"
       },
       "data": [
        {
         "alignmentgroup": "True",
         "hovertemplate": "Store=%{x}<br>Unemployment=%{y}<extra></extra>",
         "legendgroup": "",
         "marker": {
          "color": "#636efa"
         },
         "name": "",
         "notched": false,
         "offsetgroup": "",
         "orientation": "v",
         "showlegend": false,
         "type": "box",
         "x": [
          6,
          13,
          6,
          4,
          15,
          20,
          14,
          8,
          18,
          7,
          1,
          17,
          6,
          13,
          2,
          7,
          5,
          18,
          19,
          19,
          17,
          3,
          16,
          17,
          6,
          12,
          7,
          14,
          19,
          3,
          18,
          4,
          5,
          18,
          16,
          7,
          1,
          2,
          5,
          19,
          1,
          16,
          13,
          2,
          9,
          14,
          10,
          13,
          8,
          6,
          14,
          14,
          10,
          12,
          5,
          4,
          18,
          3,
          12,
          18,
          13,
          1,
          1,
          20,
          15,
          1,
          20,
          9,
          2,
          3,
          9,
          12,
          14,
          1,
          8,
          5,
          10,
          13,
          3,
          2,
          4,
          3,
          19,
          14,
          8,
          18,
          20,
          19,
          2,
          13,
          11,
          15,
          7,
          9,
          14,
          8,
          5,
          7,
          1,
          19,
          3,
          16,
          13,
          13,
          17,
          4,
          12,
          4,
          6,
          7,
          5,
          3,
          3,
          3,
          14,
          17,
          8,
          19
         ],
         "x0": " ",
         "xaxis": "x",
         "y": [
          6.858,
          7.47,
          7.0920000000000005,
          7.896,
          7.657999999999999,
          6.961,
          null,
          6.425,
          9.331,
          8.595,
          7.348,
          6.885,
          7.0920000000000005,
          7.951,
          7.441,
          8.963,
          6.489,
          8.243,
          8.35,
          8.15,
          5.527,
          6.832999999999998,
          6.339,
          6.635,
          6.925,
          13.736,
          8.256,
          8.424,
          7.771,
          7.567,
          8.975,
          5.9460000000000015,
          6.3,
          8.304,
          6.061,
          8.622,
          8.106,
          7.057,
          6.496,
          8.099,
          7.9620000000000015,
          6.162000000000001,
          5.965,
          8.163,
          null,
          8.549,
          7.17,
          6.877000000000002,
          6.315,
          6.973,
          8.424,
          8.521,
          7.545,
          14.313,
          5.4220000000000015,
          5.143,
          9.342,
          7.3679999999999986,
          13.503,
          9.331,
          7.795,
          7.787000000000001,
          null,
          7.856,
          7.943,
          7.866,
          7.527,
          6.56,
          8.027999999999999,
          6.664,
          6.442,
          13.736,
          8.625,
          7.808,
          6.299,
          null,
          9.524,
          7.951,
          7.343,
          7.057,
          7.127000000000002,
          6.664,
          8.099,
          8.992,
          6.299,
          null,
          7.484,
          8.15,
          null,
          6.104,
          7.564,
          null,
          8.09,
          6.384,
          null,
          6.315,
          6.529,
          7.872000000000001,
          7.682,
          7.657999999999999,
          7.197,
          6.867999999999999,
          6.877000000000002,
          6.104,
          null,
          5.644,
          14.18,
          5.644,
          6.855,
          8.09,
          6.768,
          7.197,
          7.343,
          6.034,
          8.899,
          null,
          null,
          8.15
         ],
         "y0": " ",
         "yaxis": "y"
        }
       ],
       "layout": {
        "boxmode": "group",
        "legend": {
         "tracegroupgap": 0
        },
        "margin": {
         "t": 60
        },
        "template": {
         "data": {
          "bar": [
           {
            "error_x": {
             "color": "#2a3f5f"
            },
            "error_y": {
             "color": "#2a3f5f"
            },
            "marker": {
             "line": {
              "color": "#E5ECF6",
              "width": 0.5
             },
             "pattern": {
              "fillmode": "overlay",
              "size": 10,
              "solidity": 0.2
             }
            },
            "type": "bar"
           }
          ],
          "barpolar": [
           {
            "marker": {
             "line": {
              "color": "#E5ECF6",
              "width": 0.5
             },
             "pattern": {
              "fillmode": "overlay",
              "size": 10,
              "solidity": 0.2
             }
            },
            "type": "barpolar"
           }
          ],
          "carpet": [
           {
            "aaxis": {
             "endlinecolor": "#2a3f5f",
             "gridcolor": "white",
             "linecolor": "white",
             "minorgridcolor": "white",
             "startlinecolor": "#2a3f5f"
            },
            "baxis": {
             "endlinecolor": "#2a3f5f",
             "gridcolor": "white",
             "linecolor": "white",
             "minorgridcolor": "white",
             "startlinecolor": "#2a3f5f"
            },
            "type": "carpet"
           }
          ],
          "choropleth": [
           {
            "colorbar": {
             "outlinewidth": 0,
             "ticks": ""
            },
            "type": "choropleth"
           }
          ],
          "contour": [
           {
            "colorbar": {
             "outlinewidth": 0,
             "ticks": ""
            },
            "colorscale": [
             [
              0,
              "#0d0887"
             ],
             [
              0.1111111111111111,
              "#46039f"
             ],
             [
              0.2222222222222222,
              "#7201a8"
             ],
             [
              0.3333333333333333,
              "#9c179e"
             ],
             [
              0.4444444444444444,
              "#bd3786"
             ],
             [
              0.5555555555555556,
              "#d8576b"
             ],
             [
              0.6666666666666666,
              "#ed7953"
             ],
             [
              0.7777777777777778,
              "#fb9f3a"
             ],
             [
              0.8888888888888888,
              "#fdca26"
             ],
             [
              1,
              "#f0f921"
             ]
            ],
            "type": "contour"
           }
          ],
          "contourcarpet": [
           {
            "colorbar": {
             "outlinewidth": 0,
             "ticks": ""
            },
            "type": "contourcarpet"
           }
          ],
          "heatmap": [
           {
            "colorbar": {
             "outlinewidth": 0,
             "ticks": ""
            },
            "colorscale": [
             [
              0,
              "#0d0887"
             ],
             [
              0.1111111111111111,
              "#46039f"
             ],
             [
              0.2222222222222222,
              "#7201a8"
             ],
             [
              0.3333333333333333,
              "#9c179e"
             ],
             [
              0.4444444444444444,
              "#bd3786"
             ],
             [
              0.5555555555555556,
              "#d8576b"
             ],
             [
              0.6666666666666666,
              "#ed7953"
             ],
             [
              0.7777777777777778,
              "#fb9f3a"
             ],
             [
              0.8888888888888888,
              "#fdca26"
             ],
             [
              1,
              "#f0f921"
             ]
            ],
            "type": "heatmap"
           }
          ],
          "heatmapgl": [
           {
            "colorbar": {
             "outlinewidth": 0,
             "ticks": ""
            },
            "colorscale": [
             [
              0,
              "#0d0887"
             ],
             [
              0.1111111111111111,
              "#46039f"
             ],
             [
              0.2222222222222222,
              "#7201a8"
             ],
             [
              0.3333333333333333,
              "#9c179e"
             ],
             [
              0.4444444444444444,
              "#bd3786"
             ],
             [
              0.5555555555555556,
              "#d8576b"
             ],
             [
              0.6666666666666666,
              "#ed7953"
             ],
             [
              0.7777777777777778,
              "#fb9f3a"
             ],
             [
              0.8888888888888888,
              "#fdca26"
             ],
             [
              1,
              "#f0f921"
             ]
            ],
            "type": "heatmapgl"
           }
          ],
          "histogram": [
           {
            "marker": {
             "pattern": {
              "fillmode": "overlay",
              "size": 10,
              "solidity": 0.2
             }
            },
            "type": "histogram"
           }
          ],
          "histogram2d": [
           {
            "colorbar": {
             "outlinewidth": 0,
             "ticks": ""
            },
            "colorscale": [
             [
              0,
              "#0d0887"
             ],
             [
              0.1111111111111111,
              "#46039f"
             ],
             [
              0.2222222222222222,
              "#7201a8"
             ],
             [
              0.3333333333333333,
              "#9c179e"
             ],
             [
              0.4444444444444444,
              "#bd3786"
             ],
             [
              0.5555555555555556,
              "#d8576b"
             ],
             [
              0.6666666666666666,
              "#ed7953"
             ],
             [
              0.7777777777777778,
              "#fb9f3a"
             ],
             [
              0.8888888888888888,
              "#fdca26"
             ],
             [
              1,
              "#f0f921"
             ]
            ],
            "type": "histogram2d"
           }
          ],
          "histogram2dcontour": [
           {
            "colorbar": {
             "outlinewidth": 0,
             "ticks": ""
            },
            "colorscale": [
             [
              0,
              "#0d0887"
             ],
             [
              0.1111111111111111,
              "#46039f"
             ],
             [
              0.2222222222222222,
              "#7201a8"
             ],
             [
              0.3333333333333333,
              "#9c179e"
             ],
             [
              0.4444444444444444,
              "#bd3786"
             ],
             [
              0.5555555555555556,
              "#d8576b"
             ],
             [
              0.6666666666666666,
              "#ed7953"
             ],
             [
              0.7777777777777778,
              "#fb9f3a"
             ],
             [
              0.8888888888888888,
              "#fdca26"
             ],
             [
              1,
              "#f0f921"
             ]
            ],
            "type": "histogram2dcontour"
           }
          ],
          "mesh3d": [
           {
            "colorbar": {
             "outlinewidth": 0,
             "ticks": ""
            },
            "type": "mesh3d"
           }
          ],
          "parcoords": [
           {
            "line": {
             "colorbar": {
              "outlinewidth": 0,
              "ticks": ""
             }
            },
            "type": "parcoords"
           }
          ],
          "pie": [
           {
            "automargin": true,
            "type": "pie"
           }
          ],
          "scatter": [
           {
            "fillpattern": {
             "fillmode": "overlay",
             "size": 10,
             "solidity": 0.2
            },
            "type": "scatter"
           }
          ],
          "scatter3d": [
           {
            "line": {
             "colorbar": {
              "outlinewidth": 0,
              "ticks": ""
             }
            },
            "marker": {
             "colorbar": {
              "outlinewidth": 0,
              "ticks": ""
             }
            },
            "type": "scatter3d"
           }
          ],
          "scattercarpet": [
           {
            "marker": {
             "colorbar": {
              "outlinewidth": 0,
              "ticks": ""
             }
            },
            "type": "scattercarpet"
           }
          ],
          "scattergeo": [
           {
            "marker": {
             "colorbar": {
              "outlinewidth": 0,
              "ticks": ""
             }
            },
            "type": "scattergeo"
           }
          ],
          "scattergl": [
           {
            "marker": {
             "colorbar": {
              "outlinewidth": 0,
              "ticks": ""
             }
            },
            "type": "scattergl"
           }
          ],
          "scattermapbox": [
           {
            "marker": {
             "colorbar": {
              "outlinewidth": 0,
              "ticks": ""
             }
            },
            "type": "scattermapbox"
           }
          ],
          "scatterpolar": [
           {
            "marker": {
             "colorbar": {
              "outlinewidth": 0,
              "ticks": ""
             }
            },
            "type": "scatterpolar"
           }
          ],
          "scatterpolargl": [
           {
            "marker": {
             "colorbar": {
              "outlinewidth": 0,
              "ticks": ""
             }
            },
            "type": "scatterpolargl"
           }
          ],
          "scatterternary": [
           {
            "marker": {
             "colorbar": {
              "outlinewidth": 0,
              "ticks": ""
             }
            },
            "type": "scatterternary"
           }
          ],
          "surface": [
           {
            "colorbar": {
             "outlinewidth": 0,
             "ticks": ""
            },
            "colorscale": [
             [
              0,
              "#0d0887"
             ],
             [
              0.1111111111111111,
              "#46039f"
             ],
             [
              0.2222222222222222,
              "#7201a8"
             ],
             [
              0.3333333333333333,
              "#9c179e"
             ],
             [
              0.4444444444444444,
              "#bd3786"
             ],
             [
              0.5555555555555556,
              "#d8576b"
             ],
             [
              0.6666666666666666,
              "#ed7953"
             ],
             [
              0.7777777777777778,
              "#fb9f3a"
             ],
             [
              0.8888888888888888,
              "#fdca26"
             ],
             [
              1,
              "#f0f921"
             ]
            ],
            "type": "surface"
           }
          ],
          "table": [
           {
            "cells": {
             "fill": {
              "color": "#EBF0F8"
             },
             "line": {
              "color": "white"
             }
            },
            "header": {
             "fill": {
              "color": "#C8D4E3"
             },
             "line": {
              "color": "white"
             }
            },
            "type": "table"
           }
          ]
         },
         "layout": {
          "annotationdefaults": {
           "arrowcolor": "#2a3f5f",
           "arrowhead": 0,
           "arrowwidth": 1
          },
          "autotypenumbers": "strict",
          "coloraxis": {
           "colorbar": {
            "outlinewidth": 0,
            "ticks": ""
           }
          },
          "colorscale": {
           "diverging": [
            [
             0,
             "#8e0152"
            ],
            [
             0.1,
             "#c51b7d"
            ],
            [
             0.2,
             "#de77ae"
            ],
            [
             0.3,
             "#f1b6da"
            ],
            [
             0.4,
             "#fde0ef"
            ],
            [
             0.5,
             "#f7f7f7"
            ],
            [
             0.6,
             "#e6f5d0"
            ],
            [
             0.7,
             "#b8e186"
            ],
            [
             0.8,
             "#7fbc41"
            ],
            [
             0.9,
             "#4d9221"
            ],
            [
             1,
             "#276419"
            ]
           ],
           "sequential": [
            [
             0,
             "#0d0887"
            ],
            [
             0.1111111111111111,
             "#46039f"
            ],
            [
             0.2222222222222222,
             "#7201a8"
            ],
            [
             0.3333333333333333,
             "#9c179e"
            ],
            [
             0.4444444444444444,
             "#bd3786"
            ],
            [
             0.5555555555555556,
             "#d8576b"
            ],
            [
             0.6666666666666666,
             "#ed7953"
            ],
            [
             0.7777777777777778,
             "#fb9f3a"
            ],
            [
             0.8888888888888888,
             "#fdca26"
            ],
            [
             1,
             "#f0f921"
            ]
           ],
           "sequentialminus": [
            [
             0,
             "#0d0887"
            ],
            [
             0.1111111111111111,
             "#46039f"
            ],
            [
             0.2222222222222222,
             "#7201a8"
            ],
            [
             0.3333333333333333,
             "#9c179e"
            ],
            [
             0.4444444444444444,
             "#bd3786"
            ],
            [
             0.5555555555555556,
             "#d8576b"
            ],
            [
             0.6666666666666666,
             "#ed7953"
            ],
            [
             0.7777777777777778,
             "#fb9f3a"
            ],
            [
             0.8888888888888888,
             "#fdca26"
            ],
            [
             1,
             "#f0f921"
            ]
           ]
          },
          "colorway": [
           "#636efa",
           "#EF553B",
           "#00cc96",
           "#ab63fa",
           "#FFA15A",
           "#19d3f3",
           "#FF6692",
           "#B6E880",
           "#FF97FF",
           "#FECB52"
          ],
          "font": {
           "color": "#2a3f5f"
          },
          "geo": {
           "bgcolor": "white",
           "lakecolor": "white",
           "landcolor": "#E5ECF6",
           "showlakes": true,
           "showland": true,
           "subunitcolor": "white"
          },
          "hoverlabel": {
           "align": "left"
          },
          "hovermode": "closest",
          "mapbox": {
           "style": "light"
          },
          "paper_bgcolor": "white",
          "plot_bgcolor": "#E5ECF6",
          "polar": {
           "angularaxis": {
            "gridcolor": "white",
            "linecolor": "white",
            "ticks": ""
           },
           "bgcolor": "#E5ECF6",
           "radialaxis": {
            "gridcolor": "white",
            "linecolor": "white",
            "ticks": ""
           }
          },
          "scene": {
           "xaxis": {
            "backgroundcolor": "#E5ECF6",
            "gridcolor": "white",
            "gridwidth": 2,
            "linecolor": "white",
            "showbackground": true,
            "ticks": "",
            "zerolinecolor": "white"
           },
           "yaxis": {
            "backgroundcolor": "#E5ECF6",
            "gridcolor": "white",
            "gridwidth": 2,
            "linecolor": "white",
            "showbackground": true,
            "ticks": "",
            "zerolinecolor": "white"
           },
           "zaxis": {
            "backgroundcolor": "#E5ECF6",
            "gridcolor": "white",
            "gridwidth": 2,
            "linecolor": "white",
            "showbackground": true,
            "ticks": "",
            "zerolinecolor": "white"
           }
          },
          "shapedefaults": {
           "line": {
            "color": "#2a3f5f"
           }
          },
          "ternary": {
           "aaxis": {
            "gridcolor": "white",
            "linecolor": "white",
            "ticks": ""
           },
           "baxis": {
            "gridcolor": "white",
            "linecolor": "white",
            "ticks": ""
           },
           "bgcolor": "#E5ECF6",
           "caxis": {
            "gridcolor": "white",
            "linecolor": "white",
            "ticks": ""
           }
          },
          "title": {
           "x": 0.05
          },
          "xaxis": {
           "automargin": true,
           "gridcolor": "white",
           "linecolor": "white",
           "ticks": "",
           "title": {
            "standoff": 15
           },
           "zerolinecolor": "white",
           "zerolinewidth": 2
          },
          "yaxis": {
           "automargin": true,
           "gridcolor": "white",
           "linecolor": "white",
           "ticks": "",
           "title": {
            "standoff": 15
           },
           "zerolinecolor": "white",
           "zerolinewidth": 2
          }
         }
        },
        "xaxis": {
         "anchor": "y",
         "domain": [
          0,
          1
         ],
         "title": {
          "text": "Store"
         }
        },
        "yaxis": {
         "anchor": "x",
         "domain": [
          0,
          1
         ],
         "title": {
          "text": "Unemployment"
         }
        }
       }
      }
     },
     "metadata": {},
     "output_type": "display_data"
    }
   ],
   "source": [
    "# show unemployement outliers for each store\n",
    "fig = px.box(df, x='Store', y='Unemployment')\n",
    "fig.show()"
   ]
  },
  {
   "cell_type": "code",
   "execution_count": 31,
   "metadata": {},
   "outputs": [],
   "source": [
    "# Calculer la moyenne et l'écart-type en ignorant les NaN\n",
    "mean = df['Unemployment'].mean()\n",
    "std = df['Unemployment'].std()\n",
    "\n",
    "# Les outliers nétant que des valeurs hautes, Créer un masque pour les outliers en ignorant les NaN (uniquement avec > 3x std\n",
    "outlier_mask = (df['Unemployment'] > mean + 3*std)\n",
    "\n",
    "# Créer un nouveau DataFrame sans les outliers\n",
    "df_clean = df[~outlier_mask]"
   ]
  },
  {
   "cell_type": "code",
   "execution_count": 32,
   "metadata": {},
   "outputs": [
    {
     "data": {
      "text/plain": [
       "(113, 11)"
      ]
     },
     "execution_count": 32,
     "metadata": {},
     "output_type": "execute_result"
    }
   ],
   "source": [
    "df_clean.shape"
   ]
  },
  {
   "cell_type": "code",
   "execution_count": 33,
   "metadata": {},
   "outputs": [
    {
     "data": {
      "application/vnd.plotly.v1+json": {
       "config": {
        "plotlyServerURL": "https://plot.ly"
       },
       "data": [
        {
         "alignmentgroup": "True",
         "hovertemplate": "Unemployment=%{y}<extra></extra>",
         "legendgroup": "",
         "marker": {
          "color": "#636efa"
         },
         "name": "",
         "notched": false,
         "offsetgroup": "",
         "orientation": "v",
         "showlegend": false,
         "type": "box",
         "x0": " ",
         "xaxis": "x",
         "y": [
          6.858,
          7.47,
          7.0920000000000005,
          7.896,
          7.657999999999999,
          6.961,
          null,
          6.425,
          9.331,
          8.595,
          7.348,
          6.885,
          7.0920000000000005,
          7.951,
          7.441,
          8.963,
          6.489,
          8.243,
          8.35,
          8.15,
          5.527,
          6.832999999999998,
          6.339,
          6.635,
          6.925,
          8.256,
          8.424,
          7.771,
          7.567,
          8.975,
          5.9460000000000015,
          6.3,
          8.304,
          6.061,
          8.622,
          8.106,
          7.057,
          6.496,
          8.099,
          7.9620000000000015,
          6.162000000000001,
          5.965,
          8.163,
          null,
          8.549,
          7.17,
          6.877000000000002,
          6.315,
          6.973,
          8.424,
          8.521,
          7.545,
          5.4220000000000015,
          5.143,
          9.342,
          7.3679999999999986,
          9.331,
          7.795,
          7.787000000000001,
          null,
          7.856,
          7.943,
          7.866,
          7.527,
          6.56,
          8.027999999999999,
          6.664,
          6.442,
          8.625,
          7.808,
          6.299,
          null,
          9.524,
          7.951,
          7.343,
          7.057,
          7.127000000000002,
          6.664,
          8.099,
          8.992,
          6.299,
          null,
          7.484,
          8.15,
          null,
          6.104,
          7.564,
          null,
          8.09,
          6.384,
          null,
          6.315,
          6.529,
          7.872000000000001,
          7.682,
          7.657999999999999,
          7.197,
          6.867999999999999,
          6.877000000000002,
          6.104,
          null,
          5.644,
          5.644,
          6.855,
          8.09,
          6.768,
          7.197,
          7.343,
          6.034,
          8.899,
          null,
          null,
          8.15
         ],
         "y0": " ",
         "yaxis": "y"
        }
       ],
       "layout": {
        "boxmode": "group",
        "legend": {
         "tracegroupgap": 0
        },
        "template": {
         "data": {
          "bar": [
           {
            "error_x": {
             "color": "#2a3f5f"
            },
            "error_y": {
             "color": "#2a3f5f"
            },
            "marker": {
             "line": {
              "color": "#E5ECF6",
              "width": 0.5
             },
             "pattern": {
              "fillmode": "overlay",
              "size": 10,
              "solidity": 0.2
             }
            },
            "type": "bar"
           }
          ],
          "barpolar": [
           {
            "marker": {
             "line": {
              "color": "#E5ECF6",
              "width": 0.5
             },
             "pattern": {
              "fillmode": "overlay",
              "size": 10,
              "solidity": 0.2
             }
            },
            "type": "barpolar"
           }
          ],
          "carpet": [
           {
            "aaxis": {
             "endlinecolor": "#2a3f5f",
             "gridcolor": "white",
             "linecolor": "white",
             "minorgridcolor": "white",
             "startlinecolor": "#2a3f5f"
            },
            "baxis": {
             "endlinecolor": "#2a3f5f",
             "gridcolor": "white",
             "linecolor": "white",
             "minorgridcolor": "white",
             "startlinecolor": "#2a3f5f"
            },
            "type": "carpet"
           }
          ],
          "choropleth": [
           {
            "colorbar": {
             "outlinewidth": 0,
             "ticks": ""
            },
            "type": "choropleth"
           }
          ],
          "contour": [
           {
            "colorbar": {
             "outlinewidth": 0,
             "ticks": ""
            },
            "colorscale": [
             [
              0,
              "#0d0887"
             ],
             [
              0.1111111111111111,
              "#46039f"
             ],
             [
              0.2222222222222222,
              "#7201a8"
             ],
             [
              0.3333333333333333,
              "#9c179e"
             ],
             [
              0.4444444444444444,
              "#bd3786"
             ],
             [
              0.5555555555555556,
              "#d8576b"
             ],
             [
              0.6666666666666666,
              "#ed7953"
             ],
             [
              0.7777777777777778,
              "#fb9f3a"
             ],
             [
              0.8888888888888888,
              "#fdca26"
             ],
             [
              1,
              "#f0f921"
             ]
            ],
            "type": "contour"
           }
          ],
          "contourcarpet": [
           {
            "colorbar": {
             "outlinewidth": 0,
             "ticks": ""
            },
            "type": "contourcarpet"
           }
          ],
          "heatmap": [
           {
            "colorbar": {
             "outlinewidth": 0,
             "ticks": ""
            },
            "colorscale": [
             [
              0,
              "#0d0887"
             ],
             [
              0.1111111111111111,
              "#46039f"
             ],
             [
              0.2222222222222222,
              "#7201a8"
             ],
             [
              0.3333333333333333,
              "#9c179e"
             ],
             [
              0.4444444444444444,
              "#bd3786"
             ],
             [
              0.5555555555555556,
              "#d8576b"
             ],
             [
              0.6666666666666666,
              "#ed7953"
             ],
             [
              0.7777777777777778,
              "#fb9f3a"
             ],
             [
              0.8888888888888888,
              "#fdca26"
             ],
             [
              1,
              "#f0f921"
             ]
            ],
            "type": "heatmap"
           }
          ],
          "heatmapgl": [
           {
            "colorbar": {
             "outlinewidth": 0,
             "ticks": ""
            },
            "colorscale": [
             [
              0,
              "#0d0887"
             ],
             [
              0.1111111111111111,
              "#46039f"
             ],
             [
              0.2222222222222222,
              "#7201a8"
             ],
             [
              0.3333333333333333,
              "#9c179e"
             ],
             [
              0.4444444444444444,
              "#bd3786"
             ],
             [
              0.5555555555555556,
              "#d8576b"
             ],
             [
              0.6666666666666666,
              "#ed7953"
             ],
             [
              0.7777777777777778,
              "#fb9f3a"
             ],
             [
              0.8888888888888888,
              "#fdca26"
             ],
             [
              1,
              "#f0f921"
             ]
            ],
            "type": "heatmapgl"
           }
          ],
          "histogram": [
           {
            "marker": {
             "pattern": {
              "fillmode": "overlay",
              "size": 10,
              "solidity": 0.2
             }
            },
            "type": "histogram"
           }
          ],
          "histogram2d": [
           {
            "colorbar": {
             "outlinewidth": 0,
             "ticks": ""
            },
            "colorscale": [
             [
              0,
              "#0d0887"
             ],
             [
              0.1111111111111111,
              "#46039f"
             ],
             [
              0.2222222222222222,
              "#7201a8"
             ],
             [
              0.3333333333333333,
              "#9c179e"
             ],
             [
              0.4444444444444444,
              "#bd3786"
             ],
             [
              0.5555555555555556,
              "#d8576b"
             ],
             [
              0.6666666666666666,
              "#ed7953"
             ],
             [
              0.7777777777777778,
              "#fb9f3a"
             ],
             [
              0.8888888888888888,
              "#fdca26"
             ],
             [
              1,
              "#f0f921"
             ]
            ],
            "type": "histogram2d"
           }
          ],
          "histogram2dcontour": [
           {
            "colorbar": {
             "outlinewidth": 0,
             "ticks": ""
            },
            "colorscale": [
             [
              0,
              "#0d0887"
             ],
             [
              0.1111111111111111,
              "#46039f"
             ],
             [
              0.2222222222222222,
              "#7201a8"
             ],
             [
              0.3333333333333333,
              "#9c179e"
             ],
             [
              0.4444444444444444,
              "#bd3786"
             ],
             [
              0.5555555555555556,
              "#d8576b"
             ],
             [
              0.6666666666666666,
              "#ed7953"
             ],
             [
              0.7777777777777778,
              "#fb9f3a"
             ],
             [
              0.8888888888888888,
              "#fdca26"
             ],
             [
              1,
              "#f0f921"
             ]
            ],
            "type": "histogram2dcontour"
           }
          ],
          "mesh3d": [
           {
            "colorbar": {
             "outlinewidth": 0,
             "ticks": ""
            },
            "type": "mesh3d"
           }
          ],
          "parcoords": [
           {
            "line": {
             "colorbar": {
              "outlinewidth": 0,
              "ticks": ""
             }
            },
            "type": "parcoords"
           }
          ],
          "pie": [
           {
            "automargin": true,
            "type": "pie"
           }
          ],
          "scatter": [
           {
            "fillpattern": {
             "fillmode": "overlay",
             "size": 10,
             "solidity": 0.2
            },
            "type": "scatter"
           }
          ],
          "scatter3d": [
           {
            "line": {
             "colorbar": {
              "outlinewidth": 0,
              "ticks": ""
             }
            },
            "marker": {
             "colorbar": {
              "outlinewidth": 0,
              "ticks": ""
             }
            },
            "type": "scatter3d"
           }
          ],
          "scattercarpet": [
           {
            "marker": {
             "colorbar": {
              "outlinewidth": 0,
              "ticks": ""
             }
            },
            "type": "scattercarpet"
           }
          ],
          "scattergeo": [
           {
            "marker": {
             "colorbar": {
              "outlinewidth": 0,
              "ticks": ""
             }
            },
            "type": "scattergeo"
           }
          ],
          "scattergl": [
           {
            "marker": {
             "colorbar": {
              "outlinewidth": 0,
              "ticks": ""
             }
            },
            "type": "scattergl"
           }
          ],
          "scattermapbox": [
           {
            "marker": {
             "colorbar": {
              "outlinewidth": 0,
              "ticks": ""
             }
            },
            "type": "scattermapbox"
           }
          ],
          "scatterpolar": [
           {
            "marker": {
             "colorbar": {
              "outlinewidth": 0,
              "ticks": ""
             }
            },
            "type": "scatterpolar"
           }
          ],
          "scatterpolargl": [
           {
            "marker": {
             "colorbar": {
              "outlinewidth": 0,
              "ticks": ""
             }
            },
            "type": "scatterpolargl"
           }
          ],
          "scatterternary": [
           {
            "marker": {
             "colorbar": {
              "outlinewidth": 0,
              "ticks": ""
             }
            },
            "type": "scatterternary"
           }
          ],
          "surface": [
           {
            "colorbar": {
             "outlinewidth": 0,
             "ticks": ""
            },
            "colorscale": [
             [
              0,
              "#0d0887"
             ],
             [
              0.1111111111111111,
              "#46039f"
             ],
             [
              0.2222222222222222,
              "#7201a8"
             ],
             [
              0.3333333333333333,
              "#9c179e"
             ],
             [
              0.4444444444444444,
              "#bd3786"
             ],
             [
              0.5555555555555556,
              "#d8576b"
             ],
             [
              0.6666666666666666,
              "#ed7953"
             ],
             [
              0.7777777777777778,
              "#fb9f3a"
             ],
             [
              0.8888888888888888,
              "#fdca26"
             ],
             [
              1,
              "#f0f921"
             ]
            ],
            "type": "surface"
           }
          ],
          "table": [
           {
            "cells": {
             "fill": {
              "color": "#EBF0F8"
             },
             "line": {
              "color": "white"
             }
            },
            "header": {
             "fill": {
              "color": "#C8D4E3"
             },
             "line": {
              "color": "white"
             }
            },
            "type": "table"
           }
          ]
         },
         "layout": {
          "annotationdefaults": {
           "arrowcolor": "#2a3f5f",
           "arrowhead": 0,
           "arrowwidth": 1
          },
          "autotypenumbers": "strict",
          "coloraxis": {
           "colorbar": {
            "outlinewidth": 0,
            "ticks": ""
           }
          },
          "colorscale": {
           "diverging": [
            [
             0,
             "#8e0152"
            ],
            [
             0.1,
             "#c51b7d"
            ],
            [
             0.2,
             "#de77ae"
            ],
            [
             0.3,
             "#f1b6da"
            ],
            [
             0.4,
             "#fde0ef"
            ],
            [
             0.5,
             "#f7f7f7"
            ],
            [
             0.6,
             "#e6f5d0"
            ],
            [
             0.7,
             "#b8e186"
            ],
            [
             0.8,
             "#7fbc41"
            ],
            [
             0.9,
             "#4d9221"
            ],
            [
             1,
             "#276419"
            ]
           ],
           "sequential": [
            [
             0,
             "#0d0887"
            ],
            [
             0.1111111111111111,
             "#46039f"
            ],
            [
             0.2222222222222222,
             "#7201a8"
            ],
            [
             0.3333333333333333,
             "#9c179e"
            ],
            [
             0.4444444444444444,
             "#bd3786"
            ],
            [
             0.5555555555555556,
             "#d8576b"
            ],
            [
             0.6666666666666666,
             "#ed7953"
            ],
            [
             0.7777777777777778,
             "#fb9f3a"
            ],
            [
             0.8888888888888888,
             "#fdca26"
            ],
            [
             1,
             "#f0f921"
            ]
           ],
           "sequentialminus": [
            [
             0,
             "#0d0887"
            ],
            [
             0.1111111111111111,
             "#46039f"
            ],
            [
             0.2222222222222222,
             "#7201a8"
            ],
            [
             0.3333333333333333,
             "#9c179e"
            ],
            [
             0.4444444444444444,
             "#bd3786"
            ],
            [
             0.5555555555555556,
             "#d8576b"
            ],
            [
             0.6666666666666666,
             "#ed7953"
            ],
            [
             0.7777777777777778,
             "#fb9f3a"
            ],
            [
             0.8888888888888888,
             "#fdca26"
            ],
            [
             1,
             "#f0f921"
            ]
           ]
          },
          "colorway": [
           "#636efa",
           "#EF553B",
           "#00cc96",
           "#ab63fa",
           "#FFA15A",
           "#19d3f3",
           "#FF6692",
           "#B6E880",
           "#FF97FF",
           "#FECB52"
          ],
          "font": {
           "color": "#2a3f5f"
          },
          "geo": {
           "bgcolor": "white",
           "lakecolor": "white",
           "landcolor": "#E5ECF6",
           "showlakes": true,
           "showland": true,
           "subunitcolor": "white"
          },
          "hoverlabel": {
           "align": "left"
          },
          "hovermode": "closest",
          "mapbox": {
           "style": "light"
          },
          "paper_bgcolor": "white",
          "plot_bgcolor": "#E5ECF6",
          "polar": {
           "angularaxis": {
            "gridcolor": "white",
            "linecolor": "white",
            "ticks": ""
           },
           "bgcolor": "#E5ECF6",
           "radialaxis": {
            "gridcolor": "white",
            "linecolor": "white",
            "ticks": ""
           }
          },
          "scene": {
           "xaxis": {
            "backgroundcolor": "#E5ECF6",
            "gridcolor": "white",
            "gridwidth": 2,
            "linecolor": "white",
            "showbackground": true,
            "ticks": "",
            "zerolinecolor": "white"
           },
           "yaxis": {
            "backgroundcolor": "#E5ECF6",
            "gridcolor": "white",
            "gridwidth": 2,
            "linecolor": "white",
            "showbackground": true,
            "ticks": "",
            "zerolinecolor": "white"
           },
           "zaxis": {
            "backgroundcolor": "#E5ECF6",
            "gridcolor": "white",
            "gridwidth": 2,
            "linecolor": "white",
            "showbackground": true,
            "ticks": "",
            "zerolinecolor": "white"
           }
          },
          "shapedefaults": {
           "line": {
            "color": "#2a3f5f"
           }
          },
          "ternary": {
           "aaxis": {
            "gridcolor": "white",
            "linecolor": "white",
            "ticks": ""
           },
           "baxis": {
            "gridcolor": "white",
            "linecolor": "white",
            "ticks": ""
           },
           "bgcolor": "#E5ECF6",
           "caxis": {
            "gridcolor": "white",
            "linecolor": "white",
            "ticks": ""
           }
          },
          "title": {
           "x": 0.05
          },
          "xaxis": {
           "automargin": true,
           "gridcolor": "white",
           "linecolor": "white",
           "ticks": "",
           "title": {
            "standoff": 15
           },
           "zerolinecolor": "white",
           "zerolinewidth": 2
          },
          "yaxis": {
           "automargin": true,
           "gridcolor": "white",
           "linecolor": "white",
           "ticks": "",
           "title": {
            "standoff": 15
           },
           "zerolinecolor": "white",
           "zerolinewidth": 2
          }
         }
        },
        "title": {
         "text": "Unemployment"
        },
        "xaxis": {
         "anchor": "y",
         "domain": [
          0,
          1
         ]
        },
        "yaxis": {
         "anchor": "x",
         "domain": [
          0,
          1
         ],
         "title": {
          "text": "Unemployment"
         }
        }
       }
      }
     },
     "metadata": {},
     "output_type": "display_data"
    }
   ],
   "source": [
    "# boite à moustache pour unemployment\n",
    "fig_unemp = px.box(df_clean, y='Unemployment', title='Unemployment')\n",
    "fig_unemp.show()"
   ]
  },
  {
   "cell_type": "code",
   "execution_count": 34,
   "metadata": {},
   "outputs": [],
   "source": [
    "df=df_clean "
   ]
  },
  {
   "cell_type": "code",
   "execution_count": 35,
   "metadata": {},
   "outputs": [
    {
     "data": {
      "text/html": [
       "<div>\n",
       "<style scoped>\n",
       "    .dataframe tbody tr th:only-of-type {\n",
       "        vertical-align: middle;\n",
       "    }\n",
       "\n",
       "    .dataframe tbody tr th {\n",
       "        vertical-align: top;\n",
       "    }\n",
       "\n",
       "    .dataframe thead th {\n",
       "        text-align: right;\n",
       "    }\n",
       "</style>\n",
       "<table border=\"1\" class=\"dataframe\">\n",
       "  <thead>\n",
       "    <tr style=\"text-align: center;\">\n",
       "      <th></th>\n",
       "      <th>Store</th>\n",
       "      <th>Date</th>\n",
       "      <th>Weekly_Sales</th>\n",
       "      <th>Holiday_Flag</th>\n",
       "      <th>Temperature</th>\n",
       "      <th>Fuel_Price</th>\n",
       "      <th>CPI</th>\n",
       "      <th>Unemployment</th>\n",
       "      <th>Year</th>\n",
       "      <th>Month</th>\n",
       "      <th>Day</th>\n",
       "    </tr>\n",
       "  </thead>\n",
       "  <tbody>\n",
       "    <tr>\n",
       "      <th>0</th>\n",
       "      <td>6.0</td>\n",
       "      <td>2011-02-18</td>\n",
       "      <td>1572117.54</td>\n",
       "      <td>0.0</td>\n",
       "      <td>15.3</td>\n",
       "      <td>3.045</td>\n",
       "      <td>214.777523</td>\n",
       "      <td>6.858</td>\n",
       "      <td>2011.0</td>\n",
       "      <td>2.0</td>\n",
       "      <td>18.0</td>\n",
       "    </tr>\n",
       "    <tr>\n",
       "      <th>1</th>\n",
       "      <td>13.0</td>\n",
       "      <td>2011-03-25</td>\n",
       "      <td>1807545.43</td>\n",
       "      <td>0.0</td>\n",
       "      <td>5.8</td>\n",
       "      <td>3.435</td>\n",
       "      <td>128.616064</td>\n",
       "      <td>7.470</td>\n",
       "      <td>2011.0</td>\n",
       "      <td>3.0</td>\n",
       "      <td>25.0</td>\n",
       "    </tr>\n",
       "    <tr>\n",
       "      <th>4</th>\n",
       "      <td>6.0</td>\n",
       "      <td>2010-05-28</td>\n",
       "      <td>1644470.66</td>\n",
       "      <td>0.0</td>\n",
       "      <td>26.0</td>\n",
       "      <td>2.759</td>\n",
       "      <td>212.412888</td>\n",
       "      <td>7.092</td>\n",
       "      <td>2010.0</td>\n",
       "      <td>5.0</td>\n",
       "      <td>28.0</td>\n",
       "    </tr>\n",
       "    <tr>\n",
       "      <th>5</th>\n",
       "      <td>4.0</td>\n",
       "      <td>2010-05-28</td>\n",
       "      <td>1857533.70</td>\n",
       "      <td>0.0</td>\n",
       "      <td>NaN</td>\n",
       "      <td>2.756</td>\n",
       "      <td>126.160226</td>\n",
       "      <td>7.896</td>\n",
       "      <td>2010.0</td>\n",
       "      <td>5.0</td>\n",
       "      <td>28.0</td>\n",
       "    </tr>\n",
       "    <tr>\n",
       "      <th>6</th>\n",
       "      <td>15.0</td>\n",
       "      <td>2011-06-03</td>\n",
       "      <td>695396.19</td>\n",
       "      <td>0.0</td>\n",
       "      <td>21.0</td>\n",
       "      <td>4.069</td>\n",
       "      <td>134.855161</td>\n",
       "      <td>7.658</td>\n",
       "      <td>2011.0</td>\n",
       "      <td>6.0</td>\n",
       "      <td>3.0</td>\n",
       "    </tr>\n",
       "  </tbody>\n",
       "</table>\n",
       "</div>"
      ],
      "text/plain": [
       "   Store    Date     Weekly_Sales  Holiday_Flag  Temperature  Fuel_Price  \\\n",
       "0   6.0  2011-02-18   1572117.54        0.0         15.3         3.045     \n",
       "1  13.0  2011-03-25   1807545.43        0.0          5.8         3.435     \n",
       "4   6.0  2010-05-28   1644470.66        0.0         26.0         2.759     \n",
       "5   4.0  2010-05-28   1857533.70        0.0          NaN         2.756     \n",
       "6  15.0  2011-06-03    695396.19        0.0         21.0         4.069     \n",
       "\n",
       "       CPI     Unemployment   Year   Month   Day  \n",
       "0  214.777523      6.858     2011.0   2.0   18.0  \n",
       "1  128.616064      7.470     2011.0   3.0   25.0  \n",
       "4  212.412888      7.092     2010.0   5.0   28.0  \n",
       "5  126.160226      7.896     2010.0   5.0   28.0  \n",
       "6  134.855161      7.658     2011.0   6.0    3.0  "
      ]
     },
     "execution_count": 35,
     "metadata": {},
     "output_type": "execute_result"
    }
   ],
   "source": [
    "df.head()"
   ]
  },
  {
   "cell_type": "code",
   "execution_count": 36,
   "metadata": {},
   "outputs": [],
   "source": [
    "#supprimer la colonne Date\n",
    "df.drop(columns=['Date'], inplace=True)"
   ]
  },
  {
   "cell_type": "code",
   "execution_count": 37,
   "metadata": {},
   "outputs": [
    {
     "data": {
      "text/plain": [
       "(113, 10)"
      ]
     },
     "execution_count": 37,
     "metadata": {},
     "output_type": "execute_result"
    }
   ],
   "source": [
    "df.shape"
   ]
  },
  {
   "cell_type": "code",
   "execution_count": 38,
   "metadata": {},
   "outputs": [
    {
     "data": {
      "text/plain": [
       "<bound method NDFrame.head of      Store  Weekly_Sales  Holiday_Flag  Temperature  Fuel_Price      CPI     \\\n",
       "0     6.0    1572117.54        0.0         15.3         3.045    214.777523   \n",
       "1    13.0    1807545.43        0.0          5.8         3.435    128.616064   \n",
       "4     6.0    1644470.66        0.0         26.0         2.759    212.412888   \n",
       "5     4.0    1857533.70        0.0          NaN         2.756    126.160226   \n",
       "6    15.0     695396.19        0.0         21.0         4.069    134.855161   \n",
       "7    20.0    2203523.20        0.0          4.4         3.617    213.023622   \n",
       "8    14.0    2600519.26        0.0         -0.8         3.109           NaN   \n",
       "10    8.0     895066.50        0.0         28.3         3.554    219.070197   \n",
       "11   18.0    1029618.10        0.0         11.1         2.878    132.763355   \n",
       "12    7.0     414094.05        0.0          2.6         3.767    192.826069   \n",
       "13    1.0    1677472.78        0.0         18.2         3.734    221.211813   \n",
       "14   17.0     829207.27        0.0         15.6         2.853    126.234600   \n",
       "15    6.0    1498080.16        0.0         20.5         2.780    211.894272   \n",
       "16   13.0    1997397.63        0.0         24.6         2.850           NaN   \n",
       "18    2.0    2432736.52        0.0         10.1           NaN           NaN   \n",
       "20    7.0     561145.14        0.0          3.5         2.725    189.704822   \n",
       "21    5.0     290930.01        0.0         25.2         3.899    216.534361   \n",
       "22   18.0    1074079.00        0.0         10.5         4.029    138.911700   \n",
       "23   19.0    1427023.45        0.0          3.9         2.963    131.863129   \n",
       "24   19.0    1405007.44        0.0         10.4         4.124    138.033200   \n",
       "25   17.0     919878.34        0.0          7.1         3.797    131.108333   \n",
       "26    3.0     367438.62        0.0         11.0         3.261           NaN   \n",
       "27   16.0     435397.19        0.0          6.6         3.828    192.831317   \n",
       "28   17.0     757738.76        0.0          7.3         2.915    126.562100   \n",
       "29    6.0    1420405.41        0.0          NaN         3.523    217.270654   \n",
       "32    7.0     563460.77        1.0         -7.3         3.103    196.919506   \n",
       "33   14.0    2077256.24        1.0          2.8           NaN           NaN   \n",
       "35   19.0    1266564.94        0.0          0.7         3.789    133.958742   \n",
       "36    3.0     365248.94        0.0         26.8         3.467    219.741491   \n",
       "37   18.0     988157.72        0.0          NaN         3.823    134.278467   \n",
       "38    4.0    2008344.92        0.0         27.7         3.570    129.066300   \n",
       "39    5.0     311906.70        0.0         16.0         3.297    218.569962   \n",
       "40   18.0     961186.23        0.0         10.2         4.023    137.978133   \n",
       "41   16.0     526525.16        0.0          NaN         3.659    198.126718   \n",
       "43    7.0     629994.47        0.0         14.2         3.485    194.379637   \n",
       "44    1.0    1641957.44        1.0          3.6         2.548    211.242170   \n",
       "45    2.0    1861802.70        0.0         12.6         3.555    220.275944   \n",
       "46    5.0     268929.03        0.0         28.0         2.640    211.927001   \n",
       "47   19.0    1549018.68        0.0         19.0         2.958    132.521867   \n",
       "48    1.0    1624383.75        0.0         33.1         3.684    215.544618   \n",
       "49   16.0     485095.41        0.0          9.0         3.750    197.413326   \n",
       "50   13.0    2035431.39        0.0         16.2         3.788    130.959226   \n",
       "51    2.0    1916812.74        0.0         15.4         2.728    211.660898   \n",
       "52    9.0     509263.28        0.0         29.5         2.653    214.896576   \n",
       "53   14.0    1879451.23        0.0          5.4         3.625    184.994368   \n",
       "54   10.0    1805999.79        0.0         30.5         3.666    130.719633   \n",
       "55   13.0    1847430.96        0.0         17.6         3.648    129.518333   \n",
       "56    8.0     888816.78        0.0         23.8         2.619    214.936279   \n",
       "58    6.0    1532308.78        0.0          NaN         2.640    212.894485   \n",
       "59   14.0    2020550.99        0.0          2.7         3.695    189.842483   \n",
       "60   14.0    2095599.93        0.0          NaN         4.046    185.937438   \n",
       "61   10.0    1990371.02        0.0         14.2         3.882    130.645793   \n",
       "63    5.0     313358.15        0.0         20.7         3.594    224.019287   \n",
       "64    4.0    2771397.17        0.0          2.5         3.149    129.898065   \n",
       "66   18.0    1166117.85        0.0         23.2         2.792    132.614193   \n",
       "67    3.0     461622.22        0.0          7.6         2.572    214.424881   \n",
       "70   18.0    1588430.71        0.0         -2.6         3.139           NaN   \n",
       "72   13.0    2461468.35        0.0          2.7         2.817    126.793400   \n",
       "73    1.0    1449142.92        0.0         29.6         2.619    211.567306   \n",
       "74    1.0    1508068.77        0.0         20.0         3.594    223.425723   \n",
       "75   20.0    1973135.87        0.0         24.0         2.808    204.567546   \n",
       "76   15.0     570611.23        0.0          8.6         4.021    137.584387   \n",
       "78    1.0    1539483.70        0.0         16.8         3.308    218.220509   \n",
       "79   20.0    1789687.65        0.0         20.8           NaN           NaN   \n",
       "80    9.0     519823.30        0.0         10.0         2.771    215.437285   \n",
       "85    2.0    1758050.79        0.0          7.0         2.976    211.064888   \n",
       "87    3.0     431985.36        0.0         24.0         3.688    225.235150   \n",
       "90    9.0     485389.15        0.0         25.8         2.642    214.656430   \n",
       "94   14.0    1953544.76        0.0         25.8         3.760    186.139981   \n",
       "95    1.0    1494251.50        0.0         23.8         2.854    210.337426   \n",
       "96    8.0     860336.16        0.0          9.9           NaN    214.749245   \n",
       "97    5.0     298697.84        0.0         19.7           NaN    210.939388   \n",
       "98   10.0    1768172.31        0.0         32.4           NaN    126.126600   \n",
       "99   13.0    2018314.71        0.0         26.0         2.814    126.139200   \n",
       "100   3.0     364076.85        0.0         28.6         2.637    214.785826   \n",
       "101   2.0    1799520.14        0.0          8.2           NaN    219.355063   \n",
       "103   4.0    2302504.86        0.0          5.8         2.860    126.793400   \n",
       "104   3.0     419497.95        0.0         28.2         3.346    225.306861   \n",
       "105  19.0    1366395.96        0.0         22.7         2.932    132.598387   \n",
       "106  14.0    2095591.63        0.0          1.6           NaN           NaN   \n",
       "107   8.0     994801.40        1.0          0.7         2.548    214.621419   \n",
       "108  18.0    1256282.79        0.0         20.6         2.906    132.293936   \n",
       "110  20.0    1799737.79        1.0         -1.7         3.179    204.643227   \n",
       "111  19.0    1468350.36        0.0          NaN         3.722    138.162900   \n",
       "112   2.0    2124451.54        0.0          4.3         2.514    210.945160   \n",
       "113  13.0    1811606.21        0.0          0.4           NaN    130.279226   \n",
       "114  11.0    1757242.51        1.0         21.1         2.735    215.061403   \n",
       "115  15.0     660838.75        0.0          NaN         2.909    131.637000   \n",
       "116   7.0     457340.06        0.0          4.1         3.936    197.722738   \n",
       "118   9.0     513073.87        0.0         28.3         2.637    215.016648   \n",
       "119  14.0    1864746.10        0.0          1.3         3.193    182.598306   \n",
       "120   8.0     836707.85        0.0         24.1         2.582    214.878556   \n",
       "121   5.0     275142.17        0.0         31.9         3.682    216.046436   \n",
       "122   7.0     597876.55        1.0         14.4         3.596    198.095048   \n",
       "123   1.0    1466046.67        0.0          NaN         3.786    215.503788   \n",
       "124  19.0    1467473.63        0.0         20.1           NaN    134.942548   \n",
       "125   3.0     398838.97        0.0         17.7         3.308    221.643285   \n",
       "127  16.0     614253.33        0.0         16.5         2.711    189.523128   \n",
       "128  13.0    1970341.38        0.0         24.4         3.606    129.201581   \n",
       "130  13.0    2025582.62        0.0         11.4         3.529    130.826194   \n",
       "131  17.0     855459.96        0.0          NaN         2.831    126.546161   \n",
       "132   4.0    2036231.39        0.0         28.2         3.627    129.150774   \n",
       "136   4.0    2066541.86        0.0         29.2         3.469    129.112500   \n",
       "138   6.0    1639358.93        0.0         23.5         3.807    217.014694   \n",
       "139   7.0     532739.77        0.0         10.3         3.804    197.588605   \n",
       "141   5.0     301827.36        0.0         16.9           NaN    212.560411   \n",
       "142   3.0     403342.40        0.0         24.2         3.285           NaN   \n",
       "143   3.0     396968.80        0.0         25.8         2.705    214.495838   \n",
       "144   3.0     424513.08        0.0         23.0         3.594    226.968844   \n",
       "145  14.0    2248645.59        0.0         22.6         2.780    182.442420   \n",
       "147  17.0     845252.21        0.0         14.0         2.841    126.111903   \n",
       "148   8.0     856796.10        0.0         30.0         3.638    219.007525   \n",
       "149  19.0    1255087.26        0.0         12.9         4.170    137.923067   \n",
       "\n",
       "     Unemployment   Year   Month   Day  \n",
       "0        6.858     2011.0   2.0   18.0  \n",
       "1        7.470     2011.0   3.0   25.0  \n",
       "4        7.092     2010.0   5.0   28.0  \n",
       "5        7.896     2010.0   5.0   28.0  \n",
       "6        7.658     2011.0   6.0    3.0  \n",
       "7        6.961     2012.0   2.0    3.0  \n",
       "8          NaN     2010.0  12.0   10.0  \n",
       "10       6.425     2011.0   8.0   19.0  \n",
       "11       9.331     2010.0  10.0   15.0  \n",
       "12       8.595     2011.0   5.0   13.0  \n",
       "13       7.348     2012.0   3.0   16.0  \n",
       "14       6.885     2010.0  10.0    1.0  \n",
       "15       7.092     2010.0   4.0   30.0  \n",
       "16       7.951     2010.0   8.0   20.0  \n",
       "18       7.441     2011.0  12.0   16.0  \n",
       "20       8.963     2010.0   4.0    2.0  \n",
       "21       6.489     2011.0   5.0   13.0  \n",
       "22       8.243     2012.0  10.0   12.0  \n",
       "23       8.350     2010.0   3.0   26.0  \n",
       "24       8.150     2012.0   5.0    4.0  \n",
       "25       5.527     2012.0  10.0   12.0  \n",
       "26       6.833     2012.0   1.0   13.0  \n",
       "27       6.339     2011.0   5.0   20.0  \n",
       "28       6.635     2010.0   4.0   16.0  \n",
       "29       6.925     2011.0   8.0   26.0  \n",
       "32       8.256     2012.0   2.0   10.0  \n",
       "33       8.424     2012.0   2.0   10.0  \n",
       "35       7.771     2011.0   3.0   25.0  \n",
       "36       7.567     2011.0   9.0   23.0  \n",
       "37       8.975     2011.0   4.0   15.0  \n",
       "38       5.946     2011.0   6.0   24.0  \n",
       "39       6.300     2011.0  11.0   11.0  \n",
       "40       8.304     2012.0   4.0   27.0  \n",
       "41       6.061     2012.0   9.0   14.0  \n",
       "43       8.622     2011.0   8.0   26.0  \n",
       "44       8.106     2010.0   2.0   12.0  \n",
       "45       7.057     2012.0   2.0   24.0  \n",
       "46       6.496     2010.0   7.0   30.0  \n",
       "47       8.099     2010.0   7.0    2.0  \n",
       "48       7.962     2011.0   8.0    5.0  \n",
       "49       6.162     2012.0   3.0   30.0  \n",
       "50       5.965     2012.0   6.0    1.0  \n",
       "51       8.163     2010.0  11.0   12.0  \n",
       "52         NaN     2010.0   6.0   25.0  \n",
       "53       8.549     2011.0   3.0   25.0  \n",
       "54       7.170     2012.0   7.0    6.0  \n",
       "55       6.877     2011.0   9.0   23.0  \n",
       "56       6.315     2010.0   8.0   27.0  \n",
       "58       6.973     2010.0   7.0   30.0  \n",
       "59       8.424     2012.0   2.0   17.0  \n",
       "60       8.521     2011.0   5.0    6.0  \n",
       "61       7.545     2012.0   3.0    2.0  \n",
       "63       5.422     2012.0  10.0   19.0  \n",
       "64       5.143     2011.0  12.0   16.0  \n",
       "66       9.342     2010.0   8.0    6.0  \n",
       "67       7.368     2010.0   2.0    5.0  \n",
       "70       9.331     2010.0  12.0   17.0  \n",
       "72       7.795     2010.0  12.0   10.0  \n",
       "73       7.787     2010.0   8.0   27.0  \n",
       "74         NaN     2012.0  10.0   19.0  \n",
       "75       7.856     2010.0   6.0   25.0  \n",
       "76       7.943     2012.0   3.0   16.0  \n",
       "78       7.866     2011.0  11.0   18.0  \n",
       "79       7.527     2010.0   9.0   24.0  \n",
       "80       6.560     2010.0  11.0   19.0  \n",
       "85       8.028     2011.0   1.0    7.0  \n",
       "87       6.664     2012.0   5.0   11.0  \n",
       "90       6.442     2010.0   7.0    9.0  \n",
       "94       8.625     2011.0   7.0   15.0  \n",
       "95       7.808     2010.0   5.0   14.0  \n",
       "96       6.299     2010.0   3.0   12.0  \n",
       "97         NaN     2010.0   4.0   30.0  \n",
       "98       9.524     2010.0   6.0   25.0  \n",
       "99       7.951     2010.0   7.0    2.0  \n",
       "100      7.343     2010.0   6.0   18.0  \n",
       "101      7.057     2012.0   1.0    6.0  \n",
       "103      7.127     2010.0  12.0   10.0  \n",
       "104      6.664     2012.0   6.0   22.0  \n",
       "105      8.099     2010.0   7.0   30.0  \n",
       "106      8.992     2010.0   2.0   26.0  \n",
       "107      6.299     2010.0   2.0   12.0  \n",
       "108        NaN     2010.0   5.0   28.0  \n",
       "110      7.484     2010.0  12.0   31.0  \n",
       "111      8.150     2012.0   6.0   22.0  \n",
       "112        NaN     2010.0   2.0   19.0  \n",
       "113      6.104     2012.0   1.0   20.0  \n",
       "114      7.564     2010.0  11.0   26.0  \n",
       "115        NaN     2010.0   2.0   19.0  \n",
       "116      8.090     2012.0   4.0   20.0  \n",
       "118      6.384     2010.0   6.0   18.0  \n",
       "119        NaN     2011.0   1.0    7.0  \n",
       "120      6.315     2010.0   9.0   17.0  \n",
       "121      6.529     2011.0   7.0   29.0  \n",
       "122      7.872     2012.0   9.0    7.0  \n",
       "123      7.682     2011.0   5.0   27.0  \n",
       "124      7.658     2011.0   6.0   10.0  \n",
       "125      7.197     2011.0  11.0   18.0  \n",
       "127      6.868     2010.0   7.0    9.0  \n",
       "128      6.877     2011.0   8.0   12.0  \n",
       "130      6.104     2012.0   3.0   16.0  \n",
       "131        NaN     2010.0  11.0   12.0  \n",
       "132      5.644     2011.0   7.0   22.0  \n",
       "136      5.644     2011.0   7.0    8.0  \n",
       "138      6.855     2011.0   4.0   22.0  \n",
       "139      8.090     2012.0   5.0   25.0  \n",
       "141      6.768     2010.0  11.0   12.0  \n",
       "142      7.197     2011.0  10.0    7.0  \n",
       "143      7.343     2010.0   6.0    4.0  \n",
       "144      6.034     2012.0  10.0   19.0  \n",
       "145      8.899     2010.0   6.0   18.0  \n",
       "147        NaN     2010.0   6.0   11.0  \n",
       "148        NaN     2011.0   8.0   12.0  \n",
       "149      8.150     2012.0   4.0   20.0  >"
      ]
     },
     "execution_count": 38,
     "metadata": {},
     "output_type": "execute_result"
    }
   ],
   "source": [
    "df.head"
   ]
  },
  {
   "cell_type": "markdown",
   "metadata": {},
   "source": [
    "# maintenant qu'il est légèrement plus propre, analysons un peu le dataset"
   ]
  },
  {
   "cell_type": "code",
   "execution_count": 39,
   "metadata": {},
   "outputs": [
    {
     "name": "stdout",
     "output_type": "stream",
     "text": [
      "1267414.77\n"
     ]
    }
   ],
   "source": [
    "#Moyenne des ventes totale\n",
    "rounded_mean = round(df['Weekly_Sales'].mean(), 2)\n",
    "print(rounded_mean)"
   ]
  },
  {
   "cell_type": "code",
   "execution_count": 40,
   "metadata": {},
   "outputs": [
    {
     "name": "stdout",
     "output_type": "stream",
     "text": [
      "Store\n",
      "1.0     1550100.94\n",
      "2.0     1982229.07\n",
      "3.0      403353.32\n",
      "4.0     2173758.98\n",
      "5.0      294398.75\n",
      "6.0     1551123.58\n",
      "7.0      536664.40\n",
      "8.0      888754.13\n",
      "9.0      506887.40\n",
      "10.0    1854847.71\n",
      "11.0    1757242.51\n",
      "13.0    1997235.41\n",
      "14.0    2092878.41\n",
      "15.0     642282.06\n",
      "16.0     515317.77\n",
      "17.0     841507.31\n",
      "18.0    1151981.77\n",
      "19.0    1400615.22\n",
      "20.0    1941521.13\n",
      "Name: Weekly_Sales, dtype: float64\n"
     ]
    }
   ],
   "source": [
    "#Moyenne des ventes par magasin\n",
    "mean_sales_by_store = df.groupby('Store')['Weekly_Sales'].mean().round(2)\n",
    "print(mean_sales_by_store)"
   ]
  },
  {
   "cell_type": "code",
   "execution_count": 41,
   "metadata": {},
   "outputs": [
    {
     "name": "stdout",
     "output_type": "stream",
     "text": [
      "Store\n",
      "1.0     12400807.53\n",
      "2.0     11893374.43\n",
      "3.0      4033533.19\n",
      "4.0     13042553.90\n",
      "5.0      2060791.26\n",
      "6.0      9306741.48\n",
      "7.0      3756650.81\n",
      "8.0      5332524.79\n",
      "9.0      2027549.60\n",
      "10.0     5564543.12\n",
      "11.0     1757242.51\n",
      "13.0    17975118.68\n",
      "14.0    18835905.73\n",
      "15.0     1926846.17\n",
      "16.0     2061271.09\n",
      "17.0     4207536.54\n",
      "18.0     8063872.40\n",
      "19.0    11204921.72\n",
      "20.0     7766084.51\n",
      "Name: Weekly_Sales, dtype: float64\n"
     ]
    }
   ],
   "source": [
    "# le total de vente par magasin\n",
    "total_sales_by_store = df.groupby('Store')['Weekly_Sales'].sum().round(2)\n",
    "print(total_sales_by_store)"
   ]
  },
  {
   "cell_type": "code",
   "execution_count": 42,
   "metadata": {},
   "outputs": [
    {
     "data": {
      "application/vnd.plotly.v1+json": {
       "config": {
        "plotlyServerURL": "https://plot.ly"
       },
       "data": [
        {
         "coloraxis": "coloraxis",
         "hovertemplate": "x: %{x}<br>y: %{y}<br>color: %{z}<extra></extra>",
         "name": "0",
         "type": "heatmap",
         "x": [
          "Store",
          "Weekly_Sales",
          "Holiday_Flag",
          "Temperature",
          "Fuel_Price",
          "CPI",
          "Unemployment",
          "Year",
          "Month",
          "Day"
         ],
         "xaxis": "x",
         "y": [
          "Store",
          "Weekly_Sales",
          "Holiday_Flag",
          "Temperature",
          "Fuel_Price",
          "CPI",
          "Unemployment",
          "Year",
          "Month",
          "Day"
         ],
         "yaxis": "y",
         "z": [
          [
           1,
           0.13061082547487995,
           -0.006015232291948631,
           -0.28278607034343767,
           0.1573665512846338,
           -0.6106306470522713,
           0.2893805419627635,
           -0.034553375905373614,
           -0.025702086249038025,
           -0.03671249910862366
          ],
          [
           0.13061082547487995,
           1,
           0.030630189102629827,
           -0.19244053618597554,
           -0.02194363645721709,
           -0.36056909376178836,
           0.17545706289150526,
           -0.04031812520717083,
           -0.0129896576455691,
           -0.036438284632979025
          ],
          [
           -0.006015232291948631,
           0.030630189102629827,
           1,
           -0.2969132560212513,
           -0.16822839318371555,
           0.16907838258727698,
           0.09481680190248372,
           0.007933028380704935,
           -0.04546155587389208,
           -0.03453880706674868
          ],
          [
           -0.28278607034343767,
           -0.19244053618597554,
           -0.2969132560212513,
           1,
           -0.05834955128463937,
           0.16657904830485346,
           -0.20510076171586064,
           -0.15566958457929064,
           0.25907927642769446,
           0.11414367619010089
          ],
          [
           0.1573665512846338,
           -0.02194363645721709,
           -0.16822839318371555,
           -0.05834955128463937,
           1,
           -0.16112335757808588,
           -0.0068231063080920595,
           0.8340171398247556,
           -0.11502944077729535,
           -0.04533247376492347
          ],
          [
           -0.6106306470522713,
           -0.36056909376178836,
           0.16907838258727698,
           0.16657904830485346,
           -0.16112335757808588,
           1,
           -0.16448395424434312,
           -0.021591315064097116,
           -0.009631367272591515,
           0.17462117426163268
          ],
          [
           0.2893805419627635,
           0.17545706289150526,
           0.09481680190248372,
           -0.20510076171586064,
           -0.0068231063080920595,
           -0.16448395424434312,
           1,
           -0.17442460711509486,
           -0.12448914059372324,
           -0.030775799956092885
          ],
          [
           -0.034553375905373614,
           -0.04031812520717083,
           0.007933028380704935,
           -0.15566958457929064,
           0.8340171398247556,
           -0.021591315064097116,
           -0.17442460711509486,
           1,
           -0.23476975892915752,
           -0.13424725747780947
          ],
          [
           -0.025702086249038025,
           -0.0129896576455691,
           -0.04546155587389208,
           0.25907927642769446,
           -0.11502944077729535,
           -0.009631367272591515,
           -0.12448914059372324,
           -0.23476975892915752,
           1,
           -0.015493334172616911
          ],
          [
           -0.03671249910862366,
           -0.036438284632979025,
           -0.03453880706674868,
           0.11414367619010089,
           -0.04533247376492347,
           0.17462117426163268,
           -0.030775799956092885,
           -0.13424725747780947,
           -0.015493334172616911,
           1
          ]
         ]
        }
       ],
       "layout": {
        "coloraxis": {
         "colorscale": [
          [
           0,
           "#0d0887"
          ],
          [
           0.1111111111111111,
           "#46039f"
          ],
          [
           0.2222222222222222,
           "#7201a8"
          ],
          [
           0.3333333333333333,
           "#9c179e"
          ],
          [
           0.4444444444444444,
           "#bd3786"
          ],
          [
           0.5555555555555556,
           "#d8576b"
          ],
          [
           0.6666666666666666,
           "#ed7953"
          ],
          [
           0.7777777777777778,
           "#fb9f3a"
          ],
          [
           0.8888888888888888,
           "#fdca26"
          ],
          [
           1,
           "#f0f921"
          ]
         ]
        },
        "margin": {
         "t": 60
        },
        "template": {
         "data": {
          "bar": [
           {
            "error_x": {
             "color": "#2a3f5f"
            },
            "error_y": {
             "color": "#2a3f5f"
            },
            "marker": {
             "line": {
              "color": "#E5ECF6",
              "width": 0.5
             },
             "pattern": {
              "fillmode": "overlay",
              "size": 10,
              "solidity": 0.2
             }
            },
            "type": "bar"
           }
          ],
          "barpolar": [
           {
            "marker": {
             "line": {
              "color": "#E5ECF6",
              "width": 0.5
             },
             "pattern": {
              "fillmode": "overlay",
              "size": 10,
              "solidity": 0.2
             }
            },
            "type": "barpolar"
           }
          ],
          "carpet": [
           {
            "aaxis": {
             "endlinecolor": "#2a3f5f",
             "gridcolor": "white",
             "linecolor": "white",
             "minorgridcolor": "white",
             "startlinecolor": "#2a3f5f"
            },
            "baxis": {
             "endlinecolor": "#2a3f5f",
             "gridcolor": "white",
             "linecolor": "white",
             "minorgridcolor": "white",
             "startlinecolor": "#2a3f5f"
            },
            "type": "carpet"
           }
          ],
          "choropleth": [
           {
            "colorbar": {
             "outlinewidth": 0,
             "ticks": ""
            },
            "type": "choropleth"
           }
          ],
          "contour": [
           {
            "colorbar": {
             "outlinewidth": 0,
             "ticks": ""
            },
            "colorscale": [
             [
              0,
              "#0d0887"
             ],
             [
              0.1111111111111111,
              "#46039f"
             ],
             [
              0.2222222222222222,
              "#7201a8"
             ],
             [
              0.3333333333333333,
              "#9c179e"
             ],
             [
              0.4444444444444444,
              "#bd3786"
             ],
             [
              0.5555555555555556,
              "#d8576b"
             ],
             [
              0.6666666666666666,
              "#ed7953"
             ],
             [
              0.7777777777777778,
              "#fb9f3a"
             ],
             [
              0.8888888888888888,
              "#fdca26"
             ],
             [
              1,
              "#f0f921"
             ]
            ],
            "type": "contour"
           }
          ],
          "contourcarpet": [
           {
            "colorbar": {
             "outlinewidth": 0,
             "ticks": ""
            },
            "type": "contourcarpet"
           }
          ],
          "heatmap": [
           {
            "colorbar": {
             "outlinewidth": 0,
             "ticks": ""
            },
            "colorscale": [
             [
              0,
              "#0d0887"
             ],
             [
              0.1111111111111111,
              "#46039f"
             ],
             [
              0.2222222222222222,
              "#7201a8"
             ],
             [
              0.3333333333333333,
              "#9c179e"
             ],
             [
              0.4444444444444444,
              "#bd3786"
             ],
             [
              0.5555555555555556,
              "#d8576b"
             ],
             [
              0.6666666666666666,
              "#ed7953"
             ],
             [
              0.7777777777777778,
              "#fb9f3a"
             ],
             [
              0.8888888888888888,
              "#fdca26"
             ],
             [
              1,
              "#f0f921"
             ]
            ],
            "type": "heatmap"
           }
          ],
          "heatmapgl": [
           {
            "colorbar": {
             "outlinewidth": 0,
             "ticks": ""
            },
            "colorscale": [
             [
              0,
              "#0d0887"
             ],
             [
              0.1111111111111111,
              "#46039f"
             ],
             [
              0.2222222222222222,
              "#7201a8"
             ],
             [
              0.3333333333333333,
              "#9c179e"
             ],
             [
              0.4444444444444444,
              "#bd3786"
             ],
             [
              0.5555555555555556,
              "#d8576b"
             ],
             [
              0.6666666666666666,
              "#ed7953"
             ],
             [
              0.7777777777777778,
              "#fb9f3a"
             ],
             [
              0.8888888888888888,
              "#fdca26"
             ],
             [
              1,
              "#f0f921"
             ]
            ],
            "type": "heatmapgl"
           }
          ],
          "histogram": [
           {
            "marker": {
             "pattern": {
              "fillmode": "overlay",
              "size": 10,
              "solidity": 0.2
             }
            },
            "type": "histogram"
           }
          ],
          "histogram2d": [
           {
            "colorbar": {
             "outlinewidth": 0,
             "ticks": ""
            },
            "colorscale": [
             [
              0,
              "#0d0887"
             ],
             [
              0.1111111111111111,
              "#46039f"
             ],
             [
              0.2222222222222222,
              "#7201a8"
             ],
             [
              0.3333333333333333,
              "#9c179e"
             ],
             [
              0.4444444444444444,
              "#bd3786"
             ],
             [
              0.5555555555555556,
              "#d8576b"
             ],
             [
              0.6666666666666666,
              "#ed7953"
             ],
             [
              0.7777777777777778,
              "#fb9f3a"
             ],
             [
              0.8888888888888888,
              "#fdca26"
             ],
             [
              1,
              "#f0f921"
             ]
            ],
            "type": "histogram2d"
           }
          ],
          "histogram2dcontour": [
           {
            "colorbar": {
             "outlinewidth": 0,
             "ticks": ""
            },
            "colorscale": [
             [
              0,
              "#0d0887"
             ],
             [
              0.1111111111111111,
              "#46039f"
             ],
             [
              0.2222222222222222,
              "#7201a8"
             ],
             [
              0.3333333333333333,
              "#9c179e"
             ],
             [
              0.4444444444444444,
              "#bd3786"
             ],
             [
              0.5555555555555556,
              "#d8576b"
             ],
             [
              0.6666666666666666,
              "#ed7953"
             ],
             [
              0.7777777777777778,
              "#fb9f3a"
             ],
             [
              0.8888888888888888,
              "#fdca26"
             ],
             [
              1,
              "#f0f921"
             ]
            ],
            "type": "histogram2dcontour"
           }
          ],
          "mesh3d": [
           {
            "colorbar": {
             "outlinewidth": 0,
             "ticks": ""
            },
            "type": "mesh3d"
           }
          ],
          "parcoords": [
           {
            "line": {
             "colorbar": {
              "outlinewidth": 0,
              "ticks": ""
             }
            },
            "type": "parcoords"
           }
          ],
          "pie": [
           {
            "automargin": true,
            "type": "pie"
           }
          ],
          "scatter": [
           {
            "fillpattern": {
             "fillmode": "overlay",
             "size": 10,
             "solidity": 0.2
            },
            "type": "scatter"
           }
          ],
          "scatter3d": [
           {
            "line": {
             "colorbar": {
              "outlinewidth": 0,
              "ticks": ""
             }
            },
            "marker": {
             "colorbar": {
              "outlinewidth": 0,
              "ticks": ""
             }
            },
            "type": "scatter3d"
           }
          ],
          "scattercarpet": [
           {
            "marker": {
             "colorbar": {
              "outlinewidth": 0,
              "ticks": ""
             }
            },
            "type": "scattercarpet"
           }
          ],
          "scattergeo": [
           {
            "marker": {
             "colorbar": {
              "outlinewidth": 0,
              "ticks": ""
             }
            },
            "type": "scattergeo"
           }
          ],
          "scattergl": [
           {
            "marker": {
             "colorbar": {
              "outlinewidth": 0,
              "ticks": ""
             }
            },
            "type": "scattergl"
           }
          ],
          "scattermapbox": [
           {
            "marker": {
             "colorbar": {
              "outlinewidth": 0,
              "ticks": ""
             }
            },
            "type": "scattermapbox"
           }
          ],
          "scatterpolar": [
           {
            "marker": {
             "colorbar": {
              "outlinewidth": 0,
              "ticks": ""
             }
            },
            "type": "scatterpolar"
           }
          ],
          "scatterpolargl": [
           {
            "marker": {
             "colorbar": {
              "outlinewidth": 0,
              "ticks": ""
             }
            },
            "type": "scatterpolargl"
           }
          ],
          "scatterternary": [
           {
            "marker": {
             "colorbar": {
              "outlinewidth": 0,
              "ticks": ""
             }
            },
            "type": "scatterternary"
           }
          ],
          "surface": [
           {
            "colorbar": {
             "outlinewidth": 0,
             "ticks": ""
            },
            "colorscale": [
             [
              0,
              "#0d0887"
             ],
             [
              0.1111111111111111,
              "#46039f"
             ],
             [
              0.2222222222222222,
              "#7201a8"
             ],
             [
              0.3333333333333333,
              "#9c179e"
             ],
             [
              0.4444444444444444,
              "#bd3786"
             ],
             [
              0.5555555555555556,
              "#d8576b"
             ],
             [
              0.6666666666666666,
              "#ed7953"
             ],
             [
              0.7777777777777778,
              "#fb9f3a"
             ],
             [
              0.8888888888888888,
              "#fdca26"
             ],
             [
              1,
              "#f0f921"
             ]
            ],
            "type": "surface"
           }
          ],
          "table": [
           {
            "cells": {
             "fill": {
              "color": "#EBF0F8"
             },
             "line": {
              "color": "white"
             }
            },
            "header": {
             "fill": {
              "color": "#C8D4E3"
             },
             "line": {
              "color": "white"
             }
            },
            "type": "table"
           }
          ]
         },
         "layout": {
          "annotationdefaults": {
           "arrowcolor": "#2a3f5f",
           "arrowhead": 0,
           "arrowwidth": 1
          },
          "autotypenumbers": "strict",
          "coloraxis": {
           "colorbar": {
            "outlinewidth": 0,
            "ticks": ""
           }
          },
          "colorscale": {
           "diverging": [
            [
             0,
             "#8e0152"
            ],
            [
             0.1,
             "#c51b7d"
            ],
            [
             0.2,
             "#de77ae"
            ],
            [
             0.3,
             "#f1b6da"
            ],
            [
             0.4,
             "#fde0ef"
            ],
            [
             0.5,
             "#f7f7f7"
            ],
            [
             0.6,
             "#e6f5d0"
            ],
            [
             0.7,
             "#b8e186"
            ],
            [
             0.8,
             "#7fbc41"
            ],
            [
             0.9,
             "#4d9221"
            ],
            [
             1,
             "#276419"
            ]
           ],
           "sequential": [
            [
             0,
             "#0d0887"
            ],
            [
             0.1111111111111111,
             "#46039f"
            ],
            [
             0.2222222222222222,
             "#7201a8"
            ],
            [
             0.3333333333333333,
             "#9c179e"
            ],
            [
             0.4444444444444444,
             "#bd3786"
            ],
            [
             0.5555555555555556,
             "#d8576b"
            ],
            [
             0.6666666666666666,
             "#ed7953"
            ],
            [
             0.7777777777777778,
             "#fb9f3a"
            ],
            [
             0.8888888888888888,
             "#fdca26"
            ],
            [
             1,
             "#f0f921"
            ]
           ],
           "sequentialminus": [
            [
             0,
             "#0d0887"
            ],
            [
             0.1111111111111111,
             "#46039f"
            ],
            [
             0.2222222222222222,
             "#7201a8"
            ],
            [
             0.3333333333333333,
             "#9c179e"
            ],
            [
             0.4444444444444444,
             "#bd3786"
            ],
            [
             0.5555555555555556,
             "#d8576b"
            ],
            [
             0.6666666666666666,
             "#ed7953"
            ],
            [
             0.7777777777777778,
             "#fb9f3a"
            ],
            [
             0.8888888888888888,
             "#fdca26"
            ],
            [
             1,
             "#f0f921"
            ]
           ]
          },
          "colorway": [
           "#636efa",
           "#EF553B",
           "#00cc96",
           "#ab63fa",
           "#FFA15A",
           "#19d3f3",
           "#FF6692",
           "#B6E880",
           "#FF97FF",
           "#FECB52"
          ],
          "font": {
           "color": "#2a3f5f"
          },
          "geo": {
           "bgcolor": "white",
           "lakecolor": "white",
           "landcolor": "#E5ECF6",
           "showlakes": true,
           "showland": true,
           "subunitcolor": "white"
          },
          "hoverlabel": {
           "align": "left"
          },
          "hovermode": "closest",
          "mapbox": {
           "style": "light"
          },
          "paper_bgcolor": "white",
          "plot_bgcolor": "#E5ECF6",
          "polar": {
           "angularaxis": {
            "gridcolor": "white",
            "linecolor": "white",
            "ticks": ""
           },
           "bgcolor": "#E5ECF6",
           "radialaxis": {
            "gridcolor": "white",
            "linecolor": "white",
            "ticks": ""
           }
          },
          "scene": {
           "xaxis": {
            "backgroundcolor": "#E5ECF6",
            "gridcolor": "white",
            "gridwidth": 2,
            "linecolor": "white",
            "showbackground": true,
            "ticks": "",
            "zerolinecolor": "white"
           },
           "yaxis": {
            "backgroundcolor": "#E5ECF6",
            "gridcolor": "white",
            "gridwidth": 2,
            "linecolor": "white",
            "showbackground": true,
            "ticks": "",
            "zerolinecolor": "white"
           },
           "zaxis": {
            "backgroundcolor": "#E5ECF6",
            "gridcolor": "white",
            "gridwidth": 2,
            "linecolor": "white",
            "showbackground": true,
            "ticks": "",
            "zerolinecolor": "white"
           }
          },
          "shapedefaults": {
           "line": {
            "color": "#2a3f5f"
           }
          },
          "ternary": {
           "aaxis": {
            "gridcolor": "white",
            "linecolor": "white",
            "ticks": ""
           },
           "baxis": {
            "gridcolor": "white",
            "linecolor": "white",
            "ticks": ""
           },
           "bgcolor": "#E5ECF6",
           "caxis": {
            "gridcolor": "white",
            "linecolor": "white",
            "ticks": ""
           }
          },
          "title": {
           "x": 0.05
          },
          "xaxis": {
           "automargin": true,
           "gridcolor": "white",
           "linecolor": "white",
           "ticks": "",
           "title": {
            "standoff": 15
           },
           "zerolinecolor": "white",
           "zerolinewidth": 2
          },
          "yaxis": {
           "automargin": true,
           "gridcolor": "white",
           "linecolor": "white",
           "ticks": "",
           "title": {
            "standoff": 15
           },
           "zerolinecolor": "white",
           "zerolinewidth": 2
          }
         }
        },
        "xaxis": {
         "anchor": "y",
         "constrain": "domain",
         "domain": [
          0,
          1
         ],
         "scaleanchor": "y"
        },
        "yaxis": {
         "anchor": "x",
         "autorange": "reversed",
         "constrain": "domain",
         "domain": [
          0,
          1
         ]
        }
       }
      }
     },
     "metadata": {},
     "output_type": "display_data"
    }
   ],
   "source": [
    "# grahique de corrélation\n",
    "corr = df.corr()\n",
    "fig = px.imshow(corr)\n",
    "fig.show()\n"
   ]
  },
  {
   "cell_type": "code",
   "execution_count": 43,
   "metadata": {},
   "outputs": [
    {
     "data": {
      "application/vnd.plotly.v1+json": {
       "config": {
        "plotlyServerURL": "https://plot.ly"
       },
       "data": [
        {
         "coloraxis": "coloraxis",
         "hovertemplate": "x: %{x}<br>y: %{y}<br>color: %{z}<extra></extra>",
         "name": "0",
         "type": "heatmap",
         "x": [
          "Store",
          "Weekly_Sales",
          "Holiday_Flag",
          "Temperature",
          "Fuel_Price",
          "CPI",
          "Unemployment",
          "Year",
          "Month",
          "Day"
         ],
         "xaxis": "x",
         "y": [
          "Store",
          "Weekly_Sales",
          "Holiday_Flag",
          "Temperature",
          "Fuel_Price",
          "CPI",
          "Unemployment",
          "Year",
          "Month",
          "Day"
         ],
         "yaxis": "y",
         "z": [
          [
           1,
           0.13061082547487995,
           -0.006015232291948631,
           -0.28278607034343767,
           0.1573665512846338,
           -0.6106306470522713,
           0.2893805419627635,
           -0.034553375905373614,
           -0.025702086249038025,
           -0.03671249910862366
          ],
          [
           0.13061082547487995,
           1,
           0.030630189102629827,
           -0.19244053618597554,
           -0.02194363645721709,
           -0.36056909376178836,
           0.17545706289150526,
           -0.04031812520717083,
           -0.0129896576455691,
           -0.036438284632979025
          ],
          [
           -0.006015232291948631,
           0.030630189102629827,
           1,
           -0.2969132560212513,
           -0.16822839318371555,
           0.16907838258727698,
           0.09481680190248372,
           0.007933028380704935,
           -0.04546155587389208,
           -0.03453880706674868
          ],
          [
           -0.28278607034343767,
           -0.19244053618597554,
           -0.2969132560212513,
           1,
           -0.05834955128463937,
           0.16657904830485346,
           -0.20510076171586064,
           -0.15566958457929064,
           0.25907927642769446,
           0.11414367619010089
          ],
          [
           0.1573665512846338,
           -0.02194363645721709,
           -0.16822839318371555,
           -0.05834955128463937,
           1,
           -0.16112335757808588,
           -0.0068231063080920595,
           0.8340171398247556,
           -0.11502944077729535,
           -0.04533247376492347
          ],
          [
           -0.6106306470522713,
           -0.36056909376178836,
           0.16907838258727698,
           0.16657904830485346,
           -0.16112335757808588,
           1,
           -0.16448395424434312,
           -0.021591315064097116,
           -0.009631367272591515,
           0.17462117426163268
          ],
          [
           0.2893805419627635,
           0.17545706289150526,
           0.09481680190248372,
           -0.20510076171586064,
           -0.0068231063080920595,
           -0.16448395424434312,
           1,
           -0.17442460711509486,
           -0.12448914059372324,
           -0.030775799956092885
          ],
          [
           -0.034553375905373614,
           -0.04031812520717083,
           0.007933028380704935,
           -0.15566958457929064,
           0.8340171398247556,
           -0.021591315064097116,
           -0.17442460711509486,
           1,
           -0.23476975892915752,
           -0.13424725747780947
          ],
          [
           -0.025702086249038025,
           -0.0129896576455691,
           -0.04546155587389208,
           0.25907927642769446,
           -0.11502944077729535,
           -0.009631367272591515,
           -0.12448914059372324,
           -0.23476975892915752,
           1,
           -0.015493334172616911
          ],
          [
           -0.03671249910862366,
           -0.036438284632979025,
           -0.03453880706674868,
           0.11414367619010089,
           -0.04533247376492347,
           0.17462117426163268,
           -0.030775799956092885,
           -0.13424725747780947,
           -0.015493334172616911,
           1
          ]
         ]
        }
       ],
       "layout": {
        "annotations": [
         {
          "font": {
           "color": "black"
          },
          "showarrow": false,
          "text": "1.0",
          "x": 0,
          "y": 0
         },
         {
          "font": {
           "color": "black"
          },
          "showarrow": false,
          "text": "0.13",
          "x": 1,
          "y": 0
         },
         {
          "font": {
           "color": "black"
          },
          "showarrow": false,
          "text": "-0.01",
          "x": 2,
          "y": 0
         },
         {
          "font": {
           "color": "black"
          },
          "showarrow": false,
          "text": "-0.28",
          "x": 3,
          "y": 0
         },
         {
          "font": {
           "color": "black"
          },
          "showarrow": false,
          "text": "0.16",
          "x": 4,
          "y": 0
         },
         {
          "font": {
           "color": "black"
          },
          "showarrow": false,
          "text": "-0.61",
          "x": 5,
          "y": 0
         },
         {
          "font": {
           "color": "black"
          },
          "showarrow": false,
          "text": "0.29",
          "x": 6,
          "y": 0
         },
         {
          "font": {
           "color": "black"
          },
          "showarrow": false,
          "text": "-0.03",
          "x": 7,
          "y": 0
         },
         {
          "font": {
           "color": "black"
          },
          "showarrow": false,
          "text": "-0.03",
          "x": 8,
          "y": 0
         },
         {
          "font": {
           "color": "black"
          },
          "showarrow": false,
          "text": "-0.04",
          "x": 9,
          "y": 0
         },
         {
          "font": {
           "color": "black"
          },
          "showarrow": false,
          "text": "0.13",
          "x": 0,
          "y": 1
         },
         {
          "font": {
           "color": "black"
          },
          "showarrow": false,
          "text": "1.0",
          "x": 1,
          "y": 1
         },
         {
          "font": {
           "color": "black"
          },
          "showarrow": false,
          "text": "0.03",
          "x": 2,
          "y": 1
         },
         {
          "font": {
           "color": "black"
          },
          "showarrow": false,
          "text": "-0.19",
          "x": 3,
          "y": 1
         },
         {
          "font": {
           "color": "black"
          },
          "showarrow": false,
          "text": "-0.02",
          "x": 4,
          "y": 1
         },
         {
          "font": {
           "color": "black"
          },
          "showarrow": false,
          "text": "-0.36",
          "x": 5,
          "y": 1
         },
         {
          "font": {
           "color": "black"
          },
          "showarrow": false,
          "text": "0.18",
          "x": 6,
          "y": 1
         },
         {
          "font": {
           "color": "black"
          },
          "showarrow": false,
          "text": "-0.04",
          "x": 7,
          "y": 1
         },
         {
          "font": {
           "color": "black"
          },
          "showarrow": false,
          "text": "-0.01",
          "x": 8,
          "y": 1
         },
         {
          "font": {
           "color": "black"
          },
          "showarrow": false,
          "text": "-0.04",
          "x": 9,
          "y": 1
         },
         {
          "font": {
           "color": "black"
          },
          "showarrow": false,
          "text": "-0.01",
          "x": 0,
          "y": 2
         },
         {
          "font": {
           "color": "black"
          },
          "showarrow": false,
          "text": "0.03",
          "x": 1,
          "y": 2
         },
         {
          "font": {
           "color": "black"
          },
          "showarrow": false,
          "text": "1.0",
          "x": 2,
          "y": 2
         },
         {
          "font": {
           "color": "black"
          },
          "showarrow": false,
          "text": "-0.3",
          "x": 3,
          "y": 2
         },
         {
          "font": {
           "color": "black"
          },
          "showarrow": false,
          "text": "-0.17",
          "x": 4,
          "y": 2
         },
         {
          "font": {
           "color": "black"
          },
          "showarrow": false,
          "text": "0.17",
          "x": 5,
          "y": 2
         },
         {
          "font": {
           "color": "black"
          },
          "showarrow": false,
          "text": "0.09",
          "x": 6,
          "y": 2
         },
         {
          "font": {
           "color": "black"
          },
          "showarrow": false,
          "text": "0.01",
          "x": 7,
          "y": 2
         },
         {
          "font": {
           "color": "black"
          },
          "showarrow": false,
          "text": "-0.05",
          "x": 8,
          "y": 2
         },
         {
          "font": {
           "color": "black"
          },
          "showarrow": false,
          "text": "-0.03",
          "x": 9,
          "y": 2
         },
         {
          "font": {
           "color": "black"
          },
          "showarrow": false,
          "text": "-0.28",
          "x": 0,
          "y": 3
         },
         {
          "font": {
           "color": "black"
          },
          "showarrow": false,
          "text": "-0.19",
          "x": 1,
          "y": 3
         },
         {
          "font": {
           "color": "black"
          },
          "showarrow": false,
          "text": "-0.3",
          "x": 2,
          "y": 3
         },
         {
          "font": {
           "color": "black"
          },
          "showarrow": false,
          "text": "1.0",
          "x": 3,
          "y": 3
         },
         {
          "font": {
           "color": "black"
          },
          "showarrow": false,
          "text": "-0.06",
          "x": 4,
          "y": 3
         },
         {
          "font": {
           "color": "black"
          },
          "showarrow": false,
          "text": "0.17",
          "x": 5,
          "y": 3
         },
         {
          "font": {
           "color": "black"
          },
          "showarrow": false,
          "text": "-0.21",
          "x": 6,
          "y": 3
         },
         {
          "font": {
           "color": "black"
          },
          "showarrow": false,
          "text": "-0.16",
          "x": 7,
          "y": 3
         },
         {
          "font": {
           "color": "black"
          },
          "showarrow": false,
          "text": "0.26",
          "x": 8,
          "y": 3
         },
         {
          "font": {
           "color": "black"
          },
          "showarrow": false,
          "text": "0.11",
          "x": 9,
          "y": 3
         },
         {
          "font": {
           "color": "black"
          },
          "showarrow": false,
          "text": "0.16",
          "x": 0,
          "y": 4
         },
         {
          "font": {
           "color": "black"
          },
          "showarrow": false,
          "text": "-0.02",
          "x": 1,
          "y": 4
         },
         {
          "font": {
           "color": "black"
          },
          "showarrow": false,
          "text": "-0.17",
          "x": 2,
          "y": 4
         },
         {
          "font": {
           "color": "black"
          },
          "showarrow": false,
          "text": "-0.06",
          "x": 3,
          "y": 4
         },
         {
          "font": {
           "color": "black"
          },
          "showarrow": false,
          "text": "1.0",
          "x": 4,
          "y": 4
         },
         {
          "font": {
           "color": "black"
          },
          "showarrow": false,
          "text": "-0.16",
          "x": 5,
          "y": 4
         },
         {
          "font": {
           "color": "black"
          },
          "showarrow": false,
          "text": "-0.01",
          "x": 6,
          "y": 4
         },
         {
          "font": {
           "color": "black"
          },
          "showarrow": false,
          "text": "0.83",
          "x": 7,
          "y": 4
         },
         {
          "font": {
           "color": "black"
          },
          "showarrow": false,
          "text": "-0.12",
          "x": 8,
          "y": 4
         },
         {
          "font": {
           "color": "black"
          },
          "showarrow": false,
          "text": "-0.05",
          "x": 9,
          "y": 4
         },
         {
          "font": {
           "color": "black"
          },
          "showarrow": false,
          "text": "-0.61",
          "x": 0,
          "y": 5
         },
         {
          "font": {
           "color": "black"
          },
          "showarrow": false,
          "text": "-0.36",
          "x": 1,
          "y": 5
         },
         {
          "font": {
           "color": "black"
          },
          "showarrow": false,
          "text": "0.17",
          "x": 2,
          "y": 5
         },
         {
          "font": {
           "color": "black"
          },
          "showarrow": false,
          "text": "0.17",
          "x": 3,
          "y": 5
         },
         {
          "font": {
           "color": "black"
          },
          "showarrow": false,
          "text": "-0.16",
          "x": 4,
          "y": 5
         },
         {
          "font": {
           "color": "black"
          },
          "showarrow": false,
          "text": "1.0",
          "x": 5,
          "y": 5
         },
         {
          "font": {
           "color": "black"
          },
          "showarrow": false,
          "text": "-0.16",
          "x": 6,
          "y": 5
         },
         {
          "font": {
           "color": "black"
          },
          "showarrow": false,
          "text": "-0.02",
          "x": 7,
          "y": 5
         },
         {
          "font": {
           "color": "black"
          },
          "showarrow": false,
          "text": "-0.01",
          "x": 8,
          "y": 5
         },
         {
          "font": {
           "color": "black"
          },
          "showarrow": false,
          "text": "0.17",
          "x": 9,
          "y": 5
         },
         {
          "font": {
           "color": "black"
          },
          "showarrow": false,
          "text": "0.29",
          "x": 0,
          "y": 6
         },
         {
          "font": {
           "color": "black"
          },
          "showarrow": false,
          "text": "0.18",
          "x": 1,
          "y": 6
         },
         {
          "font": {
           "color": "black"
          },
          "showarrow": false,
          "text": "0.09",
          "x": 2,
          "y": 6
         },
         {
          "font": {
           "color": "black"
          },
          "showarrow": false,
          "text": "-0.21",
          "x": 3,
          "y": 6
         },
         {
          "font": {
           "color": "black"
          },
          "showarrow": false,
          "text": "-0.01",
          "x": 4,
          "y": 6
         },
         {
          "font": {
           "color": "black"
          },
          "showarrow": false,
          "text": "-0.16",
          "x": 5,
          "y": 6
         },
         {
          "font": {
           "color": "black"
          },
          "showarrow": false,
          "text": "1.0",
          "x": 6,
          "y": 6
         },
         {
          "font": {
           "color": "black"
          },
          "showarrow": false,
          "text": "-0.17",
          "x": 7,
          "y": 6
         },
         {
          "font": {
           "color": "black"
          },
          "showarrow": false,
          "text": "-0.12",
          "x": 8,
          "y": 6
         },
         {
          "font": {
           "color": "black"
          },
          "showarrow": false,
          "text": "-0.03",
          "x": 9,
          "y": 6
         },
         {
          "font": {
           "color": "black"
          },
          "showarrow": false,
          "text": "-0.03",
          "x": 0,
          "y": 7
         },
         {
          "font": {
           "color": "black"
          },
          "showarrow": false,
          "text": "-0.04",
          "x": 1,
          "y": 7
         },
         {
          "font": {
           "color": "black"
          },
          "showarrow": false,
          "text": "0.01",
          "x": 2,
          "y": 7
         },
         {
          "font": {
           "color": "black"
          },
          "showarrow": false,
          "text": "-0.16",
          "x": 3,
          "y": 7
         },
         {
          "font": {
           "color": "black"
          },
          "showarrow": false,
          "text": "0.83",
          "x": 4,
          "y": 7
         },
         {
          "font": {
           "color": "black"
          },
          "showarrow": false,
          "text": "-0.02",
          "x": 5,
          "y": 7
         },
         {
          "font": {
           "color": "black"
          },
          "showarrow": false,
          "text": "-0.17",
          "x": 6,
          "y": 7
         },
         {
          "font": {
           "color": "black"
          },
          "showarrow": false,
          "text": "1.0",
          "x": 7,
          "y": 7
         },
         {
          "font": {
           "color": "black"
          },
          "showarrow": false,
          "text": "-0.23",
          "x": 8,
          "y": 7
         },
         {
          "font": {
           "color": "black"
          },
          "showarrow": false,
          "text": "-0.13",
          "x": 9,
          "y": 7
         },
         {
          "font": {
           "color": "black"
          },
          "showarrow": false,
          "text": "-0.03",
          "x": 0,
          "y": 8
         },
         {
          "font": {
           "color": "black"
          },
          "showarrow": false,
          "text": "-0.01",
          "x": 1,
          "y": 8
         },
         {
          "font": {
           "color": "black"
          },
          "showarrow": false,
          "text": "-0.05",
          "x": 2,
          "y": 8
         },
         {
          "font": {
           "color": "black"
          },
          "showarrow": false,
          "text": "0.26",
          "x": 3,
          "y": 8
         },
         {
          "font": {
           "color": "black"
          },
          "showarrow": false,
          "text": "-0.12",
          "x": 4,
          "y": 8
         },
         {
          "font": {
           "color": "black"
          },
          "showarrow": false,
          "text": "-0.01",
          "x": 5,
          "y": 8
         },
         {
          "font": {
           "color": "black"
          },
          "showarrow": false,
          "text": "-0.12",
          "x": 6,
          "y": 8
         },
         {
          "font": {
           "color": "black"
          },
          "showarrow": false,
          "text": "-0.23",
          "x": 7,
          "y": 8
         },
         {
          "font": {
           "color": "black"
          },
          "showarrow": false,
          "text": "1.0",
          "x": 8,
          "y": 8
         },
         {
          "font": {
           "color": "black"
          },
          "showarrow": false,
          "text": "-0.02",
          "x": 9,
          "y": 8
         },
         {
          "font": {
           "color": "black"
          },
          "showarrow": false,
          "text": "-0.04",
          "x": 0,
          "y": 9
         },
         {
          "font": {
           "color": "black"
          },
          "showarrow": false,
          "text": "-0.04",
          "x": 1,
          "y": 9
         },
         {
          "font": {
           "color": "black"
          },
          "showarrow": false,
          "text": "-0.03",
          "x": 2,
          "y": 9
         },
         {
          "font": {
           "color": "black"
          },
          "showarrow": false,
          "text": "0.11",
          "x": 3,
          "y": 9
         },
         {
          "font": {
           "color": "black"
          },
          "showarrow": false,
          "text": "-0.05",
          "x": 4,
          "y": 9
         },
         {
          "font": {
           "color": "black"
          },
          "showarrow": false,
          "text": "0.17",
          "x": 5,
          "y": 9
         },
         {
          "font": {
           "color": "black"
          },
          "showarrow": false,
          "text": "-0.03",
          "x": 6,
          "y": 9
         },
         {
          "font": {
           "color": "black"
          },
          "showarrow": false,
          "text": "-0.13",
          "x": 7,
          "y": 9
         },
         {
          "font": {
           "color": "black"
          },
          "showarrow": false,
          "text": "-0.02",
          "x": 8,
          "y": 9
         },
         {
          "font": {
           "color": "black"
          },
          "showarrow": false,
          "text": "1.0",
          "x": 9,
          "y": 9
         }
        ],
        "coloraxis": {
         "colorscale": [
          [
           0,
           "#0d0887"
          ],
          [
           0.1111111111111111,
           "#46039f"
          ],
          [
           0.2222222222222222,
           "#7201a8"
          ],
          [
           0.3333333333333333,
           "#9c179e"
          ],
          [
           0.4444444444444444,
           "#bd3786"
          ],
          [
           0.5555555555555556,
           "#d8576b"
          ],
          [
           0.6666666666666666,
           "#ed7953"
          ],
          [
           0.7777777777777778,
           "#fb9f3a"
          ],
          [
           0.8888888888888888,
           "#fdca26"
          ],
          [
           1,
           "#f0f921"
          ]
         ]
        },
        "height": 600,
        "margin": {
         "t": 60
        },
        "template": {
         "data": {
          "bar": [
           {
            "error_x": {
             "color": "#2a3f5f"
            },
            "error_y": {
             "color": "#2a3f5f"
            },
            "marker": {
             "line": {
              "color": "#E5ECF6",
              "width": 0.5
             },
             "pattern": {
              "fillmode": "overlay",
              "size": 10,
              "solidity": 0.2
             }
            },
            "type": "bar"
           }
          ],
          "barpolar": [
           {
            "marker": {
             "line": {
              "color": "#E5ECF6",
              "width": 0.5
             },
             "pattern": {
              "fillmode": "overlay",
              "size": 10,
              "solidity": 0.2
             }
            },
            "type": "barpolar"
           }
          ],
          "carpet": [
           {
            "aaxis": {
             "endlinecolor": "#2a3f5f",
             "gridcolor": "white",
             "linecolor": "white",
             "minorgridcolor": "white",
             "startlinecolor": "#2a3f5f"
            },
            "baxis": {
             "endlinecolor": "#2a3f5f",
             "gridcolor": "white",
             "linecolor": "white",
             "minorgridcolor": "white",
             "startlinecolor": "#2a3f5f"
            },
            "type": "carpet"
           }
          ],
          "choropleth": [
           {
            "colorbar": {
             "outlinewidth": 0,
             "ticks": ""
            },
            "type": "choropleth"
           }
          ],
          "contour": [
           {
            "colorbar": {
             "outlinewidth": 0,
             "ticks": ""
            },
            "colorscale": [
             [
              0,
              "#0d0887"
             ],
             [
              0.1111111111111111,
              "#46039f"
             ],
             [
              0.2222222222222222,
              "#7201a8"
             ],
             [
              0.3333333333333333,
              "#9c179e"
             ],
             [
              0.4444444444444444,
              "#bd3786"
             ],
             [
              0.5555555555555556,
              "#d8576b"
             ],
             [
              0.6666666666666666,
              "#ed7953"
             ],
             [
              0.7777777777777778,
              "#fb9f3a"
             ],
             [
              0.8888888888888888,
              "#fdca26"
             ],
             [
              1,
              "#f0f921"
             ]
            ],
            "type": "contour"
           }
          ],
          "contourcarpet": [
           {
            "colorbar": {
             "outlinewidth": 0,
             "ticks": ""
            },
            "type": "contourcarpet"
           }
          ],
          "heatmap": [
           {
            "colorbar": {
             "outlinewidth": 0,
             "ticks": ""
            },
            "colorscale": [
             [
              0,
              "#0d0887"
             ],
             [
              0.1111111111111111,
              "#46039f"
             ],
             [
              0.2222222222222222,
              "#7201a8"
             ],
             [
              0.3333333333333333,
              "#9c179e"
             ],
             [
              0.4444444444444444,
              "#bd3786"
             ],
             [
              0.5555555555555556,
              "#d8576b"
             ],
             [
              0.6666666666666666,
              "#ed7953"
             ],
             [
              0.7777777777777778,
              "#fb9f3a"
             ],
             [
              0.8888888888888888,
              "#fdca26"
             ],
             [
              1,
              "#f0f921"
             ]
            ],
            "type": "heatmap"
           }
          ],
          "heatmapgl": [
           {
            "colorbar": {
             "outlinewidth": 0,
             "ticks": ""
            },
            "colorscale": [
             [
              0,
              "#0d0887"
             ],
             [
              0.1111111111111111,
              "#46039f"
             ],
             [
              0.2222222222222222,
              "#7201a8"
             ],
             [
              0.3333333333333333,
              "#9c179e"
             ],
             [
              0.4444444444444444,
              "#bd3786"
             ],
             [
              0.5555555555555556,
              "#d8576b"
             ],
             [
              0.6666666666666666,
              "#ed7953"
             ],
             [
              0.7777777777777778,
              "#fb9f3a"
             ],
             [
              0.8888888888888888,
              "#fdca26"
             ],
             [
              1,
              "#f0f921"
             ]
            ],
            "type": "heatmapgl"
           }
          ],
          "histogram": [
           {
            "marker": {
             "pattern": {
              "fillmode": "overlay",
              "size": 10,
              "solidity": 0.2
             }
            },
            "type": "histogram"
           }
          ],
          "histogram2d": [
           {
            "colorbar": {
             "outlinewidth": 0,
             "ticks": ""
            },
            "colorscale": [
             [
              0,
              "#0d0887"
             ],
             [
              0.1111111111111111,
              "#46039f"
             ],
             [
              0.2222222222222222,
              "#7201a8"
             ],
             [
              0.3333333333333333,
              "#9c179e"
             ],
             [
              0.4444444444444444,
              "#bd3786"
             ],
             [
              0.5555555555555556,
              "#d8576b"
             ],
             [
              0.6666666666666666,
              "#ed7953"
             ],
             [
              0.7777777777777778,
              "#fb9f3a"
             ],
             [
              0.8888888888888888,
              "#fdca26"
             ],
             [
              1,
              "#f0f921"
             ]
            ],
            "type": "histogram2d"
           }
          ],
          "histogram2dcontour": [
           {
            "colorbar": {
             "outlinewidth": 0,
             "ticks": ""
            },
            "colorscale": [
             [
              0,
              "#0d0887"
             ],
             [
              0.1111111111111111,
              "#46039f"
             ],
             [
              0.2222222222222222,
              "#7201a8"
             ],
             [
              0.3333333333333333,
              "#9c179e"
             ],
             [
              0.4444444444444444,
              "#bd3786"
             ],
             [
              0.5555555555555556,
              "#d8576b"
             ],
             [
              0.6666666666666666,
              "#ed7953"
             ],
             [
              0.7777777777777778,
              "#fb9f3a"
             ],
             [
              0.8888888888888888,
              "#fdca26"
             ],
             [
              1,
              "#f0f921"
             ]
            ],
            "type": "histogram2dcontour"
           }
          ],
          "mesh3d": [
           {
            "colorbar": {
             "outlinewidth": 0,
             "ticks": ""
            },
            "type": "mesh3d"
           }
          ],
          "parcoords": [
           {
            "line": {
             "colorbar": {
              "outlinewidth": 0,
              "ticks": ""
             }
            },
            "type": "parcoords"
           }
          ],
          "pie": [
           {
            "automargin": true,
            "type": "pie"
           }
          ],
          "scatter": [
           {
            "fillpattern": {
             "fillmode": "overlay",
             "size": 10,
             "solidity": 0.2
            },
            "type": "scatter"
           }
          ],
          "scatter3d": [
           {
            "line": {
             "colorbar": {
              "outlinewidth": 0,
              "ticks": ""
             }
            },
            "marker": {
             "colorbar": {
              "outlinewidth": 0,
              "ticks": ""
             }
            },
            "type": "scatter3d"
           }
          ],
          "scattercarpet": [
           {
            "marker": {
             "colorbar": {
              "outlinewidth": 0,
              "ticks": ""
             }
            },
            "type": "scattercarpet"
           }
          ],
          "scattergeo": [
           {
            "marker": {
             "colorbar": {
              "outlinewidth": 0,
              "ticks": ""
             }
            },
            "type": "scattergeo"
           }
          ],
          "scattergl": [
           {
            "marker": {
             "colorbar": {
              "outlinewidth": 0,
              "ticks": ""
             }
            },
            "type": "scattergl"
           }
          ],
          "scattermapbox": [
           {
            "marker": {
             "colorbar": {
              "outlinewidth": 0,
              "ticks": ""
             }
            },
            "type": "scattermapbox"
           }
          ],
          "scatterpolar": [
           {
            "marker": {
             "colorbar": {
              "outlinewidth": 0,
              "ticks": ""
             }
            },
            "type": "scatterpolar"
           }
          ],
          "scatterpolargl": [
           {
            "marker": {
             "colorbar": {
              "outlinewidth": 0,
              "ticks": ""
             }
            },
            "type": "scatterpolargl"
           }
          ],
          "scatterternary": [
           {
            "marker": {
             "colorbar": {
              "outlinewidth": 0,
              "ticks": ""
             }
            },
            "type": "scatterternary"
           }
          ],
          "surface": [
           {
            "colorbar": {
             "outlinewidth": 0,
             "ticks": ""
            },
            "colorscale": [
             [
              0,
              "#0d0887"
             ],
             [
              0.1111111111111111,
              "#46039f"
             ],
             [
              0.2222222222222222,
              "#7201a8"
             ],
             [
              0.3333333333333333,
              "#9c179e"
             ],
             [
              0.4444444444444444,
              "#bd3786"
             ],
             [
              0.5555555555555556,
              "#d8576b"
             ],
             [
              0.6666666666666666,
              "#ed7953"
             ],
             [
              0.7777777777777778,
              "#fb9f3a"
             ],
             [
              0.8888888888888888,
              "#fdca26"
             ],
             [
              1,
              "#f0f921"
             ]
            ],
            "type": "surface"
           }
          ],
          "table": [
           {
            "cells": {
             "fill": {
              "color": "#EBF0F8"
             },
             "line": {
              "color": "white"
             }
            },
            "header": {
             "fill": {
              "color": "#C8D4E3"
             },
             "line": {
              "color": "white"
             }
            },
            "type": "table"
           }
          ]
         },
         "layout": {
          "annotationdefaults": {
           "arrowcolor": "#2a3f5f",
           "arrowhead": 0,
           "arrowwidth": 1
          },
          "autotypenumbers": "strict",
          "coloraxis": {
           "colorbar": {
            "outlinewidth": 0,
            "ticks": ""
           }
          },
          "colorscale": {
           "diverging": [
            [
             0,
             "#8e0152"
            ],
            [
             0.1,
             "#c51b7d"
            ],
            [
             0.2,
             "#de77ae"
            ],
            [
             0.3,
             "#f1b6da"
            ],
            [
             0.4,
             "#fde0ef"
            ],
            [
             0.5,
             "#f7f7f7"
            ],
            [
             0.6,
             "#e6f5d0"
            ],
            [
             0.7,
             "#b8e186"
            ],
            [
             0.8,
             "#7fbc41"
            ],
            [
             0.9,
             "#4d9221"
            ],
            [
             1,
             "#276419"
            ]
           ],
           "sequential": [
            [
             0,
             "#0d0887"
            ],
            [
             0.1111111111111111,
             "#46039f"
            ],
            [
             0.2222222222222222,
             "#7201a8"
            ],
            [
             0.3333333333333333,
             "#9c179e"
            ],
            [
             0.4444444444444444,
             "#bd3786"
            ],
            [
             0.5555555555555556,
             "#d8576b"
            ],
            [
             0.6666666666666666,
             "#ed7953"
            ],
            [
             0.7777777777777778,
             "#fb9f3a"
            ],
            [
             0.8888888888888888,
             "#fdca26"
            ],
            [
             1,
             "#f0f921"
            ]
           ],
           "sequentialminus": [
            [
             0,
             "#0d0887"
            ],
            [
             0.1111111111111111,
             "#46039f"
            ],
            [
             0.2222222222222222,
             "#7201a8"
            ],
            [
             0.3333333333333333,
             "#9c179e"
            ],
            [
             0.4444444444444444,
             "#bd3786"
            ],
            [
             0.5555555555555556,
             "#d8576b"
            ],
            [
             0.6666666666666666,
             "#ed7953"
            ],
            [
             0.7777777777777778,
             "#fb9f3a"
            ],
            [
             0.8888888888888888,
             "#fdca26"
            ],
            [
             1,
             "#f0f921"
            ]
           ]
          },
          "colorway": [
           "#636efa",
           "#EF553B",
           "#00cc96",
           "#ab63fa",
           "#FFA15A",
           "#19d3f3",
           "#FF6692",
           "#B6E880",
           "#FF97FF",
           "#FECB52"
          ],
          "font": {
           "color": "#2a3f5f"
          },
          "geo": {
           "bgcolor": "white",
           "lakecolor": "white",
           "landcolor": "#E5ECF6",
           "showlakes": true,
           "showland": true,
           "subunitcolor": "white"
          },
          "hoverlabel": {
           "align": "left"
          },
          "hovermode": "closest",
          "mapbox": {
           "style": "light"
          },
          "paper_bgcolor": "white",
          "plot_bgcolor": "#E5ECF6",
          "polar": {
           "angularaxis": {
            "gridcolor": "white",
            "linecolor": "white",
            "ticks": ""
           },
           "bgcolor": "#E5ECF6",
           "radialaxis": {
            "gridcolor": "white",
            "linecolor": "white",
            "ticks": ""
           }
          },
          "scene": {
           "xaxis": {
            "backgroundcolor": "#E5ECF6",
            "gridcolor": "white",
            "gridwidth": 2,
            "linecolor": "white",
            "showbackground": true,
            "ticks": "",
            "zerolinecolor": "white"
           },
           "yaxis": {
            "backgroundcolor": "#E5ECF6",
            "gridcolor": "white",
            "gridwidth": 2,
            "linecolor": "white",
            "showbackground": true,
            "ticks": "",
            "zerolinecolor": "white"
           },
           "zaxis": {
            "backgroundcolor": "#E5ECF6",
            "gridcolor": "white",
            "gridwidth": 2,
            "linecolor": "white",
            "showbackground": true,
            "ticks": "",
            "zerolinecolor": "white"
           }
          },
          "shapedefaults": {
           "line": {
            "color": "#2a3f5f"
           }
          },
          "ternary": {
           "aaxis": {
            "gridcolor": "white",
            "linecolor": "white",
            "ticks": ""
           },
           "baxis": {
            "gridcolor": "white",
            "linecolor": "white",
            "ticks": ""
           },
           "bgcolor": "#E5ECF6",
           "caxis": {
            "gridcolor": "white",
            "linecolor": "white",
            "ticks": ""
           }
          },
          "title": {
           "x": 0.05
          },
          "xaxis": {
           "automargin": true,
           "gridcolor": "white",
           "linecolor": "white",
           "ticks": "",
           "title": {
            "standoff": 15
           },
           "zerolinecolor": "white",
           "zerolinewidth": 2
          },
          "yaxis": {
           "automargin": true,
           "gridcolor": "white",
           "linecolor": "white",
           "ticks": "",
           "title": {
            "standoff": 15
           },
           "zerolinecolor": "white",
           "zerolinewidth": 2
          }
         }
        },
        "width": 800,
        "xaxis": {
         "anchor": "y",
         "constrain": "domain",
         "domain": [
          0,
          1
         ],
         "scaleanchor": "y",
         "side": "top"
        },
        "yaxis": {
         "anchor": "x",
         "autorange": "reversed",
         "constrain": "domain",
         "domain": [
          0,
          1
         ]
        }
       }
      }
     },
     "metadata": {},
     "output_type": "display_data"
    }
   ],
   "source": [
    "fig = px.imshow(corr)\n",
    "\n",
    "# Ajouter les valeurs de corrélation dans les carrés\n",
    "for y in range(corr.shape[0]):\n",
    "    for x in range(corr.shape[1]):\n",
    "        fig.add_annotation(x=x, y=y, \n",
    "                           text=str(round(corr.iloc[y, x], 2)), \n",
    "                           showarrow=False, \n",
    "                           font=dict(color=\"black\"))\n",
    "\n",
    "\n",
    "# Ajuster la mise en page pour une meilleure lisibilité\n",
    "fig.update_layout(\n",
    "        xaxis=dict(side=\"top\"),\n",
    "        width=800,  # Largeur de la figure en pixels\n",
    "        height=600)  # Hauteur de la figure en pixels\n",
    "\n",
    "fig.show()"
   ]
  },
  {
   "cell_type": "code",
   "execution_count": 44,
   "metadata": {},
   "outputs": [
    {
     "data": {
      "text/html": [
       "<div>\n",
       "<style scoped>\n",
       "    .dataframe tbody tr th:only-of-type {\n",
       "        vertical-align: middle;\n",
       "    }\n",
       "\n",
       "    .dataframe tbody tr th {\n",
       "        vertical-align: top;\n",
       "    }\n",
       "\n",
       "    .dataframe thead th {\n",
       "        text-align: right;\n",
       "    }\n",
       "</style>\n",
       "<table border=\"1\" class=\"dataframe\">\n",
       "  <thead>\n",
       "    <tr style=\"text-align: center;\">\n",
       "      <th></th>\n",
       "      <th>Store</th>\n",
       "      <th>Weekly_Sales</th>\n",
       "      <th>Holiday_Flag</th>\n",
       "      <th>Temperature</th>\n",
       "      <th>Fuel_Price</th>\n",
       "      <th>CPI</th>\n",
       "      <th>Unemployment</th>\n",
       "      <th>Year</th>\n",
       "      <th>Month</th>\n",
       "      <th>Day</th>\n",
       "    </tr>\n",
       "  </thead>\n",
       "  <tbody>\n",
       "    <tr>\n",
       "      <th>0</th>\n",
       "      <td>6.0</td>\n",
       "      <td>1572117.54</td>\n",
       "      <td>0.0</td>\n",
       "      <td>15.3</td>\n",
       "      <td>3.045</td>\n",
       "      <td>214.777523</td>\n",
       "      <td>6.858</td>\n",
       "      <td>2011.0</td>\n",
       "      <td>2.0</td>\n",
       "      <td>18.0</td>\n",
       "    </tr>\n",
       "    <tr>\n",
       "      <th>1</th>\n",
       "      <td>13.0</td>\n",
       "      <td>1807545.43</td>\n",
       "      <td>0.0</td>\n",
       "      <td>5.8</td>\n",
       "      <td>3.435</td>\n",
       "      <td>128.616064</td>\n",
       "      <td>7.470</td>\n",
       "      <td>2011.0</td>\n",
       "      <td>3.0</td>\n",
       "      <td>25.0</td>\n",
       "    </tr>\n",
       "    <tr>\n",
       "      <th>4</th>\n",
       "      <td>6.0</td>\n",
       "      <td>1644470.66</td>\n",
       "      <td>0.0</td>\n",
       "      <td>26.0</td>\n",
       "      <td>2.759</td>\n",
       "      <td>212.412888</td>\n",
       "      <td>7.092</td>\n",
       "      <td>2010.0</td>\n",
       "      <td>5.0</td>\n",
       "      <td>28.0</td>\n",
       "    </tr>\n",
       "    <tr>\n",
       "      <th>5</th>\n",
       "      <td>4.0</td>\n",
       "      <td>1857533.70</td>\n",
       "      <td>0.0</td>\n",
       "      <td>NaN</td>\n",
       "      <td>2.756</td>\n",
       "      <td>126.160226</td>\n",
       "      <td>7.896</td>\n",
       "      <td>2010.0</td>\n",
       "      <td>5.0</td>\n",
       "      <td>28.0</td>\n",
       "    </tr>\n",
       "    <tr>\n",
       "      <th>6</th>\n",
       "      <td>15.0</td>\n",
       "      <td>695396.19</td>\n",
       "      <td>0.0</td>\n",
       "      <td>21.0</td>\n",
       "      <td>4.069</td>\n",
       "      <td>134.855161</td>\n",
       "      <td>7.658</td>\n",
       "      <td>2011.0</td>\n",
       "      <td>6.0</td>\n",
       "      <td>3.0</td>\n",
       "    </tr>\n",
       "  </tbody>\n",
       "</table>\n",
       "</div>"
      ],
      "text/plain": [
       "   Store  Weekly_Sales  Holiday_Flag  Temperature  Fuel_Price      CPI     \\\n",
       "0   6.0    1572117.54        0.0         15.3         3.045    214.777523   \n",
       "1  13.0    1807545.43        0.0          5.8         3.435    128.616064   \n",
       "4   6.0    1644470.66        0.0         26.0         2.759    212.412888   \n",
       "5   4.0    1857533.70        0.0          NaN         2.756    126.160226   \n",
       "6  15.0     695396.19        0.0         21.0         4.069    134.855161   \n",
       "\n",
       "   Unemployment   Year   Month   Day  \n",
       "0      6.858     2011.0   2.0   18.0  \n",
       "1      7.470     2011.0   3.0   25.0  \n",
       "4      7.092     2010.0   5.0   28.0  \n",
       "5      7.896     2010.0   5.0   28.0  \n",
       "6      7.658     2011.0   6.0    3.0  "
      ]
     },
     "execution_count": 44,
     "metadata": {},
     "output_type": "execute_result"
    }
   ],
   "source": [
    "df.head()"
   ]
  },
  {
   "cell_type": "code",
   "execution_count": 45,
   "metadata": {},
   "outputs": [
    {
     "data": {
      "application/vnd.plotly.v1+json": {
       "config": {
        "plotlyServerURL": "https://plot.ly"
       },
       "data": [
        {
         "hovertemplate": "Temperature=%{x}<br>Weekly_Sales=%{y}<extra></extra>",
         "legendgroup": "",
         "marker": {
          "color": "#636efa",
          "symbol": "circle"
         },
         "mode": "markers",
         "name": "",
         "orientation": "v",
         "showlegend": false,
         "type": "scatter",
         "x": [
          15.3,
          5.8,
          26,
          null,
          21,
          4.4,
          -0.8,
          28.3,
          11.1,
          2.6,
          18.2,
          15.6,
          20.5,
          24.6,
          10.1,
          3.5,
          25.2,
          10.5,
          3.9,
          10.4,
          7.1,
          11,
          6.6,
          7.3,
          null,
          -7.3,
          2.8,
          0.7,
          26.8,
          null,
          27.7,
          16,
          10.2,
          null,
          14.2,
          3.6,
          12.6,
          28,
          19,
          33.1,
          9,
          16.2,
          15.4,
          29.5,
          5.4,
          30.5,
          17.6,
          23.8,
          null,
          2.7,
          null,
          14.2,
          20.7,
          2.5,
          23.2,
          7.6,
          -2.6,
          2.7,
          29.6,
          20,
          24,
          8.6,
          16.8,
          20.8,
          10,
          7,
          24,
          25.8,
          25.8,
          23.8,
          9.9,
          19.7,
          32.4,
          26,
          28.6,
          8.2,
          5.8,
          28.2,
          22.7,
          1.6,
          0.7,
          20.6,
          -1.7,
          null,
          4.3,
          0.4,
          21.1,
          null,
          4.1,
          28.3,
          1.3,
          24.1,
          31.9,
          14.4,
          null,
          20.1,
          17.7,
          16.5,
          24.4,
          11.4,
          null,
          28.2,
          29.2,
          23.5,
          10.3,
          16.9,
          24.2,
          25.8,
          23,
          22.6,
          14,
          30,
          12.9
         ],
         "xaxis": "x",
         "y": [
          1572117.54,
          1807545.43,
          1644470.66,
          1857533.7,
          695396.19,
          2203523.2,
          2600519.26,
          895066.5,
          1029618.1,
          414094.05,
          1677472.78,
          829207.27,
          1498080.16,
          1997397.63,
          2432736.52,
          561145.14,
          290930.01,
          1074079,
          1427023.45,
          1405007.44,
          919878.34,
          367438.62,
          435397.19,
          757738.76,
          1420405.41,
          563460.77,
          2077256.24,
          1266564.94,
          365248.94,
          988157.72,
          2008344.92,
          311906.7,
          961186.23,
          526525.16,
          629994.47,
          1641957.44,
          1861802.7,
          268929.03,
          1549018.68,
          1624383.75,
          485095.41,
          2035431.39,
          1916812.74,
          509263.28,
          1879451.23,
          1805999.79,
          1847430.96,
          888816.78,
          1532308.78,
          2020550.99,
          2095599.93,
          1990371.02,
          313358.15,
          2771397.17,
          1166117.85,
          461622.22,
          1588430.71,
          2461468.35,
          1449142.92,
          1508068.77,
          1973135.87,
          570611.23,
          1539483.7,
          1789687.65,
          519823.3,
          1758050.79,
          431985.36,
          485389.15,
          1953544.76,
          1494251.5,
          860336.16,
          298697.84,
          1768172.31,
          2018314.71,
          364076.85,
          1799520.14,
          2302504.86,
          419497.95,
          1366395.96,
          2095591.63,
          994801.4,
          1256282.79,
          1799737.79,
          1468350.36,
          2124451.54,
          1811606.21,
          1757242.51,
          660838.75,
          457340.06,
          513073.87,
          1864746.1,
          836707.85,
          275142.17,
          597876.55,
          1466046.67,
          1467473.63,
          398838.97,
          614253.33,
          1970341.38,
          2025582.62,
          855459.96,
          2036231.39,
          2066541.86,
          1639358.93,
          532739.77,
          301827.36,
          403342.4,
          396968.8,
          424513.08,
          2248645.59,
          845252.21,
          856796.1,
          1255087.26
         ],
         "yaxis": "y"
        },
        {
         "hovertemplate": "<b>OLS trendline</b><br>Weekly_Sales = -13379 * Temperature + 1.47508e+06<br>R<sup>2</sup>=0.037033<br><br>Temperature=%{x}<br>Weekly_Sales=%{y} <b>(trend)</b><extra></extra>",
         "legendgroup": "",
         "marker": {
          "color": "#636efa",
          "symbol": "circle"
         },
         "mode": "lines",
         "name": "",
         "showlegend": false,
         "type": "scatter",
         "x": [
          -7.3,
          -2.6,
          -1.7,
          -0.8,
          0.4,
          0.7,
          0.7,
          1.3,
          1.6,
          2.5,
          2.6,
          2.7,
          2.7,
          2.8,
          3.5,
          3.6,
          3.9,
          4.1,
          4.3,
          4.4,
          5.4,
          5.8,
          5.8,
          6.6,
          7,
          7.1,
          7.3,
          7.6,
          8.2,
          8.6,
          9,
          9.9,
          10,
          10.1,
          10.2,
          10.3,
          10.4,
          10.5,
          11,
          11.1,
          11.4,
          12.6,
          12.9,
          14,
          14.2,
          14.2,
          14.4,
          15.3,
          15.4,
          15.6,
          16,
          16.2,
          16.5,
          16.8,
          16.9,
          17.6,
          17.7,
          18.2,
          19,
          19.7,
          20,
          20.1,
          20.5,
          20.6,
          20.7,
          20.8,
          21,
          21.1,
          22.6,
          22.7,
          23,
          23.2,
          23.5,
          23.8,
          23.8,
          24,
          24,
          24.1,
          24.2,
          24.4,
          24.6,
          25.2,
          25.8,
          25.8,
          25.8,
          26,
          26,
          26.8,
          27.7,
          28,
          28.2,
          28.2,
          28.3,
          28.3,
          28.6,
          29.2,
          29.5,
          29.6,
          30,
          30.5,
          31.9,
          32.4,
          33.1
         ],
         "xaxis": "x",
         "y": [
          1572750.4570321161,
          1509869.221699721,
          1497828.1340828794,
          1485787.0464660376,
          1469732.2629769156,
          1465718.567104635,
          1465718.567104635,
          1457691.1753600738,
          1453677.4794877933,
          1441636.3918709517,
          1440298.4932468582,
          1438960.5946227647,
          1438960.5946227647,
          1437622.6959986712,
          1428257.4056300165,
          1426919.507005923,
          1422905.8111336424,
          1420230.0138854554,
          1417554.2166372684,
          1416216.318013175,
          1402837.3317722399,
          1397485.7372758656,
          1397485.7372758656,
          1386782.5482831176,
          1381430.9537867436,
          1380093.05516265,
          1377417.257914463,
          1373403.5620421825,
          1365376.1702976213,
          1360024.5758012473,
          1354672.9813048732,
          1342631.8936880315,
          1341293.9950639382,
          1339956.0964398445,
          1338618.197815751,
          1337280.2991916575,
          1335942.400567564,
          1334604.5019434704,
          1327915.008823003,
          1326577.1101989094,
          1322563.414326629,
          1306508.6308375066,
          1302494.934965226,
          1287778.0501001975,
          1285102.2528520105,
          1285102.2528520105,
          1282426.4556038235,
          1270385.3679869818,
          1269047.4693628883,
          1266371.6721147012,
          1261020.0776183272,
          1258344.2803701402,
          1254330.5844978597,
          1250316.888625579,
          1248978.9900014855,
          1239613.699632831,
          1238275.8010087374,
          1231586.30788827,
          1220883.1188955216,
          1211517.828526867,
          1207504.1326545866,
          1206166.234030493,
          1200814.639534119,
          1199476.7409100253,
          1198138.842285932,
          1196800.9436618383,
          1194125.1464136513,
          1192787.2477895578,
          1172718.7684281552,
          1171380.8698040617,
          1167367.1739317812,
          1164691.3766835942,
          1160677.6808113134,
          1156663.984939033,
          1156663.984939033,
          1153988.187690846,
          1153988.187690846,
          1152650.2890667524,
          1151312.390442659,
          1148636.593194472,
          1145960.795946285,
          1137933.4042017236,
          1129906.0124571626,
          1129906.0124571626,
          1129906.0124571626,
          1127230.2152089756,
          1127230.2152089756,
          1116527.0262162276,
          1104485.9385993858,
          1100472.2427271053,
          1097796.4454789183,
          1097796.4454789183,
          1096458.5468548248,
          1096458.5468548248,
          1092444.8509825442,
          1084417.4592379832,
          1080403.7633657027,
          1079065.864741609,
          1073714.270245235,
          1067024.7771247674,
          1048294.1963874584,
          1041604.7032669907,
          1032239.4128983361
         ],
         "yaxis": "y"
        }
       ],
       "layout": {
        "legend": {
         "tracegroupgap": 0
        },
        "margin": {
         "t": 60
        },
        "template": {
         "data": {
          "bar": [
           {
            "error_x": {
             "color": "#2a3f5f"
            },
            "error_y": {
             "color": "#2a3f5f"
            },
            "marker": {
             "line": {
              "color": "#E5ECF6",
              "width": 0.5
             },
             "pattern": {
              "fillmode": "overlay",
              "size": 10,
              "solidity": 0.2
             }
            },
            "type": "bar"
           }
          ],
          "barpolar": [
           {
            "marker": {
             "line": {
              "color": "#E5ECF6",
              "width": 0.5
             },
             "pattern": {
              "fillmode": "overlay",
              "size": 10,
              "solidity": 0.2
             }
            },
            "type": "barpolar"
           }
          ],
          "carpet": [
           {
            "aaxis": {
             "endlinecolor": "#2a3f5f",
             "gridcolor": "white",
             "linecolor": "white",
             "minorgridcolor": "white",
             "startlinecolor": "#2a3f5f"
            },
            "baxis": {
             "endlinecolor": "#2a3f5f",
             "gridcolor": "white",
             "linecolor": "white",
             "minorgridcolor": "white",
             "startlinecolor": "#2a3f5f"
            },
            "type": "carpet"
           }
          ],
          "choropleth": [
           {
            "colorbar": {
             "outlinewidth": 0,
             "ticks": ""
            },
            "type": "choropleth"
           }
          ],
          "contour": [
           {
            "colorbar": {
             "outlinewidth": 0,
             "ticks": ""
            },
            "colorscale": [
             [
              0,
              "#0d0887"
             ],
             [
              0.1111111111111111,
              "#46039f"
             ],
             [
              0.2222222222222222,
              "#7201a8"
             ],
             [
              0.3333333333333333,
              "#9c179e"
             ],
             [
              0.4444444444444444,
              "#bd3786"
             ],
             [
              0.5555555555555556,
              "#d8576b"
             ],
             [
              0.6666666666666666,
              "#ed7953"
             ],
             [
              0.7777777777777778,
              "#fb9f3a"
             ],
             [
              0.8888888888888888,
              "#fdca26"
             ],
             [
              1,
              "#f0f921"
             ]
            ],
            "type": "contour"
           }
          ],
          "contourcarpet": [
           {
            "colorbar": {
             "outlinewidth": 0,
             "ticks": ""
            },
            "type": "contourcarpet"
           }
          ],
          "heatmap": [
           {
            "colorbar": {
             "outlinewidth": 0,
             "ticks": ""
            },
            "colorscale": [
             [
              0,
              "#0d0887"
             ],
             [
              0.1111111111111111,
              "#46039f"
             ],
             [
              0.2222222222222222,
              "#7201a8"
             ],
             [
              0.3333333333333333,
              "#9c179e"
             ],
             [
              0.4444444444444444,
              "#bd3786"
             ],
             [
              0.5555555555555556,
              "#d8576b"
             ],
             [
              0.6666666666666666,
              "#ed7953"
             ],
             [
              0.7777777777777778,
              "#fb9f3a"
             ],
             [
              0.8888888888888888,
              "#fdca26"
             ],
             [
              1,
              "#f0f921"
             ]
            ],
            "type": "heatmap"
           }
          ],
          "heatmapgl": [
           {
            "colorbar": {
             "outlinewidth": 0,
             "ticks": ""
            },
            "colorscale": [
             [
              0,
              "#0d0887"
             ],
             [
              0.1111111111111111,
              "#46039f"
             ],
             [
              0.2222222222222222,
              "#7201a8"
             ],
             [
              0.3333333333333333,
              "#9c179e"
             ],
             [
              0.4444444444444444,
              "#bd3786"
             ],
             [
              0.5555555555555556,
              "#d8576b"
             ],
             [
              0.6666666666666666,
              "#ed7953"
             ],
             [
              0.7777777777777778,
              "#fb9f3a"
             ],
             [
              0.8888888888888888,
              "#fdca26"
             ],
             [
              1,
              "#f0f921"
             ]
            ],
            "type": "heatmapgl"
           }
          ],
          "histogram": [
           {
            "marker": {
             "pattern": {
              "fillmode": "overlay",
              "size": 10,
              "solidity": 0.2
             }
            },
            "type": "histogram"
           }
          ],
          "histogram2d": [
           {
            "colorbar": {
             "outlinewidth": 0,
             "ticks": ""
            },
            "colorscale": [
             [
              0,
              "#0d0887"
             ],
             [
              0.1111111111111111,
              "#46039f"
             ],
             [
              0.2222222222222222,
              "#7201a8"
             ],
             [
              0.3333333333333333,
              "#9c179e"
             ],
             [
              0.4444444444444444,
              "#bd3786"
             ],
             [
              0.5555555555555556,
              "#d8576b"
             ],
             [
              0.6666666666666666,
              "#ed7953"
             ],
             [
              0.7777777777777778,
              "#fb9f3a"
             ],
             [
              0.8888888888888888,
              "#fdca26"
             ],
             [
              1,
              "#f0f921"
             ]
            ],
            "type": "histogram2d"
           }
          ],
          "histogram2dcontour": [
           {
            "colorbar": {
             "outlinewidth": 0,
             "ticks": ""
            },
            "colorscale": [
             [
              0,
              "#0d0887"
             ],
             [
              0.1111111111111111,
              "#46039f"
             ],
             [
              0.2222222222222222,
              "#7201a8"
             ],
             [
              0.3333333333333333,
              "#9c179e"
             ],
             [
              0.4444444444444444,
              "#bd3786"
             ],
             [
              0.5555555555555556,
              "#d8576b"
             ],
             [
              0.6666666666666666,
              "#ed7953"
             ],
             [
              0.7777777777777778,
              "#fb9f3a"
             ],
             [
              0.8888888888888888,
              "#fdca26"
             ],
             [
              1,
              "#f0f921"
             ]
            ],
            "type": "histogram2dcontour"
           }
          ],
          "mesh3d": [
           {
            "colorbar": {
             "outlinewidth": 0,
             "ticks": ""
            },
            "type": "mesh3d"
           }
          ],
          "parcoords": [
           {
            "line": {
             "colorbar": {
              "outlinewidth": 0,
              "ticks": ""
             }
            },
            "type": "parcoords"
           }
          ],
          "pie": [
           {
            "automargin": true,
            "type": "pie"
           }
          ],
          "scatter": [
           {
            "fillpattern": {
             "fillmode": "overlay",
             "size": 10,
             "solidity": 0.2
            },
            "type": "scatter"
           }
          ],
          "scatter3d": [
           {
            "line": {
             "colorbar": {
              "outlinewidth": 0,
              "ticks": ""
             }
            },
            "marker": {
             "colorbar": {
              "outlinewidth": 0,
              "ticks": ""
             }
            },
            "type": "scatter3d"
           }
          ],
          "scattercarpet": [
           {
            "marker": {
             "colorbar": {
              "outlinewidth": 0,
              "ticks": ""
             }
            },
            "type": "scattercarpet"
           }
          ],
          "scattergeo": [
           {
            "marker": {
             "colorbar": {
              "outlinewidth": 0,
              "ticks": ""
             }
            },
            "type": "scattergeo"
           }
          ],
          "scattergl": [
           {
            "marker": {
             "colorbar": {
              "outlinewidth": 0,
              "ticks": ""
             }
            },
            "type": "scattergl"
           }
          ],
          "scattermapbox": [
           {
            "marker": {
             "colorbar": {
              "outlinewidth": 0,
              "ticks": ""
             }
            },
            "type": "scattermapbox"
           }
          ],
          "scatterpolar": [
           {
            "marker": {
             "colorbar": {
              "outlinewidth": 0,
              "ticks": ""
             }
            },
            "type": "scatterpolar"
           }
          ],
          "scatterpolargl": [
           {
            "marker": {
             "colorbar": {
              "outlinewidth": 0,
              "ticks": ""
             }
            },
            "type": "scatterpolargl"
           }
          ],
          "scatterternary": [
           {
            "marker": {
             "colorbar": {
              "outlinewidth": 0,
              "ticks": ""
             }
            },
            "type": "scatterternary"
           }
          ],
          "surface": [
           {
            "colorbar": {
             "outlinewidth": 0,
             "ticks": ""
            },
            "colorscale": [
             [
              0,
              "#0d0887"
             ],
             [
              0.1111111111111111,
              "#46039f"
             ],
             [
              0.2222222222222222,
              "#7201a8"
             ],
             [
              0.3333333333333333,
              "#9c179e"
             ],
             [
              0.4444444444444444,
              "#bd3786"
             ],
             [
              0.5555555555555556,
              "#d8576b"
             ],
             [
              0.6666666666666666,
              "#ed7953"
             ],
             [
              0.7777777777777778,
              "#fb9f3a"
             ],
             [
              0.8888888888888888,
              "#fdca26"
             ],
             [
              1,
              "#f0f921"
             ]
            ],
            "type": "surface"
           }
          ],
          "table": [
           {
            "cells": {
             "fill": {
              "color": "#EBF0F8"
             },
             "line": {
              "color": "white"
             }
            },
            "header": {
             "fill": {
              "color": "#C8D4E3"
             },
             "line": {
              "color": "white"
             }
            },
            "type": "table"
           }
          ]
         },
         "layout": {
          "annotationdefaults": {
           "arrowcolor": "#2a3f5f",
           "arrowhead": 0,
           "arrowwidth": 1
          },
          "autotypenumbers": "strict",
          "coloraxis": {
           "colorbar": {
            "outlinewidth": 0,
            "ticks": ""
           }
          },
          "colorscale": {
           "diverging": [
            [
             0,
             "#8e0152"
            ],
            [
             0.1,
             "#c51b7d"
            ],
            [
             0.2,
             "#de77ae"
            ],
            [
             0.3,
             "#f1b6da"
            ],
            [
             0.4,
             "#fde0ef"
            ],
            [
             0.5,
             "#f7f7f7"
            ],
            [
             0.6,
             "#e6f5d0"
            ],
            [
             0.7,
             "#b8e186"
            ],
            [
             0.8,
             "#7fbc41"
            ],
            [
             0.9,
             "#4d9221"
            ],
            [
             1,
             "#276419"
            ]
           ],
           "sequential": [
            [
             0,
             "#0d0887"
            ],
            [
             0.1111111111111111,
             "#46039f"
            ],
            [
             0.2222222222222222,
             "#7201a8"
            ],
            [
             0.3333333333333333,
             "#9c179e"
            ],
            [
             0.4444444444444444,
             "#bd3786"
            ],
            [
             0.5555555555555556,
             "#d8576b"
            ],
            [
             0.6666666666666666,
             "#ed7953"
            ],
            [
             0.7777777777777778,
             "#fb9f3a"
            ],
            [
             0.8888888888888888,
             "#fdca26"
            ],
            [
             1,
             "#f0f921"
            ]
           ],
           "sequentialminus": [
            [
             0,
             "#0d0887"
            ],
            [
             0.1111111111111111,
             "#46039f"
            ],
            [
             0.2222222222222222,
             "#7201a8"
            ],
            [
             0.3333333333333333,
             "#9c179e"
            ],
            [
             0.4444444444444444,
             "#bd3786"
            ],
            [
             0.5555555555555556,
             "#d8576b"
            ],
            [
             0.6666666666666666,
             "#ed7953"
            ],
            [
             0.7777777777777778,
             "#fb9f3a"
            ],
            [
             0.8888888888888888,
             "#fdca26"
            ],
            [
             1,
             "#f0f921"
            ]
           ]
          },
          "colorway": [
           "#636efa",
           "#EF553B",
           "#00cc96",
           "#ab63fa",
           "#FFA15A",
           "#19d3f3",
           "#FF6692",
           "#B6E880",
           "#FF97FF",
           "#FECB52"
          ],
          "font": {
           "color": "#2a3f5f"
          },
          "geo": {
           "bgcolor": "white",
           "lakecolor": "white",
           "landcolor": "#E5ECF6",
           "showlakes": true,
           "showland": true,
           "subunitcolor": "white"
          },
          "hoverlabel": {
           "align": "left"
          },
          "hovermode": "closest",
          "mapbox": {
           "style": "light"
          },
          "paper_bgcolor": "white",
          "plot_bgcolor": "#E5ECF6",
          "polar": {
           "angularaxis": {
            "gridcolor": "white",
            "linecolor": "white",
            "ticks": ""
           },
           "bgcolor": "#E5ECF6",
           "radialaxis": {
            "gridcolor": "white",
            "linecolor": "white",
            "ticks": ""
           }
          },
          "scene": {
           "xaxis": {
            "backgroundcolor": "#E5ECF6",
            "gridcolor": "white",
            "gridwidth": 2,
            "linecolor": "white",
            "showbackground": true,
            "ticks": "",
            "zerolinecolor": "white"
           },
           "yaxis": {
            "backgroundcolor": "#E5ECF6",
            "gridcolor": "white",
            "gridwidth": 2,
            "linecolor": "white",
            "showbackground": true,
            "ticks": "",
            "zerolinecolor": "white"
           },
           "zaxis": {
            "backgroundcolor": "#E5ECF6",
            "gridcolor": "white",
            "gridwidth": 2,
            "linecolor": "white",
            "showbackground": true,
            "ticks": "",
            "zerolinecolor": "white"
           }
          },
          "shapedefaults": {
           "line": {
            "color": "#2a3f5f"
           }
          },
          "ternary": {
           "aaxis": {
            "gridcolor": "white",
            "linecolor": "white",
            "ticks": ""
           },
           "baxis": {
            "gridcolor": "white",
            "linecolor": "white",
            "ticks": ""
           },
           "bgcolor": "#E5ECF6",
           "caxis": {
            "gridcolor": "white",
            "linecolor": "white",
            "ticks": ""
           }
          },
          "title": {
           "x": 0.05
          },
          "xaxis": {
           "automargin": true,
           "gridcolor": "white",
           "linecolor": "white",
           "ticks": "",
           "title": {
            "standoff": 15
           },
           "zerolinecolor": "white",
           "zerolinewidth": 2
          },
          "yaxis": {
           "automargin": true,
           "gridcolor": "white",
           "linecolor": "white",
           "ticks": "",
           "title": {
            "standoff": 15
           },
           "zerolinecolor": "white",
           "zerolinewidth": 2
          }
         }
        },
        "xaxis": {
         "anchor": "y",
         "domain": [
          0,
          1
         ],
         "title": {
          "text": "Temperature"
         }
        },
        "yaxis": {
         "anchor": "x",
         "domain": [
          0,
          1
         ],
         "title": {
          "text": "Weekly_Sales"
         }
        }
       }
      }
     },
     "metadata": {},
     "output_type": "display_data"
    }
   ],
   "source": [
    "# graph de l'impact de la température, sur les ventes\n",
    "fig = px.scatter(df, x='Temperature', y='Weekly_Sales', trendline='ols')\n",
    "fig.show()"
   ]
  },
  {
   "cell_type": "code",
   "execution_count": 46,
   "metadata": {},
   "outputs": [
    {
     "data": {
      "application/vnd.plotly.v1+json": {
       "config": {
        "plotlyServerURL": "https://plot.ly"
       },
       "data": [
        {
         "hovertemplate": "Unemployment=%{x}<br>Weekly_Sales=%{y}<extra></extra>",
         "legendgroup": "",
         "marker": {
          "color": "#636efa",
          "symbol": "circle"
         },
         "mode": "markers",
         "name": "",
         "orientation": "v",
         "showlegend": false,
         "type": "scatter",
         "x": [
          6.858,
          7.47,
          7.0920000000000005,
          7.896,
          7.657999999999999,
          6.961,
          null,
          6.425,
          9.331,
          8.595,
          7.348,
          6.885,
          7.0920000000000005,
          7.951,
          7.441,
          8.963,
          6.489,
          8.243,
          8.35,
          8.15,
          5.527,
          6.832999999999998,
          6.339,
          6.635,
          6.925,
          8.256,
          8.424,
          7.771,
          7.567,
          8.975,
          5.9460000000000015,
          6.3,
          8.304,
          6.061,
          8.622,
          8.106,
          7.057,
          6.496,
          8.099,
          7.9620000000000015,
          6.162000000000001,
          5.965,
          8.163,
          null,
          8.549,
          7.17,
          6.877000000000002,
          6.315,
          6.973,
          8.424,
          8.521,
          7.545,
          5.4220000000000015,
          5.143,
          9.342,
          7.3679999999999986,
          9.331,
          7.795,
          7.787000000000001,
          null,
          7.856,
          7.943,
          7.866,
          7.527,
          6.56,
          8.027999999999999,
          6.664,
          6.442,
          8.625,
          7.808,
          6.299,
          null,
          9.524,
          7.951,
          7.343,
          7.057,
          7.127000000000002,
          6.664,
          8.099,
          8.992,
          6.299,
          null,
          7.484,
          8.15,
          null,
          6.104,
          7.564,
          null,
          8.09,
          6.384,
          null,
          6.315,
          6.529,
          7.872000000000001,
          7.682,
          7.657999999999999,
          7.197,
          6.867999999999999,
          6.877000000000002,
          6.104,
          null,
          5.644,
          5.644,
          6.855,
          8.09,
          6.768,
          7.197,
          7.343,
          6.034,
          8.899,
          null,
          null,
          8.15
         ],
         "xaxis": "x",
         "y": [
          1572117.54,
          1807545.43,
          1644470.66,
          1857533.7,
          695396.19,
          2203523.2,
          2600519.26,
          895066.5,
          1029618.1,
          414094.05,
          1677472.78,
          829207.27,
          1498080.16,
          1997397.63,
          2432736.52,
          561145.14,
          290930.01,
          1074079,
          1427023.45,
          1405007.44,
          919878.34,
          367438.62,
          435397.19,
          757738.76,
          1420405.41,
          563460.77,
          2077256.24,
          1266564.94,
          365248.94,
          988157.72,
          2008344.92,
          311906.7,
          961186.23,
          526525.16,
          629994.47,
          1641957.44,
          1861802.7,
          268929.03,
          1549018.68,
          1624383.75,
          485095.41,
          2035431.39,
          1916812.74,
          509263.28,
          1879451.23,
          1805999.79,
          1847430.96,
          888816.78,
          1532308.78,
          2020550.99,
          2095599.93,
          1990371.02,
          313358.15,
          2771397.17,
          1166117.85,
          461622.22,
          1588430.71,
          2461468.35,
          1449142.92,
          1508068.77,
          1973135.87,
          570611.23,
          1539483.7,
          1789687.65,
          519823.3,
          1758050.79,
          431985.36,
          485389.15,
          1953544.76,
          1494251.5,
          860336.16,
          298697.84,
          1768172.31,
          2018314.71,
          364076.85,
          1799520.14,
          2302504.86,
          419497.95,
          1366395.96,
          2095591.63,
          994801.4,
          1256282.79,
          1799737.79,
          1468350.36,
          2124451.54,
          1811606.21,
          1757242.51,
          660838.75,
          457340.06,
          513073.87,
          1864746.1,
          836707.85,
          275142.17,
          597876.55,
          1466046.67,
          1467473.63,
          398838.97,
          614253.33,
          1970341.38,
          2025582.62,
          855459.96,
          2036231.39,
          2066541.86,
          1639358.93,
          532739.77,
          301827.36,
          403342.4,
          396968.8,
          424513.08,
          2248645.59,
          845252.21,
          856796.1,
          1255087.26
         ],
         "yaxis": "y"
        },
        {
         "hovertemplate": "<b>OLS trendline</b><br>Weekly_Sales = 121229 * Unemployment + 378640<br>R<sup>2</sup>=0.030785<br><br>Unemployment=%{x}<br>Weekly_Sales=%{y} <b>(trend)</b><extra></extra>",
         "legendgroup": "",
         "marker": {
          "color": "#636efa",
          "symbol": "circle"
         },
         "mode": "lines",
         "name": "",
         "showlegend": false,
         "type": "scatter",
         "x": [
          5.143,
          5.4220000000000015,
          5.527,
          5.644,
          5.644,
          5.9460000000000015,
          5.965,
          6.034,
          6.061,
          6.104,
          6.104,
          6.162000000000001,
          6.299,
          6.299,
          6.3,
          6.315,
          6.315,
          6.339,
          6.384,
          6.425,
          6.442,
          6.489,
          6.496,
          6.529,
          6.56,
          6.635,
          6.664,
          6.664,
          6.768,
          6.832999999999998,
          6.855,
          6.858,
          6.867999999999999,
          6.877000000000002,
          6.877000000000002,
          6.885,
          6.925,
          6.961,
          6.973,
          7.057,
          7.057,
          7.0920000000000005,
          7.0920000000000005,
          7.127000000000002,
          7.17,
          7.197,
          7.197,
          7.343,
          7.343,
          7.348,
          7.3679999999999986,
          7.441,
          7.47,
          7.484,
          7.527,
          7.545,
          7.564,
          7.567,
          7.657999999999999,
          7.657999999999999,
          7.682,
          7.771,
          7.787000000000001,
          7.795,
          7.808,
          7.856,
          7.866,
          7.872000000000001,
          7.896,
          7.943,
          7.951,
          7.951,
          7.9620000000000015,
          8.027999999999999,
          8.09,
          8.09,
          8.099,
          8.099,
          8.106,
          8.15,
          8.15,
          8.15,
          8.163,
          8.243,
          8.256,
          8.304,
          8.35,
          8.424,
          8.424,
          8.521,
          8.549,
          8.595,
          8.622,
          8.625,
          8.899,
          8.963,
          8.975,
          8.992,
          9.331,
          9.331,
          9.342,
          9.524
         ],
         "xaxis": "x",
         "y": [
          1002119.1068087332,
          1035941.9028603346,
          1048670.9121270662,
          1062854.6653099956,
          1062854.6653099956,
          1099465.7205343097,
          1101769.0650682896,
          1110133.8425864275,
          1113407.016397873,
          1118619.8487642487,
          1118619.8487642487,
          1125651.111025872,
          1142259.4374024647,
          1142259.4374024647,
          1142380.6660621478,
          1144199.0959573952,
          1144199.0959573952,
          1147108.583789791,
          1152563.8734755332,
          1157534.2485225426,
          1159595.1357371563,
          1165292.8827422648,
          1166141.483360047,
          1170142.029129591,
          1173900.1175797689,
          1182992.267056006,
          1186507.8981868175,
          1186507.8981868175,
          1199115.678793866,
          1206995.5416732712,
          1209662.572186301,
          1210026.2581653502,
          1211238.5447621818,
          1212329.6026993305,
          1212329.6026993305,
          1213299.4319767957,
          1218148.578364122,
          1222512.8101127157,
          1223967.5540289136,
          1234150.761442299,
          1234150.761442299,
          1238393.7645312096,
          1238393.7645312096,
          1242636.7676201202,
          1247849.599986496,
          1251122.7737979412,
          1251122.7737979412,
          1268822.1581116824,
          1268822.1581116824,
          1269428.301410098,
          1271852.8746037611,
          1280702.5667606317,
          1284218.1978914435,
          1285915.3991270077,
          1291128.2314933834,
          1293310.3473676804,
          1295613.6919016603,
          1295977.37788071,
          1307009.185911877,
          1307009.185911877,
          1309918.6737442731,
          1320708.0244560742,
          1322647.683011005,
          1323617.51228847,
          1325193.484864351,
          1331012.4605291428,
          1332224.7471259742,
          1332952.1190840732,
          1335861.606916469,
          1341559.3539215773,
          1342529.1831990427,
          1342529.1831990427,
          1343862.6984555577,
          1351863.7899946459,
          1359379.9668950017,
          1359379.9668950017,
          1360471.0248321502,
          1360471.0248321502,
          1361319.6254499324,
          1366653.6864759913,
          1366653.6864759913,
          1366653.6864759913,
          1368229.6590518723,
          1377927.9518265252,
          1379503.9244024062,
          1385322.9000671979,
          1390899.418412623,
          1399870.3392291768,
          1399870.3392291768,
          1411629.5192184432,
          1415023.9216895716,
          1420600.440034997,
          1423873.6138464422,
          1424237.2998254916,
          1457453.952578677,
          1465212.5867983992,
          1466667.3307145971,
          1468728.217929211,
          1509824.7335618017,
          1509824.7335618017,
          1511158.2488183165,
          1533221.8648806512
         ],
         "yaxis": "y"
        }
       ],
       "layout": {
        "legend": {
         "tracegroupgap": 0
        },
        "margin": {
         "t": 60
        },
        "template": {
         "data": {
          "bar": [
           {
            "error_x": {
             "color": "#2a3f5f"
            },
            "error_y": {
             "color": "#2a3f5f"
            },
            "marker": {
             "line": {
              "color": "#E5ECF6",
              "width": 0.5
             },
             "pattern": {
              "fillmode": "overlay",
              "size": 10,
              "solidity": 0.2
             }
            },
            "type": "bar"
           }
          ],
          "barpolar": [
           {
            "marker": {
             "line": {
              "color": "#E5ECF6",
              "width": 0.5
             },
             "pattern": {
              "fillmode": "overlay",
              "size": 10,
              "solidity": 0.2
             }
            },
            "type": "barpolar"
           }
          ],
          "carpet": [
           {
            "aaxis": {
             "endlinecolor": "#2a3f5f",
             "gridcolor": "white",
             "linecolor": "white",
             "minorgridcolor": "white",
             "startlinecolor": "#2a3f5f"
            },
            "baxis": {
             "endlinecolor": "#2a3f5f",
             "gridcolor": "white",
             "linecolor": "white",
             "minorgridcolor": "white",
             "startlinecolor": "#2a3f5f"
            },
            "type": "carpet"
           }
          ],
          "choropleth": [
           {
            "colorbar": {
             "outlinewidth": 0,
             "ticks": ""
            },
            "type": "choropleth"
           }
          ],
          "contour": [
           {
            "colorbar": {
             "outlinewidth": 0,
             "ticks": ""
            },
            "colorscale": [
             [
              0,
              "#0d0887"
             ],
             [
              0.1111111111111111,
              "#46039f"
             ],
             [
              0.2222222222222222,
              "#7201a8"
             ],
             [
              0.3333333333333333,
              "#9c179e"
             ],
             [
              0.4444444444444444,
              "#bd3786"
             ],
             [
              0.5555555555555556,
              "#d8576b"
             ],
             [
              0.6666666666666666,
              "#ed7953"
             ],
             [
              0.7777777777777778,
              "#fb9f3a"
             ],
             [
              0.8888888888888888,
              "#fdca26"
             ],
             [
              1,
              "#f0f921"
             ]
            ],
            "type": "contour"
           }
          ],
          "contourcarpet": [
           {
            "colorbar": {
             "outlinewidth": 0,
             "ticks": ""
            },
            "type": "contourcarpet"
           }
          ],
          "heatmap": [
           {
            "colorbar": {
             "outlinewidth": 0,
             "ticks": ""
            },
            "colorscale": [
             [
              0,
              "#0d0887"
             ],
             [
              0.1111111111111111,
              "#46039f"
             ],
             [
              0.2222222222222222,
              "#7201a8"
             ],
             [
              0.3333333333333333,
              "#9c179e"
             ],
             [
              0.4444444444444444,
              "#bd3786"
             ],
             [
              0.5555555555555556,
              "#d8576b"
             ],
             [
              0.6666666666666666,
              "#ed7953"
             ],
             [
              0.7777777777777778,
              "#fb9f3a"
             ],
             [
              0.8888888888888888,
              "#fdca26"
             ],
             [
              1,
              "#f0f921"
             ]
            ],
            "type": "heatmap"
           }
          ],
          "heatmapgl": [
           {
            "colorbar": {
             "outlinewidth": 0,
             "ticks": ""
            },
            "colorscale": [
             [
              0,
              "#0d0887"
             ],
             [
              0.1111111111111111,
              "#46039f"
             ],
             [
              0.2222222222222222,
              "#7201a8"
             ],
             [
              0.3333333333333333,
              "#9c179e"
             ],
             [
              0.4444444444444444,
              "#bd3786"
             ],
             [
              0.5555555555555556,
              "#d8576b"
             ],
             [
              0.6666666666666666,
              "#ed7953"
             ],
             [
              0.7777777777777778,
              "#fb9f3a"
             ],
             [
              0.8888888888888888,
              "#fdca26"
             ],
             [
              1,
              "#f0f921"
             ]
            ],
            "type": "heatmapgl"
           }
          ],
          "histogram": [
           {
            "marker": {
             "pattern": {
              "fillmode": "overlay",
              "size": 10,
              "solidity": 0.2
             }
            },
            "type": "histogram"
           }
          ],
          "histogram2d": [
           {
            "colorbar": {
             "outlinewidth": 0,
             "ticks": ""
            },
            "colorscale": [
             [
              0,
              "#0d0887"
             ],
             [
              0.1111111111111111,
              "#46039f"
             ],
             [
              0.2222222222222222,
              "#7201a8"
             ],
             [
              0.3333333333333333,
              "#9c179e"
             ],
             [
              0.4444444444444444,
              "#bd3786"
             ],
             [
              0.5555555555555556,
              "#d8576b"
             ],
             [
              0.6666666666666666,
              "#ed7953"
             ],
             [
              0.7777777777777778,
              "#fb9f3a"
             ],
             [
              0.8888888888888888,
              "#fdca26"
             ],
             [
              1,
              "#f0f921"
             ]
            ],
            "type": "histogram2d"
           }
          ],
          "histogram2dcontour": [
           {
            "colorbar": {
             "outlinewidth": 0,
             "ticks": ""
            },
            "colorscale": [
             [
              0,
              "#0d0887"
             ],
             [
              0.1111111111111111,
              "#46039f"
             ],
             [
              0.2222222222222222,
              "#7201a8"
             ],
             [
              0.3333333333333333,
              "#9c179e"
             ],
             [
              0.4444444444444444,
              "#bd3786"
             ],
             [
              0.5555555555555556,
              "#d8576b"
             ],
             [
              0.6666666666666666,
              "#ed7953"
             ],
             [
              0.7777777777777778,
              "#fb9f3a"
             ],
             [
              0.8888888888888888,
              "#fdca26"
             ],
             [
              1,
              "#f0f921"
             ]
            ],
            "type": "histogram2dcontour"
           }
          ],
          "mesh3d": [
           {
            "colorbar": {
             "outlinewidth": 0,
             "ticks": ""
            },
            "type": "mesh3d"
           }
          ],
          "parcoords": [
           {
            "line": {
             "colorbar": {
              "outlinewidth": 0,
              "ticks": ""
             }
            },
            "type": "parcoords"
           }
          ],
          "pie": [
           {
            "automargin": true,
            "type": "pie"
           }
          ],
          "scatter": [
           {
            "fillpattern": {
             "fillmode": "overlay",
             "size": 10,
             "solidity": 0.2
            },
            "type": "scatter"
           }
          ],
          "scatter3d": [
           {
            "line": {
             "colorbar": {
              "outlinewidth": 0,
              "ticks": ""
             }
            },
            "marker": {
             "colorbar": {
              "outlinewidth": 0,
              "ticks": ""
             }
            },
            "type": "scatter3d"
           }
          ],
          "scattercarpet": [
           {
            "marker": {
             "colorbar": {
              "outlinewidth": 0,
              "ticks": ""
             }
            },
            "type": "scattercarpet"
           }
          ],
          "scattergeo": [
           {
            "marker": {
             "colorbar": {
              "outlinewidth": 0,
              "ticks": ""
             }
            },
            "type": "scattergeo"
           }
          ],
          "scattergl": [
           {
            "marker": {
             "colorbar": {
              "outlinewidth": 0,
              "ticks": ""
             }
            },
            "type": "scattergl"
           }
          ],
          "scattermapbox": [
           {
            "marker": {
             "colorbar": {
              "outlinewidth": 0,
              "ticks": ""
             }
            },
            "type": "scattermapbox"
           }
          ],
          "scatterpolar": [
           {
            "marker": {
             "colorbar": {
              "outlinewidth": 0,
              "ticks": ""
             }
            },
            "type": "scatterpolar"
           }
          ],
          "scatterpolargl": [
           {
            "marker": {
             "colorbar": {
              "outlinewidth": 0,
              "ticks": ""
             }
            },
            "type": "scatterpolargl"
           }
          ],
          "scatterternary": [
           {
            "marker": {
             "colorbar": {
              "outlinewidth": 0,
              "ticks": ""
             }
            },
            "type": "scatterternary"
           }
          ],
          "surface": [
           {
            "colorbar": {
             "outlinewidth": 0,
             "ticks": ""
            },
            "colorscale": [
             [
              0,
              "#0d0887"
             ],
             [
              0.1111111111111111,
              "#46039f"
             ],
             [
              0.2222222222222222,
              "#7201a8"
             ],
             [
              0.3333333333333333,
              "#9c179e"
             ],
             [
              0.4444444444444444,
              "#bd3786"
             ],
             [
              0.5555555555555556,
              "#d8576b"
             ],
             [
              0.6666666666666666,
              "#ed7953"
             ],
             [
              0.7777777777777778,
              "#fb9f3a"
             ],
             [
              0.8888888888888888,
              "#fdca26"
             ],
             [
              1,
              "#f0f921"
             ]
            ],
            "type": "surface"
           }
          ],
          "table": [
           {
            "cells": {
             "fill": {
              "color": "#EBF0F8"
             },
             "line": {
              "color": "white"
             }
            },
            "header": {
             "fill": {
              "color": "#C8D4E3"
             },
             "line": {
              "color": "white"
             }
            },
            "type": "table"
           }
          ]
         },
         "layout": {
          "annotationdefaults": {
           "arrowcolor": "#2a3f5f",
           "arrowhead": 0,
           "arrowwidth": 1
          },
          "autotypenumbers": "strict",
          "coloraxis": {
           "colorbar": {
            "outlinewidth": 0,
            "ticks": ""
           }
          },
          "colorscale": {
           "diverging": [
            [
             0,
             "#8e0152"
            ],
            [
             0.1,
             "#c51b7d"
            ],
            [
             0.2,
             "#de77ae"
            ],
            [
             0.3,
             "#f1b6da"
            ],
            [
             0.4,
             "#fde0ef"
            ],
            [
             0.5,
             "#f7f7f7"
            ],
            [
             0.6,
             "#e6f5d0"
            ],
            [
             0.7,
             "#b8e186"
            ],
            [
             0.8,
             "#7fbc41"
            ],
            [
             0.9,
             "#4d9221"
            ],
            [
             1,
             "#276419"
            ]
           ],
           "sequential": [
            [
             0,
             "#0d0887"
            ],
            [
             0.1111111111111111,
             "#46039f"
            ],
            [
             0.2222222222222222,
             "#7201a8"
            ],
            [
             0.3333333333333333,
             "#9c179e"
            ],
            [
             0.4444444444444444,
             "#bd3786"
            ],
            [
             0.5555555555555556,
             "#d8576b"
            ],
            [
             0.6666666666666666,
             "#ed7953"
            ],
            [
             0.7777777777777778,
             "#fb9f3a"
            ],
            [
             0.8888888888888888,
             "#fdca26"
            ],
            [
             1,
             "#f0f921"
            ]
           ],
           "sequentialminus": [
            [
             0,
             "#0d0887"
            ],
            [
             0.1111111111111111,
             "#46039f"
            ],
            [
             0.2222222222222222,
             "#7201a8"
            ],
            [
             0.3333333333333333,
             "#9c179e"
            ],
            [
             0.4444444444444444,
             "#bd3786"
            ],
            [
             0.5555555555555556,
             "#d8576b"
            ],
            [
             0.6666666666666666,
             "#ed7953"
            ],
            [
             0.7777777777777778,
             "#fb9f3a"
            ],
            [
             0.8888888888888888,
             "#fdca26"
            ],
            [
             1,
             "#f0f921"
            ]
           ]
          },
          "colorway": [
           "#636efa",
           "#EF553B",
           "#00cc96",
           "#ab63fa",
           "#FFA15A",
           "#19d3f3",
           "#FF6692",
           "#B6E880",
           "#FF97FF",
           "#FECB52"
          ],
          "font": {
           "color": "#2a3f5f"
          },
          "geo": {
           "bgcolor": "white",
           "lakecolor": "white",
           "landcolor": "#E5ECF6",
           "showlakes": true,
           "showland": true,
           "subunitcolor": "white"
          },
          "hoverlabel": {
           "align": "left"
          },
          "hovermode": "closest",
          "mapbox": {
           "style": "light"
          },
          "paper_bgcolor": "white",
          "plot_bgcolor": "#E5ECF6",
          "polar": {
           "angularaxis": {
            "gridcolor": "white",
            "linecolor": "white",
            "ticks": ""
           },
           "bgcolor": "#E5ECF6",
           "radialaxis": {
            "gridcolor": "white",
            "linecolor": "white",
            "ticks": ""
           }
          },
          "scene": {
           "xaxis": {
            "backgroundcolor": "#E5ECF6",
            "gridcolor": "white",
            "gridwidth": 2,
            "linecolor": "white",
            "showbackground": true,
            "ticks": "",
            "zerolinecolor": "white"
           },
           "yaxis": {
            "backgroundcolor": "#E5ECF6",
            "gridcolor": "white",
            "gridwidth": 2,
            "linecolor": "white",
            "showbackground": true,
            "ticks": "",
            "zerolinecolor": "white"
           },
           "zaxis": {
            "backgroundcolor": "#E5ECF6",
            "gridcolor": "white",
            "gridwidth": 2,
            "linecolor": "white",
            "showbackground": true,
            "ticks": "",
            "zerolinecolor": "white"
           }
          },
          "shapedefaults": {
           "line": {
            "color": "#2a3f5f"
           }
          },
          "ternary": {
           "aaxis": {
            "gridcolor": "white",
            "linecolor": "white",
            "ticks": ""
           },
           "baxis": {
            "gridcolor": "white",
            "linecolor": "white",
            "ticks": ""
           },
           "bgcolor": "#E5ECF6",
           "caxis": {
            "gridcolor": "white",
            "linecolor": "white",
            "ticks": ""
           }
          },
          "title": {
           "x": 0.05
          },
          "xaxis": {
           "automargin": true,
           "gridcolor": "white",
           "linecolor": "white",
           "ticks": "",
           "title": {
            "standoff": 15
           },
           "zerolinecolor": "white",
           "zerolinewidth": 2
          },
          "yaxis": {
           "automargin": true,
           "gridcolor": "white",
           "linecolor": "white",
           "ticks": "",
           "title": {
            "standoff": 15
           },
           "zerolinecolor": "white",
           "zerolinewidth": 2
          }
         }
        },
        "xaxis": {
         "anchor": "y",
         "domain": [
          0,
          1
         ],
         "title": {
          "text": "Unemployment"
         }
        },
        "yaxis": {
         "anchor": "x",
         "domain": [
          0,
          1
         ],
         "title": {
          "text": "Weekly_Sales"
         }
        }
       }
      }
     },
     "metadata": {},
     "output_type": "display_data"
    }
   ],
   "source": [
    "# graph de l'impact du taux de chomage sur les ventes\n",
    "fig = px.scatter(df, x='Unemployment', y='Weekly_Sales', trendline='ols')\n",
    "fig.show()\n"
   ]
  },
  {
   "cell_type": "code",
   "execution_count": 47,
   "metadata": {},
   "outputs": [
    {
     "data": {
      "application/vnd.plotly.v1+json": {
       "config": {
        "plotlyServerURL": "https://plot.ly"
       },
       "data": [
        {
         "hovertemplate": "CPI=%{x}<br>Weekly_Sales=%{y}<extra></extra>",
         "legendgroup": "",
         "marker": {
          "color": "#636efa",
          "symbol": "circle"
         },
         "mode": "markers",
         "name": "",
         "orientation": "v",
         "showlegend": false,
         "type": "scatter",
         "x": [
          214.7775231,
          128.6160645,
          212.412888,
          126.1602258,
          134.85516130000002,
          213.0236225,
          null,
          219.07019680000005,
          132.7633548,
          192.826069,
          221.2118132,
          126.2346,
          211.8942725,
          null,
          null,
          189.7048215,
          216.5343611,
          138.9117,
          131.863129,
          138.0332,
          131.1083333,
          null,
          192.831317,
          126.5621,
          217.2706543,
          196.9195056,
          null,
          133.9587419,
          219.7414914,
          134.2784667,
          129.0663,
          218.5699621,
          137.9781333,
          198.1267184,
          194.3796374,
          211.24216980000003,
          220.275944,
          211.9270006,
          132.5218667,
          215.544618,
          197.4133259,
          130.95922579999998,
          211.6608975,
          214.8965756,
          184.9943679,
          130.7196333,
          129.5183333,
          214.9362793,
          212.8944846,
          189.8424834,
          185.9374378,
          130.6457931,
          224.0192873,
          129.8980645,
          132.6141935,
          214.4248812,
          null,
          126.7934,
          211.5673056,
          223.4257233,
          204.5675459,
          137.5843871,
          218.2205088,
          null,
          215.43728540000004,
          211.0648881,
          225.2351496,
          214.6564301,
          186.1399808,
          210.3374261,
          214.7492449,
          210.939388,
          126.1266,
          126.1392,
          214.7858259,
          219.355063,
          126.7934,
          225.3068615,
          132.5983871,
          null,
          214.62141890000004,
          132.2939355,
          204.6432267,
          138.1629,
          210.9451605,
          130.27922579999998,
          215.0614025,
          131.637,
          197.7227385,
          215.0166484,
          182.5983058,
          214.8785562,
          216.0464364,
          198.0950484,
          215.5037878,
          134.94254840000002,
          221.6432852,
          189.5231276,
          129.2015806,
          130.82619350000002,
          126.5461613,
          129.1507742,
          129.1125,
          217.0146941,
          197.5886046,
          212.5604113,
          null,
          214.4958382,
          226.9688442,
          182.4424199,
          126.1119032,
          219.0075249,
          137.9230667
         ],
         "xaxis": "x",
         "y": [
          1572117.54,
          1807545.43,
          1644470.66,
          1857533.7,
          695396.19,
          2203523.2,
          2600519.26,
          895066.5,
          1029618.1,
          414094.05,
          1677472.78,
          829207.27,
          1498080.16,
          1997397.63,
          2432736.52,
          561145.14,
          290930.01,
          1074079,
          1427023.45,
          1405007.44,
          919878.34,
          367438.62,
          435397.19,
          757738.76,
          1420405.41,
          563460.77,
          2077256.24,
          1266564.94,
          365248.94,
          988157.72,
          2008344.92,
          311906.7,
          961186.23,
          526525.16,
          629994.47,
          1641957.44,
          1861802.7,
          268929.03,
          1549018.68,
          1624383.75,
          485095.41,
          2035431.39,
          1916812.74,
          509263.28,
          1879451.23,
          1805999.79,
          1847430.96,
          888816.78,
          1532308.78,
          2020550.99,
          2095599.93,
          1990371.02,
          313358.15,
          2771397.17,
          1166117.85,
          461622.22,
          1588430.71,
          2461468.35,
          1449142.92,
          1508068.77,
          1973135.87,
          570611.23,
          1539483.7,
          1789687.65,
          519823.3,
          1758050.79,
          431985.36,
          485389.15,
          1953544.76,
          1494251.5,
          860336.16,
          298697.84,
          1768172.31,
          2018314.71,
          364076.85,
          1799520.14,
          2302504.86,
          419497.95,
          1366395.96,
          2095591.63,
          994801.4,
          1256282.79,
          1799737.79,
          1468350.36,
          2124451.54,
          1811606.21,
          1757242.51,
          660838.75,
          457340.06,
          513073.87,
          1864746.1,
          836707.85,
          275142.17,
          597876.55,
          1466046.67,
          1467473.63,
          398838.97,
          614253.33,
          1970341.38,
          2025582.62,
          855459.96,
          2036231.39,
          2066541.86,
          1639358.93,
          532739.77,
          301827.36,
          403342.4,
          396968.8,
          424513.08,
          2248645.59,
          845252.21,
          856796.1,
          1255087.26
         ],
         "yaxis": "y"
        },
        {
         "hovertemplate": "<b>OLS trendline</b><br>Weekly_Sales = -6004.08 * CPI + 2.31084e+06<br>R<sup>2</sup>=0.130010<br><br>CPI=%{x}<br>Weekly_Sales=%{y} <b>(trend)</b><extra></extra>",
         "legendgroup": "",
         "marker": {
          "color": "#636efa",
          "symbol": "circle"
         },
         "mode": "lines",
         "name": "",
         "showlegend": false,
         "type": "scatter",
         "x": [
          126.1119032,
          126.1266,
          126.1392,
          126.1602258,
          126.2346,
          126.5461613,
          126.5621,
          126.7934,
          126.7934,
          128.6160645,
          129.0663,
          129.1125,
          129.1507742,
          129.2015806,
          129.5183333,
          129.8980645,
          130.27922579999998,
          130.6457931,
          130.7196333,
          130.82619350000002,
          130.95922579999998,
          131.1083333,
          131.637,
          131.863129,
          132.2939355,
          132.5218667,
          132.5983871,
          132.6141935,
          132.7633548,
          133.9587419,
          134.2784667,
          134.85516130000002,
          134.94254840000002,
          137.5843871,
          137.9230667,
          137.9781333,
          138.0332,
          138.1629,
          138.9117,
          182.4424199,
          182.5983058,
          184.9943679,
          185.9374378,
          186.1399808,
          189.5231276,
          189.7048215,
          189.8424834,
          192.826069,
          192.831317,
          194.3796374,
          196.9195056,
          197.4133259,
          197.5886046,
          197.7227385,
          198.0950484,
          198.1267184,
          204.5675459,
          204.6432267,
          210.3374261,
          210.939388,
          210.9451605,
          211.0648881,
          211.24216980000003,
          211.5673056,
          211.6608975,
          211.8942725,
          211.9270006,
          212.412888,
          212.5604113,
          212.8944846,
          213.0236225,
          214.4248812,
          214.4958382,
          214.62141890000004,
          214.6564301,
          214.7492449,
          214.7775231,
          214.7858259,
          214.8785562,
          214.8965756,
          214.9362793,
          215.0166484,
          215.0614025,
          215.43728540000004,
          215.5037878,
          215.544618,
          216.0464364,
          216.5343611,
          217.0146941,
          217.2706543,
          218.2205088,
          218.5699621,
          219.0075249,
          219.07019680000005,
          219.355063,
          219.7414914,
          220.275944,
          221.2118132,
          221.6432852,
          223.4257233,
          224.0192873,
          225.2351496,
          225.3068615,
          226.9688442
         ],
         "xaxis": "x",
         "y": [
          1553657.0798367627,
          1553568.8390172985,
          1553493.187560842,
          1553366.9468947179,
          1552920.397961957,
          1551049.7577936645,
          1550954.0605024719,
          1549565.315908949,
          1549565.315908949,
          1538621.885428267,
          1535918.6337359315,
          1535641.2450622576,
          1535411.4435563283,
          1535106.3976708273,
          1533204.587901658,
          1530924.6499380087,
          1528636.1255340516,
          1526435.2247297396,
          1525991.881977752,
          1525352.0856023314,
          1524553.348518938,
          1523658.094586907,
          1520483.9353936482,
          1519126.2379176915,
          1516539.639570395,
          1515171.1215345315,
          1514711.6866370207,
          1514616.783686121,
          1513721.2067343793,
          1506544.0023578447,
          1504624.3478510776,
          1501161.825119283,
          1500637.1456438457,
          1484775.3245820845,
          1482741.8638668377,
          1482411.239383337,
          1482080.614299428,
          1481301.8846246335,
          1476806.0266409318,
          1215443.9344952411,
          1214507.98248127,
          1200121.8247332335,
          1194459.5539812255,
          1193243.4688268546,
          1172930.7717771556,
          1171839.8663672933,
          1171013.3327773274,
          1153099.6346739393,
          1153068.1252419166,
          1143771.879740223,
          1128522.2981102555,
          1125557.3596243195,
          1124504.9716131445,
          1123699.6204309864,
          1121464.2405747816,
          1121274.0912393865,
          1082602.8228933397,
          1082148.4290246258,
          1047959.9783925761,
          1044345.7486730258,
          1044311.0900990262,
          1043592.2355499752,
          1042527.821358857,
          1040575.6787544005,
          1040013.7451395169,
          1038612.5420720137,
          1038416.0398155013,
          1035498.7311263054,
          1034612.9888639029,
          1032607.1847600746,
          1031831.8299808099,
          1023418.5552564159,
          1022992.5234789725,
          1022238.5264267637,
          1022028.3162464234,
          1021471.0484050964,
          1021301.2637212893,
          1021251.4130139349,
          1020694.6525176929,
          1020586.4625292425,
          1020348.0781854559,
          1019865.5353704479,
          1019596.8280016065,
          1017339.9955538206,
          1016940.709568277,
          1016695.5616240378,
          1013682.6018750952,
          1010753.0610658801,
          1007869.101459997,
          1006332.2949580208,
          1000629.2888987525,
          998531.1419853768,
          995903.9782463934,
          995527.6909040201,
          993817.3303543988,
          991497.1818404177,
          988288.2836184357,
          982669.2464729757,
          980078.6524078799,
          969376.7446056113,
          965812.9365817893,
          958512.7973876963,
          958082.2331273579,
          948103.5496463629
         ],
         "yaxis": "y"
        }
       ],
       "layout": {
        "legend": {
         "tracegroupgap": 0
        },
        "margin": {
         "t": 60
        },
        "template": {
         "data": {
          "bar": [
           {
            "error_x": {
             "color": "#2a3f5f"
            },
            "error_y": {
             "color": "#2a3f5f"
            },
            "marker": {
             "line": {
              "color": "#E5ECF6",
              "width": 0.5
             },
             "pattern": {
              "fillmode": "overlay",
              "size": 10,
              "solidity": 0.2
             }
            },
            "type": "bar"
           }
          ],
          "barpolar": [
           {
            "marker": {
             "line": {
              "color": "#E5ECF6",
              "width": 0.5
             },
             "pattern": {
              "fillmode": "overlay",
              "size": 10,
              "solidity": 0.2
             }
            },
            "type": "barpolar"
           }
          ],
          "carpet": [
           {
            "aaxis": {
             "endlinecolor": "#2a3f5f",
             "gridcolor": "white",
             "linecolor": "white",
             "minorgridcolor": "white",
             "startlinecolor": "#2a3f5f"
            },
            "baxis": {
             "endlinecolor": "#2a3f5f",
             "gridcolor": "white",
             "linecolor": "white",
             "minorgridcolor": "white",
             "startlinecolor": "#2a3f5f"
            },
            "type": "carpet"
           }
          ],
          "choropleth": [
           {
            "colorbar": {
             "outlinewidth": 0,
             "ticks": ""
            },
            "type": "choropleth"
           }
          ],
          "contour": [
           {
            "colorbar": {
             "outlinewidth": 0,
             "ticks": ""
            },
            "colorscale": [
             [
              0,
              "#0d0887"
             ],
             [
              0.1111111111111111,
              "#46039f"
             ],
             [
              0.2222222222222222,
              "#7201a8"
             ],
             [
              0.3333333333333333,
              "#9c179e"
             ],
             [
              0.4444444444444444,
              "#bd3786"
             ],
             [
              0.5555555555555556,
              "#d8576b"
             ],
             [
              0.6666666666666666,
              "#ed7953"
             ],
             [
              0.7777777777777778,
              "#fb9f3a"
             ],
             [
              0.8888888888888888,
              "#fdca26"
             ],
             [
              1,
              "#f0f921"
             ]
            ],
            "type": "contour"
           }
          ],
          "contourcarpet": [
           {
            "colorbar": {
             "outlinewidth": 0,
             "ticks": ""
            },
            "type": "contourcarpet"
           }
          ],
          "heatmap": [
           {
            "colorbar": {
             "outlinewidth": 0,
             "ticks": ""
            },
            "colorscale": [
             [
              0,
              "#0d0887"
             ],
             [
              0.1111111111111111,
              "#46039f"
             ],
             [
              0.2222222222222222,
              "#7201a8"
             ],
             [
              0.3333333333333333,
              "#9c179e"
             ],
             [
              0.4444444444444444,
              "#bd3786"
             ],
             [
              0.5555555555555556,
              "#d8576b"
             ],
             [
              0.6666666666666666,
              "#ed7953"
             ],
             [
              0.7777777777777778,
              "#fb9f3a"
             ],
             [
              0.8888888888888888,
              "#fdca26"
             ],
             [
              1,
              "#f0f921"
             ]
            ],
            "type": "heatmap"
           }
          ],
          "heatmapgl": [
           {
            "colorbar": {
             "outlinewidth": 0,
             "ticks": ""
            },
            "colorscale": [
             [
              0,
              "#0d0887"
             ],
             [
              0.1111111111111111,
              "#46039f"
             ],
             [
              0.2222222222222222,
              "#7201a8"
             ],
             [
              0.3333333333333333,
              "#9c179e"
             ],
             [
              0.4444444444444444,
              "#bd3786"
             ],
             [
              0.5555555555555556,
              "#d8576b"
             ],
             [
              0.6666666666666666,
              "#ed7953"
             ],
             [
              0.7777777777777778,
              "#fb9f3a"
             ],
             [
              0.8888888888888888,
              "#fdca26"
             ],
             [
              1,
              "#f0f921"
             ]
            ],
            "type": "heatmapgl"
           }
          ],
          "histogram": [
           {
            "marker": {
             "pattern": {
              "fillmode": "overlay",
              "size": 10,
              "solidity": 0.2
             }
            },
            "type": "histogram"
           }
          ],
          "histogram2d": [
           {
            "colorbar": {
             "outlinewidth": 0,
             "ticks": ""
            },
            "colorscale": [
             [
              0,
              "#0d0887"
             ],
             [
              0.1111111111111111,
              "#46039f"
             ],
             [
              0.2222222222222222,
              "#7201a8"
             ],
             [
              0.3333333333333333,
              "#9c179e"
             ],
             [
              0.4444444444444444,
              "#bd3786"
             ],
             [
              0.5555555555555556,
              "#d8576b"
             ],
             [
              0.6666666666666666,
              "#ed7953"
             ],
             [
              0.7777777777777778,
              "#fb9f3a"
             ],
             [
              0.8888888888888888,
              "#fdca26"
             ],
             [
              1,
              "#f0f921"
             ]
            ],
            "type": "histogram2d"
           }
          ],
          "histogram2dcontour": [
           {
            "colorbar": {
             "outlinewidth": 0,
             "ticks": ""
            },
            "colorscale": [
             [
              0,
              "#0d0887"
             ],
             [
              0.1111111111111111,
              "#46039f"
             ],
             [
              0.2222222222222222,
              "#7201a8"
             ],
             [
              0.3333333333333333,
              "#9c179e"
             ],
             [
              0.4444444444444444,
              "#bd3786"
             ],
             [
              0.5555555555555556,
              "#d8576b"
             ],
             [
              0.6666666666666666,
              "#ed7953"
             ],
             [
              0.7777777777777778,
              "#fb9f3a"
             ],
             [
              0.8888888888888888,
              "#fdca26"
             ],
             [
              1,
              "#f0f921"
             ]
            ],
            "type": "histogram2dcontour"
           }
          ],
          "mesh3d": [
           {
            "colorbar": {
             "outlinewidth": 0,
             "ticks": ""
            },
            "type": "mesh3d"
           }
          ],
          "parcoords": [
           {
            "line": {
             "colorbar": {
              "outlinewidth": 0,
              "ticks": ""
             }
            },
            "type": "parcoords"
           }
          ],
          "pie": [
           {
            "automargin": true,
            "type": "pie"
           }
          ],
          "scatter": [
           {
            "fillpattern": {
             "fillmode": "overlay",
             "size": 10,
             "solidity": 0.2
            },
            "type": "scatter"
           }
          ],
          "scatter3d": [
           {
            "line": {
             "colorbar": {
              "outlinewidth": 0,
              "ticks": ""
             }
            },
            "marker": {
             "colorbar": {
              "outlinewidth": 0,
              "ticks": ""
             }
            },
            "type": "scatter3d"
           }
          ],
          "scattercarpet": [
           {
            "marker": {
             "colorbar": {
              "outlinewidth": 0,
              "ticks": ""
             }
            },
            "type": "scattercarpet"
           }
          ],
          "scattergeo": [
           {
            "marker": {
             "colorbar": {
              "outlinewidth": 0,
              "ticks": ""
             }
            },
            "type": "scattergeo"
           }
          ],
          "scattergl": [
           {
            "marker": {
             "colorbar": {
              "outlinewidth": 0,
              "ticks": ""
             }
            },
            "type": "scattergl"
           }
          ],
          "scattermapbox": [
           {
            "marker": {
             "colorbar": {
              "outlinewidth": 0,
              "ticks": ""
             }
            },
            "type": "scattermapbox"
           }
          ],
          "scatterpolar": [
           {
            "marker": {
             "colorbar": {
              "outlinewidth": 0,
              "ticks": ""
             }
            },
            "type": "scatterpolar"
           }
          ],
          "scatterpolargl": [
           {
            "marker": {
             "colorbar": {
              "outlinewidth": 0,
              "ticks": ""
             }
            },
            "type": "scatterpolargl"
           }
          ],
          "scatterternary": [
           {
            "marker": {
             "colorbar": {
              "outlinewidth": 0,
              "ticks": ""
             }
            },
            "type": "scatterternary"
           }
          ],
          "surface": [
           {
            "colorbar": {
             "outlinewidth": 0,
             "ticks": ""
            },
            "colorscale": [
             [
              0,
              "#0d0887"
             ],
             [
              0.1111111111111111,
              "#46039f"
             ],
             [
              0.2222222222222222,
              "#7201a8"
             ],
             [
              0.3333333333333333,
              "#9c179e"
             ],
             [
              0.4444444444444444,
              "#bd3786"
             ],
             [
              0.5555555555555556,
              "#d8576b"
             ],
             [
              0.6666666666666666,
              "#ed7953"
             ],
             [
              0.7777777777777778,
              "#fb9f3a"
             ],
             [
              0.8888888888888888,
              "#fdca26"
             ],
             [
              1,
              "#f0f921"
             ]
            ],
            "type": "surface"
           }
          ],
          "table": [
           {
            "cells": {
             "fill": {
              "color": "#EBF0F8"
             },
             "line": {
              "color": "white"
             }
            },
            "header": {
             "fill": {
              "color": "#C8D4E3"
             },
             "line": {
              "color": "white"
             }
            },
            "type": "table"
           }
          ]
         },
         "layout": {
          "annotationdefaults": {
           "arrowcolor": "#2a3f5f",
           "arrowhead": 0,
           "arrowwidth": 1
          },
          "autotypenumbers": "strict",
          "coloraxis": {
           "colorbar": {
            "outlinewidth": 0,
            "ticks": ""
           }
          },
          "colorscale": {
           "diverging": [
            [
             0,
             "#8e0152"
            ],
            [
             0.1,
             "#c51b7d"
            ],
            [
             0.2,
             "#de77ae"
            ],
            [
             0.3,
             "#f1b6da"
            ],
            [
             0.4,
             "#fde0ef"
            ],
            [
             0.5,
             "#f7f7f7"
            ],
            [
             0.6,
             "#e6f5d0"
            ],
            [
             0.7,
             "#b8e186"
            ],
            [
             0.8,
             "#7fbc41"
            ],
            [
             0.9,
             "#4d9221"
            ],
            [
             1,
             "#276419"
            ]
           ],
           "sequential": [
            [
             0,
             "#0d0887"
            ],
            [
             0.1111111111111111,
             "#46039f"
            ],
            [
             0.2222222222222222,
             "#7201a8"
            ],
            [
             0.3333333333333333,
             "#9c179e"
            ],
            [
             0.4444444444444444,
             "#bd3786"
            ],
            [
             0.5555555555555556,
             "#d8576b"
            ],
            [
             0.6666666666666666,
             "#ed7953"
            ],
            [
             0.7777777777777778,
             "#fb9f3a"
            ],
            [
             0.8888888888888888,
             "#fdca26"
            ],
            [
             1,
             "#f0f921"
            ]
           ],
           "sequentialminus": [
            [
             0,
             "#0d0887"
            ],
            [
             0.1111111111111111,
             "#46039f"
            ],
            [
             0.2222222222222222,
             "#7201a8"
            ],
            [
             0.3333333333333333,
             "#9c179e"
            ],
            [
             0.4444444444444444,
             "#bd3786"
            ],
            [
             0.5555555555555556,
             "#d8576b"
            ],
            [
             0.6666666666666666,
             "#ed7953"
            ],
            [
             0.7777777777777778,
             "#fb9f3a"
            ],
            [
             0.8888888888888888,
             "#fdca26"
            ],
            [
             1,
             "#f0f921"
            ]
           ]
          },
          "colorway": [
           "#636efa",
           "#EF553B",
           "#00cc96",
           "#ab63fa",
           "#FFA15A",
           "#19d3f3",
           "#FF6692",
           "#B6E880",
           "#FF97FF",
           "#FECB52"
          ],
          "font": {
           "color": "#2a3f5f"
          },
          "geo": {
           "bgcolor": "white",
           "lakecolor": "white",
           "landcolor": "#E5ECF6",
           "showlakes": true,
           "showland": true,
           "subunitcolor": "white"
          },
          "hoverlabel": {
           "align": "left"
          },
          "hovermode": "closest",
          "mapbox": {
           "style": "light"
          },
          "paper_bgcolor": "white",
          "plot_bgcolor": "#E5ECF6",
          "polar": {
           "angularaxis": {
            "gridcolor": "white",
            "linecolor": "white",
            "ticks": ""
           },
           "bgcolor": "#E5ECF6",
           "radialaxis": {
            "gridcolor": "white",
            "linecolor": "white",
            "ticks": ""
           }
          },
          "scene": {
           "xaxis": {
            "backgroundcolor": "#E5ECF6",
            "gridcolor": "white",
            "gridwidth": 2,
            "linecolor": "white",
            "showbackground": true,
            "ticks": "",
            "zerolinecolor": "white"
           },
           "yaxis": {
            "backgroundcolor": "#E5ECF6",
            "gridcolor": "white",
            "gridwidth": 2,
            "linecolor": "white",
            "showbackground": true,
            "ticks": "",
            "zerolinecolor": "white"
           },
           "zaxis": {
            "backgroundcolor": "#E5ECF6",
            "gridcolor": "white",
            "gridwidth": 2,
            "linecolor": "white",
            "showbackground": true,
            "ticks": "",
            "zerolinecolor": "white"
           }
          },
          "shapedefaults": {
           "line": {
            "color": "#2a3f5f"
           }
          },
          "ternary": {
           "aaxis": {
            "gridcolor": "white",
            "linecolor": "white",
            "ticks": ""
           },
           "baxis": {
            "gridcolor": "white",
            "linecolor": "white",
            "ticks": ""
           },
           "bgcolor": "#E5ECF6",
           "caxis": {
            "gridcolor": "white",
            "linecolor": "white",
            "ticks": ""
           }
          },
          "title": {
           "x": 0.05
          },
          "xaxis": {
           "automargin": true,
           "gridcolor": "white",
           "linecolor": "white",
           "ticks": "",
           "title": {
            "standoff": 15
           },
           "zerolinecolor": "white",
           "zerolinewidth": 2
          },
          "yaxis": {
           "automargin": true,
           "gridcolor": "white",
           "linecolor": "white",
           "ticks": "",
           "title": {
            "standoff": 15
           },
           "zerolinecolor": "white",
           "zerolinewidth": 2
          }
         }
        },
        "xaxis": {
         "anchor": "y",
         "domain": [
          0,
          1
         ],
         "title": {
          "text": "CPI"
         }
        },
        "yaxis": {
         "anchor": "x",
         "domain": [
          0,
          1
         ],
         "title": {
          "text": "Weekly_Sales"
         }
        }
       }
      }
     },
     "metadata": {},
     "output_type": "display_data"
    }
   ],
   "source": [
    "# graph de l'impact dde l'inflation sur les ventes\n",
    "fig = px.scatter(df, x='CPI', y='Weekly_Sales', trendline='ols')\n",
    "fig.show()"
   ]
  },
  {
   "cell_type": "code",
   "execution_count": 48,
   "metadata": {},
   "outputs": [
    {
     "data": {
      "application/vnd.plotly.v1+json": {
       "config": {
        "plotlyServerURL": "https://plot.ly"
       },
       "data": [
        {
         "hovertemplate": "Fuel_Price=%{x}<br>Weekly_Sales=%{y}<extra></extra>",
         "legendgroup": "",
         "marker": {
          "color": "#636efa",
          "symbol": "circle"
         },
         "mode": "markers",
         "name": "",
         "orientation": "v",
         "showlegend": false,
         "type": "scatter",
         "x": [
          3.045,
          3.435,
          2.759,
          2.756,
          4.069,
          3.617,
          3.109,
          3.554,
          2.878,
          3.767,
          3.734,
          2.853,
          2.78,
          2.85,
          null,
          2.725,
          3.899,
          4.029,
          2.963,
          4.124,
          3.797,
          3.261,
          3.828,
          2.915,
          3.523,
          3.103,
          null,
          3.789,
          3.467,
          3.823,
          3.57,
          3.297,
          4.023,
          3.659,
          3.485,
          2.548,
          3.555,
          2.64,
          2.958,
          3.684,
          3.75,
          3.788,
          2.728,
          2.653,
          3.625,
          3.666,
          3.648,
          2.619,
          2.64,
          3.695,
          4.046,
          3.882,
          3.594,
          3.149,
          2.792,
          2.572,
          3.139,
          2.817,
          2.619,
          3.594,
          2.8080000000000003,
          4.021,
          3.3080000000000003,
          null,
          2.7710000000000004,
          2.9760000000000004,
          3.688,
          2.642,
          3.76,
          2.854,
          null,
          null,
          null,
          2.814,
          2.637,
          null,
          2.86,
          3.346,
          2.932,
          null,
          2.548,
          2.906,
          3.179,
          3.722,
          2.514,
          null,
          2.735,
          2.909,
          3.936,
          2.637,
          3.193,
          2.582,
          3.682,
          3.596,
          3.786,
          null,
          3.3080000000000003,
          2.7110000000000003,
          3.606,
          3.529,
          2.8310000000000004,
          3.627,
          3.469,
          3.807,
          3.804,
          null,
          3.285,
          2.705,
          3.594,
          2.78,
          2.841,
          3.638,
          4.17
         ],
         "xaxis": "x",
         "y": [
          1572117.54,
          1807545.43,
          1644470.66,
          1857533.7,
          695396.19,
          2203523.2,
          2600519.26,
          895066.5,
          1029618.1,
          414094.05,
          1677472.78,
          829207.27,
          1498080.16,
          1997397.63,
          2432736.52,
          561145.14,
          290930.01,
          1074079,
          1427023.45,
          1405007.44,
          919878.34,
          367438.62,
          435397.19,
          757738.76,
          1420405.41,
          563460.77,
          2077256.24,
          1266564.94,
          365248.94,
          988157.72,
          2008344.92,
          311906.7,
          961186.23,
          526525.16,
          629994.47,
          1641957.44,
          1861802.7,
          268929.03,
          1549018.68,
          1624383.75,
          485095.41,
          2035431.39,
          1916812.74,
          509263.28,
          1879451.23,
          1805999.79,
          1847430.96,
          888816.78,
          1532308.78,
          2020550.99,
          2095599.93,
          1990371.02,
          313358.15,
          2771397.17,
          1166117.85,
          461622.22,
          1588430.71,
          2461468.35,
          1449142.92,
          1508068.77,
          1973135.87,
          570611.23,
          1539483.7,
          1789687.65,
          519823.3,
          1758050.79,
          431985.36,
          485389.15,
          1953544.76,
          1494251.5,
          860336.16,
          298697.84,
          1768172.31,
          2018314.71,
          364076.85,
          1799520.14,
          2302504.86,
          419497.95,
          1366395.96,
          2095591.63,
          994801.4,
          1256282.79,
          1799737.79,
          1468350.36,
          2124451.54,
          1811606.21,
          1757242.51,
          660838.75,
          457340.06,
          513073.87,
          1864746.1,
          836707.85,
          275142.17,
          597876.55,
          1466046.67,
          1467473.63,
          398838.97,
          614253.33,
          1970341.38,
          2025582.62,
          855459.96,
          2036231.39,
          2066541.86,
          1639358.93,
          532739.77,
          301827.36,
          403342.4,
          396968.8,
          424513.08,
          2248645.59,
          845252.21,
          856796.1,
          1255087.26
         ],
         "yaxis": "y"
        },
        {
         "hovertemplate": "<b>OLS trendline</b><br>Weekly_Sales = -30434.4 * Fuel_Price + 1.33998e+06<br>R<sup>2</sup>=0.000482<br><br>Fuel_Price=%{x}<br>Weekly_Sales=%{y} <b>(trend)</b><extra></extra>",
         "legendgroup": "",
         "marker": {
          "color": "#636efa",
          "symbol": "circle"
         },
         "mode": "lines",
         "name": "",
         "showlegend": false,
         "type": "scatter",
         "x": [
          2.514,
          2.548,
          2.548,
          2.572,
          2.582,
          2.619,
          2.619,
          2.637,
          2.637,
          2.64,
          2.64,
          2.642,
          2.653,
          2.705,
          2.7110000000000003,
          2.725,
          2.728,
          2.735,
          2.756,
          2.759,
          2.7710000000000004,
          2.78,
          2.78,
          2.792,
          2.8080000000000003,
          2.814,
          2.817,
          2.8310000000000004,
          2.841,
          2.85,
          2.853,
          2.854,
          2.86,
          2.878,
          2.906,
          2.909,
          2.915,
          2.932,
          2.958,
          2.963,
          2.9760000000000004,
          3.045,
          3.103,
          3.109,
          3.139,
          3.149,
          3.179,
          3.193,
          3.261,
          3.285,
          3.297,
          3.3080000000000003,
          3.3080000000000003,
          3.346,
          3.435,
          3.467,
          3.469,
          3.485,
          3.523,
          3.529,
          3.554,
          3.555,
          3.57,
          3.594,
          3.594,
          3.594,
          3.596,
          3.606,
          3.617,
          3.625,
          3.627,
          3.638,
          3.648,
          3.659,
          3.666,
          3.682,
          3.684,
          3.688,
          3.695,
          3.722,
          3.734,
          3.75,
          3.76,
          3.767,
          3.786,
          3.788,
          3.789,
          3.797,
          3.804,
          3.807,
          3.823,
          3.828,
          3.882,
          3.899,
          3.936,
          4.021,
          4.023,
          4.029,
          4.046,
          4.069,
          4.124,
          4.17
         ],
         "xaxis": "x",
         "y": [
          1263468.7830840796,
          1262434.0119495147,
          1262434.0119495147,
          1261703.5852662923,
          1261399.2408149499,
          1260273.166344982,
          1260273.166344982,
          1259725.3463325654,
          1259725.3463325654,
          1259634.0429971626,
          1259634.0429971626,
          1259573.174106894,
          1259238.3952104172,
          1257655.8040634356,
          1257473.19739263,
          1257047.1151607505,
          1256955.8118253476,
          1256742.7707094077,
          1256103.6473615882,
          1256012.3440261856,
          1255647.1306845744,
          1255373.220678366,
          1255373.220678366,
          1255008.0073367548,
          1254521.0562146066,
          1254338.4495438011,
          1254247.1462083983,
          1253821.0639765186,
          1253516.719525176,
          1253242.8095189678,
          1253151.506183565,
          1253121.0717384308,
          1252938.465067625,
          1252390.6450552084,
          1251538.480591449,
          1251447.1772560463,
          1251264.5705852406,
          1250747.1850179583,
          1249955.8894444676,
          1249803.7172187963,
          1249408.0694320507,
          1247308.0927177868,
          1245542.8948999995,
          1245360.288229194,
          1244447.254875166,
          1244142.9104238236,
          1243229.8770697957,
          1242803.794837916,
          1240734.2525687863,
          1240003.825885564,
          1239638.612543953,
          1239303.833647476,
          1239303.833647476,
          1238147.3247323742,
          1235438.6591154248,
          1234464.7568711285,
          1234403.88798086,
          1233916.9368587118,
          1232760.42794361,
          1232577.8212728044,
          1231816.9601444479,
          1231786.5256993135,
          1231330.0090222997,
          1230599.5823390773,
          1230599.5823390773,
          1230599.5823390773,
          1230538.7134488088,
          1230234.3689974663,
          1229899.5901009892,
          1229656.1145399152,
          1229595.2456496467,
          1229260.46675317,
          1228956.1223018272,
          1228621.3434053503,
          1228408.3022894105,
          1227921.3511672623,
          1227860.4822769938,
          1227738.7444964568,
          1227525.703380517,
          1226703.973361892,
          1226338.7600202807,
          1225851.8088981325,
          1225547.46444679,
          1225334.4233308502,
          1224756.1688732991,
          1224695.2999830307,
          1224664.8655378963,
          1224421.3899768223,
          1224208.3488608825,
          1224117.0455254796,
          1223630.0944033314,
          1223477.9221776603,
          1221834.46214041,
          1221317.0765731276,
          1220191.00210316,
          1217604.0742667478,
          1217543.2053764793,
          1217360.5987056736,
          1216843.2131383913,
          1216143.2209003032,
          1214469.3264179188,
          1213069.3419417427
         ],
         "yaxis": "y"
        }
       ],
       "layout": {
        "legend": {
         "tracegroupgap": 0
        },
        "margin": {
         "t": 60
        },
        "template": {
         "data": {
          "bar": [
           {
            "error_x": {
             "color": "#2a3f5f"
            },
            "error_y": {
             "color": "#2a3f5f"
            },
            "marker": {
             "line": {
              "color": "#E5ECF6",
              "width": 0.5
             },
             "pattern": {
              "fillmode": "overlay",
              "size": 10,
              "solidity": 0.2
             }
            },
            "type": "bar"
           }
          ],
          "barpolar": [
           {
            "marker": {
             "line": {
              "color": "#E5ECF6",
              "width": 0.5
             },
             "pattern": {
              "fillmode": "overlay",
              "size": 10,
              "solidity": 0.2
             }
            },
            "type": "barpolar"
           }
          ],
          "carpet": [
           {
            "aaxis": {
             "endlinecolor": "#2a3f5f",
             "gridcolor": "white",
             "linecolor": "white",
             "minorgridcolor": "white",
             "startlinecolor": "#2a3f5f"
            },
            "baxis": {
             "endlinecolor": "#2a3f5f",
             "gridcolor": "white",
             "linecolor": "white",
             "minorgridcolor": "white",
             "startlinecolor": "#2a3f5f"
            },
            "type": "carpet"
           }
          ],
          "choropleth": [
           {
            "colorbar": {
             "outlinewidth": 0,
             "ticks": ""
            },
            "type": "choropleth"
           }
          ],
          "contour": [
           {
            "colorbar": {
             "outlinewidth": 0,
             "ticks": ""
            },
            "colorscale": [
             [
              0,
              "#0d0887"
             ],
             [
              0.1111111111111111,
              "#46039f"
             ],
             [
              0.2222222222222222,
              "#7201a8"
             ],
             [
              0.3333333333333333,
              "#9c179e"
             ],
             [
              0.4444444444444444,
              "#bd3786"
             ],
             [
              0.5555555555555556,
              "#d8576b"
             ],
             [
              0.6666666666666666,
              "#ed7953"
             ],
             [
              0.7777777777777778,
              "#fb9f3a"
             ],
             [
              0.8888888888888888,
              "#fdca26"
             ],
             [
              1,
              "#f0f921"
             ]
            ],
            "type": "contour"
           }
          ],
          "contourcarpet": [
           {
            "colorbar": {
             "outlinewidth": 0,
             "ticks": ""
            },
            "type": "contourcarpet"
           }
          ],
          "heatmap": [
           {
            "colorbar": {
             "outlinewidth": 0,
             "ticks": ""
            },
            "colorscale": [
             [
              0,
              "#0d0887"
             ],
             [
              0.1111111111111111,
              "#46039f"
             ],
             [
              0.2222222222222222,
              "#7201a8"
             ],
             [
              0.3333333333333333,
              "#9c179e"
             ],
             [
              0.4444444444444444,
              "#bd3786"
             ],
             [
              0.5555555555555556,
              "#d8576b"
             ],
             [
              0.6666666666666666,
              "#ed7953"
             ],
             [
              0.7777777777777778,
              "#fb9f3a"
             ],
             [
              0.8888888888888888,
              "#fdca26"
             ],
             [
              1,
              "#f0f921"
             ]
            ],
            "type": "heatmap"
           }
          ],
          "heatmapgl": [
           {
            "colorbar": {
             "outlinewidth": 0,
             "ticks": ""
            },
            "colorscale": [
             [
              0,
              "#0d0887"
             ],
             [
              0.1111111111111111,
              "#46039f"
             ],
             [
              0.2222222222222222,
              "#7201a8"
             ],
             [
              0.3333333333333333,
              "#9c179e"
             ],
             [
              0.4444444444444444,
              "#bd3786"
             ],
             [
              0.5555555555555556,
              "#d8576b"
             ],
             [
              0.6666666666666666,
              "#ed7953"
             ],
             [
              0.7777777777777778,
              "#fb9f3a"
             ],
             [
              0.8888888888888888,
              "#fdca26"
             ],
             [
              1,
              "#f0f921"
             ]
            ],
            "type": "heatmapgl"
           }
          ],
          "histogram": [
           {
            "marker": {
             "pattern": {
              "fillmode": "overlay",
              "size": 10,
              "solidity": 0.2
             }
            },
            "type": "histogram"
           }
          ],
          "histogram2d": [
           {
            "colorbar": {
             "outlinewidth": 0,
             "ticks": ""
            },
            "colorscale": [
             [
              0,
              "#0d0887"
             ],
             [
              0.1111111111111111,
              "#46039f"
             ],
             [
              0.2222222222222222,
              "#7201a8"
             ],
             [
              0.3333333333333333,
              "#9c179e"
             ],
             [
              0.4444444444444444,
              "#bd3786"
             ],
             [
              0.5555555555555556,
              "#d8576b"
             ],
             [
              0.6666666666666666,
              "#ed7953"
             ],
             [
              0.7777777777777778,
              "#fb9f3a"
             ],
             [
              0.8888888888888888,
              "#fdca26"
             ],
             [
              1,
              "#f0f921"
             ]
            ],
            "type": "histogram2d"
           }
          ],
          "histogram2dcontour": [
           {
            "colorbar": {
             "outlinewidth": 0,
             "ticks": ""
            },
            "colorscale": [
             [
              0,
              "#0d0887"
             ],
             [
              0.1111111111111111,
              "#46039f"
             ],
             [
              0.2222222222222222,
              "#7201a8"
             ],
             [
              0.3333333333333333,
              "#9c179e"
             ],
             [
              0.4444444444444444,
              "#bd3786"
             ],
             [
              0.5555555555555556,
              "#d8576b"
             ],
             [
              0.6666666666666666,
              "#ed7953"
             ],
             [
              0.7777777777777778,
              "#fb9f3a"
             ],
             [
              0.8888888888888888,
              "#fdca26"
             ],
             [
              1,
              "#f0f921"
             ]
            ],
            "type": "histogram2dcontour"
           }
          ],
          "mesh3d": [
           {
            "colorbar": {
             "outlinewidth": 0,
             "ticks": ""
            },
            "type": "mesh3d"
           }
          ],
          "parcoords": [
           {
            "line": {
             "colorbar": {
              "outlinewidth": 0,
              "ticks": ""
             }
            },
            "type": "parcoords"
           }
          ],
          "pie": [
           {
            "automargin": true,
            "type": "pie"
           }
          ],
          "scatter": [
           {
            "fillpattern": {
             "fillmode": "overlay",
             "size": 10,
             "solidity": 0.2
            },
            "type": "scatter"
           }
          ],
          "scatter3d": [
           {
            "line": {
             "colorbar": {
              "outlinewidth": 0,
              "ticks": ""
             }
            },
            "marker": {
             "colorbar": {
              "outlinewidth": 0,
              "ticks": ""
             }
            },
            "type": "scatter3d"
           }
          ],
          "scattercarpet": [
           {
            "marker": {
             "colorbar": {
              "outlinewidth": 0,
              "ticks": ""
             }
            },
            "type": "scattercarpet"
           }
          ],
          "scattergeo": [
           {
            "marker": {
             "colorbar": {
              "outlinewidth": 0,
              "ticks": ""
             }
            },
            "type": "scattergeo"
           }
          ],
          "scattergl": [
           {
            "marker": {
             "colorbar": {
              "outlinewidth": 0,
              "ticks": ""
             }
            },
            "type": "scattergl"
           }
          ],
          "scattermapbox": [
           {
            "marker": {
             "colorbar": {
              "outlinewidth": 0,
              "ticks": ""
             }
            },
            "type": "scattermapbox"
           }
          ],
          "scatterpolar": [
           {
            "marker": {
             "colorbar": {
              "outlinewidth": 0,
              "ticks": ""
             }
            },
            "type": "scatterpolar"
           }
          ],
          "scatterpolargl": [
           {
            "marker": {
             "colorbar": {
              "outlinewidth": 0,
              "ticks": ""
             }
            },
            "type": "scatterpolargl"
           }
          ],
          "scatterternary": [
           {
            "marker": {
             "colorbar": {
              "outlinewidth": 0,
              "ticks": ""
             }
            },
            "type": "scatterternary"
           }
          ],
          "surface": [
           {
            "colorbar": {
             "outlinewidth": 0,
             "ticks": ""
            },
            "colorscale": [
             [
              0,
              "#0d0887"
             ],
             [
              0.1111111111111111,
              "#46039f"
             ],
             [
              0.2222222222222222,
              "#7201a8"
             ],
             [
              0.3333333333333333,
              "#9c179e"
             ],
             [
              0.4444444444444444,
              "#bd3786"
             ],
             [
              0.5555555555555556,
              "#d8576b"
             ],
             [
              0.6666666666666666,
              "#ed7953"
             ],
             [
              0.7777777777777778,
              "#fb9f3a"
             ],
             [
              0.8888888888888888,
              "#fdca26"
             ],
             [
              1,
              "#f0f921"
             ]
            ],
            "type": "surface"
           }
          ],
          "table": [
           {
            "cells": {
             "fill": {
              "color": "#EBF0F8"
             },
             "line": {
              "color": "white"
             }
            },
            "header": {
             "fill": {
              "color": "#C8D4E3"
             },
             "line": {
              "color": "white"
             }
            },
            "type": "table"
           }
          ]
         },
         "layout": {
          "annotationdefaults": {
           "arrowcolor": "#2a3f5f",
           "arrowhead": 0,
           "arrowwidth": 1
          },
          "autotypenumbers": "strict",
          "coloraxis": {
           "colorbar": {
            "outlinewidth": 0,
            "ticks": ""
           }
          },
          "colorscale": {
           "diverging": [
            [
             0,
             "#8e0152"
            ],
            [
             0.1,
             "#c51b7d"
            ],
            [
             0.2,
             "#de77ae"
            ],
            [
             0.3,
             "#f1b6da"
            ],
            [
             0.4,
             "#fde0ef"
            ],
            [
             0.5,
             "#f7f7f7"
            ],
            [
             0.6,
             "#e6f5d0"
            ],
            [
             0.7,
             "#b8e186"
            ],
            [
             0.8,
             "#7fbc41"
            ],
            [
             0.9,
             "#4d9221"
            ],
            [
             1,
             "#276419"
            ]
           ],
           "sequential": [
            [
             0,
             "#0d0887"
            ],
            [
             0.1111111111111111,
             "#46039f"
            ],
            [
             0.2222222222222222,
             "#7201a8"
            ],
            [
             0.3333333333333333,
             "#9c179e"
            ],
            [
             0.4444444444444444,
             "#bd3786"
            ],
            [
             0.5555555555555556,
             "#d8576b"
            ],
            [
             0.6666666666666666,
             "#ed7953"
            ],
            [
             0.7777777777777778,
             "#fb9f3a"
            ],
            [
             0.8888888888888888,
             "#fdca26"
            ],
            [
             1,
             "#f0f921"
            ]
           ],
           "sequentialminus": [
            [
             0,
             "#0d0887"
            ],
            [
             0.1111111111111111,
             "#46039f"
            ],
            [
             0.2222222222222222,
             "#7201a8"
            ],
            [
             0.3333333333333333,
             "#9c179e"
            ],
            [
             0.4444444444444444,
             "#bd3786"
            ],
            [
             0.5555555555555556,
             "#d8576b"
            ],
            [
             0.6666666666666666,
             "#ed7953"
            ],
            [
             0.7777777777777778,
             "#fb9f3a"
            ],
            [
             0.8888888888888888,
             "#fdca26"
            ],
            [
             1,
             "#f0f921"
            ]
           ]
          },
          "colorway": [
           "#636efa",
           "#EF553B",
           "#00cc96",
           "#ab63fa",
           "#FFA15A",
           "#19d3f3",
           "#FF6692",
           "#B6E880",
           "#FF97FF",
           "#FECB52"
          ],
          "font": {
           "color": "#2a3f5f"
          },
          "geo": {
           "bgcolor": "white",
           "lakecolor": "white",
           "landcolor": "#E5ECF6",
           "showlakes": true,
           "showland": true,
           "subunitcolor": "white"
          },
          "hoverlabel": {
           "align": "left"
          },
          "hovermode": "closest",
          "mapbox": {
           "style": "light"
          },
          "paper_bgcolor": "white",
          "plot_bgcolor": "#E5ECF6",
          "polar": {
           "angularaxis": {
            "gridcolor": "white",
            "linecolor": "white",
            "ticks": ""
           },
           "bgcolor": "#E5ECF6",
           "radialaxis": {
            "gridcolor": "white",
            "linecolor": "white",
            "ticks": ""
           }
          },
          "scene": {
           "xaxis": {
            "backgroundcolor": "#E5ECF6",
            "gridcolor": "white",
            "gridwidth": 2,
            "linecolor": "white",
            "showbackground": true,
            "ticks": "",
            "zerolinecolor": "white"
           },
           "yaxis": {
            "backgroundcolor": "#E5ECF6",
            "gridcolor": "white",
            "gridwidth": 2,
            "linecolor": "white",
            "showbackground": true,
            "ticks": "",
            "zerolinecolor": "white"
           },
           "zaxis": {
            "backgroundcolor": "#E5ECF6",
            "gridcolor": "white",
            "gridwidth": 2,
            "linecolor": "white",
            "showbackground": true,
            "ticks": "",
            "zerolinecolor": "white"
           }
          },
          "shapedefaults": {
           "line": {
            "color": "#2a3f5f"
           }
          },
          "ternary": {
           "aaxis": {
            "gridcolor": "white",
            "linecolor": "white",
            "ticks": ""
           },
           "baxis": {
            "gridcolor": "white",
            "linecolor": "white",
            "ticks": ""
           },
           "bgcolor": "#E5ECF6",
           "caxis": {
            "gridcolor": "white",
            "linecolor": "white",
            "ticks": ""
           }
          },
          "title": {
           "x": 0.05
          },
          "xaxis": {
           "automargin": true,
           "gridcolor": "white",
           "linecolor": "white",
           "ticks": "",
           "title": {
            "standoff": 15
           },
           "zerolinecolor": "white",
           "zerolinewidth": 2
          },
          "yaxis": {
           "automargin": true,
           "gridcolor": "white",
           "linecolor": "white",
           "ticks": "",
           "title": {
            "standoff": 15
           },
           "zerolinecolor": "white",
           "zerolinewidth": 2
          }
         }
        },
        "xaxis": {
         "anchor": "y",
         "domain": [
          0,
          1
         ],
         "title": {
          "text": "Fuel_Price"
         }
        },
        "yaxis": {
         "anchor": "x",
         "domain": [
          0,
          1
         ],
         "title": {
          "text": "Weekly_Sales"
         }
        }
       }
      }
     },
     "metadata": {},
     "output_type": "display_data"
    }
   ],
   "source": [
    "#Graph de l'impact du prix du fuel sur les ventes\n",
    "fig = px.scatter(df, x='Fuel_Price', y='Weekly_Sales', trendline='ols')\n",
    "fig.show()"
   ]
  },
  {
   "cell_type": "code",
   "execution_count": 49,
   "metadata": {},
   "outputs": [
    {
     "data": {
      "application/vnd.plotly.v1+json": {
       "config": {
        "plotlyServerURL": "https://plot.ly"
       },
       "data": [
        {
         "alignmentgroup": "True",
         "hovertemplate": "Year=%{x}<br>Weekly_Sales=%{y}<extra></extra>",
         "legendgroup": "",
         "marker": {
          "color": "#636efa",
          "pattern": {
           "shape": ""
          }
         },
         "name": "",
         "offsetgroup": "",
         "orientation": "v",
         "showlegend": false,
         "textposition": "auto",
         "type": "bar",
         "x": [
          2010,
          2011,
          2012
         ],
         "xaxis": "x",
         "y": [
          62178544.449999996,
          45448108.42,
          35591216.59
         ],
         "yaxis": "y"
        }
       ],
       "layout": {
        "barmode": "relative",
        "legend": {
         "tracegroupgap": 0
        },
        "margin": {
         "t": 60
        },
        "template": {
         "data": {
          "bar": [
           {
            "error_x": {
             "color": "#2a3f5f"
            },
            "error_y": {
             "color": "#2a3f5f"
            },
            "marker": {
             "line": {
              "color": "#E5ECF6",
              "width": 0.5
             },
             "pattern": {
              "fillmode": "overlay",
              "size": 10,
              "solidity": 0.2
             }
            },
            "type": "bar"
           }
          ],
          "barpolar": [
           {
            "marker": {
             "line": {
              "color": "#E5ECF6",
              "width": 0.5
             },
             "pattern": {
              "fillmode": "overlay",
              "size": 10,
              "solidity": 0.2
             }
            },
            "type": "barpolar"
           }
          ],
          "carpet": [
           {
            "aaxis": {
             "endlinecolor": "#2a3f5f",
             "gridcolor": "white",
             "linecolor": "white",
             "minorgridcolor": "white",
             "startlinecolor": "#2a3f5f"
            },
            "baxis": {
             "endlinecolor": "#2a3f5f",
             "gridcolor": "white",
             "linecolor": "white",
             "minorgridcolor": "white",
             "startlinecolor": "#2a3f5f"
            },
            "type": "carpet"
           }
          ],
          "choropleth": [
           {
            "colorbar": {
             "outlinewidth": 0,
             "ticks": ""
            },
            "type": "choropleth"
           }
          ],
          "contour": [
           {
            "colorbar": {
             "outlinewidth": 0,
             "ticks": ""
            },
            "colorscale": [
             [
              0,
              "#0d0887"
             ],
             [
              0.1111111111111111,
              "#46039f"
             ],
             [
              0.2222222222222222,
              "#7201a8"
             ],
             [
              0.3333333333333333,
              "#9c179e"
             ],
             [
              0.4444444444444444,
              "#bd3786"
             ],
             [
              0.5555555555555556,
              "#d8576b"
             ],
             [
              0.6666666666666666,
              "#ed7953"
             ],
             [
              0.7777777777777778,
              "#fb9f3a"
             ],
             [
              0.8888888888888888,
              "#fdca26"
             ],
             [
              1,
              "#f0f921"
             ]
            ],
            "type": "contour"
           }
          ],
          "contourcarpet": [
           {
            "colorbar": {
             "outlinewidth": 0,
             "ticks": ""
            },
            "type": "contourcarpet"
           }
          ],
          "heatmap": [
           {
            "colorbar": {
             "outlinewidth": 0,
             "ticks": ""
            },
            "colorscale": [
             [
              0,
              "#0d0887"
             ],
             [
              0.1111111111111111,
              "#46039f"
             ],
             [
              0.2222222222222222,
              "#7201a8"
             ],
             [
              0.3333333333333333,
              "#9c179e"
             ],
             [
              0.4444444444444444,
              "#bd3786"
             ],
             [
              0.5555555555555556,
              "#d8576b"
             ],
             [
              0.6666666666666666,
              "#ed7953"
             ],
             [
              0.7777777777777778,
              "#fb9f3a"
             ],
             [
              0.8888888888888888,
              "#fdca26"
             ],
             [
              1,
              "#f0f921"
             ]
            ],
            "type": "heatmap"
           }
          ],
          "heatmapgl": [
           {
            "colorbar": {
             "outlinewidth": 0,
             "ticks": ""
            },
            "colorscale": [
             [
              0,
              "#0d0887"
             ],
             [
              0.1111111111111111,
              "#46039f"
             ],
             [
              0.2222222222222222,
              "#7201a8"
             ],
             [
              0.3333333333333333,
              "#9c179e"
             ],
             [
              0.4444444444444444,
              "#bd3786"
             ],
             [
              0.5555555555555556,
              "#d8576b"
             ],
             [
              0.6666666666666666,
              "#ed7953"
             ],
             [
              0.7777777777777778,
              "#fb9f3a"
             ],
             [
              0.8888888888888888,
              "#fdca26"
             ],
             [
              1,
              "#f0f921"
             ]
            ],
            "type": "heatmapgl"
           }
          ],
          "histogram": [
           {
            "marker": {
             "pattern": {
              "fillmode": "overlay",
              "size": 10,
              "solidity": 0.2
             }
            },
            "type": "histogram"
           }
          ],
          "histogram2d": [
           {
            "colorbar": {
             "outlinewidth": 0,
             "ticks": ""
            },
            "colorscale": [
             [
              0,
              "#0d0887"
             ],
             [
              0.1111111111111111,
              "#46039f"
             ],
             [
              0.2222222222222222,
              "#7201a8"
             ],
             [
              0.3333333333333333,
              "#9c179e"
             ],
             [
              0.4444444444444444,
              "#bd3786"
             ],
             [
              0.5555555555555556,
              "#d8576b"
             ],
             [
              0.6666666666666666,
              "#ed7953"
             ],
             [
              0.7777777777777778,
              "#fb9f3a"
             ],
             [
              0.8888888888888888,
              "#fdca26"
             ],
             [
              1,
              "#f0f921"
             ]
            ],
            "type": "histogram2d"
           }
          ],
          "histogram2dcontour": [
           {
            "colorbar": {
             "outlinewidth": 0,
             "ticks": ""
            },
            "colorscale": [
             [
              0,
              "#0d0887"
             ],
             [
              0.1111111111111111,
              "#46039f"
             ],
             [
              0.2222222222222222,
              "#7201a8"
             ],
             [
              0.3333333333333333,
              "#9c179e"
             ],
             [
              0.4444444444444444,
              "#bd3786"
             ],
             [
              0.5555555555555556,
              "#d8576b"
             ],
             [
              0.6666666666666666,
              "#ed7953"
             ],
             [
              0.7777777777777778,
              "#fb9f3a"
             ],
             [
              0.8888888888888888,
              "#fdca26"
             ],
             [
              1,
              "#f0f921"
             ]
            ],
            "type": "histogram2dcontour"
           }
          ],
          "mesh3d": [
           {
            "colorbar": {
             "outlinewidth": 0,
             "ticks": ""
            },
            "type": "mesh3d"
           }
          ],
          "parcoords": [
           {
            "line": {
             "colorbar": {
              "outlinewidth": 0,
              "ticks": ""
             }
            },
            "type": "parcoords"
           }
          ],
          "pie": [
           {
            "automargin": true,
            "type": "pie"
           }
          ],
          "scatter": [
           {
            "fillpattern": {
             "fillmode": "overlay",
             "size": 10,
             "solidity": 0.2
            },
            "type": "scatter"
           }
          ],
          "scatter3d": [
           {
            "line": {
             "colorbar": {
              "outlinewidth": 0,
              "ticks": ""
             }
            },
            "marker": {
             "colorbar": {
              "outlinewidth": 0,
              "ticks": ""
             }
            },
            "type": "scatter3d"
           }
          ],
          "scattercarpet": [
           {
            "marker": {
             "colorbar": {
              "outlinewidth": 0,
              "ticks": ""
             }
            },
            "type": "scattercarpet"
           }
          ],
          "scattergeo": [
           {
            "marker": {
             "colorbar": {
              "outlinewidth": 0,
              "ticks": ""
             }
            },
            "type": "scattergeo"
           }
          ],
          "scattergl": [
           {
            "marker": {
             "colorbar": {
              "outlinewidth": 0,
              "ticks": ""
             }
            },
            "type": "scattergl"
           }
          ],
          "scattermapbox": [
           {
            "marker": {
             "colorbar": {
              "outlinewidth": 0,
              "ticks": ""
             }
            },
            "type": "scattermapbox"
           }
          ],
          "scatterpolar": [
           {
            "marker": {
             "colorbar": {
              "outlinewidth": 0,
              "ticks": ""
             }
            },
            "type": "scatterpolar"
           }
          ],
          "scatterpolargl": [
           {
            "marker": {
             "colorbar": {
              "outlinewidth": 0,
              "ticks": ""
             }
            },
            "type": "scatterpolargl"
           }
          ],
          "scatterternary": [
           {
            "marker": {
             "colorbar": {
              "outlinewidth": 0,
              "ticks": ""
             }
            },
            "type": "scatterternary"
           }
          ],
          "surface": [
           {
            "colorbar": {
             "outlinewidth": 0,
             "ticks": ""
            },
            "colorscale": [
             [
              0,
              "#0d0887"
             ],
             [
              0.1111111111111111,
              "#46039f"
             ],
             [
              0.2222222222222222,
              "#7201a8"
             ],
             [
              0.3333333333333333,
              "#9c179e"
             ],
             [
              0.4444444444444444,
              "#bd3786"
             ],
             [
              0.5555555555555556,
              "#d8576b"
             ],
             [
              0.6666666666666666,
              "#ed7953"
             ],
             [
              0.7777777777777778,
              "#fb9f3a"
             ],
             [
              0.8888888888888888,
              "#fdca26"
             ],
             [
              1,
              "#f0f921"
             ]
            ],
            "type": "surface"
           }
          ],
          "table": [
           {
            "cells": {
             "fill": {
              "color": "#EBF0F8"
             },
             "line": {
              "color": "white"
             }
            },
            "header": {
             "fill": {
              "color": "#C8D4E3"
             },
             "line": {
              "color": "white"
             }
            },
            "type": "table"
           }
          ]
         },
         "layout": {
          "annotationdefaults": {
           "arrowcolor": "#2a3f5f",
           "arrowhead": 0,
           "arrowwidth": 1
          },
          "autotypenumbers": "strict",
          "coloraxis": {
           "colorbar": {
            "outlinewidth": 0,
            "ticks": ""
           }
          },
          "colorscale": {
           "diverging": [
            [
             0,
             "#8e0152"
            ],
            [
             0.1,
             "#c51b7d"
            ],
            [
             0.2,
             "#de77ae"
            ],
            [
             0.3,
             "#f1b6da"
            ],
            [
             0.4,
             "#fde0ef"
            ],
            [
             0.5,
             "#f7f7f7"
            ],
            [
             0.6,
             "#e6f5d0"
            ],
            [
             0.7,
             "#b8e186"
            ],
            [
             0.8,
             "#7fbc41"
            ],
            [
             0.9,
             "#4d9221"
            ],
            [
             1,
             "#276419"
            ]
           ],
           "sequential": [
            [
             0,
             "#0d0887"
            ],
            [
             0.1111111111111111,
             "#46039f"
            ],
            [
             0.2222222222222222,
             "#7201a8"
            ],
            [
             0.3333333333333333,
             "#9c179e"
            ],
            [
             0.4444444444444444,
             "#bd3786"
            ],
            [
             0.5555555555555556,
             "#d8576b"
            ],
            [
             0.6666666666666666,
             "#ed7953"
            ],
            [
             0.7777777777777778,
             "#fb9f3a"
            ],
            [
             0.8888888888888888,
             "#fdca26"
            ],
            [
             1,
             "#f0f921"
            ]
           ],
           "sequentialminus": [
            [
             0,
             "#0d0887"
            ],
            [
             0.1111111111111111,
             "#46039f"
            ],
            [
             0.2222222222222222,
             "#7201a8"
            ],
            [
             0.3333333333333333,
             "#9c179e"
            ],
            [
             0.4444444444444444,
             "#bd3786"
            ],
            [
             0.5555555555555556,
             "#d8576b"
            ],
            [
             0.6666666666666666,
             "#ed7953"
            ],
            [
             0.7777777777777778,
             "#fb9f3a"
            ],
            [
             0.8888888888888888,
             "#fdca26"
            ],
            [
             1,
             "#f0f921"
            ]
           ]
          },
          "colorway": [
           "#636efa",
           "#EF553B",
           "#00cc96",
           "#ab63fa",
           "#FFA15A",
           "#19d3f3",
           "#FF6692",
           "#B6E880",
           "#FF97FF",
           "#FECB52"
          ],
          "font": {
           "color": "#2a3f5f"
          },
          "geo": {
           "bgcolor": "white",
           "lakecolor": "white",
           "landcolor": "#E5ECF6",
           "showlakes": true,
           "showland": true,
           "subunitcolor": "white"
          },
          "hoverlabel": {
           "align": "left"
          },
          "hovermode": "closest",
          "mapbox": {
           "style": "light"
          },
          "paper_bgcolor": "white",
          "plot_bgcolor": "#E5ECF6",
          "polar": {
           "angularaxis": {
            "gridcolor": "white",
            "linecolor": "white",
            "ticks": ""
           },
           "bgcolor": "#E5ECF6",
           "radialaxis": {
            "gridcolor": "white",
            "linecolor": "white",
            "ticks": ""
           }
          },
          "scene": {
           "xaxis": {
            "backgroundcolor": "#E5ECF6",
            "gridcolor": "white",
            "gridwidth": 2,
            "linecolor": "white",
            "showbackground": true,
            "ticks": "",
            "zerolinecolor": "white"
           },
           "yaxis": {
            "backgroundcolor": "#E5ECF6",
            "gridcolor": "white",
            "gridwidth": 2,
            "linecolor": "white",
            "showbackground": true,
            "ticks": "",
            "zerolinecolor": "white"
           },
           "zaxis": {
            "backgroundcolor": "#E5ECF6",
            "gridcolor": "white",
            "gridwidth": 2,
            "linecolor": "white",
            "showbackground": true,
            "ticks": "",
            "zerolinecolor": "white"
           }
          },
          "shapedefaults": {
           "line": {
            "color": "#2a3f5f"
           }
          },
          "ternary": {
           "aaxis": {
            "gridcolor": "white",
            "linecolor": "white",
            "ticks": ""
           },
           "baxis": {
            "gridcolor": "white",
            "linecolor": "white",
            "ticks": ""
           },
           "bgcolor": "#E5ECF6",
           "caxis": {
            "gridcolor": "white",
            "linecolor": "white",
            "ticks": ""
           }
          },
          "title": {
           "x": 0.05
          },
          "xaxis": {
           "automargin": true,
           "gridcolor": "white",
           "linecolor": "white",
           "ticks": "",
           "title": {
            "standoff": 15
           },
           "zerolinecolor": "white",
           "zerolinewidth": 2
          },
          "yaxis": {
           "automargin": true,
           "gridcolor": "white",
           "linecolor": "white",
           "ticks": "",
           "title": {
            "standoff": 15
           },
           "zerolinecolor": "white",
           "zerolinewidth": 2
          }
         }
        },
        "xaxis": {
         "anchor": "y",
         "domain": [
          0,
          1
         ],
         "title": {
          "text": "Year"
         }
        },
        "yaxis": {
         "anchor": "x",
         "domain": [
          0,
          1
         ],
         "title": {
          "text": "Weekly_Sales"
         }
        }
       }
      }
     },
     "metadata": {},
     "output_type": "display_data"
    }
   ],
   "source": [
    "#graph montant des ventes par année\n",
    "fig = px.bar(df.groupby('Year')['Weekly_Sales'].sum().reset_index(), x='Year', y='Weekly_Sales')\n",
    "fig.show()\n"
   ]
  },
  {
   "cell_type": "code",
   "execution_count": 50,
   "metadata": {},
   "outputs": [
    {
     "data": {
      "application/vnd.plotly.v1+json": {
       "config": {
        "plotlyServerURL": "https://plot.ly"
       },
       "data": [
        {
         "alignmentgroup": "True",
         "hovertemplate": "Month=%{x}<br>Weekly_Sales=%{y}<extra></extra>",
         "legendgroup": "",
         "marker": {
          "color": "#636efa",
          "pattern": {
           "shape": ""
          }
         },
         "name": "",
         "offsetgroup": "",
         "orientation": "v",
         "showlegend": false,
         "textposition": "auto",
         "type": "bar",
         "x": [
          1,
          2,
          3,
          4,
          5,
          6,
          7,
          8,
          9,
          10,
          11,
          12
         ],
         "xaxis": "x",
         "y": [
          7601361.86,
          18277974.42,
          13990054.27,
          8416792.1,
          13324339.07,
          16713083.219999999,
          15972069.61,
          12898462.79,
          5963477.11,
          6502065.11,
          7601395.24,
          15956794.66
         ],
         "yaxis": "y"
        }
       ],
       "layout": {
        "barmode": "relative",
        "legend": {
         "tracegroupgap": 0
        },
        "margin": {
         "t": 60
        },
        "template": {
         "data": {
          "bar": [
           {
            "error_x": {
             "color": "#2a3f5f"
            },
            "error_y": {
             "color": "#2a3f5f"
            },
            "marker": {
             "line": {
              "color": "#E5ECF6",
              "width": 0.5
             },
             "pattern": {
              "fillmode": "overlay",
              "size": 10,
              "solidity": 0.2
             }
            },
            "type": "bar"
           }
          ],
          "barpolar": [
           {
            "marker": {
             "line": {
              "color": "#E5ECF6",
              "width": 0.5
             },
             "pattern": {
              "fillmode": "overlay",
              "size": 10,
              "solidity": 0.2
             }
            },
            "type": "barpolar"
           }
          ],
          "carpet": [
           {
            "aaxis": {
             "endlinecolor": "#2a3f5f",
             "gridcolor": "white",
             "linecolor": "white",
             "minorgridcolor": "white",
             "startlinecolor": "#2a3f5f"
            },
            "baxis": {
             "endlinecolor": "#2a3f5f",
             "gridcolor": "white",
             "linecolor": "white",
             "minorgridcolor": "white",
             "startlinecolor": "#2a3f5f"
            },
            "type": "carpet"
           }
          ],
          "choropleth": [
           {
            "colorbar": {
             "outlinewidth": 0,
             "ticks": ""
            },
            "type": "choropleth"
           }
          ],
          "contour": [
           {
            "colorbar": {
             "outlinewidth": 0,
             "ticks": ""
            },
            "colorscale": [
             [
              0,
              "#0d0887"
             ],
             [
              0.1111111111111111,
              "#46039f"
             ],
             [
              0.2222222222222222,
              "#7201a8"
             ],
             [
              0.3333333333333333,
              "#9c179e"
             ],
             [
              0.4444444444444444,
              "#bd3786"
             ],
             [
              0.5555555555555556,
              "#d8576b"
             ],
             [
              0.6666666666666666,
              "#ed7953"
             ],
             [
              0.7777777777777778,
              "#fb9f3a"
             ],
             [
              0.8888888888888888,
              "#fdca26"
             ],
             [
              1,
              "#f0f921"
             ]
            ],
            "type": "contour"
           }
          ],
          "contourcarpet": [
           {
            "colorbar": {
             "outlinewidth": 0,
             "ticks": ""
            },
            "type": "contourcarpet"
           }
          ],
          "heatmap": [
           {
            "colorbar": {
             "outlinewidth": 0,
             "ticks": ""
            },
            "colorscale": [
             [
              0,
              "#0d0887"
             ],
             [
              0.1111111111111111,
              "#46039f"
             ],
             [
              0.2222222222222222,
              "#7201a8"
             ],
             [
              0.3333333333333333,
              "#9c179e"
             ],
             [
              0.4444444444444444,
              "#bd3786"
             ],
             [
              0.5555555555555556,
              "#d8576b"
             ],
             [
              0.6666666666666666,
              "#ed7953"
             ],
             [
              0.7777777777777778,
              "#fb9f3a"
             ],
             [
              0.8888888888888888,
              "#fdca26"
             ],
             [
              1,
              "#f0f921"
             ]
            ],
            "type": "heatmap"
           }
          ],
          "heatmapgl": [
           {
            "colorbar": {
             "outlinewidth": 0,
             "ticks": ""
            },
            "colorscale": [
             [
              0,
              "#0d0887"
             ],
             [
              0.1111111111111111,
              "#46039f"
             ],
             [
              0.2222222222222222,
              "#7201a8"
             ],
             [
              0.3333333333333333,
              "#9c179e"
             ],
             [
              0.4444444444444444,
              "#bd3786"
             ],
             [
              0.5555555555555556,
              "#d8576b"
             ],
             [
              0.6666666666666666,
              "#ed7953"
             ],
             [
              0.7777777777777778,
              "#fb9f3a"
             ],
             [
              0.8888888888888888,
              "#fdca26"
             ],
             [
              1,
              "#f0f921"
             ]
            ],
            "type": "heatmapgl"
           }
          ],
          "histogram": [
           {
            "marker": {
             "pattern": {
              "fillmode": "overlay",
              "size": 10,
              "solidity": 0.2
             }
            },
            "type": "histogram"
           }
          ],
          "histogram2d": [
           {
            "colorbar": {
             "outlinewidth": 0,
             "ticks": ""
            },
            "colorscale": [
             [
              0,
              "#0d0887"
             ],
             [
              0.1111111111111111,
              "#46039f"
             ],
             [
              0.2222222222222222,
              "#7201a8"
             ],
             [
              0.3333333333333333,
              "#9c179e"
             ],
             [
              0.4444444444444444,
              "#bd3786"
             ],
             [
              0.5555555555555556,
              "#d8576b"
             ],
             [
              0.6666666666666666,
              "#ed7953"
             ],
             [
              0.7777777777777778,
              "#fb9f3a"
             ],
             [
              0.8888888888888888,
              "#fdca26"
             ],
             [
              1,
              "#f0f921"
             ]
            ],
            "type": "histogram2d"
           }
          ],
          "histogram2dcontour": [
           {
            "colorbar": {
             "outlinewidth": 0,
             "ticks": ""
            },
            "colorscale": [
             [
              0,
              "#0d0887"
             ],
             [
              0.1111111111111111,
              "#46039f"
             ],
             [
              0.2222222222222222,
              "#7201a8"
             ],
             [
              0.3333333333333333,
              "#9c179e"
             ],
             [
              0.4444444444444444,
              "#bd3786"
             ],
             [
              0.5555555555555556,
              "#d8576b"
             ],
             [
              0.6666666666666666,
              "#ed7953"
             ],
             [
              0.7777777777777778,
              "#fb9f3a"
             ],
             [
              0.8888888888888888,
              "#fdca26"
             ],
             [
              1,
              "#f0f921"
             ]
            ],
            "type": "histogram2dcontour"
           }
          ],
          "mesh3d": [
           {
            "colorbar": {
             "outlinewidth": 0,
             "ticks": ""
            },
            "type": "mesh3d"
           }
          ],
          "parcoords": [
           {
            "line": {
             "colorbar": {
              "outlinewidth": 0,
              "ticks": ""
             }
            },
            "type": "parcoords"
           }
          ],
          "pie": [
           {
            "automargin": true,
            "type": "pie"
           }
          ],
          "scatter": [
           {
            "fillpattern": {
             "fillmode": "overlay",
             "size": 10,
             "solidity": 0.2
            },
            "type": "scatter"
           }
          ],
          "scatter3d": [
           {
            "line": {
             "colorbar": {
              "outlinewidth": 0,
              "ticks": ""
             }
            },
            "marker": {
             "colorbar": {
              "outlinewidth": 0,
              "ticks": ""
             }
            },
            "type": "scatter3d"
           }
          ],
          "scattercarpet": [
           {
            "marker": {
             "colorbar": {
              "outlinewidth": 0,
              "ticks": ""
             }
            },
            "type": "scattercarpet"
           }
          ],
          "scattergeo": [
           {
            "marker": {
             "colorbar": {
              "outlinewidth": 0,
              "ticks": ""
             }
            },
            "type": "scattergeo"
           }
          ],
          "scattergl": [
           {
            "marker": {
             "colorbar": {
              "outlinewidth": 0,
              "ticks": ""
             }
            },
            "type": "scattergl"
           }
          ],
          "scattermapbox": [
           {
            "marker": {
             "colorbar": {
              "outlinewidth": 0,
              "ticks": ""
             }
            },
            "type": "scattermapbox"
           }
          ],
          "scatterpolar": [
           {
            "marker": {
             "colorbar": {
              "outlinewidth": 0,
              "ticks": ""
             }
            },
            "type": "scatterpolar"
           }
          ],
          "scatterpolargl": [
           {
            "marker": {
             "colorbar": {
              "outlinewidth": 0,
              "ticks": ""
             }
            },
            "type": "scatterpolargl"
           }
          ],
          "scatterternary": [
           {
            "marker": {
             "colorbar": {
              "outlinewidth": 0,
              "ticks": ""
             }
            },
            "type": "scatterternary"
           }
          ],
          "surface": [
           {
            "colorbar": {
             "outlinewidth": 0,
             "ticks": ""
            },
            "colorscale": [
             [
              0,
              "#0d0887"
             ],
             [
              0.1111111111111111,
              "#46039f"
             ],
             [
              0.2222222222222222,
              "#7201a8"
             ],
             [
              0.3333333333333333,
              "#9c179e"
             ],
             [
              0.4444444444444444,
              "#bd3786"
             ],
             [
              0.5555555555555556,
              "#d8576b"
             ],
             [
              0.6666666666666666,
              "#ed7953"
             ],
             [
              0.7777777777777778,
              "#fb9f3a"
             ],
             [
              0.8888888888888888,
              "#fdca26"
             ],
             [
              1,
              "#f0f921"
             ]
            ],
            "type": "surface"
           }
          ],
          "table": [
           {
            "cells": {
             "fill": {
              "color": "#EBF0F8"
             },
             "line": {
              "color": "white"
             }
            },
            "header": {
             "fill": {
              "color": "#C8D4E3"
             },
             "line": {
              "color": "white"
             }
            },
            "type": "table"
           }
          ]
         },
         "layout": {
          "annotationdefaults": {
           "arrowcolor": "#2a3f5f",
           "arrowhead": 0,
           "arrowwidth": 1
          },
          "autotypenumbers": "strict",
          "coloraxis": {
           "colorbar": {
            "outlinewidth": 0,
            "ticks": ""
           }
          },
          "colorscale": {
           "diverging": [
            [
             0,
             "#8e0152"
            ],
            [
             0.1,
             "#c51b7d"
            ],
            [
             0.2,
             "#de77ae"
            ],
            [
             0.3,
             "#f1b6da"
            ],
            [
             0.4,
             "#fde0ef"
            ],
            [
             0.5,
             "#f7f7f7"
            ],
            [
             0.6,
             "#e6f5d0"
            ],
            [
             0.7,
             "#b8e186"
            ],
            [
             0.8,
             "#7fbc41"
            ],
            [
             0.9,
             "#4d9221"
            ],
            [
             1,
             "#276419"
            ]
           ],
           "sequential": [
            [
             0,
             "#0d0887"
            ],
            [
             0.1111111111111111,
             "#46039f"
            ],
            [
             0.2222222222222222,
             "#7201a8"
            ],
            [
             0.3333333333333333,
             "#9c179e"
            ],
            [
             0.4444444444444444,
             "#bd3786"
            ],
            [
             0.5555555555555556,
             "#d8576b"
            ],
            [
             0.6666666666666666,
             "#ed7953"
            ],
            [
             0.7777777777777778,
             "#fb9f3a"
            ],
            [
             0.8888888888888888,
             "#fdca26"
            ],
            [
             1,
             "#f0f921"
            ]
           ],
           "sequentialminus": [
            [
             0,
             "#0d0887"
            ],
            [
             0.1111111111111111,
             "#46039f"
            ],
            [
             0.2222222222222222,
             "#7201a8"
            ],
            [
             0.3333333333333333,
             "#9c179e"
            ],
            [
             0.4444444444444444,
             "#bd3786"
            ],
            [
             0.5555555555555556,
             "#d8576b"
            ],
            [
             0.6666666666666666,
             "#ed7953"
            ],
            [
             0.7777777777777778,
             "#fb9f3a"
            ],
            [
             0.8888888888888888,
             "#fdca26"
            ],
            [
             1,
             "#f0f921"
            ]
           ]
          },
          "colorway": [
           "#636efa",
           "#EF553B",
           "#00cc96",
           "#ab63fa",
           "#FFA15A",
           "#19d3f3",
           "#FF6692",
           "#B6E880",
           "#FF97FF",
           "#FECB52"
          ],
          "font": {
           "color": "#2a3f5f"
          },
          "geo": {
           "bgcolor": "white",
           "lakecolor": "white",
           "landcolor": "#E5ECF6",
           "showlakes": true,
           "showland": true,
           "subunitcolor": "white"
          },
          "hoverlabel": {
           "align": "left"
          },
          "hovermode": "closest",
          "mapbox": {
           "style": "light"
          },
          "paper_bgcolor": "white",
          "plot_bgcolor": "#E5ECF6",
          "polar": {
           "angularaxis": {
            "gridcolor": "white",
            "linecolor": "white",
            "ticks": ""
           },
           "bgcolor": "#E5ECF6",
           "radialaxis": {
            "gridcolor": "white",
            "linecolor": "white",
            "ticks": ""
           }
          },
          "scene": {
           "xaxis": {
            "backgroundcolor": "#E5ECF6",
            "gridcolor": "white",
            "gridwidth": 2,
            "linecolor": "white",
            "showbackground": true,
            "ticks": "",
            "zerolinecolor": "white"
           },
           "yaxis": {
            "backgroundcolor": "#E5ECF6",
            "gridcolor": "white",
            "gridwidth": 2,
            "linecolor": "white",
            "showbackground": true,
            "ticks": "",
            "zerolinecolor": "white"
           },
           "zaxis": {
            "backgroundcolor": "#E5ECF6",
            "gridcolor": "white",
            "gridwidth": 2,
            "linecolor": "white",
            "showbackground": true,
            "ticks": "",
            "zerolinecolor": "white"
           }
          },
          "shapedefaults": {
           "line": {
            "color": "#2a3f5f"
           }
          },
          "ternary": {
           "aaxis": {
            "gridcolor": "white",
            "linecolor": "white",
            "ticks": ""
           },
           "baxis": {
            "gridcolor": "white",
            "linecolor": "white",
            "ticks": ""
           },
           "bgcolor": "#E5ECF6",
           "caxis": {
            "gridcolor": "white",
            "linecolor": "white",
            "ticks": ""
           }
          },
          "title": {
           "x": 0.05
          },
          "xaxis": {
           "automargin": true,
           "gridcolor": "white",
           "linecolor": "white",
           "ticks": "",
           "title": {
            "standoff": 15
           },
           "zerolinecolor": "white",
           "zerolinewidth": 2
          },
          "yaxis": {
           "automargin": true,
           "gridcolor": "white",
           "linecolor": "white",
           "ticks": "",
           "title": {
            "standoff": 15
           },
           "zerolinecolor": "white",
           "zerolinewidth": 2
          }
         }
        },
        "xaxis": {
         "anchor": "y",
         "domain": [
          0,
          1
         ],
         "title": {
          "text": "Month"
         }
        },
        "yaxis": {
         "anchor": "x",
         "domain": [
          0,
          1
         ],
         "title": {
          "text": "Weekly_Sales"
         }
        }
       }
      }
     },
     "metadata": {},
     "output_type": "display_data"
    }
   ],
   "source": [
    "#graph montant des ventes par mois\n",
    "fig = px.bar(df.groupby('Month')['Weekly_Sales'].sum().reset_index(), x='Month', y='Weekly_Sales')\n",
    "fig.show()"
   ]
  },
  {
   "cell_type": "markdown",
   "metadata": {},
   "source": [
    "PRE PROCESSING"
   ]
  },
  {
   "cell_type": "code",
   "execution_count": 52,
   "metadata": {},
   "outputs": [
    {
     "name": "stdout",
     "output_type": "stream",
     "text": [
      "Separating labels from features...\n"
     ]
    }
   ],
   "source": [
    "# Separate target variable Y from features X\n",
    "print(\"Separating labels from features...\")\n",
    "target_variable = \"Weekly_Sales\"\n",
    "\n",
    "X = df.drop(target_variable, axis = 1)\n",
    "Y = df.loc[:, target_variable]"
   ]
  },
  {
   "cell_type": "code",
   "execution_count": 81,
   "metadata": {},
   "outputs": [],
   "source": [
    "# Remplacement des NaN par la moyenne par Store pour Temperature et Fuel_Price\n",
    "for col in ['Temperature', 'Fuel_Price']:\n",
    "    X[col] = X.groupby('Store')[col].transform(lambda x: x.fillna(x.mean()))\n",
    "\n",
    "X_train, X_test, Y_train, Y_test = train_test_split(X, Y, test_size=0.2, random_state=0)\n",
    "\n",
    "numeric_features = ['Day', 'Month', 'Year', 'CPI', 'Unemployment']\n",
    "special_features = ['Temperature', 'Fuel_Price']\n",
    "categorical_features = ['Store', 'Holiday_Flag']\n",
    "\n",
    "numeric_transformer = Pipeline(steps=[\n",
    "    ('imputer', SimpleImputer(strategy='mean')),\n",
    "    ('scaler', StandardScaler())\n",
    "])\n",
    "\n",
    "special_transformer = Pipeline(steps=[\n",
    "    ('scaler', StandardScaler())\n",
    "])\n",
    "\n",
    "categorical_transformer = Pipeline(steps=[\n",
    "    ('imputer', SimpleImputer(strategy='most_frequent')),\n",
    "    ('encoder', OneHotEncoder(drop='first'))\n",
    "])\n",
    "\n",
    "preprocessor = ColumnTransformer(\n",
    "    transformers=[\n",
    "        ('num', numeric_transformer, numeric_features),\n",
    "        ('special', special_transformer, special_features),\n",
    "        ('cat', categorical_transformer, categorical_features)\n",
    "    ])\n",
    "\n",
    "X_train = preprocessor.fit_transform(X_train)\n",
    "X_test = preprocessor.transform(X_test)"
   ]
  },
  {
   "cell_type": "code",
   "execution_count": 109,
   "metadata": {},
   "outputs": [
    {
     "name": "stdout",
     "output_type": "stream",
     "text": [
      "Train model...\n",
      "...Done.\n",
      "Predictions on training set...\n",
      "...Done.\n",
      "[ 355479.56861685 1159346.90405919 1403039.49221897 2066863.58616534\n",
      " 1925765.82798506 1993340.25350217 2170778.68196777 1583907.04996371\n",
      "  608234.74404722 2435413.84784752 1425017.43269192 2050458.19438805\n",
      " 1963020.57139294 1988580.20845454 1292929.96804843 1894979.92249855\n",
      "  577876.9912371  1356675.24231989 1370353.10875379  922125.07782542\n",
      " 2118573.21239598  330023.76712427 1976491.63835358  363314.0773656\n",
      " 1650434.02693033 1846981.22975911 2037727.01524297 2047699.24878152\n",
      " 2074795.82468615  683702.23939525  606385.99993958 1151770.91785922\n",
      "  370550.90300884  403385.82595278 1538509.07898754 1983767.4458496\n",
      " 2427628.41990218  429905.20014556 1620383.5913399  1560492.51184586\n",
      "  508064.11730152  317297.93021119  403643.65878733 1491528.49941411\n",
      "  756784.10201676  411450.42238104 1994189.90022409 2162549.04629507\n",
      " 1757242.51        455001.62966197  944594.51310338 1480619.11228554\n",
      " 2168980.24462973  138757.56818403 1399913.28958962  951420.00373841\n",
      " 2007648.05832394  749774.38153047  822787.81229579 1984907.28774924\n",
      " 1535453.02430843  919963.28111502  921265.051772    572396.15626136\n",
      " 1782051.69164642  320552.99310789  521602.03330553  248577.15642609\n",
      " 1102191.5012398  1966882.22872047 1980722.04046763 2192162.23419966\n",
      " 1519831.90722598 1861248.20333081 1547213.24505595 1543216.33613117\n",
      "  857587.92685535  473957.29830024  898881.28254043  665266.93936765\n",
      " 1796015.27075939  416884.69733483 1362882.42779623  516025.04115312\n",
      " 1487722.53509264 2082387.05687615  540475.45766175  618520.7037214\n",
      "  959118.06404877 1989329.34760438]\n",
      "\n",
      "Predictions on test set...\n",
      "...Done.\n",
      "[ 378434.9262536  1439208.53112662 1610263.64973443  882160.33481902\n",
      "  467036.84319288 1108436.20055574 2062198.58117078 2316439.3934927\n",
      " 2054873.89282565 1557575.21453423 1029514.94842001 2045531.68806318\n",
      " 1120031.60638901  607697.48000837  466273.46117053   79503.65530793\n",
      "  612246.41204381  168732.14634922 1811123.04670738  487776.41568401\n",
      " 1924306.22110956  472762.50180452 2069778.86919786]\n",
      "\n",
      "R2 score on training set :  0.9727215539002302\n",
      "R2 score on test set :  0.9396484787972459\n"
     ]
    }
   ],
   "source": [
    "# Train model\n",
    "print(\"Train model...\")\n",
    "regressor = LinearRegression()\n",
    "regressor.fit(X_train, Y_train)\n",
    "print(\"...Done.\")\n",
    "# Predictions on training set\n",
    "print(\"Predictions on training set...\")\n",
    "Y_train_pred = regressor.predict(X_train)\n",
    "print(\"...Done.\")\n",
    "print(Y_train_pred)\n",
    "print()\n",
    "# Predictions on test set\n",
    "print(\"Predictions on test set...\")\n",
    "Y_test_pred = regressor.predict(X_test)\n",
    "print(\"...Done.\")\n",
    "print(Y_test_pred)\n",
    "print()\n",
    "# Print R^2 scores\n",
    "print(\"R2 score on training set : \", r2_score(Y_train, Y_train_pred))\n",
    "print(\"R2 score on test set : \", r2_score(Y_test, Y_test_pred))"
   ]
  },
  {
   "cell_type": "code",
   "execution_count": null,
   "metadata": {},
   "outputs": [],
   "source": []
  },
  {
   "cell_type": "code",
   "execution_count": null,
   "metadata": {},
   "outputs": [],
   "source": []
  },
  {
   "cell_type": "code",
   "execution_count": null,
   "metadata": {},
   "outputs": [],
   "source": []
  },
  {
   "cell_type": "code",
   "execution_count": null,
   "metadata": {},
   "outputs": [],
   "source": []
  },
  {
   "cell_type": "code",
   "execution_count": null,
   "metadata": {},
   "outputs": [],
   "source": []
  },
  {
   "cell_type": "code",
   "execution_count": null,
   "metadata": {},
   "outputs": [],
   "source": []
  },
  {
   "cell_type": "code",
   "execution_count": 110,
   "metadata": {},
   "outputs": [
    {
     "name": "stdout",
     "output_type": "stream",
     "text": [
      "Separating labels from features...\n",
      "...Done.\n",
      "\n",
      "Y : \n",
      "0    1572117.54\n",
      "1    1807545.43\n",
      "4    1644470.66\n",
      "5    1857533.70\n",
      "6     695396.19\n",
      "Name: Weekly_Sales, dtype: float64\n",
      "\n",
      "X :\n",
      "   Store  Holiday_Flag  Temperature  Fuel_Price      CPI     Unemployment  \\\n",
      "0   6.0        0.0         15.3         3.045    214.777523      6.858      \n",
      "1  13.0        0.0          5.8         3.435    128.616064      7.470      \n",
      "4   6.0        0.0         26.0         2.759    212.412888      7.092      \n",
      "5   4.0        0.0          NaN         2.756    126.160226      7.896      \n",
      "6  15.0        0.0         21.0         4.069    134.855161      7.658      \n",
      "\n",
      "    Year   Month   Day  \n",
      "0  2011.0   2.0   18.0  \n",
      "1  2011.0   3.0   25.0  \n",
      "4  2010.0   5.0   28.0  \n",
      "5  2010.0   5.0   28.0  \n",
      "6  2011.0   6.0    3.0  \n"
     ]
    }
   ],
   "source": [
    "# Separate target variable Y from features X\n",
    "print(\"Separating labels from features...\")\n",
    "target_variable = \"Weekly_Sales\"\n",
    "\n",
    "X = df.drop(target_variable, axis = 1)\n",
    "Y = df.loc[:, target_variable]\n",
    "\n",
    "print(\"...Done.\")\n",
    "print()\n",
    "\n",
    "print('Y : ')\n",
    "print(Y.head())\n",
    "print()\n",
    "print('X :')\n",
    "print(X.head())"
   ]
  },
  {
   "cell_type": "code",
   "execution_count": 111,
   "metadata": {},
   "outputs": [
    {
     "name": "stdout",
     "output_type": "stream",
     "text": [
      "Dividing into train and test sets...\n",
      "...Done.\n",
      "\n"
     ]
    }
   ],
   "source": [
    "# Divide dataset Train set & Test set \n",
    "print(\"Dividing into train and test sets...\")\n",
    "X_train, X_test, Y_train, Y_test = train_test_split(X, Y, test_size=0.2, random_state=0)\n",
    "print(\"...Done.\")\n",
    "print()"
   ]
  },
  {
   "cell_type": "code",
   "execution_count": 112,
   "metadata": {},
   "outputs": [],
   "source": [
    "# Distinguish numeric and categorical features:\n",
    "numeric_features = ['Day', 'Month', 'Year', 'Temperature', 'Fuel_Price', 'CPI', 'Unemployment']\n",
    "categorical_features = ['Store', 'Holiday_Flag']"
   ]
  },
  {
   "cell_type": "code",
   "execution_count": 113,
   "metadata": {},
   "outputs": [],
   "source": [
    "# Create pipeline for numeric features\n",
    "numeric_transformer = Pipeline(steps=[\n",
    "    ('imputer', SimpleImputer(strategy='mean')), # missing values will be replaced by columns' mean\n",
    "    ('scaler', StandardScaler())\n",
    "])"
   ]
  },
  {
   "cell_type": "code",
   "execution_count": 114,
   "metadata": {},
   "outputs": [],
   "source": [
    "# Create pipeline for categorical features\n",
    "categorical_transformer = Pipeline(steps=[\n",
    "    ('imputer', SimpleImputer(strategy='most_frequent')), # missing values will be replaced by most frequent value\n",
    "    ('encoder', OneHotEncoder(drop='first')) # first column will be dropped to avoid creating correlations between features\n",
    "    ])"
   ]
  },
  {
   "cell_type": "code",
   "execution_count": 115,
   "metadata": {},
   "outputs": [],
   "source": [
    "# Use ColumnTransformer to make a preprocessor object that describes all the treatments to be done\n",
    "preprocessor = ColumnTransformer(\n",
    "    transformers=[\n",
    "        ('num', numeric_transformer, numeric_features),\n",
    "        ('cat', categorical_transformer, categorical_features)\n",
    "    ])"
   ]
  },
  {
   "cell_type": "code",
   "execution_count": 116,
   "metadata": {},
   "outputs": [
    {
     "name": "stdout",
     "output_type": "stream",
     "text": [
      "Performing preprocessings on train set...\n",
      "...Done.\n",
      "[[ 1.01737744e+00 -2.76032796e-02 -1.05558715e+00  1.53350011e+00\n",
      "  -1.36747759e+00  9.86281451e-01 -9.67330408e-16  0.00000000e+00\n",
      "   0.00000000e+00  0.00000000e+00  0.00000000e+00  0.00000000e+00\n",
      "   0.00000000e+00  0.00000000e+00  1.00000000e+00  0.00000000e+00\n",
      "   0.00000000e+00  0.00000000e+00  0.00000000e+00  0.00000000e+00\n",
      "   0.00000000e+00  0.00000000e+00  0.00000000e+00  0.00000000e+00\n",
      "   0.00000000e+00  0.00000000e+00]\n",
      " [-1.61052027e-01  1.21454430e+00 -1.05558715e+00 -4.18941855e-01\n",
      "  -8.77527971e-01 -1.15855666e+00  2.08608974e+00  0.00000000e+00\n",
      "   0.00000000e+00  0.00000000e+00  0.00000000e+00  0.00000000e+00\n",
      "   0.00000000e+00  0.00000000e+00  0.00000000e+00  0.00000000e+00\n",
      "   0.00000000e+00  0.00000000e+00  0.00000000e+00  0.00000000e+00\n",
      "   0.00000000e+00  0.00000000e+00  1.00000000e+00  0.00000000e+00\n",
      "   0.00000000e+00  0.00000000e+00]\n",
      " [ 1.60659218e+00  2.82933616e-01 -1.05558715e+00  8.11945472e-01\n",
      "  -7.59940063e-01 -1.16286465e+00  7.44297327e-01  0.00000000e+00\n",
      "   0.00000000e+00  0.00000000e+00  0.00000000e+00  0.00000000e+00\n",
      "   0.00000000e+00  0.00000000e+00  0.00000000e+00  0.00000000e+00\n",
      "   0.00000000e+00  0.00000000e+00  0.00000000e+00  0.00000000e+00\n",
      "   0.00000000e+00  0.00000000e+00  0.00000000e+00  1.00000000e+00\n",
      "   0.00000000e+00  0.00000000e+00]\n",
      " [ 1.72443512e+00  1.83561809e+00 -1.05558715e+00 -1.77716235e+00\n",
      "  -2.22084258e-01  7.18524102e-01  7.44902393e-02  0.00000000e+00\n",
      "   0.00000000e+00  0.00000000e+00  0.00000000e+00  0.00000000e+00\n",
      "   0.00000000e+00  0.00000000e+00  0.00000000e+00  0.00000000e+00\n",
      "   0.00000000e+00  0.00000000e+00  0.00000000e+00  0.00000000e+00\n",
      "   0.00000000e+00  0.00000000e+00  0.00000000e+00  0.00000000e+00\n",
      "   1.00000000e+00  1.00000000e+00]\n",
      " [ 1.01737744e+00 -2.76032796e-02 -1.05558715e+00  9.49889741e-01\n",
      "  -1.02995674e+00  7.16547763e-01  4.79641844e-01  0.00000000e+00\n",
      "   0.00000000e+00  0.00000000e+00  0.00000000e+00  0.00000000e+00\n",
      "   0.00000000e+00  0.00000000e+00  0.00000000e+00  0.00000000e+00\n",
      "   0.00000000e+00  0.00000000e+00  0.00000000e+00  0.00000000e+00\n",
      "   0.00000000e+00  0.00000000e+00  0.00000000e+00  0.00000000e+00\n",
      "   1.00000000e+00  0.00000000e+00]]\n",
      "\n",
      "Performing preprocessings on test set...\n",
      "...Done.\n",
      "[[-5.14580868e-01  1.52508120e+00 -1.05558715e+00  1.96501808e-01\n",
      "  -9.67028174e-16  9.25274539e-01 -7.05317688e-01  0.00000000e+00\n",
      "   0.00000000e+00  0.00000000e+00  1.00000000e+00  0.00000000e+00\n",
      "   0.00000000e+00  0.00000000e+00  0.00000000e+00  0.00000000e+00\n",
      "   0.00000000e+00  0.00000000e+00  0.00000000e+00  0.00000000e+00\n",
      "   0.00000000e+00  0.00000000e+00  0.00000000e+00  0.00000000e+00\n",
      "   0.00000000e+00  0.00000000e+00]\n",
      " [-4.32090805e-02 -9.59213966e-01  1.41201918e+00  3.34446078e-01\n",
      "   9.86458135e-01  1.15119843e+00 -7.36297022e-02  0.00000000e+00\n",
      "   0.00000000e+00  0.00000000e+00  0.00000000e+00  0.00000000e+00\n",
      "   0.00000000e+00  0.00000000e+00  0.00000000e+00  0.00000000e+00\n",
      "   0.00000000e+00  0.00000000e+00  0.00000000e+00  0.00000000e+00\n",
      "   0.00000000e+00  0.00000000e+00  0.00000000e+00  0.00000000e+00\n",
      "   0.00000000e+00  0.00000000e+00]\n",
      " [ 1.13522039e+00  5.93470511e-01  1.78216013e-01  1.88490959e-16\n",
      "   5.26994270e-01  1.04827847e+00 -5.34326285e-01  0.00000000e+00\n",
      "   0.00000000e+00  0.00000000e+00  0.00000000e+00  1.00000000e+00\n",
      "   0.00000000e+00  0.00000000e+00  0.00000000e+00  0.00000000e+00\n",
      "   0.00000000e+00  0.00000000e+00  0.00000000e+00  0.00000000e+00\n",
      "   0.00000000e+00  0.00000000e+00  0.00000000e+00  0.00000000e+00\n",
      "   0.00000000e+00  0.00000000e+00]\n",
      " [ 3.10319760e-01  5.93470511e-01  1.78216013e-01  1.40616694e+00\n",
      "   5.94498440e-01  1.09527196e+00 -1.07888489e+00  0.00000000e+00\n",
      "   0.00000000e+00  0.00000000e+00  0.00000000e+00  0.00000000e+00\n",
      "   0.00000000e+00  1.00000000e+00  0.00000000e+00  0.00000000e+00\n",
      "   0.00000000e+00  0.00000000e+00  0.00000000e+00  0.00000000e+00\n",
      "   0.00000000e+00  0.00000000e+00  0.00000000e+00  0.00000000e+00\n",
      "   0.00000000e+00  0.00000000e+00]\n",
      " [ 3.10319760e-01  1.21454430e+00  1.41201918e+00  8.43778765e-01\n",
      "   6.81600595e-01  1.30153832e+00 -1.50472972e+00  0.00000000e+00\n",
      "   1.00000000e+00  0.00000000e+00  0.00000000e+00  0.00000000e+00\n",
      "   0.00000000e+00  0.00000000e+00  0.00000000e+00  0.00000000e+00\n",
      "   0.00000000e+00  0.00000000e+00  0.00000000e+00  0.00000000e+00\n",
      "   0.00000000e+00  0.00000000e+00  0.00000000e+00  0.00000000e+00\n",
      "   0.00000000e+00  0.00000000e+00]]\n",
      "\n"
     ]
    }
   ],
   "source": [
    "# Preprocessings on train set\n",
    "print(\"Performing preprocessings on train set...\")\n",
    "X_train = preprocessor.fit_transform(X_train)\n",
    "print('...Done.')\n",
    "print(X_train[0:5]) # MUST use this syntax because X_train is a numpy array and not a pandas DataFrame anymore\n",
    "print()\n",
    "\n",
    "# Preprocessings on test set\n",
    "print(\"Performing preprocessings on test set...\")\n",
    "X_test = preprocessor.transform(X_test) # Don't fit again !! The test set is used for validating decisions\n",
    "# we made based on the training set, therefore we can only apply transformations that were parametered using the training set.\n",
    "# Otherwise this creates what is called a leak from the test set which will introduce a bias in all your results.\n",
    "print('...Done.')\n",
    "print(X_test[0:5,:]) # MUST use this syntax because X_test is a numpy array and not a pandas DataFrame anymore\n",
    "print()"
   ]
  },
  {
   "cell_type": "code",
   "execution_count": 117,
   "metadata": {},
   "outputs": [
    {
     "name": "stdout",
     "output_type": "stream",
     "text": [
      "Train model...\n",
      "...Done.\n"
     ]
    }
   ],
   "source": [
    "# Train model\n",
    "print(\"Train model...\")\n",
    "regressor = LinearRegression()\n",
    "regressor.fit(X_train, Y_train)\n",
    "print(\"...Done.\")"
   ]
  },
  {
   "cell_type": "code",
   "execution_count": 118,
   "metadata": {},
   "outputs": [
    {
     "name": "stdout",
     "output_type": "stream",
     "text": [
      "Predictions on training set...\n",
      "...Done.\n",
      "[ 355479.56861685 1159346.90405919 1403039.49221897 2066863.58616534\n",
      " 1925765.82798506 1993340.25350217 2170778.68196777 1583907.04996371\n",
      "  608234.74404721 2435413.84784752 1425017.43269192 2050458.19438804\n",
      " 1963020.57139294 1988580.20845454 1292929.96804842 1894979.92249855\n",
      "  577876.9912371  1356675.24231989 1370353.10875379  922125.07782542\n",
      " 2118573.21239598  330023.76712427 1976491.63835358  363314.0773656\n",
      " 1650434.02693033 1846981.22975912 2037727.01524296 2047699.24878152\n",
      " 2074795.82468615  683702.23939525  606385.99993959 1151770.91785922\n",
      "  370550.90300884  403385.82595278 1538509.07898754 1983767.4458496\n",
      " 2427628.41990218  429905.20014556 1620383.5913399  1560492.51184586\n",
      "  508064.11730152  317297.93021119  403643.65878733 1491528.49941411\n",
      "  756784.10201676  411450.42238104 1994189.90022409 2162549.04629507\n",
      " 1757242.51        455001.62966197  944594.51310338 1480619.11228554\n",
      " 2168980.24462973  138757.56818403 1399913.28958961  951420.00373841\n",
      " 2007648.05832394  749774.38153047  822787.81229579 1984907.28774924\n",
      " 1535453.02430843  919963.28111502  921265.05177199  572396.15626136\n",
      " 1782051.69164642  320552.99310789  521602.03330553  248577.15642609\n",
      " 1102191.5012398  1966882.22872047 1980722.04046763 2192162.23419966\n",
      " 1519831.90722597 1861248.20333081 1547213.24505595 1543216.33613117\n",
      "  857587.92685535  473957.29830024  898881.28254043  665266.93936765\n",
      " 1796015.27075939  416884.69733483 1362882.42779623  516025.04115313\n",
      " 1487722.53509264 2082387.05687615  540475.45766175  618520.7037214\n",
      "  959118.06404877 1989329.34760438]\n",
      "\n"
     ]
    }
   ],
   "source": [
    "# Predictions on training set\n",
    "print(\"Predictions on training set...\")\n",
    "Y_train_pred = regressor.predict(X_train)\n",
    "print(\"...Done.\")\n",
    "print(Y_train_pred)\n",
    "print()"
   ]
  },
  {
   "cell_type": "code",
   "execution_count": 119,
   "metadata": {},
   "outputs": [
    {
     "name": "stdout",
     "output_type": "stream",
     "text": [
      "Predictions on test set...\n",
      "...Done.\n",
      "[ 378434.9262536  1439208.53112662 1610263.64973443  882160.33481902\n",
      "  467036.84319288 1108436.20055574 2062198.58117078 2316439.3934927\n",
      " 2054873.89282565 1557575.21453423 1029514.94842001 2045531.68806318\n",
      " 1120031.60638901  607697.48000837  466273.46117054   79503.65530793\n",
      "  612246.41204381  168732.14634922 1811123.04670739  487776.41568401\n",
      " 1924306.22110956  472762.50180452 2069778.86919786]\n",
      "\n"
     ]
    }
   ],
   "source": [
    "# Predictions on test set\n",
    "print(\"Predictions on test set...\")\n",
    "Y_test_pred = regressor.predict(X_test)\n",
    "print(\"...Done.\")\n",
    "print(Y_test_pred)\n",
    "print()"
   ]
  },
  {
   "cell_type": "code",
   "execution_count": 120,
   "metadata": {},
   "outputs": [
    {
     "name": "stdout",
     "output_type": "stream",
     "text": [
      "R2 score on training set :  0.9727215539002302\n",
      "R2 score on test set :  0.9396484787972459\n"
     ]
    }
   ],
   "source": [
    "# Print R^2 scores\n",
    "print(\"R2 score on training set : \", r2_score(Y_train, Y_train_pred))\n",
    "print(\"R2 score on test set : \", r2_score(Y_test, Y_test_pred))"
   ]
  },
  {
   "cell_type": "code",
   "execution_count": 121,
   "metadata": {},
   "outputs": [
    {
     "name": "stdout",
     "output_type": "stream",
     "text": [
      "Names of columns corresponding to each coefficient:  ['Day', 'Month', 'Year', 'Temperature', 'Fuel_Price', 'CPI', 'Unemployment', 'x0_2.0', 'x0_3.0', 'x0_4.0', 'x0_5.0', 'x0_6.0', 'x0_7.0', 'x0_8.0', 'x0_9.0', 'x0_10.0', 'x0_11.0', 'x0_13.0', 'x0_14.0', 'x0_15.0', 'x0_16.0', 'x0_17.0', 'x0_18.0', 'x0_19.0', 'x0_20.0', 'x1_1.0']\n"
     ]
    }
   ],
   "source": [
    "column_names = []\n",
    "for name, pipeline, features_list in preprocessor.transformers_: # loop over pipelines\n",
    "    if name == 'num': # if pipeline is for numeric variables\n",
    "        features = features_list # just get the names of columns to which it has been applied\n",
    "    else: # if pipeline is for categorical variables\n",
    "        features = pipeline.named_steps['encoder'].get_feature_names_out() # get output columns names from OneHotEncoder\n",
    "    column_names.extend(features) # concatenate features names\n",
    "        \n",
    "print(\"Names of columns corresponding to each coefficient: \", column_names)"
   ]
  },
  {
   "cell_type": "code",
   "execution_count": 122,
   "metadata": {},
   "outputs": [
    {
     "data": {
      "text/html": [
       "<div>\n",
       "<style scoped>\n",
       "    .dataframe tbody tr th:only-of-type {\n",
       "        vertical-align: middle;\n",
       "    }\n",
       "\n",
       "    .dataframe tbody tr th {\n",
       "        vertical-align: top;\n",
       "    }\n",
       "\n",
       "    .dataframe thead th {\n",
       "        text-align: right;\n",
       "    }\n",
       "</style>\n",
       "<table border=\"1\" class=\"dataframe\">\n",
       "  <thead>\n",
       "    <tr style=\"text-align: center;\">\n",
       "      <th></th>\n",
       "      <th>coefficients</th>\n",
       "    </tr>\n",
       "  </thead>\n",
       "  <tbody>\n",
       "    <tr>\n",
       "      <th>Day</th>\n",
       "      <td>-3.796029e+04</td>\n",
       "    </tr>\n",
       "    <tr>\n",
       "      <th>Month</th>\n",
       "      <td>7.469194e+04</td>\n",
       "    </tr>\n",
       "    <tr>\n",
       "      <th>Year</th>\n",
       "      <td>4.294936e+03</td>\n",
       "    </tr>\n",
       "    <tr>\n",
       "      <th>Temperature</th>\n",
       "      <td>-3.148891e+04</td>\n",
       "    </tr>\n",
       "    <tr>\n",
       "      <th>Fuel_Price</th>\n",
       "      <td>-4.129574e+04</td>\n",
       "    </tr>\n",
       "    <tr>\n",
       "      <th>CPI</th>\n",
       "      <td>-9.551470e+04</td>\n",
       "    </tr>\n",
       "    <tr>\n",
       "      <th>Unemployment</th>\n",
       "      <td>-7.193397e+04</td>\n",
       "    </tr>\n",
       "    <tr>\n",
       "      <th>x0_2.0</th>\n",
       "      <td>3.558479e+05</td>\n",
       "    </tr>\n",
       "    <tr>\n",
       "      <th>x0_3.0</th>\n",
       "      <td>-1.206250e+06</td>\n",
       "    </tr>\n",
       "    <tr>\n",
       "      <th>x0_4.0</th>\n",
       "      <td>2.793914e+05</td>\n",
       "    </tr>\n",
       "    <tr>\n",
       "      <th>x0_5.0</th>\n",
       "      <td>-1.365725e+06</td>\n",
       "    </tr>\n",
       "    <tr>\n",
       "      <th>x0_6.0</th>\n",
       "      <td>3.263938e+04</td>\n",
       "    </tr>\n",
       "    <tr>\n",
       "      <th>x0_7.0</th>\n",
       "      <td>-9.999572e+05</td>\n",
       "    </tr>\n",
       "    <tr>\n",
       "      <th>x0_8.0</th>\n",
       "      <td>-7.143948e+05</td>\n",
       "    </tr>\n",
       "    <tr>\n",
       "      <th>x0_9.0</th>\n",
       "      <td>-1.172361e+06</td>\n",
       "    </tr>\n",
       "    <tr>\n",
       "      <th>x0_10.0</th>\n",
       "      <td>2.641361e+05</td>\n",
       "    </tr>\n",
       "    <tr>\n",
       "      <th>x0_11.0</th>\n",
       "      <td>1.619418e+05</td>\n",
       "    </tr>\n",
       "    <tr>\n",
       "      <th>x0_13.0</th>\n",
       "      <td>1.636104e+05</td>\n",
       "    </tr>\n",
       "    <tr>\n",
       "      <th>x0_14.0</th>\n",
       "      <td>5.468647e+05</td>\n",
       "    </tr>\n",
       "    <tr>\n",
       "      <th>x0_15.0</th>\n",
       "      <td>-1.029576e+06</td>\n",
       "    </tr>\n",
       "    <tr>\n",
       "      <th>x0_16.0</th>\n",
       "      <td>-1.154774e+06</td>\n",
       "    </tr>\n",
       "    <tr>\n",
       "      <th>x0_17.0</th>\n",
       "      <td>-1.097032e+06</td>\n",
       "    </tr>\n",
       "    <tr>\n",
       "      <th>x0_18.0</th>\n",
       "      <td>-6.020554e+05</td>\n",
       "    </tr>\n",
       "    <tr>\n",
       "      <th>x0_19.0</th>\n",
       "      <td>-2.749955e+05</td>\n",
       "    </tr>\n",
       "    <tr>\n",
       "      <th>x0_20.0</th>\n",
       "      <td>4.022257e+05</td>\n",
       "    </tr>\n",
       "    <tr>\n",
       "      <th>x1_1.0</th>\n",
       "      <td>-5.269535e+04</td>\n",
       "    </tr>\n",
       "  </tbody>\n",
       "</table>\n",
       "</div>"
      ],
      "text/plain": [
       "              coefficients\n",
       "Day          -3.796029e+04\n",
       "Month         7.469194e+04\n",
       "Year          4.294936e+03\n",
       "Temperature  -3.148891e+04\n",
       "Fuel_Price   -4.129574e+04\n",
       "CPI          -9.551470e+04\n",
       "Unemployment -7.193397e+04\n",
       "x0_2.0        3.558479e+05\n",
       "x0_3.0       -1.206250e+06\n",
       "x0_4.0        2.793914e+05\n",
       "x0_5.0       -1.365725e+06\n",
       "x0_6.0        3.263938e+04\n",
       "x0_7.0       -9.999572e+05\n",
       "x0_8.0       -7.143948e+05\n",
       "x0_9.0       -1.172361e+06\n",
       "x0_10.0       2.641361e+05\n",
       "x0_11.0       1.619418e+05\n",
       "x0_13.0       1.636104e+05\n",
       "x0_14.0       5.468647e+05\n",
       "x0_15.0      -1.029576e+06\n",
       "x0_16.0      -1.154774e+06\n",
       "x0_17.0      -1.097032e+06\n",
       "x0_18.0      -6.020554e+05\n",
       "x0_19.0      -2.749955e+05\n",
       "x0_20.0       4.022257e+05\n",
       "x1_1.0       -5.269535e+04"
      ]
     },
     "execution_count": 122,
     "metadata": {},
     "output_type": "execute_result"
    }
   ],
   "source": [
    "# Create a pandas DataFrame\n",
    "coefs = pd.DataFrame(index = column_names, data = regressor.coef_.transpose(), columns=[\"coefficients\"])\n",
    "coefs"
   ]
  },
  {
   "cell_type": "code",
   "execution_count": 123,
   "metadata": {},
   "outputs": [
    {
     "data": {
      "text/html": [
       "<div>\n",
       "<style scoped>\n",
       "    .dataframe tbody tr th:only-of-type {\n",
       "        vertical-align: middle;\n",
       "    }\n",
       "\n",
       "    .dataframe tbody tr th {\n",
       "        vertical-align: top;\n",
       "    }\n",
       "\n",
       "    .dataframe thead th {\n",
       "        text-align: right;\n",
       "    }\n",
       "</style>\n",
       "<table border=\"1\" class=\"dataframe\">\n",
       "  <thead>\n",
       "    <tr style=\"text-align: center;\">\n",
       "      <th></th>\n",
       "      <th>coefficients</th>\n",
       "    </tr>\n",
       "  </thead>\n",
       "  <tbody>\n",
       "    <tr>\n",
       "      <th>Year</th>\n",
       "      <td>4.294936e+03</td>\n",
       "    </tr>\n",
       "    <tr>\n",
       "      <th>Temperature</th>\n",
       "      <td>3.148891e+04</td>\n",
       "    </tr>\n",
       "    <tr>\n",
       "      <th>x0_6.0</th>\n",
       "      <td>3.263938e+04</td>\n",
       "    </tr>\n",
       "    <tr>\n",
       "      <th>Day</th>\n",
       "      <td>3.796029e+04</td>\n",
       "    </tr>\n",
       "    <tr>\n",
       "      <th>Fuel_Price</th>\n",
       "      <td>4.129574e+04</td>\n",
       "    </tr>\n",
       "    <tr>\n",
       "      <th>x1_1.0</th>\n",
       "      <td>5.269535e+04</td>\n",
       "    </tr>\n",
       "    <tr>\n",
       "      <th>Unemployment</th>\n",
       "      <td>7.193397e+04</td>\n",
       "    </tr>\n",
       "    <tr>\n",
       "      <th>Month</th>\n",
       "      <td>7.469194e+04</td>\n",
       "    </tr>\n",
       "    <tr>\n",
       "      <th>CPI</th>\n",
       "      <td>9.551470e+04</td>\n",
       "    </tr>\n",
       "    <tr>\n",
       "      <th>x0_11.0</th>\n",
       "      <td>1.619418e+05</td>\n",
       "    </tr>\n",
       "    <tr>\n",
       "      <th>x0_13.0</th>\n",
       "      <td>1.636104e+05</td>\n",
       "    </tr>\n",
       "    <tr>\n",
       "      <th>x0_10.0</th>\n",
       "      <td>2.641361e+05</td>\n",
       "    </tr>\n",
       "    <tr>\n",
       "      <th>x0_19.0</th>\n",
       "      <td>2.749955e+05</td>\n",
       "    </tr>\n",
       "    <tr>\n",
       "      <th>x0_4.0</th>\n",
       "      <td>2.793914e+05</td>\n",
       "    </tr>\n",
       "    <tr>\n",
       "      <th>x0_2.0</th>\n",
       "      <td>3.558479e+05</td>\n",
       "    </tr>\n",
       "    <tr>\n",
       "      <th>x0_20.0</th>\n",
       "      <td>4.022257e+05</td>\n",
       "    </tr>\n",
       "    <tr>\n",
       "      <th>x0_14.0</th>\n",
       "      <td>5.468647e+05</td>\n",
       "    </tr>\n",
       "    <tr>\n",
       "      <th>x0_18.0</th>\n",
       "      <td>6.020554e+05</td>\n",
       "    </tr>\n",
       "    <tr>\n",
       "      <th>x0_8.0</th>\n",
       "      <td>7.143948e+05</td>\n",
       "    </tr>\n",
       "    <tr>\n",
       "      <th>x0_7.0</th>\n",
       "      <td>9.999572e+05</td>\n",
       "    </tr>\n",
       "    <tr>\n",
       "      <th>x0_15.0</th>\n",
       "      <td>1.029576e+06</td>\n",
       "    </tr>\n",
       "    <tr>\n",
       "      <th>x0_17.0</th>\n",
       "      <td>1.097032e+06</td>\n",
       "    </tr>\n",
       "    <tr>\n",
       "      <th>x0_16.0</th>\n",
       "      <td>1.154774e+06</td>\n",
       "    </tr>\n",
       "    <tr>\n",
       "      <th>x0_9.0</th>\n",
       "      <td>1.172361e+06</td>\n",
       "    </tr>\n",
       "    <tr>\n",
       "      <th>x0_3.0</th>\n",
       "      <td>1.206250e+06</td>\n",
       "    </tr>\n",
       "    <tr>\n",
       "      <th>x0_5.0</th>\n",
       "      <td>1.365725e+06</td>\n",
       "    </tr>\n",
       "  </tbody>\n",
       "</table>\n",
       "</div>"
      ],
      "text/plain": [
       "              coefficients\n",
       "Year          4.294936e+03\n",
       "Temperature   3.148891e+04\n",
       "x0_6.0        3.263938e+04\n",
       "Day           3.796029e+04\n",
       "Fuel_Price    4.129574e+04\n",
       "x1_1.0        5.269535e+04\n",
       "Unemployment  7.193397e+04\n",
       "Month         7.469194e+04\n",
       "CPI           9.551470e+04\n",
       "x0_11.0       1.619418e+05\n",
       "x0_13.0       1.636104e+05\n",
       "x0_10.0       2.641361e+05\n",
       "x0_19.0       2.749955e+05\n",
       "x0_4.0        2.793914e+05\n",
       "x0_2.0        3.558479e+05\n",
       "x0_20.0       4.022257e+05\n",
       "x0_14.0       5.468647e+05\n",
       "x0_18.0       6.020554e+05\n",
       "x0_8.0        7.143948e+05\n",
       "x0_7.0        9.999572e+05\n",
       "x0_15.0       1.029576e+06\n",
       "x0_17.0       1.097032e+06\n",
       "x0_16.0       1.154774e+06\n",
       "x0_9.0        1.172361e+06\n",
       "x0_3.0        1.206250e+06\n",
       "x0_5.0        1.365725e+06"
      ]
     },
     "execution_count": 123,
     "metadata": {},
     "output_type": "execute_result"
    }
   ],
   "source": [
    "# Compute abs() and sort values\n",
    "feature_importance = abs(coefs).sort_values(by = 'coefficients')\n",
    "feature_importance"
   ]
  },
  {
   "cell_type": "code",
   "execution_count": 124,
   "metadata": {},
   "outputs": [
    {
     "data": {
      "application/vnd.plotly.v1+json": {
       "config": {
        "plotlyServerURL": "https://plot.ly"
       },
       "data": [
        {
         "alignmentgroup": "True",
         "hovertemplate": "variable=coefficients<br>value=%{x}<br>index=%{y}<extra></extra>",
         "legendgroup": "coefficients",
         "marker": {
          "color": "#636efa",
          "pattern": {
           "shape": ""
          }
         },
         "name": "coefficients",
         "offsetgroup": "coefficients",
         "orientation": "h",
         "showlegend": true,
         "textposition": "auto",
         "type": "bar",
         "x": [
          4294.936220346694,
          31488.908107681997,
          32639.379174927897,
          37960.287400781264,
          41295.73908761016,
          52695.3503637894,
          71933.97279860683,
          74691.94303846353,
          95514.69863110138,
          161941.8295489353,
          163610.38800625136,
          264136.12049312086,
          274995.47988446365,
          279391.39752357133,
          355847.8528497174,
          402225.6651612702,
          546864.7179223605,
          602055.4048766318,
          714394.7988606853,
          999957.2162854162,
          1029575.6430363514,
          1097031.6025223087,
          1154773.9218847132,
          1172360.5252155536,
          1206249.8882773188,
          1365724.7450751588
         ],
         "xaxis": "x",
         "y": [
          "Year",
          "Temperature",
          "x0_6.0",
          "Day",
          "Fuel_Price",
          "x1_1.0",
          "Unemployment",
          "Month",
          "CPI",
          "x0_11.0",
          "x0_13.0",
          "x0_10.0",
          "x0_19.0",
          "x0_4.0",
          "x0_2.0",
          "x0_20.0",
          "x0_14.0",
          "x0_18.0",
          "x0_8.0",
          "x0_7.0",
          "x0_15.0",
          "x0_17.0",
          "x0_16.0",
          "x0_9.0",
          "x0_3.0",
          "x0_5.0"
         ],
         "yaxis": "y"
        }
       ],
       "layout": {
        "barmode": "relative",
        "legend": {
         "title": {
          "text": "variable"
         },
         "tracegroupgap": 0
        },
        "margin": {
         "l": 120,
         "t": 60
        },
        "showlegend": false,
        "template": {
         "data": {
          "bar": [
           {
            "error_x": {
             "color": "#2a3f5f"
            },
            "error_y": {
             "color": "#2a3f5f"
            },
            "marker": {
             "line": {
              "color": "#E5ECF6",
              "width": 0.5
             },
             "pattern": {
              "fillmode": "overlay",
              "size": 10,
              "solidity": 0.2
             }
            },
            "type": "bar"
           }
          ],
          "barpolar": [
           {
            "marker": {
             "line": {
              "color": "#E5ECF6",
              "width": 0.5
             },
             "pattern": {
              "fillmode": "overlay",
              "size": 10,
              "solidity": 0.2
             }
            },
            "type": "barpolar"
           }
          ],
          "carpet": [
           {
            "aaxis": {
             "endlinecolor": "#2a3f5f",
             "gridcolor": "white",
             "linecolor": "white",
             "minorgridcolor": "white",
             "startlinecolor": "#2a3f5f"
            },
            "baxis": {
             "endlinecolor": "#2a3f5f",
             "gridcolor": "white",
             "linecolor": "white",
             "minorgridcolor": "white",
             "startlinecolor": "#2a3f5f"
            },
            "type": "carpet"
           }
          ],
          "choropleth": [
           {
            "colorbar": {
             "outlinewidth": 0,
             "ticks": ""
            },
            "type": "choropleth"
           }
          ],
          "contour": [
           {
            "colorbar": {
             "outlinewidth": 0,
             "ticks": ""
            },
            "colorscale": [
             [
              0,
              "#0d0887"
             ],
             [
              0.1111111111111111,
              "#46039f"
             ],
             [
              0.2222222222222222,
              "#7201a8"
             ],
             [
              0.3333333333333333,
              "#9c179e"
             ],
             [
              0.4444444444444444,
              "#bd3786"
             ],
             [
              0.5555555555555556,
              "#d8576b"
             ],
             [
              0.6666666666666666,
              "#ed7953"
             ],
             [
              0.7777777777777778,
              "#fb9f3a"
             ],
             [
              0.8888888888888888,
              "#fdca26"
             ],
             [
              1,
              "#f0f921"
             ]
            ],
            "type": "contour"
           }
          ],
          "contourcarpet": [
           {
            "colorbar": {
             "outlinewidth": 0,
             "ticks": ""
            },
            "type": "contourcarpet"
           }
          ],
          "heatmap": [
           {
            "colorbar": {
             "outlinewidth": 0,
             "ticks": ""
            },
            "colorscale": [
             [
              0,
              "#0d0887"
             ],
             [
              0.1111111111111111,
              "#46039f"
             ],
             [
              0.2222222222222222,
              "#7201a8"
             ],
             [
              0.3333333333333333,
              "#9c179e"
             ],
             [
              0.4444444444444444,
              "#bd3786"
             ],
             [
              0.5555555555555556,
              "#d8576b"
             ],
             [
              0.6666666666666666,
              "#ed7953"
             ],
             [
              0.7777777777777778,
              "#fb9f3a"
             ],
             [
              0.8888888888888888,
              "#fdca26"
             ],
             [
              1,
              "#f0f921"
             ]
            ],
            "type": "heatmap"
           }
          ],
          "heatmapgl": [
           {
            "colorbar": {
             "outlinewidth": 0,
             "ticks": ""
            },
            "colorscale": [
             [
              0,
              "#0d0887"
             ],
             [
              0.1111111111111111,
              "#46039f"
             ],
             [
              0.2222222222222222,
              "#7201a8"
             ],
             [
              0.3333333333333333,
              "#9c179e"
             ],
             [
              0.4444444444444444,
              "#bd3786"
             ],
             [
              0.5555555555555556,
              "#d8576b"
             ],
             [
              0.6666666666666666,
              "#ed7953"
             ],
             [
              0.7777777777777778,
              "#fb9f3a"
             ],
             [
              0.8888888888888888,
              "#fdca26"
             ],
             [
              1,
              "#f0f921"
             ]
            ],
            "type": "heatmapgl"
           }
          ],
          "histogram": [
           {
            "marker": {
             "pattern": {
              "fillmode": "overlay",
              "size": 10,
              "solidity": 0.2
             }
            },
            "type": "histogram"
           }
          ],
          "histogram2d": [
           {
            "colorbar": {
             "outlinewidth": 0,
             "ticks": ""
            },
            "colorscale": [
             [
              0,
              "#0d0887"
             ],
             [
              0.1111111111111111,
              "#46039f"
             ],
             [
              0.2222222222222222,
              "#7201a8"
             ],
             [
              0.3333333333333333,
              "#9c179e"
             ],
             [
              0.4444444444444444,
              "#bd3786"
             ],
             [
              0.5555555555555556,
              "#d8576b"
             ],
             [
              0.6666666666666666,
              "#ed7953"
             ],
             [
              0.7777777777777778,
              "#fb9f3a"
             ],
             [
              0.8888888888888888,
              "#fdca26"
             ],
             [
              1,
              "#f0f921"
             ]
            ],
            "type": "histogram2d"
           }
          ],
          "histogram2dcontour": [
           {
            "colorbar": {
             "outlinewidth": 0,
             "ticks": ""
            },
            "colorscale": [
             [
              0,
              "#0d0887"
             ],
             [
              0.1111111111111111,
              "#46039f"
             ],
             [
              0.2222222222222222,
              "#7201a8"
             ],
             [
              0.3333333333333333,
              "#9c179e"
             ],
             [
              0.4444444444444444,
              "#bd3786"
             ],
             [
              0.5555555555555556,
              "#d8576b"
             ],
             [
              0.6666666666666666,
              "#ed7953"
             ],
             [
              0.7777777777777778,
              "#fb9f3a"
             ],
             [
              0.8888888888888888,
              "#fdca26"
             ],
             [
              1,
              "#f0f921"
             ]
            ],
            "type": "histogram2dcontour"
           }
          ],
          "mesh3d": [
           {
            "colorbar": {
             "outlinewidth": 0,
             "ticks": ""
            },
            "type": "mesh3d"
           }
          ],
          "parcoords": [
           {
            "line": {
             "colorbar": {
              "outlinewidth": 0,
              "ticks": ""
             }
            },
            "type": "parcoords"
           }
          ],
          "pie": [
           {
            "automargin": true,
            "type": "pie"
           }
          ],
          "scatter": [
           {
            "fillpattern": {
             "fillmode": "overlay",
             "size": 10,
             "solidity": 0.2
            },
            "type": "scatter"
           }
          ],
          "scatter3d": [
           {
            "line": {
             "colorbar": {
              "outlinewidth": 0,
              "ticks": ""
             }
            },
            "marker": {
             "colorbar": {
              "outlinewidth": 0,
              "ticks": ""
             }
            },
            "type": "scatter3d"
           }
          ],
          "scattercarpet": [
           {
            "marker": {
             "colorbar": {
              "outlinewidth": 0,
              "ticks": ""
             }
            },
            "type": "scattercarpet"
           }
          ],
          "scattergeo": [
           {
            "marker": {
             "colorbar": {
              "outlinewidth": 0,
              "ticks": ""
             }
            },
            "type": "scattergeo"
           }
          ],
          "scattergl": [
           {
            "marker": {
             "colorbar": {
              "outlinewidth": 0,
              "ticks": ""
             }
            },
            "type": "scattergl"
           }
          ],
          "scattermapbox": [
           {
            "marker": {
             "colorbar": {
              "outlinewidth": 0,
              "ticks": ""
             }
            },
            "type": "scattermapbox"
           }
          ],
          "scatterpolar": [
           {
            "marker": {
             "colorbar": {
              "outlinewidth": 0,
              "ticks": ""
             }
            },
            "type": "scatterpolar"
           }
          ],
          "scatterpolargl": [
           {
            "marker": {
             "colorbar": {
              "outlinewidth": 0,
              "ticks": ""
             }
            },
            "type": "scatterpolargl"
           }
          ],
          "scatterternary": [
           {
            "marker": {
             "colorbar": {
              "outlinewidth": 0,
              "ticks": ""
             }
            },
            "type": "scatterternary"
           }
          ],
          "surface": [
           {
            "colorbar": {
             "outlinewidth": 0,
             "ticks": ""
            },
            "colorscale": [
             [
              0,
              "#0d0887"
             ],
             [
              0.1111111111111111,
              "#46039f"
             ],
             [
              0.2222222222222222,
              "#7201a8"
             ],
             [
              0.3333333333333333,
              "#9c179e"
             ],
             [
              0.4444444444444444,
              "#bd3786"
             ],
             [
              0.5555555555555556,
              "#d8576b"
             ],
             [
              0.6666666666666666,
              "#ed7953"
             ],
             [
              0.7777777777777778,
              "#fb9f3a"
             ],
             [
              0.8888888888888888,
              "#fdca26"
             ],
             [
              1,
              "#f0f921"
             ]
            ],
            "type": "surface"
           }
          ],
          "table": [
           {
            "cells": {
             "fill": {
              "color": "#EBF0F8"
             },
             "line": {
              "color": "white"
             }
            },
            "header": {
             "fill": {
              "color": "#C8D4E3"
             },
             "line": {
              "color": "white"
             }
            },
            "type": "table"
           }
          ]
         },
         "layout": {
          "annotationdefaults": {
           "arrowcolor": "#2a3f5f",
           "arrowhead": 0,
           "arrowwidth": 1
          },
          "autotypenumbers": "strict",
          "coloraxis": {
           "colorbar": {
            "outlinewidth": 0,
            "ticks": ""
           }
          },
          "colorscale": {
           "diverging": [
            [
             0,
             "#8e0152"
            ],
            [
             0.1,
             "#c51b7d"
            ],
            [
             0.2,
             "#de77ae"
            ],
            [
             0.3,
             "#f1b6da"
            ],
            [
             0.4,
             "#fde0ef"
            ],
            [
             0.5,
             "#f7f7f7"
            ],
            [
             0.6,
             "#e6f5d0"
            ],
            [
             0.7,
             "#b8e186"
            ],
            [
             0.8,
             "#7fbc41"
            ],
            [
             0.9,
             "#4d9221"
            ],
            [
             1,
             "#276419"
            ]
           ],
           "sequential": [
            [
             0,
             "#0d0887"
            ],
            [
             0.1111111111111111,
             "#46039f"
            ],
            [
             0.2222222222222222,
             "#7201a8"
            ],
            [
             0.3333333333333333,
             "#9c179e"
            ],
            [
             0.4444444444444444,
             "#bd3786"
            ],
            [
             0.5555555555555556,
             "#d8576b"
            ],
            [
             0.6666666666666666,
             "#ed7953"
            ],
            [
             0.7777777777777778,
             "#fb9f3a"
            ],
            [
             0.8888888888888888,
             "#fdca26"
            ],
            [
             1,
             "#f0f921"
            ]
           ],
           "sequentialminus": [
            [
             0,
             "#0d0887"
            ],
            [
             0.1111111111111111,
             "#46039f"
            ],
            [
             0.2222222222222222,
             "#7201a8"
            ],
            [
             0.3333333333333333,
             "#9c179e"
            ],
            [
             0.4444444444444444,
             "#bd3786"
            ],
            [
             0.5555555555555556,
             "#d8576b"
            ],
            [
             0.6666666666666666,
             "#ed7953"
            ],
            [
             0.7777777777777778,
             "#fb9f3a"
            ],
            [
             0.8888888888888888,
             "#fdca26"
            ],
            [
             1,
             "#f0f921"
            ]
           ]
          },
          "colorway": [
           "#636efa",
           "#EF553B",
           "#00cc96",
           "#ab63fa",
           "#FFA15A",
           "#19d3f3",
           "#FF6692",
           "#B6E880",
           "#FF97FF",
           "#FECB52"
          ],
          "font": {
           "color": "#2a3f5f"
          },
          "geo": {
           "bgcolor": "white",
           "lakecolor": "white",
           "landcolor": "#E5ECF6",
           "showlakes": true,
           "showland": true,
           "subunitcolor": "white"
          },
          "hoverlabel": {
           "align": "left"
          },
          "hovermode": "closest",
          "mapbox": {
           "style": "light"
          },
          "paper_bgcolor": "white",
          "plot_bgcolor": "#E5ECF6",
          "polar": {
           "angularaxis": {
            "gridcolor": "white",
            "linecolor": "white",
            "ticks": ""
           },
           "bgcolor": "#E5ECF6",
           "radialaxis": {
            "gridcolor": "white",
            "linecolor": "white",
            "ticks": ""
           }
          },
          "scene": {
           "xaxis": {
            "backgroundcolor": "#E5ECF6",
            "gridcolor": "white",
            "gridwidth": 2,
            "linecolor": "white",
            "showbackground": true,
            "ticks": "",
            "zerolinecolor": "white"
           },
           "yaxis": {
            "backgroundcolor": "#E5ECF6",
            "gridcolor": "white",
            "gridwidth": 2,
            "linecolor": "white",
            "showbackground": true,
            "ticks": "",
            "zerolinecolor": "white"
           },
           "zaxis": {
            "backgroundcolor": "#E5ECF6",
            "gridcolor": "white",
            "gridwidth": 2,
            "linecolor": "white",
            "showbackground": true,
            "ticks": "",
            "zerolinecolor": "white"
           }
          },
          "shapedefaults": {
           "line": {
            "color": "#2a3f5f"
           }
          },
          "ternary": {
           "aaxis": {
            "gridcolor": "white",
            "linecolor": "white",
            "ticks": ""
           },
           "baxis": {
            "gridcolor": "white",
            "linecolor": "white",
            "ticks": ""
           },
           "bgcolor": "#E5ECF6",
           "caxis": {
            "gridcolor": "white",
            "linecolor": "white",
            "ticks": ""
           }
          },
          "title": {
           "x": 0.05
          },
          "xaxis": {
           "automargin": true,
           "gridcolor": "white",
           "linecolor": "white",
           "ticks": "",
           "title": {
            "standoff": 15
           },
           "zerolinecolor": "white",
           "zerolinewidth": 2
          },
          "yaxis": {
           "automargin": true,
           "gridcolor": "white",
           "linecolor": "white",
           "ticks": "",
           "title": {
            "standoff": 15
           },
           "zerolinecolor": "white",
           "zerolinewidth": 2
          }
         }
        },
        "xaxis": {
         "anchor": "y",
         "domain": [
          0,
          1
         ],
         "title": {
          "text": "value"
         }
        },
        "yaxis": {
         "anchor": "x",
         "domain": [
          0,
          1
         ],
         "title": {
          "text": "index"
         }
        }
       }
      }
     },
     "metadata": {},
     "output_type": "display_data"
    }
   ],
   "source": [
    "# Plot coefficients\n",
    "fig = px.bar(feature_importance, orientation = 'h')\n",
    "fig.update_layout(showlegend = False, \n",
    "                  margin = {'l': 120} # to avoid cropping of column names\n",
    "                 )\n",
    "fig.show()"
   ]
  },
  {
   "cell_type": "markdown",
   "metadata": {},
   "source": [
    "AMELIORATION DU SCORE"
   ]
  },
  {
   "cell_type": "markdown",
   "metadata": {},
   "source": [
    "RIDGE"
   ]
  },
  {
   "cell_type": "code",
   "execution_count": 186,
   "metadata": {},
   "outputs": [
    {
     "name": "stdout",
     "output_type": "stream",
     "text": [
      "Ridge()\n"
     ]
    },
    {
     "data": {
      "text/html": [
       "<style>#sk-container-id-4 {color: black;background-color: white;}#sk-container-id-4 pre{padding: 0;}#sk-container-id-4 div.sk-toggleable {background-color: white;}#sk-container-id-4 label.sk-toggleable__label {cursor: pointer;display: block;width: 100%;margin-bottom: 0;padding: 0.3em;box-sizing: border-box;text-align: center;}#sk-container-id-4 label.sk-toggleable__label-arrow:before {content: \"▸\";float: left;margin-right: 0.25em;color: #696969;}#sk-container-id-4 label.sk-toggleable__label-arrow:hover:before {color: black;}#sk-container-id-4 div.sk-estimator:hover label.sk-toggleable__label-arrow:before {color: black;}#sk-container-id-4 div.sk-toggleable__content {max-height: 0;max-width: 0;overflow: hidden;text-align: left;background-color: #f0f8ff;}#sk-container-id-4 div.sk-toggleable__content pre {margin: 0.2em;color: black;border-radius: 0.25em;background-color: #f0f8ff;}#sk-container-id-4 input.sk-toggleable__control:checked~div.sk-toggleable__content {max-height: 200px;max-width: 100%;overflow: auto;}#sk-container-id-4 input.sk-toggleable__control:checked~label.sk-toggleable__label-arrow:before {content: \"▾\";}#sk-container-id-4 div.sk-estimator input.sk-toggleable__control:checked~label.sk-toggleable__label {background-color: #d4ebff;}#sk-container-id-4 div.sk-label input.sk-toggleable__control:checked~label.sk-toggleable__label {background-color: #d4ebff;}#sk-container-id-4 input.sk-hidden--visually {border: 0;clip: rect(1px 1px 1px 1px);clip: rect(1px, 1px, 1px, 1px);height: 1px;margin: -1px;overflow: hidden;padding: 0;position: absolute;width: 1px;}#sk-container-id-4 div.sk-estimator {font-family: monospace;background-color: #f0f8ff;border: 1px dotted black;border-radius: 0.25em;box-sizing: border-box;margin-bottom: 0.5em;}#sk-container-id-4 div.sk-estimator:hover {background-color: #d4ebff;}#sk-container-id-4 div.sk-parallel-item::after {content: \"\";width: 100%;border-bottom: 1px solid gray;flex-grow: 1;}#sk-container-id-4 div.sk-label:hover label.sk-toggleable__label {background-color: #d4ebff;}#sk-container-id-4 div.sk-serial::before {content: \"\";position: absolute;border-left: 1px solid gray;box-sizing: border-box;top: 0;bottom: 0;left: 50%;z-index: 0;}#sk-container-id-4 div.sk-serial {display: flex;flex-direction: column;align-items: center;background-color: white;padding-right: 0.2em;padding-left: 0.2em;position: relative;}#sk-container-id-4 div.sk-item {position: relative;z-index: 1;}#sk-container-id-4 div.sk-parallel {display: flex;align-items: stretch;justify-content: center;background-color: white;position: relative;}#sk-container-id-4 div.sk-item::before, #sk-container-id-4 div.sk-parallel-item::before {content: \"\";position: absolute;border-left: 1px solid gray;box-sizing: border-box;top: 0;bottom: 0;left: 50%;z-index: -1;}#sk-container-id-4 div.sk-parallel-item {display: flex;flex-direction: column;z-index: 1;position: relative;background-color: white;}#sk-container-id-4 div.sk-parallel-item:first-child::after {align-self: flex-end;width: 50%;}#sk-container-id-4 div.sk-parallel-item:last-child::after {align-self: flex-start;width: 50%;}#sk-container-id-4 div.sk-parallel-item:only-child::after {width: 0;}#sk-container-id-4 div.sk-dashed-wrapped {border: 1px dashed gray;margin: 0 0.4em 0.5em 0.4em;box-sizing: border-box;padding-bottom: 0.4em;background-color: white;}#sk-container-id-4 div.sk-label label {font-family: monospace;font-weight: bold;display: inline-block;line-height: 1.2em;}#sk-container-id-4 div.sk-label-container {text-align: center;}#sk-container-id-4 div.sk-container {/* jupyter's `normalize.less` sets `[hidden] { display: none; }` but bootstrap.min.css set `[hidden] { display: none !important; }` so we also need the `!important` here to be able to override the default hidden behavior on the sphinx rendered scikit-learn.org. See: https://github.com/scikit-learn/scikit-learn/issues/21755 */display: inline-block !important;position: relative;}#sk-container-id-4 div.sk-text-repr-fallback {display: none;}</style><div id=\"sk-container-id-4\" class=\"sk-top-container\"><div class=\"sk-text-repr-fallback\"><pre>Ridge()</pre><b>In a Jupyter environment, please rerun this cell to show the HTML representation or trust the notebook. <br />On GitHub, the HTML representation is unable to render, please try loading this page with nbviewer.org.</b></div><div class=\"sk-container\" hidden><div class=\"sk-item\"><div class=\"sk-estimator sk-toggleable\"><input class=\"sk-toggleable__control sk-hidden--visually\" id=\"sk-estimator-id-4\" type=\"checkbox\" checked><label for=\"sk-estimator-id-4\" class=\"sk-toggleable__label sk-toggleable__label-arrow\">Ridge</label><div class=\"sk-toggleable__content\"><pre>Ridge()</pre></div></div></div></div></div>"
      ],
      "text/plain": [
       "Ridge()"
      ]
     },
     "execution_count": 186,
     "metadata": {},
     "output_type": "execute_result"
    }
   ],
   "source": [
    "ridge1 = Ridge()\n",
    "print(ridge1)\n",
    "ridge1.fit(X_train, Y_train)"
   ]
  },
  {
   "cell_type": "code",
   "execution_count": 187,
   "metadata": {},
   "outputs": [
    {
     "name": "stdout",
     "output_type": "stream",
     "text": [
      "R2 scores from cross-validation :  [0.77503191 0.77750858 0.9224355  0.82979052 0.80224389 0.84567795\n",
      " 0.90677325 0.92140108 0.82097463 0.7820829 ]\n",
      "Average R2 score from cross-validation :  0.8383920211310597\n",
      "Standard deviation of R2 scores from cross-validation :  0.05590969473789396\n",
      "R2 score on training set :  0.9277751525312948\n",
      "R2 score on test set :  0.9150375810428166\n"
     ]
    }
   ],
   "source": [
    "# Calculer les scores R^2 avec validation croisée\n",
    "scores = cross_val_score(ridge1, X_train, Y_train, cv=10, scoring='r2')\n",
    "\n",
    "# Afficher les scores R^2 de la validation croisée\n",
    "print(\"R2 scores from cross-validation : \", scores)\n",
    "\n",
    "# Afficher le score moyen R^2 de la validation croisée\n",
    "print(\"Average R2 score from cross-validation : \", scores.mean())\n",
    "\n",
    "# Afficher l'écart-type des scores R^2 de la validation croisée\n",
    "print(\"Standard deviation of R2 scores from cross-validation : \", scores.std())\n",
    "\n",
    "# Afficher les scores R^2 sur les ensembles d'entraînement et de test\n",
    "print(\"R2 score on training set : \", ridge1.score(X_train, Y_train))\n",
    "print(\"R2 score on test set : \", ridge1.score(X_test, Y_test))"
   ]
  },
  {
   "cell_type": "markdown",
   "metadata": {},
   "source": [
    "LASSO"
   ]
  },
  {
   "cell_type": "code",
   "execution_count": 188,
   "metadata": {},
   "outputs": [
    {
     "name": "stdout",
     "output_type": "stream",
     "text": [
      "Lasso()\n"
     ]
    },
    {
     "data": {
      "text/html": [
       "<style>#sk-container-id-5 {color: black;background-color: white;}#sk-container-id-5 pre{padding: 0;}#sk-container-id-5 div.sk-toggleable {background-color: white;}#sk-container-id-5 label.sk-toggleable__label {cursor: pointer;display: block;width: 100%;margin-bottom: 0;padding: 0.3em;box-sizing: border-box;text-align: center;}#sk-container-id-5 label.sk-toggleable__label-arrow:before {content: \"▸\";float: left;margin-right: 0.25em;color: #696969;}#sk-container-id-5 label.sk-toggleable__label-arrow:hover:before {color: black;}#sk-container-id-5 div.sk-estimator:hover label.sk-toggleable__label-arrow:before {color: black;}#sk-container-id-5 div.sk-toggleable__content {max-height: 0;max-width: 0;overflow: hidden;text-align: left;background-color: #f0f8ff;}#sk-container-id-5 div.sk-toggleable__content pre {margin: 0.2em;color: black;border-radius: 0.25em;background-color: #f0f8ff;}#sk-container-id-5 input.sk-toggleable__control:checked~div.sk-toggleable__content {max-height: 200px;max-width: 100%;overflow: auto;}#sk-container-id-5 input.sk-toggleable__control:checked~label.sk-toggleable__label-arrow:before {content: \"▾\";}#sk-container-id-5 div.sk-estimator input.sk-toggleable__control:checked~label.sk-toggleable__label {background-color: #d4ebff;}#sk-container-id-5 div.sk-label input.sk-toggleable__control:checked~label.sk-toggleable__label {background-color: #d4ebff;}#sk-container-id-5 input.sk-hidden--visually {border: 0;clip: rect(1px 1px 1px 1px);clip: rect(1px, 1px, 1px, 1px);height: 1px;margin: -1px;overflow: hidden;padding: 0;position: absolute;width: 1px;}#sk-container-id-5 div.sk-estimator {font-family: monospace;background-color: #f0f8ff;border: 1px dotted black;border-radius: 0.25em;box-sizing: border-box;margin-bottom: 0.5em;}#sk-container-id-5 div.sk-estimator:hover {background-color: #d4ebff;}#sk-container-id-5 div.sk-parallel-item::after {content: \"\";width: 100%;border-bottom: 1px solid gray;flex-grow: 1;}#sk-container-id-5 div.sk-label:hover label.sk-toggleable__label {background-color: #d4ebff;}#sk-container-id-5 div.sk-serial::before {content: \"\";position: absolute;border-left: 1px solid gray;box-sizing: border-box;top: 0;bottom: 0;left: 50%;z-index: 0;}#sk-container-id-5 div.sk-serial {display: flex;flex-direction: column;align-items: center;background-color: white;padding-right: 0.2em;padding-left: 0.2em;position: relative;}#sk-container-id-5 div.sk-item {position: relative;z-index: 1;}#sk-container-id-5 div.sk-parallel {display: flex;align-items: stretch;justify-content: center;background-color: white;position: relative;}#sk-container-id-5 div.sk-item::before, #sk-container-id-5 div.sk-parallel-item::before {content: \"\";position: absolute;border-left: 1px solid gray;box-sizing: border-box;top: 0;bottom: 0;left: 50%;z-index: -1;}#sk-container-id-5 div.sk-parallel-item {display: flex;flex-direction: column;z-index: 1;position: relative;background-color: white;}#sk-container-id-5 div.sk-parallel-item:first-child::after {align-self: flex-end;width: 50%;}#sk-container-id-5 div.sk-parallel-item:last-child::after {align-self: flex-start;width: 50%;}#sk-container-id-5 div.sk-parallel-item:only-child::after {width: 0;}#sk-container-id-5 div.sk-dashed-wrapped {border: 1px dashed gray;margin: 0 0.4em 0.5em 0.4em;box-sizing: border-box;padding-bottom: 0.4em;background-color: white;}#sk-container-id-5 div.sk-label label {font-family: monospace;font-weight: bold;display: inline-block;line-height: 1.2em;}#sk-container-id-5 div.sk-label-container {text-align: center;}#sk-container-id-5 div.sk-container {/* jupyter's `normalize.less` sets `[hidden] { display: none; }` but bootstrap.min.css set `[hidden] { display: none !important; }` so we also need the `!important` here to be able to override the default hidden behavior on the sphinx rendered scikit-learn.org. See: https://github.com/scikit-learn/scikit-learn/issues/21755 */display: inline-block !important;position: relative;}#sk-container-id-5 div.sk-text-repr-fallback {display: none;}</style><div id=\"sk-container-id-5\" class=\"sk-top-container\"><div class=\"sk-text-repr-fallback\"><pre>Lasso()</pre><b>In a Jupyter environment, please rerun this cell to show the HTML representation or trust the notebook. <br />On GitHub, the HTML representation is unable to render, please try loading this page with nbviewer.org.</b></div><div class=\"sk-container\" hidden><div class=\"sk-item\"><div class=\"sk-estimator sk-toggleable\"><input class=\"sk-toggleable__control sk-hidden--visually\" id=\"sk-estimator-id-5\" type=\"checkbox\" checked><label for=\"sk-estimator-id-5\" class=\"sk-toggleable__label sk-toggleable__label-arrow\">Lasso</label><div class=\"sk-toggleable__content\"><pre>Lasso()</pre></div></div></div></div></div>"
      ],
      "text/plain": [
       "Lasso()"
      ]
     },
     "execution_count": 188,
     "metadata": {},
     "output_type": "execute_result"
    }
   ],
   "source": [
    "lasso1 = Lasso()\n",
    "print(lasso1)\n",
    "lasso1.fit(X_train, Y_train)"
   ]
  },
  {
   "cell_type": "code",
   "execution_count": 189,
   "metadata": {},
   "outputs": [
    {
     "name": "stdout",
     "output_type": "stream",
     "text": [
      "R2 scores from cross-validation :  [0.66269914 0.93290644 0.97488605 0.93312153 0.92828011 0.91600762\n",
      " 0.95430032 0.94885695 0.97612127 0.92656023]\n",
      "Average R2 score from cross-validation :  0.9153739657867594\n",
      "Standard deviation of R2 scores from cross-validation :  0.08638710987705707\n",
      "R2 score on training set :  0.9727215515785628\n",
      "R2 score on test set :  0.9396706539082827\n"
     ]
    }
   ],
   "source": [
    "# Calculer les scores R^2 avec validation croisée\n",
    "scores = cross_val_score(lasso1, X_train, Y_train, cv=10, scoring='r2')\n",
    "\n",
    "# Afficher les scores R^2 de la validation croisée\n",
    "print(\"R2 scores from cross-validation : \", scores)\n",
    "\n",
    "# Afficher le score moyen R^2 de la validation croisée\n",
    "print(\"Average R2 score from cross-validation : \", scores.mean())\n",
    "\n",
    "# Afficher l'écart-type des scores R^2 de la validation croisée\n",
    "print(\"Standard deviation of R2 scores from cross-validation : \", scores.std())\n",
    "\n",
    "# Afficher les scores R^2 sur les ensembles d'entraînement et de test\n",
    "print(\"R2 score on training set : \", lasso1.score(X_train, Y_train))\n",
    "print(\"R2 score on test set : \", lasso1.score(X_test, Y_test))"
   ]
  },
  {
   "cell_type": "markdown",
   "metadata": {},
   "source": [
    "GRIDSEARCH RIDGE"
   ]
  },
  {
   "cell_type": "code",
   "execution_count": 190,
   "metadata": {},
   "outputs": [
    {
     "name": "stdout",
     "output_type": "stream",
     "text": [
      "Grid search...\n",
      "...Done.\n",
      "Best hyperparameters :  {'alpha': 0.05}\n",
      "Best R2 score :  0.9173043978931755\n"
     ]
    }
   ],
   "source": [
    "# Perform grid search\n",
    "print(\"Grid search...\")\n",
    "regressor = Ridge()\n",
    "# Grid of values to be tested\n",
    "params = {\n",
    "    'alpha': [0.01, 0.05, 0.1, 0.5, 1, 5, 10, 50, 100]\n",
    "}\n",
    "best_ridge = GridSearchCV(regressor, param_grid = params, cv = 10) # cv : the number of folds to be used for CV\n",
    "best_ridge.fit(X_train, Y_train)\n",
    "print(\"...Done.\")\n",
    "print(\"Best hyperparameters : \", best_ridge.best_params_)\n",
    "print(\"Best R2 score : \", best_ridge.best_score_)"
   ]
  },
  {
   "cell_type": "markdown",
   "metadata": {},
   "source": [
    "GRIDSEARCH LASSO"
   ]
  },
  {
   "cell_type": "code",
   "execution_count": 191,
   "metadata": {},
   "outputs": [
    {
     "name": "stdout",
     "output_type": "stream",
     "text": [
      "Grid search...\n",
      "...Done.\n",
      "Best hyperparameters :  {'alpha': 1000}\n",
      "Best R2 score :  0.920788357329602\n"
     ]
    }
   ],
   "source": [
    "# Perform grid search\n",
    "print(\"Grid search...\")\n",
    "regressor = Lasso()\n",
    "# Grid of values to be tested\n",
    "params = {\n",
    "    'alpha': [1, 2, 3, 5, 10, 20, 30, 50, 100,200,300,500,1000,2000,3000,5000]\n",
    "}\n",
    "best_lasso = GridSearchCV(regressor, param_grid = params, cv = 10) # cv : the number of folds to be used for CV\n",
    "best_lasso.fit(X_train, Y_train)\n",
    "print(\"...Done.\")\n",
    "print(\"Best hyperparameters : \", best_lasso.best_params_)\n",
    "print(\"Best R2 score : \", best_lasso.best_score_)"
   ]
  },
  {
   "cell_type": "markdown",
   "metadata": {},
   "source": [
    "DONNEES DU MEILLEURE SCORE"
   ]
  },
  {
   "cell_type": "code",
   "execution_count": 192,
   "metadata": {},
   "outputs": [
    {
     "name": "stdout",
     "output_type": "stream",
     "text": [
      "Lasso(alpha=1000)\n"
     ]
    },
    {
     "data": {
      "text/html": [
       "<style>#sk-container-id-6 {color: black;background-color: white;}#sk-container-id-6 pre{padding: 0;}#sk-container-id-6 div.sk-toggleable {background-color: white;}#sk-container-id-6 label.sk-toggleable__label {cursor: pointer;display: block;width: 100%;margin-bottom: 0;padding: 0.3em;box-sizing: border-box;text-align: center;}#sk-container-id-6 label.sk-toggleable__label-arrow:before {content: \"▸\";float: left;margin-right: 0.25em;color: #696969;}#sk-container-id-6 label.sk-toggleable__label-arrow:hover:before {color: black;}#sk-container-id-6 div.sk-estimator:hover label.sk-toggleable__label-arrow:before {color: black;}#sk-container-id-6 div.sk-toggleable__content {max-height: 0;max-width: 0;overflow: hidden;text-align: left;background-color: #f0f8ff;}#sk-container-id-6 div.sk-toggleable__content pre {margin: 0.2em;color: black;border-radius: 0.25em;background-color: #f0f8ff;}#sk-container-id-6 input.sk-toggleable__control:checked~div.sk-toggleable__content {max-height: 200px;max-width: 100%;overflow: auto;}#sk-container-id-6 input.sk-toggleable__control:checked~label.sk-toggleable__label-arrow:before {content: \"▾\";}#sk-container-id-6 div.sk-estimator input.sk-toggleable__control:checked~label.sk-toggleable__label {background-color: #d4ebff;}#sk-container-id-6 div.sk-label input.sk-toggleable__control:checked~label.sk-toggleable__label {background-color: #d4ebff;}#sk-container-id-6 input.sk-hidden--visually {border: 0;clip: rect(1px 1px 1px 1px);clip: rect(1px, 1px, 1px, 1px);height: 1px;margin: -1px;overflow: hidden;padding: 0;position: absolute;width: 1px;}#sk-container-id-6 div.sk-estimator {font-family: monospace;background-color: #f0f8ff;border: 1px dotted black;border-radius: 0.25em;box-sizing: border-box;margin-bottom: 0.5em;}#sk-container-id-6 div.sk-estimator:hover {background-color: #d4ebff;}#sk-container-id-6 div.sk-parallel-item::after {content: \"\";width: 100%;border-bottom: 1px solid gray;flex-grow: 1;}#sk-container-id-6 div.sk-label:hover label.sk-toggleable__label {background-color: #d4ebff;}#sk-container-id-6 div.sk-serial::before {content: \"\";position: absolute;border-left: 1px solid gray;box-sizing: border-box;top: 0;bottom: 0;left: 50%;z-index: 0;}#sk-container-id-6 div.sk-serial {display: flex;flex-direction: column;align-items: center;background-color: white;padding-right: 0.2em;padding-left: 0.2em;position: relative;}#sk-container-id-6 div.sk-item {position: relative;z-index: 1;}#sk-container-id-6 div.sk-parallel {display: flex;align-items: stretch;justify-content: center;background-color: white;position: relative;}#sk-container-id-6 div.sk-item::before, #sk-container-id-6 div.sk-parallel-item::before {content: \"\";position: absolute;border-left: 1px solid gray;box-sizing: border-box;top: 0;bottom: 0;left: 50%;z-index: -1;}#sk-container-id-6 div.sk-parallel-item {display: flex;flex-direction: column;z-index: 1;position: relative;background-color: white;}#sk-container-id-6 div.sk-parallel-item:first-child::after {align-self: flex-end;width: 50%;}#sk-container-id-6 div.sk-parallel-item:last-child::after {align-self: flex-start;width: 50%;}#sk-container-id-6 div.sk-parallel-item:only-child::after {width: 0;}#sk-container-id-6 div.sk-dashed-wrapped {border: 1px dashed gray;margin: 0 0.4em 0.5em 0.4em;box-sizing: border-box;padding-bottom: 0.4em;background-color: white;}#sk-container-id-6 div.sk-label label {font-family: monospace;font-weight: bold;display: inline-block;line-height: 1.2em;}#sk-container-id-6 div.sk-label-container {text-align: center;}#sk-container-id-6 div.sk-container {/* jupyter's `normalize.less` sets `[hidden] { display: none; }` but bootstrap.min.css set `[hidden] { display: none !important; }` so we also need the `!important` here to be able to override the default hidden behavior on the sphinx rendered scikit-learn.org. See: https://github.com/scikit-learn/scikit-learn/issues/21755 */display: inline-block !important;position: relative;}#sk-container-id-6 div.sk-text-repr-fallback {display: none;}</style><div id=\"sk-container-id-6\" class=\"sk-top-container\"><div class=\"sk-text-repr-fallback\"><pre>Lasso(alpha=1000)</pre><b>In a Jupyter environment, please rerun this cell to show the HTML representation or trust the notebook. <br />On GitHub, the HTML representation is unable to render, please try loading this page with nbviewer.org.</b></div><div class=\"sk-container\" hidden><div class=\"sk-item\"><div class=\"sk-estimator sk-toggleable\"><input class=\"sk-toggleable__control sk-hidden--visually\" id=\"sk-estimator-id-6\" type=\"checkbox\" checked><label for=\"sk-estimator-id-6\" class=\"sk-toggleable__label sk-toggleable__label-arrow\">Lasso</label><div class=\"sk-toggleable__content\"><pre>Lasso(alpha=1000)</pre></div></div></div></div></div>"
      ],
      "text/plain": [
       "Lasso(alpha=1000)"
      ]
     },
     "execution_count": 192,
     "metadata": {},
     "output_type": "execute_result"
    }
   ],
   "source": [
    "lasso2 = Lasso(1000)\n",
    "print(lasso2)\n",
    "lasso2.fit(X_train, Y_train)\n"
   ]
  },
  {
   "cell_type": "code",
   "execution_count": 193,
   "metadata": {},
   "outputs": [
    {
     "name": "stdout",
     "output_type": "stream",
     "text": [
      "R2 scores from cross-validation :  [0.73486558 0.92196509 0.97100497 0.92293901 0.91610693 0.91183633\n",
      " 0.97675107 0.96552846 0.97608419 0.91080195]\n",
      "Average R2 score from cross-validation :  0.920788357329602\n",
      "Standard deviation of R2 scores from cross-validation :  0.06744472559399518\n",
      "R2 score on training set :  0.9707639371771167\n",
      "R2 score on test set :  0.9558728586972315\n"
     ]
    }
   ],
   "source": [
    "# Calculer les scores R^2 avec validation croisée\n",
    "scores = cross_val_score(lasso2, X_train, Y_train, cv=10, scoring='r2')\n",
    "\n",
    "# Afficher les scores R^2 de la validation croisée\n",
    "print(\"R2 scores from cross-validation : \", scores)\n",
    "\n",
    "# Afficher le score moyen R^2 de la validation croisée\n",
    "print(\"Average R2 score from cross-validation : \", scores.mean())\n",
    "\n",
    "# Afficher l'écart-type des scores R^2 de la validation croisée\n",
    "print(\"Standard deviation of R2 scores from cross-validation : \", scores.std())\n",
    "\n",
    "# Afficher les scores R^2 sur les ensembles d'entraînement et de test\n",
    "print(\"R2 score on training set : \", lasso2.score(X_train, Y_train))\n",
    "print(\"R2 score on test set : \", lasso2.score(X_test, Y_test))"
   ]
  },
  {
   "cell_type": "code",
   "execution_count": 194,
   "metadata": {},
   "outputs": [
    {
     "name": "stdout",
     "output_type": "stream",
     "text": [
      "Names of columns corresponding to each coefficient:  ['Day', 'Month', 'Year', 'Temperature', 'Fuel_Price', 'CPI', 'Unemployment', 'x0_2.0', 'x0_3.0', 'x0_4.0', 'x0_5.0', 'x0_6.0', 'x0_7.0', 'x0_8.0', 'x0_9.0', 'x0_10.0', 'x0_11.0', 'x0_13.0', 'x0_14.0', 'x0_15.0', 'x0_16.0', 'x0_17.0', 'x0_18.0', 'x0_19.0', 'x0_20.0', 'x1_1.0']\n"
     ]
    }
   ],
   "source": [
    "column_names = []\n",
    "for name, pipeline, features_list in preprocessor.transformers_: # loop over pipelines\n",
    "    if name == 'num': # if pipeline is for numeric variables\n",
    "        features = features_list # just get the names of columns to which it has been applied\n",
    "    else: # if pipeline is for categorical variables\n",
    "        features = pipeline.named_steps['encoder'].get_feature_names_out() # get output columns names from OneHotEncoder\n",
    "    column_names.extend(features) # concatenate features names\n",
    "        \n",
    "print(\"Names of columns corresponding to each coefficient: \", column_names)"
   ]
  },
  {
   "cell_type": "code",
   "execution_count": 195,
   "metadata": {},
   "outputs": [
    {
     "data": {
      "text/html": [
       "<div>\n",
       "<style scoped>\n",
       "    .dataframe tbody tr th:only-of-type {\n",
       "        vertical-align: middle;\n",
       "    }\n",
       "\n",
       "    .dataframe tbody tr th {\n",
       "        vertical-align: top;\n",
       "    }\n",
       "\n",
       "    .dataframe thead th {\n",
       "        text-align: right;\n",
       "    }\n",
       "</style>\n",
       "<table border=\"1\" class=\"dataframe\">\n",
       "  <thead>\n",
       "    <tr style=\"text-align: center;\">\n",
       "      <th></th>\n",
       "      <th>coefficients</th>\n",
       "    </tr>\n",
       "  </thead>\n",
       "  <tbody>\n",
       "    <tr>\n",
       "      <th>Day</th>\n",
       "      <td>-1.672431e+04</td>\n",
       "    </tr>\n",
       "    <tr>\n",
       "      <th>Month</th>\n",
       "      <td>-5.989052e+04</td>\n",
       "    </tr>\n",
       "    <tr>\n",
       "      <th>Year</th>\n",
       "      <td>-3.824598e+04</td>\n",
       "    </tr>\n",
       "    <tr>\n",
       "      <th>Temperature</th>\n",
       "      <td>-2.742263e+04</td>\n",
       "    </tr>\n",
       "    <tr>\n",
       "      <th>Fuel_Price</th>\n",
       "      <td>-3.609936e+04</td>\n",
       "    </tr>\n",
       "    <tr>\n",
       "      <th>CPI</th>\n",
       "      <td>7.482222e+04</td>\n",
       "    </tr>\n",
       "    <tr>\n",
       "      <th>Unemployment</th>\n",
       "      <td>0.000000e+00</td>\n",
       "    </tr>\n",
       "    <tr>\n",
       "      <th>x0_2.0</th>\n",
       "      <td>3.971447e+05</td>\n",
       "    </tr>\n",
       "    <tr>\n",
       "      <th>x0_3.0</th>\n",
       "      <td>-1.141497e+06</td>\n",
       "    </tr>\n",
       "    <tr>\n",
       "      <th>x0_4.0</th>\n",
       "      <td>4.908936e+05</td>\n",
       "    </tr>\n",
       "    <tr>\n",
       "      <th>x0_5.0</th>\n",
       "      <td>-1.296071e+06</td>\n",
       "    </tr>\n",
       "    <tr>\n",
       "      <th>x0_6.0</th>\n",
       "      <td>5.543854e+04</td>\n",
       "    </tr>\n",
       "    <tr>\n",
       "      <th>x0_7.0</th>\n",
       "      <td>-9.164753e+05</td>\n",
       "    </tr>\n",
       "    <tr>\n",
       "      <th>x0_8.0</th>\n",
       "      <td>-6.564343e+05</td>\n",
       "    </tr>\n",
       "    <tr>\n",
       "      <th>x0_9.0</th>\n",
       "      <td>-1.097040e+06</td>\n",
       "    </tr>\n",
       "    <tr>\n",
       "      <th>x0_10.0</th>\n",
       "      <td>4.197519e+05</td>\n",
       "    </tr>\n",
       "    <tr>\n",
       "      <th>x0_11.0</th>\n",
       "      <td>5.252171e+04</td>\n",
       "    </tr>\n",
       "    <tr>\n",
       "      <th>x0_13.0</th>\n",
       "      <td>3.795895e+05</td>\n",
       "    </tr>\n",
       "    <tr>\n",
       "      <th>x0_14.0</th>\n",
       "      <td>6.309216e+05</td>\n",
       "    </tr>\n",
       "    <tr>\n",
       "      <th>x0_15.0</th>\n",
       "      <td>-7.973335e+05</td>\n",
       "    </tr>\n",
       "    <tr>\n",
       "      <th>x0_16.0</th>\n",
       "      <td>-1.012708e+06</td>\n",
       "    </tr>\n",
       "    <tr>\n",
       "      <th>x0_17.0</th>\n",
       "      <td>-8.472729e+05</td>\n",
       "    </tr>\n",
       "    <tr>\n",
       "      <th>x0_18.0</th>\n",
       "      <td>-3.932985e+05</td>\n",
       "    </tr>\n",
       "    <tr>\n",
       "      <th>x0_19.0</th>\n",
       "      <td>-6.629455e+04</td>\n",
       "    </tr>\n",
       "    <tr>\n",
       "      <th>x0_20.0</th>\n",
       "      <td>4.126624e+05</td>\n",
       "    </tr>\n",
       "    <tr>\n",
       "      <th>x1_1.0</th>\n",
       "      <td>-0.000000e+00</td>\n",
       "    </tr>\n",
       "  </tbody>\n",
       "</table>\n",
       "</div>"
      ],
      "text/plain": [
       "              coefficients\n",
       "Day          -1.672431e+04\n",
       "Month        -5.989052e+04\n",
       "Year         -3.824598e+04\n",
       "Temperature  -2.742263e+04\n",
       "Fuel_Price   -3.609936e+04\n",
       "CPI           7.482222e+04\n",
       "Unemployment  0.000000e+00\n",
       "x0_2.0        3.971447e+05\n",
       "x0_3.0       -1.141497e+06\n",
       "x0_4.0        4.908936e+05\n",
       "x0_5.0       -1.296071e+06\n",
       "x0_6.0        5.543854e+04\n",
       "x0_7.0       -9.164753e+05\n",
       "x0_8.0       -6.564343e+05\n",
       "x0_9.0       -1.097040e+06\n",
       "x0_10.0       4.197519e+05\n",
       "x0_11.0       5.252171e+04\n",
       "x0_13.0       3.795895e+05\n",
       "x0_14.0       6.309216e+05\n",
       "x0_15.0      -7.973335e+05\n",
       "x0_16.0      -1.012708e+06\n",
       "x0_17.0      -8.472729e+05\n",
       "x0_18.0      -3.932985e+05\n",
       "x0_19.0      -6.629455e+04\n",
       "x0_20.0       4.126624e+05\n",
       "x1_1.0       -0.000000e+00"
      ]
     },
     "execution_count": 195,
     "metadata": {},
     "output_type": "execute_result"
    }
   ],
   "source": [
    "# Create a pandas DataFrame\n",
    "coefs = pd.DataFrame(index = column_names, data = lasso2.coef_, columns=[\"coefficients\"])\n",
    "coefs"
   ]
  },
  {
   "cell_type": "code",
   "execution_count": 184,
   "metadata": {},
   "outputs": [
    {
     "data": {
      "text/html": [
       "<div>\n",
       "<style scoped>\n",
       "    .dataframe tbody tr th:only-of-type {\n",
       "        vertical-align: middle;\n",
       "    }\n",
       "\n",
       "    .dataframe tbody tr th {\n",
       "        vertical-align: top;\n",
       "    }\n",
       "\n",
       "    .dataframe thead th {\n",
       "        text-align: right;\n",
       "    }\n",
       "</style>\n",
       "<table border=\"1\" class=\"dataframe\">\n",
       "  <thead>\n",
       "    <tr style=\"text-align: center;\">\n",
       "      <th></th>\n",
       "      <th>coefficients</th>\n",
       "    </tr>\n",
       "  </thead>\n",
       "  <tbody>\n",
       "    <tr>\n",
       "      <th>x1_1.0</th>\n",
       "      <td>0.000000e+00</td>\n",
       "    </tr>\n",
       "    <tr>\n",
       "      <th>Unemployment</th>\n",
       "      <td>0.000000e+00</td>\n",
       "    </tr>\n",
       "    <tr>\n",
       "      <th>Day</th>\n",
       "      <td>1.672431e+04</td>\n",
       "    </tr>\n",
       "    <tr>\n",
       "      <th>Temperature</th>\n",
       "      <td>2.742263e+04</td>\n",
       "    </tr>\n",
       "    <tr>\n",
       "      <th>Fuel_Price</th>\n",
       "      <td>3.609936e+04</td>\n",
       "    </tr>\n",
       "    <tr>\n",
       "      <th>Year</th>\n",
       "      <td>3.824598e+04</td>\n",
       "    </tr>\n",
       "    <tr>\n",
       "      <th>x0_11.0</th>\n",
       "      <td>5.252171e+04</td>\n",
       "    </tr>\n",
       "    <tr>\n",
       "      <th>x0_6.0</th>\n",
       "      <td>5.543854e+04</td>\n",
       "    </tr>\n",
       "    <tr>\n",
       "      <th>Month</th>\n",
       "      <td>5.989052e+04</td>\n",
       "    </tr>\n",
       "    <tr>\n",
       "      <th>x0_19.0</th>\n",
       "      <td>6.629455e+04</td>\n",
       "    </tr>\n",
       "    <tr>\n",
       "      <th>CPI</th>\n",
       "      <td>7.482222e+04</td>\n",
       "    </tr>\n",
       "    <tr>\n",
       "      <th>x0_13.0</th>\n",
       "      <td>3.795895e+05</td>\n",
       "    </tr>\n",
       "    <tr>\n",
       "      <th>x0_18.0</th>\n",
       "      <td>3.932985e+05</td>\n",
       "    </tr>\n",
       "    <tr>\n",
       "      <th>x0_2.0</th>\n",
       "      <td>3.971447e+05</td>\n",
       "    </tr>\n",
       "    <tr>\n",
       "      <th>x0_20.0</th>\n",
       "      <td>4.126624e+05</td>\n",
       "    </tr>\n",
       "    <tr>\n",
       "      <th>x0_10.0</th>\n",
       "      <td>4.197519e+05</td>\n",
       "    </tr>\n",
       "    <tr>\n",
       "      <th>x0_4.0</th>\n",
       "      <td>4.908936e+05</td>\n",
       "    </tr>\n",
       "    <tr>\n",
       "      <th>x0_14.0</th>\n",
       "      <td>6.309216e+05</td>\n",
       "    </tr>\n",
       "    <tr>\n",
       "      <th>x0_8.0</th>\n",
       "      <td>6.564343e+05</td>\n",
       "    </tr>\n",
       "    <tr>\n",
       "      <th>x0_15.0</th>\n",
       "      <td>7.973335e+05</td>\n",
       "    </tr>\n",
       "    <tr>\n",
       "      <th>x0_17.0</th>\n",
       "      <td>8.472729e+05</td>\n",
       "    </tr>\n",
       "    <tr>\n",
       "      <th>x0_7.0</th>\n",
       "      <td>9.164753e+05</td>\n",
       "    </tr>\n",
       "    <tr>\n",
       "      <th>x0_16.0</th>\n",
       "      <td>1.012708e+06</td>\n",
       "    </tr>\n",
       "    <tr>\n",
       "      <th>x0_9.0</th>\n",
       "      <td>1.097040e+06</td>\n",
       "    </tr>\n",
       "    <tr>\n",
       "      <th>x0_3.0</th>\n",
       "      <td>1.141497e+06</td>\n",
       "    </tr>\n",
       "    <tr>\n",
       "      <th>x0_5.0</th>\n",
       "      <td>1.296071e+06</td>\n",
       "    </tr>\n",
       "  </tbody>\n",
       "</table>\n",
       "</div>"
      ],
      "text/plain": [
       "              coefficients\n",
       "x1_1.0        0.000000e+00\n",
       "Unemployment  0.000000e+00\n",
       "Day           1.672431e+04\n",
       "Temperature   2.742263e+04\n",
       "Fuel_Price    3.609936e+04\n",
       "Year          3.824598e+04\n",
       "x0_11.0       5.252171e+04\n",
       "x0_6.0        5.543854e+04\n",
       "Month         5.989052e+04\n",
       "x0_19.0       6.629455e+04\n",
       "CPI           7.482222e+04\n",
       "x0_13.0       3.795895e+05\n",
       "x0_18.0       3.932985e+05\n",
       "x0_2.0        3.971447e+05\n",
       "x0_20.0       4.126624e+05\n",
       "x0_10.0       4.197519e+05\n",
       "x0_4.0        4.908936e+05\n",
       "x0_14.0       6.309216e+05\n",
       "x0_8.0        6.564343e+05\n",
       "x0_15.0       7.973335e+05\n",
       "x0_17.0       8.472729e+05\n",
       "x0_7.0        9.164753e+05\n",
       "x0_16.0       1.012708e+06\n",
       "x0_9.0        1.097040e+06\n",
       "x0_3.0        1.141497e+06\n",
       "x0_5.0        1.296071e+06"
      ]
     },
     "execution_count": 184,
     "metadata": {},
     "output_type": "execute_result"
    }
   ],
   "source": [
    "# Compute abs() and sort values\n",
    "feature_importance = abs(coefs).sort_values(by = 'coefficients')\n",
    "feature_importance"
   ]
  },
  {
   "cell_type": "code",
   "execution_count": 185,
   "metadata": {},
   "outputs": [
    {
     "data": {
      "application/vnd.plotly.v1+json": {
       "config": {
        "plotlyServerURL": "https://plot.ly"
       },
       "data": [
        {
         "alignmentgroup": "True",
         "hovertemplate": "variable=coefficients<br>value=%{x}<br>index=%{y}<extra></extra>",
         "legendgroup": "coefficients",
         "marker": {
          "color": "#636efa",
          "pattern": {
           "shape": ""
          }
         },
         "name": "coefficients",
         "offsetgroup": "coefficients",
         "orientation": "h",
         "showlegend": true,
         "textposition": "auto",
         "type": "bar",
         "x": [
          0,
          0,
          16724.31230685654,
          27422.62867040671,
          36099.36411023544,
          38245.979350472204,
          52521.712363277715,
          55438.54181436721,
          59890.51558792056,
          66294.55242614033,
          74822.216583488,
          379589.4836011734,
          393298.5383454931,
          397144.650520211,
          412662.42768243654,
          419751.93350792245,
          490893.62491770973,
          630921.6177792681,
          656434.3143601282,
          797333.4689458677,
          847272.9344189403,
          916475.3138405186,
          1012707.6269662408,
          1097040.0270037781,
          1141497.4677161204,
          1296070.5645896958
         ],
         "xaxis": "x",
         "y": [
          "x1_1.0",
          "Unemployment",
          "Day",
          "Temperature",
          "Fuel_Price",
          "Year",
          "x0_11.0",
          "x0_6.0",
          "Month",
          "x0_19.0",
          "CPI",
          "x0_13.0",
          "x0_18.0",
          "x0_2.0",
          "x0_20.0",
          "x0_10.0",
          "x0_4.0",
          "x0_14.0",
          "x0_8.0",
          "x0_15.0",
          "x0_17.0",
          "x0_7.0",
          "x0_16.0",
          "x0_9.0",
          "x0_3.0",
          "x0_5.0"
         ],
         "yaxis": "y"
        }
       ],
       "layout": {
        "barmode": "relative",
        "legend": {
         "title": {
          "text": "variable"
         },
         "tracegroupgap": 0
        },
        "margin": {
         "l": 120,
         "t": 60
        },
        "showlegend": false,
        "template": {
         "data": {
          "bar": [
           {
            "error_x": {
             "color": "#2a3f5f"
            },
            "error_y": {
             "color": "#2a3f5f"
            },
            "marker": {
             "line": {
              "color": "#E5ECF6",
              "width": 0.5
             },
             "pattern": {
              "fillmode": "overlay",
              "size": 10,
              "solidity": 0.2
             }
            },
            "type": "bar"
           }
          ],
          "barpolar": [
           {
            "marker": {
             "line": {
              "color": "#E5ECF6",
              "width": 0.5
             },
             "pattern": {
              "fillmode": "overlay",
              "size": 10,
              "solidity": 0.2
             }
            },
            "type": "barpolar"
           }
          ],
          "carpet": [
           {
            "aaxis": {
             "endlinecolor": "#2a3f5f",
             "gridcolor": "white",
             "linecolor": "white",
             "minorgridcolor": "white",
             "startlinecolor": "#2a3f5f"
            },
            "baxis": {
             "endlinecolor": "#2a3f5f",
             "gridcolor": "white",
             "linecolor": "white",
             "minorgridcolor": "white",
             "startlinecolor": "#2a3f5f"
            },
            "type": "carpet"
           }
          ],
          "choropleth": [
           {
            "colorbar": {
             "outlinewidth": 0,
             "ticks": ""
            },
            "type": "choropleth"
           }
          ],
          "contour": [
           {
            "colorbar": {
             "outlinewidth": 0,
             "ticks": ""
            },
            "colorscale": [
             [
              0,
              "#0d0887"
             ],
             [
              0.1111111111111111,
              "#46039f"
             ],
             [
              0.2222222222222222,
              "#7201a8"
             ],
             [
              0.3333333333333333,
              "#9c179e"
             ],
             [
              0.4444444444444444,
              "#bd3786"
             ],
             [
              0.5555555555555556,
              "#d8576b"
             ],
             [
              0.6666666666666666,
              "#ed7953"
             ],
             [
              0.7777777777777778,
              "#fb9f3a"
             ],
             [
              0.8888888888888888,
              "#fdca26"
             ],
             [
              1,
              "#f0f921"
             ]
            ],
            "type": "contour"
           }
          ],
          "contourcarpet": [
           {
            "colorbar": {
             "outlinewidth": 0,
             "ticks": ""
            },
            "type": "contourcarpet"
           }
          ],
          "heatmap": [
           {
            "colorbar": {
             "outlinewidth": 0,
             "ticks": ""
            },
            "colorscale": [
             [
              0,
              "#0d0887"
             ],
             [
              0.1111111111111111,
              "#46039f"
             ],
             [
              0.2222222222222222,
              "#7201a8"
             ],
             [
              0.3333333333333333,
              "#9c179e"
             ],
             [
              0.4444444444444444,
              "#bd3786"
             ],
             [
              0.5555555555555556,
              "#d8576b"
             ],
             [
              0.6666666666666666,
              "#ed7953"
             ],
             [
              0.7777777777777778,
              "#fb9f3a"
             ],
             [
              0.8888888888888888,
              "#fdca26"
             ],
             [
              1,
              "#f0f921"
             ]
            ],
            "type": "heatmap"
           }
          ],
          "heatmapgl": [
           {
            "colorbar": {
             "outlinewidth": 0,
             "ticks": ""
            },
            "colorscale": [
             [
              0,
              "#0d0887"
             ],
             [
              0.1111111111111111,
              "#46039f"
             ],
             [
              0.2222222222222222,
              "#7201a8"
             ],
             [
              0.3333333333333333,
              "#9c179e"
             ],
             [
              0.4444444444444444,
              "#bd3786"
             ],
             [
              0.5555555555555556,
              "#d8576b"
             ],
             [
              0.6666666666666666,
              "#ed7953"
             ],
             [
              0.7777777777777778,
              "#fb9f3a"
             ],
             [
              0.8888888888888888,
              "#fdca26"
             ],
             [
              1,
              "#f0f921"
             ]
            ],
            "type": "heatmapgl"
           }
          ],
          "histogram": [
           {
            "marker": {
             "pattern": {
              "fillmode": "overlay",
              "size": 10,
              "solidity": 0.2
             }
            },
            "type": "histogram"
           }
          ],
          "histogram2d": [
           {
            "colorbar": {
             "outlinewidth": 0,
             "ticks": ""
            },
            "colorscale": [
             [
              0,
              "#0d0887"
             ],
             [
              0.1111111111111111,
              "#46039f"
             ],
             [
              0.2222222222222222,
              "#7201a8"
             ],
             [
              0.3333333333333333,
              "#9c179e"
             ],
             [
              0.4444444444444444,
              "#bd3786"
             ],
             [
              0.5555555555555556,
              "#d8576b"
             ],
             [
              0.6666666666666666,
              "#ed7953"
             ],
             [
              0.7777777777777778,
              "#fb9f3a"
             ],
             [
              0.8888888888888888,
              "#fdca26"
             ],
             [
              1,
              "#f0f921"
             ]
            ],
            "type": "histogram2d"
           }
          ],
          "histogram2dcontour": [
           {
            "colorbar": {
             "outlinewidth": 0,
             "ticks": ""
            },
            "colorscale": [
             [
              0,
              "#0d0887"
             ],
             [
              0.1111111111111111,
              "#46039f"
             ],
             [
              0.2222222222222222,
              "#7201a8"
             ],
             [
              0.3333333333333333,
              "#9c179e"
             ],
             [
              0.4444444444444444,
              "#bd3786"
             ],
             [
              0.5555555555555556,
              "#d8576b"
             ],
             [
              0.6666666666666666,
              "#ed7953"
             ],
             [
              0.7777777777777778,
              "#fb9f3a"
             ],
             [
              0.8888888888888888,
              "#fdca26"
             ],
             [
              1,
              "#f0f921"
             ]
            ],
            "type": "histogram2dcontour"
           }
          ],
          "mesh3d": [
           {
            "colorbar": {
             "outlinewidth": 0,
             "ticks": ""
            },
            "type": "mesh3d"
           }
          ],
          "parcoords": [
           {
            "line": {
             "colorbar": {
              "outlinewidth": 0,
              "ticks": ""
             }
            },
            "type": "parcoords"
           }
          ],
          "pie": [
           {
            "automargin": true,
            "type": "pie"
           }
          ],
          "scatter": [
           {
            "fillpattern": {
             "fillmode": "overlay",
             "size": 10,
             "solidity": 0.2
            },
            "type": "scatter"
           }
          ],
          "scatter3d": [
           {
            "line": {
             "colorbar": {
              "outlinewidth": 0,
              "ticks": ""
             }
            },
            "marker": {
             "colorbar": {
              "outlinewidth": 0,
              "ticks": ""
             }
            },
            "type": "scatter3d"
           }
          ],
          "scattercarpet": [
           {
            "marker": {
             "colorbar": {
              "outlinewidth": 0,
              "ticks": ""
             }
            },
            "type": "scattercarpet"
           }
          ],
          "scattergeo": [
           {
            "marker": {
             "colorbar": {
              "outlinewidth": 0,
              "ticks": ""
             }
            },
            "type": "scattergeo"
           }
          ],
          "scattergl": [
           {
            "marker": {
             "colorbar": {
              "outlinewidth": 0,
              "ticks": ""
             }
            },
            "type": "scattergl"
           }
          ],
          "scattermapbox": [
           {
            "marker": {
             "colorbar": {
              "outlinewidth": 0,
              "ticks": ""
             }
            },
            "type": "scattermapbox"
           }
          ],
          "scatterpolar": [
           {
            "marker": {
             "colorbar": {
              "outlinewidth": 0,
              "ticks": ""
             }
            },
            "type": "scatterpolar"
           }
          ],
          "scatterpolargl": [
           {
            "marker": {
             "colorbar": {
              "outlinewidth": 0,
              "ticks": ""
             }
            },
            "type": "scatterpolargl"
           }
          ],
          "scatterternary": [
           {
            "marker": {
             "colorbar": {
              "outlinewidth": 0,
              "ticks": ""
             }
            },
            "type": "scatterternary"
           }
          ],
          "surface": [
           {
            "colorbar": {
             "outlinewidth": 0,
             "ticks": ""
            },
            "colorscale": [
             [
              0,
              "#0d0887"
             ],
             [
              0.1111111111111111,
              "#46039f"
             ],
             [
              0.2222222222222222,
              "#7201a8"
             ],
             [
              0.3333333333333333,
              "#9c179e"
             ],
             [
              0.4444444444444444,
              "#bd3786"
             ],
             [
              0.5555555555555556,
              "#d8576b"
             ],
             [
              0.6666666666666666,
              "#ed7953"
             ],
             [
              0.7777777777777778,
              "#fb9f3a"
             ],
             [
              0.8888888888888888,
              "#fdca26"
             ],
             [
              1,
              "#f0f921"
             ]
            ],
            "type": "surface"
           }
          ],
          "table": [
           {
            "cells": {
             "fill": {
              "color": "#EBF0F8"
             },
             "line": {
              "color": "white"
             }
            },
            "header": {
             "fill": {
              "color": "#C8D4E3"
             },
             "line": {
              "color": "white"
             }
            },
            "type": "table"
           }
          ]
         },
         "layout": {
          "annotationdefaults": {
           "arrowcolor": "#2a3f5f",
           "arrowhead": 0,
           "arrowwidth": 1
          },
          "autotypenumbers": "strict",
          "coloraxis": {
           "colorbar": {
            "outlinewidth": 0,
            "ticks": ""
           }
          },
          "colorscale": {
           "diverging": [
            [
             0,
             "#8e0152"
            ],
            [
             0.1,
             "#c51b7d"
            ],
            [
             0.2,
             "#de77ae"
            ],
            [
             0.3,
             "#f1b6da"
            ],
            [
             0.4,
             "#fde0ef"
            ],
            [
             0.5,
             "#f7f7f7"
            ],
            [
             0.6,
             "#e6f5d0"
            ],
            [
             0.7,
             "#b8e186"
            ],
            [
             0.8,
             "#7fbc41"
            ],
            [
             0.9,
             "#4d9221"
            ],
            [
             1,
             "#276419"
            ]
           ],
           "sequential": [
            [
             0,
             "#0d0887"
            ],
            [
             0.1111111111111111,
             "#46039f"
            ],
            [
             0.2222222222222222,
             "#7201a8"
            ],
            [
             0.3333333333333333,
             "#9c179e"
            ],
            [
             0.4444444444444444,
             "#bd3786"
            ],
            [
             0.5555555555555556,
             "#d8576b"
            ],
            [
             0.6666666666666666,
             "#ed7953"
            ],
            [
             0.7777777777777778,
             "#fb9f3a"
            ],
            [
             0.8888888888888888,
             "#fdca26"
            ],
            [
             1,
             "#f0f921"
            ]
           ],
           "sequentialminus": [
            [
             0,
             "#0d0887"
            ],
            [
             0.1111111111111111,
             "#46039f"
            ],
            [
             0.2222222222222222,
             "#7201a8"
            ],
            [
             0.3333333333333333,
             "#9c179e"
            ],
            [
             0.4444444444444444,
             "#bd3786"
            ],
            [
             0.5555555555555556,
             "#d8576b"
            ],
            [
             0.6666666666666666,
             "#ed7953"
            ],
            [
             0.7777777777777778,
             "#fb9f3a"
            ],
            [
             0.8888888888888888,
             "#fdca26"
            ],
            [
             1,
             "#f0f921"
            ]
           ]
          },
          "colorway": [
           "#636efa",
           "#EF553B",
           "#00cc96",
           "#ab63fa",
           "#FFA15A",
           "#19d3f3",
           "#FF6692",
           "#B6E880",
           "#FF97FF",
           "#FECB52"
          ],
          "font": {
           "color": "#2a3f5f"
          },
          "geo": {
           "bgcolor": "white",
           "lakecolor": "white",
           "landcolor": "#E5ECF6",
           "showlakes": true,
           "showland": true,
           "subunitcolor": "white"
          },
          "hoverlabel": {
           "align": "left"
          },
          "hovermode": "closest",
          "mapbox": {
           "style": "light"
          },
          "paper_bgcolor": "white",
          "plot_bgcolor": "#E5ECF6",
          "polar": {
           "angularaxis": {
            "gridcolor": "white",
            "linecolor": "white",
            "ticks": ""
           },
           "bgcolor": "#E5ECF6",
           "radialaxis": {
            "gridcolor": "white",
            "linecolor": "white",
            "ticks": ""
           }
          },
          "scene": {
           "xaxis": {
            "backgroundcolor": "#E5ECF6",
            "gridcolor": "white",
            "gridwidth": 2,
            "linecolor": "white",
            "showbackground": true,
            "ticks": "",
            "zerolinecolor": "white"
           },
           "yaxis": {
            "backgroundcolor": "#E5ECF6",
            "gridcolor": "white",
            "gridwidth": 2,
            "linecolor": "white",
            "showbackground": true,
            "ticks": "",
            "zerolinecolor": "white"
           },
           "zaxis": {
            "backgroundcolor": "#E5ECF6",
            "gridcolor": "white",
            "gridwidth": 2,
            "linecolor": "white",
            "showbackground": true,
            "ticks": "",
            "zerolinecolor": "white"
           }
          },
          "shapedefaults": {
           "line": {
            "color": "#2a3f5f"
           }
          },
          "ternary": {
           "aaxis": {
            "gridcolor": "white",
            "linecolor": "white",
            "ticks": ""
           },
           "baxis": {
            "gridcolor": "white",
            "linecolor": "white",
            "ticks": ""
           },
           "bgcolor": "#E5ECF6",
           "caxis": {
            "gridcolor": "white",
            "linecolor": "white",
            "ticks": ""
           }
          },
          "title": {
           "x": 0.05
          },
          "xaxis": {
           "automargin": true,
           "gridcolor": "white",
           "linecolor": "white",
           "ticks": "",
           "title": {
            "standoff": 15
           },
           "zerolinecolor": "white",
           "zerolinewidth": 2
          },
          "yaxis": {
           "automargin": true,
           "gridcolor": "white",
           "linecolor": "white",
           "ticks": "",
           "title": {
            "standoff": 15
           },
           "zerolinecolor": "white",
           "zerolinewidth": 2
          }
         }
        },
        "xaxis": {
         "anchor": "y",
         "domain": [
          0,
          1
         ],
         "title": {
          "text": "value"
         }
        },
        "yaxis": {
         "anchor": "x",
         "domain": [
          0,
          1
         ],
         "title": {
          "text": "index"
         }
        }
       }
      }
     },
     "metadata": {},
     "output_type": "display_data"
    }
   ],
   "source": [
    "# Plot coefficients\n",
    "fig = px.bar(feature_importance, orientation = 'h')\n",
    "fig.update_layout(showlegend = False, \n",
    "                  margin = {'l': 120} # to avoid cropping of column names\n",
    "                 )\n",
    "fig.show()"
   ]
  }
 ],
 "metadata": {
  "kernelspec": {
   "display_name": "Python 3",
   "language": "python",
   "name": "python3"
  },
  "language_info": {
   "codemirror_mode": {
    "name": "ipython",
    "version": 3
   },
   "file_extension": ".py",
   "mimetype": "text/x-python",
   "name": "python",
   "nbconvert_exporter": "python",
   "pygments_lexer": "ipython3",
   "version": "3.11.7"
  }
 },
 "nbformat": 4,
 "nbformat_minor": 4
}
